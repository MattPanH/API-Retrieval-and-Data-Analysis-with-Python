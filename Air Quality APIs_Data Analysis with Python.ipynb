{
 "cells": [
  {
   "cell_type": "markdown",
   "metadata": {
    "id": "88tCXKMAp2FX"
   },
   "source": [
    "#  APIs for Air Quality Data\n",
    "\n",
    "---"
   ]
  },
  {
   "cell_type": "markdown",
   "metadata": {
    "id": "DvMSWdGdpZ40"
   },
   "source": [
    "### Part A\n",
    "\n",
    "In this section, I will request and analyze air quality data from OpenWeather's API (https://openweathermap.org/api)."
   ]
  },
  {
   "cell_type": "code",
   "execution_count": 7,
   "metadata": {},
   "outputs": [],
   "source": [
    "import pandas as pd\n",
    "import json\n",
    "import plotly.express as px\n",
    "import requests"
   ]
  },
  {
   "cell_type": "code",
   "execution_count": 8,
   "metadata": {},
   "outputs": [],
   "source": [
    "# The API key is stored separately on a config file for security reasons\n",
    "with open(\"config.json\") as f:\n",
    "    config = json.load(f)\n",
    "    my_key = config[\"my_key\"]"
   ]
  },
  {
   "cell_type": "markdown",
   "metadata": {
    "id": "APL_h-MH5R1u"
   },
   "source": [
    "Retrieve the API for weather data for Chicago."
   ]
  },
  {
   "cell_type": "code",
   "execution_count": 9,
   "metadata": {
    "id": "oRi9ZkGS5R1v"
   },
   "outputs": [
    {
     "data": {
      "text/plain": [
       "{'coord': {'lon': -87.65, 'lat': 41.85},\n",
       " 'weather': [{'id': 803,\n",
       "   'main': 'Clouds',\n",
       "   'description': 'broken clouds',\n",
       "   'icon': '04d'}],\n",
       " 'base': 'stations',\n",
       " 'main': {'temp': 292.77,\n",
       "  'feels_like': 292.64,\n",
       "  'temp_min': 292.77,\n",
       "  'temp_max': 292.77,\n",
       "  'pressure': 1022,\n",
       "  'humidity': 71,\n",
       "  'sea_level': 1022,\n",
       "  'grnd_level': 1001},\n",
       " 'visibility': 10000,\n",
       " 'wind': {'speed': 6.8, 'deg': 41, 'gust': 9.2},\n",
       " 'clouds': {'all': 52},\n",
       " 'dt': 1753969967,\n",
       " 'sys': {'country': 'US', 'sunrise': 1753958617, 'sunset': 1754010610},\n",
       " 'timezone': -18000,\n",
       " 'id': 4887398,\n",
       " 'name': 'Chicago',\n",
       " 'cod': 200}"
      ]
     },
     "execution_count": 9,
     "metadata": {},
     "output_type": "execute_result"
    }
   ],
   "source": [
    "city_name = 'Chicago'\n",
    "country_code = 'US'\n",
    "weather = requests.get(f'https://api.openweathermap.org/data/2.5/weather?q={city_name},{country_code}&appid={my_key}')\n",
    "weather.json()"
   ]
  },
  {
   "cell_type": "markdown",
   "metadata": {
    "id": "B3x_1pW55R1v"
   },
   "source": [
    "Access the coordinates and weather data in the JSON and assign them to separate variables."
   ]
  },
  {
   "cell_type": "code",
   "execution_count": 10,
   "metadata": {
    "id": "mM5675pf5R1v"
   },
   "outputs": [
    {
     "name": "stdout",
     "output_type": "stream",
     "text": [
      "{'lon': -87.65, 'lat': 41.85}\n",
      "{'temp': 292.77, 'feels_like': 292.64, 'temp_min': 292.77, 'temp_max': 292.77, 'pressure': 1022, 'humidity': 71, 'sea_level': 1022, 'grnd_level': 1001}\n"
     ]
    }
   ],
   "source": [
    "# Store the API data under 'coord' and 'main' into separate dictionaries\n",
    "weather_coord = weather.json()['coord']\n",
    "weather_main = weather.json()['main']\n",
    "print(weather_coord)\n",
    "print(weather_main)"
   ]
  },
  {
   "cell_type": "markdown",
   "metadata": {
    "id": "kuDDi-bX5R1v"
   },
   "source": [
    "Retrieve the air quality data for Chicago."
   ]
  },
  {
   "cell_type": "code",
   "execution_count": 11,
   "metadata": {
    "id": "d9rxr9wC5R1v"
   },
   "outputs": [
    {
     "data": {
      "text/plain": [
       "{'coord': {'lon': -87.65, 'lat': 41.85},\n",
       " 'list': [{'main': {'aqi': 1},\n",
       "   'components': {'co': 165.54,\n",
       "    'no': 0.27,\n",
       "    'no2': 6.4,\n",
       "    'o3': 19.11,\n",
       "    'so2': 0.65,\n",
       "    'pm2_5': 7.87,\n",
       "    'pm10': 7.91,\n",
       "    'nh3': 0.27},\n",
       "   'dt': 1753970209}]}"
      ]
     },
     "execution_count": 11,
     "metadata": {},
     "output_type": "execute_result"
    }
   ],
   "source": [
    "air_quality = requests.get(f'http://api.openweathermap.org/data/2.5/air_pollution?lat={weather_coord['lat']}&lon={weather_coord['lon']}&appid={my_key}')\n",
    "air_quality.json()"
   ]
  },
  {
   "cell_type": "markdown",
   "metadata": {},
   "source": [
    "The goal is to create a large dataset of weather data for various cities. <br>\n",
    "\n",
    "The first step is to create a large dictionary that the following data for Chicago:\n",
    "\n",
    "* City name (Chicago, duh)\n",
    "* Lat/long coordinates\n",
    "* All data contained in `main` from the weather output\n",
    "* The air quality index (AQI) (contained in the air pollution data)\n",
    "* All data contained in `components` from the air pollution output"
   ]
  },
  {
   "cell_type": "code",
   "execution_count": 12,
   "metadata": {
    "id": "yH15Y4o45R1v"
   },
   "outputs": [
    {
     "data": {
      "text/plain": [
       "{'lon': -87.65,\n",
       " 'lat': 41.85,\n",
       " 'temp': 292.77,\n",
       " 'feels_like': 292.64,\n",
       " 'temp_min': 292.77,\n",
       " 'temp_max': 292.77,\n",
       " 'pressure': 1022,\n",
       " 'humidity': 71,\n",
       " 'sea_level': 1022,\n",
       " 'grnd_level': 1001,\n",
       " 'co': 165.54,\n",
       " 'no': 0.27,\n",
       " 'no2': 6.4,\n",
       " 'o3': 19.11,\n",
       " 'so2': 0.65,\n",
       " 'pm2_5': 7.87,\n",
       " 'pm10': 7.91,\n",
       " 'nh3': 0.27,\n",
       " 'city name': 'Chicago',\n",
       " 'aqi': 1}"
      ]
     },
     "execution_count": 12,
     "metadata": {},
     "output_type": "execute_result"
    }
   ],
   "source": [
    "# Store the API data under 'aqi' and 'components' into separate variable and dictionary\n",
    "air_quality_aqi = air_quality.json()['list'][0]['main']['aqi']\n",
    "air_quality_components = air_quality.json()['list'][0]['components']\n",
    "\n",
    "# Merge all dictionaries and variables into a single dictionary\n",
    "weather_chicago = weather_coord | weather_main | air_quality_components\n",
    "weather_chicago['city name'] = city_name\n",
    "weather_chicago['aqi'] = air_quality_aqi\n",
    "weather_chicago"
   ]
  },
  {
   "cell_type": "markdown",
   "metadata": {
    "id": "ShYjw_sn5R1v"
   },
   "source": [
    "Convert the merged dictionary into a dataframe."
   ]
  },
  {
   "cell_type": "code",
   "execution_count": 13,
   "metadata": {
    "id": "84Bnfhkl5R1v"
   },
   "outputs": [
    {
     "data": {
      "text/html": [
       "<div>\n",
       "<style scoped>\n",
       "    .dataframe tbody tr th:only-of-type {\n",
       "        vertical-align: middle;\n",
       "    }\n",
       "\n",
       "    .dataframe tbody tr th {\n",
       "        vertical-align: top;\n",
       "    }\n",
       "\n",
       "    .dataframe thead th {\n",
       "        text-align: right;\n",
       "    }\n",
       "</style>\n",
       "<table border=\"1\" class=\"dataframe\">\n",
       "  <thead>\n",
       "    <tr style=\"text-align: right;\">\n",
       "      <th></th>\n",
       "      <th>lon</th>\n",
       "      <th>lat</th>\n",
       "      <th>temp</th>\n",
       "      <th>feels_like</th>\n",
       "      <th>temp_min</th>\n",
       "      <th>temp_max</th>\n",
       "      <th>pressure</th>\n",
       "      <th>humidity</th>\n",
       "      <th>sea_level</th>\n",
       "      <th>grnd_level</th>\n",
       "      <th>co</th>\n",
       "      <th>no</th>\n",
       "      <th>no2</th>\n",
       "      <th>o3</th>\n",
       "      <th>so2</th>\n",
       "      <th>pm2_5</th>\n",
       "      <th>pm10</th>\n",
       "      <th>nh3</th>\n",
       "      <th>city name</th>\n",
       "      <th>aqi</th>\n",
       "    </tr>\n",
       "  </thead>\n",
       "  <tbody>\n",
       "    <tr>\n",
       "      <th>Chicago</th>\n",
       "      <td>-87.65</td>\n",
       "      <td>41.85</td>\n",
       "      <td>292.77</td>\n",
       "      <td>292.64</td>\n",
       "      <td>292.77</td>\n",
       "      <td>292.77</td>\n",
       "      <td>1022</td>\n",
       "      <td>71</td>\n",
       "      <td>1022</td>\n",
       "      <td>1001</td>\n",
       "      <td>165.54</td>\n",
       "      <td>0.27</td>\n",
       "      <td>6.4</td>\n",
       "      <td>19.11</td>\n",
       "      <td>0.65</td>\n",
       "      <td>7.87</td>\n",
       "      <td>7.91</td>\n",
       "      <td>0.27</td>\n",
       "      <td>Chicago</td>\n",
       "      <td>1</td>\n",
       "    </tr>\n",
       "  </tbody>\n",
       "</table>\n",
       "</div>"
      ],
      "text/plain": [
       "           lon    lat    temp  feels_like  temp_min  temp_max  pressure  \\\n",
       "Chicago -87.65  41.85  292.77      292.64    292.77    292.77      1022   \n",
       "\n",
       "         humidity  sea_level  grnd_level      co    no  no2     o3   so2  \\\n",
       "Chicago        71       1022        1001  165.54  0.27  6.4  19.11  0.65   \n",
       "\n",
       "         pm2_5  pm10   nh3 city name  aqi  \n",
       "Chicago   7.87  7.91  0.27   Chicago    1  "
      ]
     },
     "execution_count": 13,
     "metadata": {},
     "output_type": "execute_result"
    }
   ],
   "source": [
    "pd.DataFrame(weather_chicago, index=[city_name])"
   ]
  },
  {
   "cell_type": "markdown",
   "metadata": {},
   "source": [
    "Create a list of different cities I am interested in exploring."
   ]
  },
  {
   "cell_type": "code",
   "execution_count": 14,
   "metadata": {
    "id": "cnylrieu5R1v"
   },
   "outputs": [],
   "source": [
    "cities = [\n",
    "    'Chicago,IL,US',\n",
    "    'Boston,MA,US',\n",
    "    'Austin,TX,US',\n",
    "    'New York City,NY,US',\n",
    "    'Atlanta,GA,US',\n",
    "    'Los Angeles,CA,US',\n",
    "    'Seattle,WA,US',\n",
    "    'Minneapolis,MN,US',\n",
    "    'Denver,CO,US',\n",
    "    'Washington,DC,US'\n",
    "]"
   ]
  },
  {
   "cell_type": "markdown",
   "metadata": {},
   "source": [
    "Retrieve API for weather and air quality data from all cities in the list and storing them as lists of dictionaries."
   ]
  },
  {
   "cell_type": "code",
   "execution_count": 15,
   "metadata": {
    "id": "eeNr70Qp5R1v"
   },
   "outputs": [],
   "source": [
    "all_city_name = []\n",
    "all_weather_coord = []\n",
    "all_weather_main = []\n",
    "all_air_quality_aqi = []\n",
    "all_air_quality_components = []\n",
    "for index in range(len(cities)):\n",
    "    all_city_name.append(cities[index].split(',')[0])\n",
    "    all_weather = requests.get(f'https://api.openweathermap.org/data/2.5/weather?q={cities[index].split(',')[0]},{cities[index].split(',')[2]}&appid={my_key}')\n",
    "    all_weather_coord.append(all_weather.json()['coord'])\n",
    "    all_weather_main.append(all_weather.json()['main'])\n",
    "    all_air_quality = requests.get(f'http://api.openweathermap.org/data/2.5/air_pollution?lat={all_weather_coord[index]['lat']}&lon={all_weather_coord[index]['lon']}&appid={my_key}')\n",
    "    all_air_quality_aqi.append(all_air_quality.json()['list'][0]['main']['aqi'])\n",
    "    all_air_quality_components.append(all_air_quality.json()['list'][0]['components'])"
   ]
  },
  {
   "cell_type": "markdown",
   "metadata": {
    "id": "TD75jN5t5R1v"
   },
   "source": [
    "Merge lists of dictionaries into a single dataframe."
   ]
  },
  {
   "cell_type": "code",
   "execution_count": 16,
   "metadata": {
    "id": "P0iypZLP5R1v"
   },
   "outputs": [
    {
     "data": {
      "text/html": [
       "<div>\n",
       "<style scoped>\n",
       "    .dataframe tbody tr th:only-of-type {\n",
       "        vertical-align: middle;\n",
       "    }\n",
       "\n",
       "    .dataframe tbody tr th {\n",
       "        vertical-align: top;\n",
       "    }\n",
       "\n",
       "    .dataframe thead th {\n",
       "        text-align: right;\n",
       "    }\n",
       "</style>\n",
       "<table border=\"1\" class=\"dataframe\">\n",
       "  <thead>\n",
       "    <tr style=\"text-align: right;\">\n",
       "      <th></th>\n",
       "      <th>City</th>\n",
       "      <th>Weather Coordinates</th>\n",
       "      <th>Weather Main</th>\n",
       "      <th>Air Quality Components</th>\n",
       "      <th>Air Quality API</th>\n",
       "    </tr>\n",
       "  </thead>\n",
       "  <tbody>\n",
       "    <tr>\n",
       "      <th>0</th>\n",
       "      <td>Chicago</td>\n",
       "      <td>{'lon': -87.65, 'lat': 41.85}</td>\n",
       "      <td>{'temp': 292.77, 'feels_like': 292.64, 'temp_m...</td>\n",
       "      <td>{'co': 165.54, 'no': 0.27, 'no2': 6.4, 'o3': 1...</td>\n",
       "      <td>1</td>\n",
       "    </tr>\n",
       "    <tr>\n",
       "      <th>1</th>\n",
       "      <td>Boston</td>\n",
       "      <td>{'lon': -71.0598, 'lat': 42.3584}</td>\n",
       "      <td>{'temp': 297.01, 'feels_like': 297.33, 'temp_m...</td>\n",
       "      <td>{'co': 190.97, 'no': 0.71, 'no2': 7.05, 'o3': ...</td>\n",
       "      <td>1</td>\n",
       "    </tr>\n",
       "    <tr>\n",
       "      <th>2</th>\n",
       "      <td>Austin</td>\n",
       "      <td>{'lon': -97.7431, 'lat': 30.2672}</td>\n",
       "      <td>{'temp': 300.85, 'feels_like': 302.47, 'temp_m...</td>\n",
       "      <td>{'co': 149.41, 'no': 3.09, 'no2': 8.42, 'o3': ...</td>\n",
       "      <td>1</td>\n",
       "    </tr>\n",
       "    <tr>\n",
       "      <th>3</th>\n",
       "      <td>New York City</td>\n",
       "      <td>{'lon': -74.006, 'lat': 40.7143}</td>\n",
       "      <td>{'temp': 300.54, 'feels_like': 302.58, 'temp_m...</td>\n",
       "      <td>{'co': 185.48, 'no': 0.99, 'no2': 4.8, 'o3': 7...</td>\n",
       "      <td>2</td>\n",
       "    </tr>\n",
       "    <tr>\n",
       "      <th>4</th>\n",
       "      <td>Atlanta</td>\n",
       "      <td>{'lon': -84.388, 'lat': 33.749}</td>\n",
       "      <td>{'temp': 298.13, 'feels_like': 298.69, 'temp_m...</td>\n",
       "      <td>{'co': 126.4, 'no': 0.41, 'no2': 3.27, 'o3': 2...</td>\n",
       "      <td>1</td>\n",
       "    </tr>\n",
       "    <tr>\n",
       "      <th>5</th>\n",
       "      <td>Los Angeles</td>\n",
       "      <td>{'lon': -118.2437, 'lat': 34.0522}</td>\n",
       "      <td>{'temp': 291.63, 'feels_like': 291.57, 'temp_m...</td>\n",
       "      <td>{'co': 82.07, 'no': 0, 'no2': 0.71, 'o3': 57.1...</td>\n",
       "      <td>1</td>\n",
       "    </tr>\n",
       "    <tr>\n",
       "      <th>6</th>\n",
       "      <td>Seattle</td>\n",
       "      <td>{'lon': -122.3321, 'lat': 47.6062}</td>\n",
       "      <td>{'temp': 289.46, 'feels_like': 289.29, 'temp_m...</td>\n",
       "      <td>{'co': 79.84, 'no': 0.01, 'no2': 2.4, 'o3': 28...</td>\n",
       "      <td>1</td>\n",
       "    </tr>\n",
       "    <tr>\n",
       "      <th>7</th>\n",
       "      <td>Minneapolis</td>\n",
       "      <td>{'lon': -93.2638, 'lat': 44.98}</td>\n",
       "      <td>{'temp': 291.56, 'feels_like': 291.02, 'temp_m...</td>\n",
       "      <td>{'co': 230.34, 'no': 0.85, 'no2': 2.46, 'o3': ...</td>\n",
       "      <td>2</td>\n",
       "    </tr>\n",
       "    <tr>\n",
       "      <th>8</th>\n",
       "      <td>Denver</td>\n",
       "      <td>{'lon': -104.9847, 'lat': 39.7392}</td>\n",
       "      <td>{'temp': 290.83, 'feels_like': 290.38, 'temp_m...</td>\n",
       "      <td>{'co': 148.01, 'no': 0.24, 'no2': 3.24, 'o3': ...</td>\n",
       "      <td>2</td>\n",
       "    </tr>\n",
       "    <tr>\n",
       "      <th>9</th>\n",
       "      <td>Washington</td>\n",
       "      <td>{'lon': -120.5015, 'lat': 47.5001}</td>\n",
       "      <td>{'temp': 289.73, 'feels_like': 288.91, 'temp_m...</td>\n",
       "      <td>{'co': 124.57, 'no': 0.02, 'no2': 2.21, 'o3': ...</td>\n",
       "      <td>1</td>\n",
       "    </tr>\n",
       "  </tbody>\n",
       "</table>\n",
       "</div>"
      ],
      "text/plain": [
       "            City                 Weather Coordinates  \\\n",
       "0        Chicago       {'lon': -87.65, 'lat': 41.85}   \n",
       "1         Boston   {'lon': -71.0598, 'lat': 42.3584}   \n",
       "2         Austin   {'lon': -97.7431, 'lat': 30.2672}   \n",
       "3  New York City    {'lon': -74.006, 'lat': 40.7143}   \n",
       "4        Atlanta     {'lon': -84.388, 'lat': 33.749}   \n",
       "5    Los Angeles  {'lon': -118.2437, 'lat': 34.0522}   \n",
       "6        Seattle  {'lon': -122.3321, 'lat': 47.6062}   \n",
       "7    Minneapolis     {'lon': -93.2638, 'lat': 44.98}   \n",
       "8         Denver  {'lon': -104.9847, 'lat': 39.7392}   \n",
       "9     Washington  {'lon': -120.5015, 'lat': 47.5001}   \n",
       "\n",
       "                                        Weather Main  \\\n",
       "0  {'temp': 292.77, 'feels_like': 292.64, 'temp_m...   \n",
       "1  {'temp': 297.01, 'feels_like': 297.33, 'temp_m...   \n",
       "2  {'temp': 300.85, 'feels_like': 302.47, 'temp_m...   \n",
       "3  {'temp': 300.54, 'feels_like': 302.58, 'temp_m...   \n",
       "4  {'temp': 298.13, 'feels_like': 298.69, 'temp_m...   \n",
       "5  {'temp': 291.63, 'feels_like': 291.57, 'temp_m...   \n",
       "6  {'temp': 289.46, 'feels_like': 289.29, 'temp_m...   \n",
       "7  {'temp': 291.56, 'feels_like': 291.02, 'temp_m...   \n",
       "8  {'temp': 290.83, 'feels_like': 290.38, 'temp_m...   \n",
       "9  {'temp': 289.73, 'feels_like': 288.91, 'temp_m...   \n",
       "\n",
       "                              Air Quality Components  Air Quality API  \n",
       "0  {'co': 165.54, 'no': 0.27, 'no2': 6.4, 'o3': 1...                1  \n",
       "1  {'co': 190.97, 'no': 0.71, 'no2': 7.05, 'o3': ...                1  \n",
       "2  {'co': 149.41, 'no': 3.09, 'no2': 8.42, 'o3': ...                1  \n",
       "3  {'co': 185.48, 'no': 0.99, 'no2': 4.8, 'o3': 7...                2  \n",
       "4  {'co': 126.4, 'no': 0.41, 'no2': 3.27, 'o3': 2...                1  \n",
       "5  {'co': 82.07, 'no': 0, 'no2': 0.71, 'o3': 57.1...                1  \n",
       "6  {'co': 79.84, 'no': 0.01, 'no2': 2.4, 'o3': 28...                1  \n",
       "7  {'co': 230.34, 'no': 0.85, 'no2': 2.46, 'o3': ...                2  \n",
       "8  {'co': 148.01, 'no': 0.24, 'no2': 3.24, 'o3': ...                2  \n",
       "9  {'co': 124.57, 'no': 0.02, 'no2': 2.21, 'o3': ...                1  "
      ]
     },
     "execution_count": 16,
     "metadata": {},
     "output_type": "execute_result"
    }
   ],
   "source": [
    "all_weather_data = {'City' : all_city_name, 'Weather Coordinates' : all_weather_coord, 'Weather Main' : all_weather_main, 'Air Quality Components' : all_air_quality_components, \n",
    "                    'Air Quality API' : all_air_quality_aqi}\n",
    "pd.DataFrame(all_weather_data)"
   ]
  },
  {
   "cell_type": "markdown",
   "metadata": {
    "id": "UepU9tLU5R1v"
   },
   "source": [
    "Next, I will use the 5-day forecast endpoint to retrieve forecasts for Chicago (https://openweathermap.org/forecast5)."
   ]
  },
  {
   "cell_type": "code",
   "execution_count": 17,
   "metadata": {
    "id": "_EbG1EPW5R1v"
   },
   "outputs": [
    {
     "data": {
      "text/plain": [
       "{'cod': '200',\n",
       " 'message': 0,\n",
       " 'cnt': 40,\n",
       " 'list': [{'dt': 1753974000,\n",
       "   'main': {'temp': 293.15,\n",
       "    'feels_like': 292.85,\n",
       "    'temp_min': 293.15,\n",
       "    'temp_max': 293.15,\n",
       "    'pressure': 1022,\n",
       "    'sea_level': 1022,\n",
       "    'grnd_level': 1001,\n",
       "    'humidity': 63,\n",
       "    'temp_kf': 0},\n",
       "   'weather': [{'id': 803,\n",
       "     'main': 'Clouds',\n",
       "     'description': 'broken clouds',\n",
       "     'icon': '04d'}],\n",
       "   'clouds': {'all': 66},\n",
       "   'wind': {'speed': 6.45, 'deg': 43, 'gust': 8.7},\n",
       "   'visibility': 10000,\n",
       "   'pop': 0,\n",
       "   'sys': {'pod': 'd'},\n",
       "   'dt_txt': '2025-07-31 15:00:00'},\n",
       "  {'dt': 1753984800,\n",
       "   'main': {'temp': 293.24,\n",
       "    'feels_like': 292.82,\n",
       "    'temp_min': 293.24,\n",
       "    'temp_max': 293.42,\n",
       "    'pressure': 1022,\n",
       "    'sea_level': 1022,\n",
       "    'grnd_level': 1001,\n",
       "    'humidity': 58,\n",
       "    'temp_kf': -0.18},\n",
       "   'weather': [{'id': 803,\n",
       "     'main': 'Clouds',\n",
       "     'description': 'broken clouds',\n",
       "     'icon': '04d'}],\n",
       "   'clouds': {'all': 58},\n",
       "   'wind': {'speed': 6.38, 'deg': 27, 'gust': 7.47},\n",
       "   'visibility': 10000,\n",
       "   'pop': 0,\n",
       "   'sys': {'pod': 'd'},\n",
       "   'dt_txt': '2025-07-31 18:00:00'},\n",
       "  {'dt': 1753995600,\n",
       "   'main': {'temp': 296.26,\n",
       "    'feels_like': 296.01,\n",
       "    'temp_min': 296.26,\n",
       "    'temp_max': 297.81,\n",
       "    'pressure': 1023,\n",
       "    'sea_level': 1023,\n",
       "    'grnd_level': 1001,\n",
       "    'humidity': 53,\n",
       "    'temp_kf': -1.55},\n",
       "   'weather': [{'id': 801,\n",
       "     'main': 'Clouds',\n",
       "     'description': 'few clouds',\n",
       "     'icon': '02d'}],\n",
       "   'clouds': {'all': 24},\n",
       "   'wind': {'speed': 6.19, 'deg': 16, 'gust': 7.24},\n",
       "   'visibility': 10000,\n",
       "   'pop': 0,\n",
       "   'sys': {'pod': 'd'},\n",
       "   'dt_txt': '2025-07-31 21:00:00'},\n",
       "  {'dt': 1754006400,\n",
       "   'main': {'temp': 295.46,\n",
       "    'feels_like': 295.37,\n",
       "    'temp_min': 295.46,\n",
       "    'temp_max': 295.46,\n",
       "    'pressure': 1023,\n",
       "    'sea_level': 1023,\n",
       "    'grnd_level': 1001,\n",
       "    'humidity': 62,\n",
       "    'temp_kf': 0},\n",
       "   'weather': [{'id': 800,\n",
       "     'main': 'Clear',\n",
       "     'description': 'clear sky',\n",
       "     'icon': '01d'}],\n",
       "   'clouds': {'all': 2},\n",
       "   'wind': {'speed': 5.73, 'deg': 12, 'gust': 7.79},\n",
       "   'visibility': 10000,\n",
       "   'pop': 0,\n",
       "   'sys': {'pod': 'd'},\n",
       "   'dt_txt': '2025-08-01 00:00:00'},\n",
       "  {'dt': 1754017200,\n",
       "   'main': {'temp': 291.75,\n",
       "    'feels_like': 291.23,\n",
       "    'temp_min': 291.75,\n",
       "    'temp_max': 291.75,\n",
       "    'pressure': 1023,\n",
       "    'sea_level': 1023,\n",
       "    'grnd_level': 1002,\n",
       "    'humidity': 60,\n",
       "    'temp_kf': 0},\n",
       "   'weather': [{'id': 800,\n",
       "     'main': 'Clear',\n",
       "     'description': 'clear sky',\n",
       "     'icon': '01n'}],\n",
       "   'clouds': {'all': 0},\n",
       "   'wind': {'speed': 5.16, 'deg': 4, 'gust': 9.61},\n",
       "   'visibility': 10000,\n",
       "   'pop': 0,\n",
       "   'sys': {'pod': 'n'},\n",
       "   'dt_txt': '2025-08-01 03:00:00'},\n",
       "  {'dt': 1754028000,\n",
       "   'main': {'temp': 289.39,\n",
       "    'feels_like': 288.98,\n",
       "    'temp_min': 289.39,\n",
       "    'temp_max': 289.39,\n",
       "    'pressure': 1023,\n",
       "    'sea_level': 1023,\n",
       "    'grnd_level': 1002,\n",
       "    'humidity': 73,\n",
       "    'temp_kf': 0},\n",
       "   'weather': [{'id': 800,\n",
       "     'main': 'Clear',\n",
       "     'description': 'clear sky',\n",
       "     'icon': '01n'}],\n",
       "   'clouds': {'all': 0},\n",
       "   'wind': {'speed': 0.38, 'deg': 227, 'gust': 1.93},\n",
       "   'visibility': 10000,\n",
       "   'pop': 0,\n",
       "   'sys': {'pod': 'n'},\n",
       "   'dt_txt': '2025-08-01 06:00:00'},\n",
       "  {'dt': 1754038800,\n",
       "   'main': {'temp': 292.58,\n",
       "    'feels_like': 292.43,\n",
       "    'temp_min': 292.58,\n",
       "    'temp_max': 292.58,\n",
       "    'pressure': 1025,\n",
       "    'sea_level': 1025,\n",
       "    'grnd_level': 1003,\n",
       "    'humidity': 71,\n",
       "    'temp_kf': 0},\n",
       "   'weather': [{'id': 800,\n",
       "     'main': 'Clear',\n",
       "     'description': 'clear sky',\n",
       "     'icon': '01n'}],\n",
       "   'clouds': {'all': 3},\n",
       "   'wind': {'speed': 3.93, 'deg': 87, 'gust': 7.23},\n",
       "   'visibility': 10000,\n",
       "   'pop': 0,\n",
       "   'sys': {'pod': 'n'},\n",
       "   'dt_txt': '2025-08-01 09:00:00'},\n",
       "  {'dt': 1754049600,\n",
       "   'main': {'temp': 292.73,\n",
       "    'feels_like': 292.44,\n",
       "    'temp_min': 292.73,\n",
       "    'temp_max': 292.73,\n",
       "    'pressure': 1026,\n",
       "    'sea_level': 1026,\n",
       "    'grnd_level': 1005,\n",
       "    'humidity': 65,\n",
       "    'temp_kf': 0},\n",
       "   'weather': [{'id': 801,\n",
       "     'main': 'Clouds',\n",
       "     'description': 'few clouds',\n",
       "     'icon': '02d'}],\n",
       "   'clouds': {'all': 11},\n",
       "   'wind': {'speed': 2.48, 'deg': 91, 'gust': 5.26},\n",
       "   'visibility': 10000,\n",
       "   'pop': 0,\n",
       "   'sys': {'pod': 'd'},\n",
       "   'dt_txt': '2025-08-01 12:00:00'},\n",
       "  {'dt': 1754060400,\n",
       "   'main': {'temp': 295.24,\n",
       "    'feels_like': 294.78,\n",
       "    'temp_min': 295.24,\n",
       "    'temp_max': 295.24,\n",
       "    'pressure': 1027,\n",
       "    'sea_level': 1027,\n",
       "    'grnd_level': 1006,\n",
       "    'humidity': 49,\n",
       "    'temp_kf': 0},\n",
       "   'weather': [{'id': 803,\n",
       "     'main': 'Clouds',\n",
       "     'description': 'broken clouds',\n",
       "     'icon': '04d'}],\n",
       "   'clouds': {'all': 79},\n",
       "   'wind': {'speed': 3.91, 'deg': 58, 'gust': 5.38},\n",
       "   'visibility': 10000,\n",
       "   'pop': 0,\n",
       "   'sys': {'pod': 'd'},\n",
       "   'dt_txt': '2025-08-01 15:00:00'},\n",
       "  {'dt': 1754071200,\n",
       "   'main': {'temp': 296.98,\n",
       "    'feels_like': 296.49,\n",
       "    'temp_min': 296.98,\n",
       "    'temp_max': 296.98,\n",
       "    'pressure': 1027,\n",
       "    'sea_level': 1027,\n",
       "    'grnd_level': 1006,\n",
       "    'humidity': 41,\n",
       "    'temp_kf': 0},\n",
       "   'weather': [{'id': 802,\n",
       "     'main': 'Clouds',\n",
       "     'description': 'scattered clouds',\n",
       "     'icon': '03d'}],\n",
       "   'clouds': {'all': 40},\n",
       "   'wind': {'speed': 4.9, 'deg': 47, 'gust': 5.62},\n",
       "   'visibility': 10000,\n",
       "   'pop': 0,\n",
       "   'sys': {'pod': 'd'},\n",
       "   'dt_txt': '2025-08-01 18:00:00'},\n",
       "  {'dt': 1754082000,\n",
       "   'main': {'temp': 296.81,\n",
       "    'feels_like': 296.3,\n",
       "    'temp_min': 296.81,\n",
       "    'temp_max': 296.81,\n",
       "    'pressure': 1027,\n",
       "    'sea_level': 1027,\n",
       "    'grnd_level': 1006,\n",
       "    'humidity': 41,\n",
       "    'temp_kf': 0},\n",
       "   'weather': [{'id': 800,\n",
       "     'main': 'Clear',\n",
       "     'description': 'clear sky',\n",
       "     'icon': '01d'}],\n",
       "   'clouds': {'all': 1},\n",
       "   'wind': {'speed': 5.04, 'deg': 22, 'gust': 6.05},\n",
       "   'visibility': 10000,\n",
       "   'pop': 0,\n",
       "   'sys': {'pod': 'd'},\n",
       "   'dt_txt': '2025-08-01 21:00:00'},\n",
       "  {'dt': 1754092800,\n",
       "   'main': {'temp': 294.99,\n",
       "    'feels_like': 294.4,\n",
       "    'temp_min': 294.99,\n",
       "    'temp_max': 294.99,\n",
       "    'pressure': 1027,\n",
       "    'sea_level': 1027,\n",
       "    'grnd_level': 1005,\n",
       "    'humidity': 45,\n",
       "    'temp_kf': 0},\n",
       "   'weather': [{'id': 800,\n",
       "     'main': 'Clear',\n",
       "     'description': 'clear sky',\n",
       "     'icon': '01d'}],\n",
       "   'clouds': {'all': 0},\n",
       "   'wind': {'speed': 4.13, 'deg': 14, 'gust': 5.62},\n",
       "   'visibility': 10000,\n",
       "   'pop': 0,\n",
       "   'sys': {'pod': 'd'},\n",
       "   'dt_txt': '2025-08-02 00:00:00'},\n",
       "  {'dt': 1754103600,\n",
       "   'main': {'temp': 292.6,\n",
       "    'feels_like': 292.04,\n",
       "    'temp_min': 292.6,\n",
       "    'temp_max': 292.6,\n",
       "    'pressure': 1027,\n",
       "    'sea_level': 1027,\n",
       "    'grnd_level': 1005,\n",
       "    'humidity': 55,\n",
       "    'temp_kf': 0},\n",
       "   'weather': [{'id': 800,\n",
       "     'main': 'Clear',\n",
       "     'description': 'clear sky',\n",
       "     'icon': '01n'}],\n",
       "   'clouds': {'all': 7},\n",
       "   'wind': {'speed': 2.42, 'deg': 25, 'gust': 5.29},\n",
       "   'visibility': 10000,\n",
       "   'pop': 0,\n",
       "   'sys': {'pod': 'n'},\n",
       "   'dt_txt': '2025-08-02 03:00:00'},\n",
       "  {'dt': 1754114400,\n",
       "   'main': {'temp': 292,\n",
       "    'feels_like': 291.53,\n",
       "    'temp_min': 292,\n",
       "    'temp_max': 292,\n",
       "    'pressure': 1027,\n",
       "    'sea_level': 1027,\n",
       "    'grnd_level': 1005,\n",
       "    'humidity': 61,\n",
       "    'temp_kf': 0},\n",
       "   'weather': [{'id': 802,\n",
       "     'main': 'Clouds',\n",
       "     'description': 'scattered clouds',\n",
       "     'icon': '03n'}],\n",
       "   'clouds': {'all': 44},\n",
       "   'wind': {'speed': 1.98, 'deg': 47, 'gust': 2.42},\n",
       "   'visibility': 10000,\n",
       "   'pop': 0,\n",
       "   'sys': {'pod': 'n'},\n",
       "   'dt_txt': '2025-08-02 06:00:00'},\n",
       "  {'dt': 1754125200,\n",
       "   'main': {'temp': 291.67,\n",
       "    'feels_like': 291.27,\n",
       "    'temp_min': 291.67,\n",
       "    'temp_max': 291.67,\n",
       "    'pressure': 1027,\n",
       "    'sea_level': 1027,\n",
       "    'grnd_level': 1005,\n",
       "    'humidity': 65,\n",
       "    'temp_kf': 0},\n",
       "   'weather': [{'id': 803,\n",
       "     'main': 'Clouds',\n",
       "     'description': 'broken clouds',\n",
       "     'icon': '04n'}],\n",
       "   'clouds': {'all': 70},\n",
       "   'wind': {'speed': 1.21, 'deg': 353, 'gust': 1.47},\n",
       "   'visibility': 10000,\n",
       "   'pop': 0,\n",
       "   'sys': {'pod': 'n'},\n",
       "   'dt_txt': '2025-08-02 09:00:00'},\n",
       "  {'dt': 1754136000,\n",
       "   'main': {'temp': 292.63,\n",
       "    'feels_like': 292.33,\n",
       "    'temp_min': 292.63,\n",
       "    'temp_max': 292.63,\n",
       "    'pressure': 1027,\n",
       "    'sea_level': 1027,\n",
       "    'grnd_level': 1006,\n",
       "    'humidity': 65,\n",
       "    'temp_kf': 0},\n",
       "   'weather': [{'id': 803,\n",
       "     'main': 'Clouds',\n",
       "     'description': 'broken clouds',\n",
       "     'icon': '04d'}],\n",
       "   'clouds': {'all': 53},\n",
       "   'wind': {'speed': 2.07, 'deg': 17, 'gust': 4.08},\n",
       "   'visibility': 10000,\n",
       "   'pop': 0,\n",
       "   'sys': {'pod': 'd'},\n",
       "   'dt_txt': '2025-08-02 12:00:00'},\n",
       "  {'dt': 1754146800,\n",
       "   'main': {'temp': 296.55,\n",
       "    'feels_like': 296.25,\n",
       "    'temp_min': 296.55,\n",
       "    'temp_max': 296.55,\n",
       "    'pressure': 1027,\n",
       "    'sea_level': 1027,\n",
       "    'grnd_level': 1006,\n",
       "    'humidity': 50,\n",
       "    'temp_kf': 0},\n",
       "   'weather': [{'id': 804,\n",
       "     'main': 'Clouds',\n",
       "     'description': 'overcast clouds',\n",
       "     'icon': '04d'}],\n",
       "   'clouds': {'all': 100},\n",
       "   'wind': {'speed': 2.97, 'deg': 46, 'gust': 3.46},\n",
       "   'visibility': 10000,\n",
       "   'pop': 0,\n",
       "   'sys': {'pod': 'd'},\n",
       "   'dt_txt': '2025-08-02 15:00:00'},\n",
       "  {'dt': 1754157600,\n",
       "   'main': {'temp': 298.26,\n",
       "    'feels_like': 297.95,\n",
       "    'temp_min': 298.26,\n",
       "    'temp_max': 298.26,\n",
       "    'pressure': 1026,\n",
       "    'sea_level': 1026,\n",
       "    'grnd_level': 1005,\n",
       "    'humidity': 43,\n",
       "    'temp_kf': 0},\n",
       "   'weather': [{'id': 804,\n",
       "     'main': 'Clouds',\n",
       "     'description': 'overcast clouds',\n",
       "     'icon': '04d'}],\n",
       "   'clouds': {'all': 100},\n",
       "   'wind': {'speed': 3.75, 'deg': 68, 'gust': 3.74},\n",
       "   'visibility': 10000,\n",
       "   'pop': 0,\n",
       "   'sys': {'pod': 'd'},\n",
       "   'dt_txt': '2025-08-02 18:00:00'},\n",
       "  {'dt': 1754168400,\n",
       "   'main': {'temp': 298.78,\n",
       "    'feels_like': 298.34,\n",
       "    'temp_min': 298.78,\n",
       "    'temp_max': 298.78,\n",
       "    'pressure': 1025,\n",
       "    'sea_level': 1025,\n",
       "    'grnd_level': 1003,\n",
       "    'humidity': 36,\n",
       "    'temp_kf': 0},\n",
       "   'weather': [{'id': 804,\n",
       "     'main': 'Clouds',\n",
       "     'description': 'overcast clouds',\n",
       "     'icon': '04d'}],\n",
       "   'clouds': {'all': 89},\n",
       "   'wind': {'speed': 3.01, 'deg': 69, 'gust': 2.72},\n",
       "   'visibility': 10000,\n",
       "   'pop': 0,\n",
       "   'sys': {'pod': 'd'},\n",
       "   'dt_txt': '2025-08-02 21:00:00'},\n",
       "  {'dt': 1754179200,\n",
       "   'main': {'temp': 297.16,\n",
       "    'feels_like': 296.74,\n",
       "    'temp_min': 297.16,\n",
       "    'temp_max': 297.16,\n",
       "    'pressure': 1024,\n",
       "    'sea_level': 1024,\n",
       "    'grnd_level': 1003,\n",
       "    'humidity': 43,\n",
       "    'temp_kf': 0},\n",
       "   'weather': [{'id': 803,\n",
       "     'main': 'Clouds',\n",
       "     'description': 'broken clouds',\n",
       "     'icon': '04d'}],\n",
       "   'clouds': {'all': 64},\n",
       "   'wind': {'speed': 2.47, 'deg': 87, 'gust': 2.51},\n",
       "   'visibility': 10000,\n",
       "   'pop': 0,\n",
       "   'sys': {'pod': 'd'},\n",
       "   'dt_txt': '2025-08-03 00:00:00'},\n",
       "  {'dt': 1754190000,\n",
       "   'main': {'temp': 294.19,\n",
       "    'feels_like': 293.86,\n",
       "    'temp_min': 294.19,\n",
       "    'temp_max': 294.19,\n",
       "    'pressure': 1024,\n",
       "    'sea_level': 1024,\n",
       "    'grnd_level': 1002,\n",
       "    'humidity': 58,\n",
       "    'temp_kf': 0},\n",
       "   'weather': [{'id': 801,\n",
       "     'main': 'Clouds',\n",
       "     'description': 'few clouds',\n",
       "     'icon': '02n'}],\n",
       "   'clouds': {'all': 17},\n",
       "   'wind': {'speed': 1.75, 'deg': 86, 'gust': 2.95},\n",
       "   'visibility': 10000,\n",
       "   'pop': 0,\n",
       "   'sys': {'pod': 'n'},\n",
       "   'dt_txt': '2025-08-03 03:00:00'},\n",
       "  {'dt': 1754200800,\n",
       "   'main': {'temp': 293.4,\n",
       "    'feels_like': 293.2,\n",
       "    'temp_min': 293.4,\n",
       "    'temp_max': 293.4,\n",
       "    'pressure': 1023,\n",
       "    'sea_level': 1023,\n",
       "    'grnd_level': 1002,\n",
       "    'humidity': 66,\n",
       "    'temp_kf': 0},\n",
       "   'weather': [{'id': 801,\n",
       "     'main': 'Clouds',\n",
       "     'description': 'few clouds',\n",
       "     'icon': '02n'}],\n",
       "   'clouds': {'all': 11},\n",
       "   'wind': {'speed': 1.82, 'deg': 112, 'gust': 2.31},\n",
       "   'visibility': 10000,\n",
       "   'pop': 0,\n",
       "   'sys': {'pod': 'n'},\n",
       "   'dt_txt': '2025-08-03 06:00:00'},\n",
       "  {'dt': 1754211600,\n",
       "   'main': {'temp': 291.88,\n",
       "    'feels_like': 291.64,\n",
       "    'temp_min': 291.88,\n",
       "    'temp_max': 291.88,\n",
       "    'pressure': 1023,\n",
       "    'sea_level': 1023,\n",
       "    'grnd_level': 1001,\n",
       "    'humidity': 70,\n",
       "    'temp_kf': 0},\n",
       "   'weather': [{'id': 800,\n",
       "     'main': 'Clear',\n",
       "     'description': 'clear sky',\n",
       "     'icon': '01n'}],\n",
       "   'clouds': {'all': 9},\n",
       "   'wind': {'speed': 1.69, 'deg': 157, 'gust': 1.9},\n",
       "   'visibility': 10000,\n",
       "   'pop': 0,\n",
       "   'sys': {'pod': 'n'},\n",
       "   'dt_txt': '2025-08-03 09:00:00'},\n",
       "  {'dt': 1754222400,\n",
       "   'main': {'temp': 291.94,\n",
       "    'feels_like': 291.73,\n",
       "    'temp_min': 291.94,\n",
       "    'temp_max': 291.94,\n",
       "    'pressure': 1023,\n",
       "    'sea_level': 1023,\n",
       "    'grnd_level': 1001,\n",
       "    'humidity': 71,\n",
       "    'temp_kf': 0},\n",
       "   'weather': [{'id': 800,\n",
       "     'main': 'Clear',\n",
       "     'description': 'clear sky',\n",
       "     'icon': '01d'}],\n",
       "   'clouds': {'all': 5},\n",
       "   'wind': {'speed': 1.41, 'deg': 157, 'gust': 2.36},\n",
       "   'visibility': 10000,\n",
       "   'pop': 0,\n",
       "   'sys': {'pod': 'd'},\n",
       "   'dt_txt': '2025-08-03 12:00:00'},\n",
       "  {'dt': 1754233200,\n",
       "   'main': {'temp': 296.59,\n",
       "    'feels_like': 296.27,\n",
       "    'temp_min': 296.59,\n",
       "    'temp_max': 296.59,\n",
       "    'pressure': 1022,\n",
       "    'sea_level': 1022,\n",
       "    'grnd_level': 1000,\n",
       "    'humidity': 49,\n",
       "    'temp_kf': 0},\n",
       "   'weather': [{'id': 800,\n",
       "     'main': 'Clear',\n",
       "     'description': 'clear sky',\n",
       "     'icon': '01d'}],\n",
       "   'clouds': {'all': 4},\n",
       "   'wind': {'speed': 2.96, 'deg': 100, 'gust': 3.31},\n",
       "   'visibility': 10000,\n",
       "   'pop': 0,\n",
       "   'sys': {'pod': 'd'},\n",
       "   'dt_txt': '2025-08-03 15:00:00'},\n",
       "  {'dt': 1754244000,\n",
       "   'main': {'temp': 299.65,\n",
       "    'feels_like': 299.65,\n",
       "    'temp_min': 299.65,\n",
       "    'temp_max': 299.65,\n",
       "    'pressure': 1020,\n",
       "    'sea_level': 1020,\n",
       "    'grnd_level': 999,\n",
       "    'humidity': 30,\n",
       "    'temp_kf': 0},\n",
       "   'weather': [{'id': 800,\n",
       "     'main': 'Clear',\n",
       "     'description': 'clear sky',\n",
       "     'icon': '01d'}],\n",
       "   'clouds': {'all': 2},\n",
       "   'wind': {'speed': 4.28, 'deg': 88, 'gust': 4.54},\n",
       "   'visibility': 10000,\n",
       "   'pop': 0,\n",
       "   'sys': {'pod': 'd'},\n",
       "   'dt_txt': '2025-08-03 18:00:00'},\n",
       "  {'dt': 1754254800,\n",
       "   'main': {'temp': 301.18,\n",
       "    'feels_like': 300.47,\n",
       "    'temp_min': 301.18,\n",
       "    'temp_max': 301.18,\n",
       "    'pressure': 1018,\n",
       "    'sea_level': 1018,\n",
       "    'grnd_level': 997,\n",
       "    'humidity': 34,\n",
       "    'temp_kf': 0},\n",
       "   'weather': [{'id': 800,\n",
       "     'main': 'Clear',\n",
       "     'description': 'clear sky',\n",
       "     'icon': '01d'}],\n",
       "   'clouds': {'all': 5},\n",
       "   'wind': {'speed': 3.51, 'deg': 103, 'gust': 4.43},\n",
       "   'visibility': 10000,\n",
       "   'pop': 0,\n",
       "   'sys': {'pod': 'd'},\n",
       "   'dt_txt': '2025-08-03 21:00:00'},\n",
       "  {'dt': 1754265600,\n",
       "   'main': {'temp': 299.49,\n",
       "    'feels_like': 299.49,\n",
       "    'temp_min': 299.49,\n",
       "    'temp_max': 299.49,\n",
       "    'pressure': 1018,\n",
       "    'sea_level': 1018,\n",
       "    'grnd_level': 997,\n",
       "    'humidity': 41,\n",
       "    'temp_kf': 0},\n",
       "   'weather': [{'id': 800,\n",
       "     'main': 'Clear',\n",
       "     'description': 'clear sky',\n",
       "     'icon': '01d'}],\n",
       "   'clouds': {'all': 4},\n",
       "   'wind': {'speed': 3.53, 'deg': 127, 'gust': 4.94},\n",
       "   'visibility': 10000,\n",
       "   'pop': 0,\n",
       "   'sys': {'pod': 'd'},\n",
       "   'dt_txt': '2025-08-04 00:00:00'},\n",
       "  {'dt': 1754276400,\n",
       "   'main': {'temp': 296.02,\n",
       "    'feels_like': 295.85,\n",
       "    'temp_min': 296.02,\n",
       "    'temp_max': 296.02,\n",
       "    'pressure': 1018,\n",
       "    'sea_level': 1018,\n",
       "    'grnd_level': 997,\n",
       "    'humidity': 57,\n",
       "    'temp_kf': 0},\n",
       "   'weather': [{'id': 800,\n",
       "     'main': 'Clear',\n",
       "     'description': 'clear sky',\n",
       "     'icon': '01n'}],\n",
       "   'clouds': {'all': 10},\n",
       "   'wind': {'speed': 2.41, 'deg': 148, 'gust': 6.82},\n",
       "   'visibility': 10000,\n",
       "   'pop': 0,\n",
       "   'sys': {'pod': 'n'},\n",
       "   'dt_txt': '2025-08-04 03:00:00'},\n",
       "  {'dt': 1754287200,\n",
       "   'main': {'temp': 293.93,\n",
       "    'feels_like': 293.87,\n",
       "    'temp_min': 293.93,\n",
       "    'temp_max': 293.93,\n",
       "    'pressure': 1018,\n",
       "    'sea_level': 1018,\n",
       "    'grnd_level': 996,\n",
       "    'humidity': 69,\n",
       "    'temp_kf': 0},\n",
       "   'weather': [{'id': 800,\n",
       "     'main': 'Clear',\n",
       "     'description': 'clear sky',\n",
       "     'icon': '01n'}],\n",
       "   'clouds': {'all': 6},\n",
       "   'wind': {'speed': 2.14, 'deg': 149, 'gust': 4.19},\n",
       "   'visibility': 10000,\n",
       "   'pop': 0,\n",
       "   'sys': {'pod': 'n'},\n",
       "   'dt_txt': '2025-08-04 06:00:00'},\n",
       "  {'dt': 1754298000,\n",
       "   'main': {'temp': 292.88,\n",
       "    'feels_like': 292.97,\n",
       "    'temp_min': 292.88,\n",
       "    'temp_max': 292.88,\n",
       "    'pressure': 1018,\n",
       "    'sea_level': 1018,\n",
       "    'grnd_level': 997,\n",
       "    'humidity': 79,\n",
       "    'temp_kf': 0},\n",
       "   'weather': [{'id': 803,\n",
       "     'main': 'Clouds',\n",
       "     'description': 'broken clouds',\n",
       "     'icon': '04n'}],\n",
       "   'clouds': {'all': 84},\n",
       "   'wind': {'speed': 1.44, 'deg': 154, 'gust': 1.77},\n",
       "   'visibility': 10000,\n",
       "   'pop': 0,\n",
       "   'sys': {'pod': 'n'},\n",
       "   'dt_txt': '2025-08-04 09:00:00'},\n",
       "  {'dt': 1754308800,\n",
       "   'main': {'temp': 293.66,\n",
       "    'feels_like': 293.88,\n",
       "    'temp_min': 293.66,\n",
       "    'temp_max': 293.66,\n",
       "    'pressure': 1018,\n",
       "    'sea_level': 1018,\n",
       "    'grnd_level': 997,\n",
       "    'humidity': 81,\n",
       "    'temp_kf': 0},\n",
       "   'weather': [{'id': 804,\n",
       "     'main': 'Clouds',\n",
       "     'description': 'overcast clouds',\n",
       "     'icon': '04d'}],\n",
       "   'clouds': {'all': 92},\n",
       "   'wind': {'speed': 1.41, 'deg': 137, 'gust': 2.43},\n",
       "   'visibility': 10000,\n",
       "   'pop': 0,\n",
       "   'sys': {'pod': 'd'},\n",
       "   'dt_txt': '2025-08-04 12:00:00'},\n",
       "  {'dt': 1754319600,\n",
       "   'main': {'temp': 298.47,\n",
       "    'feels_like': 298.62,\n",
       "    'temp_min': 298.47,\n",
       "    'temp_max': 298.47,\n",
       "    'pressure': 1018,\n",
       "    'sea_level': 1018,\n",
       "    'grnd_level': 997,\n",
       "    'humidity': 60,\n",
       "    'temp_kf': 0},\n",
       "   'weather': [{'id': 804,\n",
       "     'main': 'Clouds',\n",
       "     'description': 'overcast clouds',\n",
       "     'icon': '04d'}],\n",
       "   'clouds': {'all': 100},\n",
       "   'wind': {'speed': 2.38, 'deg': 131, 'gust': 3.18},\n",
       "   'visibility': 10000,\n",
       "   'pop': 0,\n",
       "   'sys': {'pod': 'd'},\n",
       "   'dt_txt': '2025-08-04 15:00:00'},\n",
       "  {'dt': 1754330400,\n",
       "   'main': {'temp': 301.9,\n",
       "    'feels_like': 301.96,\n",
       "    'temp_min': 301.9,\n",
       "    'temp_max': 301.9,\n",
       "    'pressure': 1017,\n",
       "    'sea_level': 1017,\n",
       "    'grnd_level': 996,\n",
       "    'humidity': 45,\n",
       "    'temp_kf': 0},\n",
       "   'weather': [{'id': 804,\n",
       "     'main': 'Clouds',\n",
       "     'description': 'overcast clouds',\n",
       "     'icon': '04d'}],\n",
       "   'clouds': {'all': 100},\n",
       "   'wind': {'speed': 2.19, 'deg': 101, 'gust': 4.17},\n",
       "   'visibility': 10000,\n",
       "   'pop': 0,\n",
       "   'sys': {'pod': 'd'},\n",
       "   'dt_txt': '2025-08-04 18:00:00'},\n",
       "  {'dt': 1754341200,\n",
       "   'main': {'temp': 301.17,\n",
       "    'feels_like': 301.9,\n",
       "    'temp_min': 301.17,\n",
       "    'temp_max': 301.17,\n",
       "    'pressure': 1016,\n",
       "    'sea_level': 1016,\n",
       "    'grnd_level': 995,\n",
       "    'humidity': 53,\n",
       "    'temp_kf': 0},\n",
       "   'weather': [{'id': 804,\n",
       "     'main': 'Clouds',\n",
       "     'description': 'overcast clouds',\n",
       "     'icon': '04d'}],\n",
       "   'clouds': {'all': 94},\n",
       "   'wind': {'speed': 2.1, 'deg': 104, 'gust': 3.69},\n",
       "   'visibility': 10000,\n",
       "   'pop': 0,\n",
       "   'sys': {'pod': 'd'},\n",
       "   'dt_txt': '2025-08-04 21:00:00'},\n",
       "  {'dt': 1754352000,\n",
       "   'main': {'temp': 300.65,\n",
       "    'feels_like': 301.45,\n",
       "    'temp_min': 300.65,\n",
       "    'temp_max': 300.65,\n",
       "    'pressure': 1016,\n",
       "    'sea_level': 1016,\n",
       "    'grnd_level': 995,\n",
       "    'humidity': 55,\n",
       "    'temp_kf': 0},\n",
       "   'weather': [{'id': 804,\n",
       "     'main': 'Clouds',\n",
       "     'description': 'overcast clouds',\n",
       "     'icon': '04d'}],\n",
       "   'clouds': {'all': 97},\n",
       "   'wind': {'speed': 1.26, 'deg': 216, 'gust': 2.4},\n",
       "   'visibility': 10000,\n",
       "   'pop': 0,\n",
       "   'sys': {'pod': 'd'},\n",
       "   'dt_txt': '2025-08-05 00:00:00'},\n",
       "  {'dt': 1754362800,\n",
       "   'main': {'temp': 296.25,\n",
       "    'feels_like': 296.81,\n",
       "    'temp_min': 296.25,\n",
       "    'temp_max': 296.25,\n",
       "    'pressure': 1017,\n",
       "    'sea_level': 1017,\n",
       "    'grnd_level': 996,\n",
       "    'humidity': 84,\n",
       "    'temp_kf': 0},\n",
       "   'weather': [{'id': 500,\n",
       "     'main': 'Rain',\n",
       "     'description': 'light rain',\n",
       "     'icon': '10n'}],\n",
       "   'clouds': {'all': 85},\n",
       "   'wind': {'speed': 2.25, 'deg': 204, 'gust': 4.64},\n",
       "   'visibility': 10000,\n",
       "   'pop': 0.72,\n",
       "   'rain': {'3h': 0.63},\n",
       "   'sys': {'pod': 'n'},\n",
       "   'dt_txt': '2025-08-05 03:00:00'},\n",
       "  {'dt': 1754373600,\n",
       "   'main': {'temp': 295.5,\n",
       "    'feels_like': 296.06,\n",
       "    'temp_min': 295.5,\n",
       "    'temp_max': 295.5,\n",
       "    'pressure': 1018,\n",
       "    'sea_level': 1018,\n",
       "    'grnd_level': 996,\n",
       "    'humidity': 87,\n",
       "    'temp_kf': 0},\n",
       "   'weather': [{'id': 804,\n",
       "     'main': 'Clouds',\n",
       "     'description': 'overcast clouds',\n",
       "     'icon': '04n'}],\n",
       "   'clouds': {'all': 92},\n",
       "   'wind': {'speed': 2.31, 'deg': 193, 'gust': 5.93},\n",
       "   'visibility': 10000,\n",
       "   'pop': 0.48,\n",
       "   'sys': {'pod': 'n'},\n",
       "   'dt_txt': '2025-08-05 06:00:00'},\n",
       "  {'dt': 1754384400,\n",
       "   'main': {'temp': 294.71,\n",
       "    'feels_like': 295.19,\n",
       "    'temp_min': 294.71,\n",
       "    'temp_max': 294.71,\n",
       "    'pressure': 1018,\n",
       "    'sea_level': 1018,\n",
       "    'grnd_level': 997,\n",
       "    'humidity': 87,\n",
       "    'temp_kf': 0},\n",
       "   'weather': [{'id': 500,\n",
       "     'main': 'Rain',\n",
       "     'description': 'light rain',\n",
       "     'icon': '10n'}],\n",
       "   'clouds': {'all': 100},\n",
       "   'wind': {'speed': 2.34, 'deg': 207, 'gust': 7.42},\n",
       "   'visibility': 10000,\n",
       "   'pop': 0.49,\n",
       "   'rain': {'3h': 0.24},\n",
       "   'sys': {'pod': 'n'},\n",
       "   'dt_txt': '2025-08-05 09:00:00'},\n",
       "  {'dt': 1754395200,\n",
       "   'main': {'temp': 293.93,\n",
       "    'feels_like': 294.44,\n",
       "    'temp_min': 293.93,\n",
       "    'temp_max': 293.93,\n",
       "    'pressure': 1019,\n",
       "    'sea_level': 1019,\n",
       "    'grnd_level': 997,\n",
       "    'humidity': 91,\n",
       "    'temp_kf': 0},\n",
       "   'weather': [{'id': 500,\n",
       "     'main': 'Rain',\n",
       "     'description': 'light rain',\n",
       "     'icon': '10d'}],\n",
       "   'clouds': {'all': 100},\n",
       "   'wind': {'speed': 2.77, 'deg': 158, 'gust': 7},\n",
       "   'visibility': 10000,\n",
       "   'pop': 1,\n",
       "   'rain': {'3h': 0.87},\n",
       "   'sys': {'pod': 'd'},\n",
       "   'dt_txt': '2025-08-05 12:00:00'}],\n",
       " 'city': {'id': 4887398,\n",
       "  'name': 'Chicago',\n",
       "  'coord': {'lat': 41.85, 'lon': -87.65},\n",
       "  'country': 'US',\n",
       "  'population': 2695598,\n",
       "  'timezone': -18000,\n",
       "  'sunrise': 1753958617,\n",
       "  'sunset': 1754010610}}"
      ]
     },
     "execution_count": 17,
     "metadata": {},
     "output_type": "execute_result"
    }
   ],
   "source": [
    "# Retrieve the API for 5-day weather forecast for Chicago\n",
    "five_day_weather = requests.get(f'https://api.openweathermap.org/data/2.5/forecast?lat={weather_coord['lat']}&lon={weather_coord['lon']}&appid={my_key}')\n",
    "five_day_weather.json()"
   ]
  },
  {
   "cell_type": "markdown",
   "metadata": {
    "id": "i4ZcqQtb5R1w"
   },
   "source": [
    "Retrieve date and temperature data from the 5 day weather forecast for Chicago and convert it into a dataframe."
   ]
  },
  {
   "cell_type": "code",
   "execution_count": 18,
   "metadata": {
    "id": "JVq1afEm5R1w"
   },
   "outputs": [
    {
     "data": {
      "text/html": [
       "<div>\n",
       "<style scoped>\n",
       "    .dataframe tbody tr th:only-of-type {\n",
       "        vertical-align: middle;\n",
       "    }\n",
       "\n",
       "    .dataframe tbody tr th {\n",
       "        vertical-align: top;\n",
       "    }\n",
       "\n",
       "    .dataframe thead th {\n",
       "        text-align: right;\n",
       "    }\n",
       "</style>\n",
       "<table border=\"1\" class=\"dataframe\">\n",
       "  <thead>\n",
       "    <tr style=\"text-align: right;\">\n",
       "      <th></th>\n",
       "      <th>Date and Time</th>\n",
       "      <th>Temperature (Celsius)</th>\n",
       "    </tr>\n",
       "  </thead>\n",
       "  <tbody>\n",
       "    <tr>\n",
       "      <th>0</th>\n",
       "      <td>2025-07-31 15:00:00</td>\n",
       "      <td>20.00</td>\n",
       "    </tr>\n",
       "    <tr>\n",
       "      <th>1</th>\n",
       "      <td>2025-07-31 18:00:00</td>\n",
       "      <td>20.09</td>\n",
       "    </tr>\n",
       "    <tr>\n",
       "      <th>2</th>\n",
       "      <td>2025-07-31 21:00:00</td>\n",
       "      <td>23.11</td>\n",
       "    </tr>\n",
       "    <tr>\n",
       "      <th>3</th>\n",
       "      <td>2025-08-01 00:00:00</td>\n",
       "      <td>22.31</td>\n",
       "    </tr>\n",
       "    <tr>\n",
       "      <th>4</th>\n",
       "      <td>2025-08-01 03:00:00</td>\n",
       "      <td>18.60</td>\n",
       "    </tr>\n",
       "    <tr>\n",
       "      <th>5</th>\n",
       "      <td>2025-08-01 06:00:00</td>\n",
       "      <td>16.24</td>\n",
       "    </tr>\n",
       "    <tr>\n",
       "      <th>6</th>\n",
       "      <td>2025-08-01 09:00:00</td>\n",
       "      <td>19.43</td>\n",
       "    </tr>\n",
       "    <tr>\n",
       "      <th>7</th>\n",
       "      <td>2025-08-01 12:00:00</td>\n",
       "      <td>19.58</td>\n",
       "    </tr>\n",
       "    <tr>\n",
       "      <th>8</th>\n",
       "      <td>2025-08-01 15:00:00</td>\n",
       "      <td>22.09</td>\n",
       "    </tr>\n",
       "    <tr>\n",
       "      <th>9</th>\n",
       "      <td>2025-08-01 18:00:00</td>\n",
       "      <td>23.83</td>\n",
       "    </tr>\n",
       "    <tr>\n",
       "      <th>10</th>\n",
       "      <td>2025-08-01 21:00:00</td>\n",
       "      <td>23.66</td>\n",
       "    </tr>\n",
       "    <tr>\n",
       "      <th>11</th>\n",
       "      <td>2025-08-02 00:00:00</td>\n",
       "      <td>21.84</td>\n",
       "    </tr>\n",
       "    <tr>\n",
       "      <th>12</th>\n",
       "      <td>2025-08-02 03:00:00</td>\n",
       "      <td>19.45</td>\n",
       "    </tr>\n",
       "    <tr>\n",
       "      <th>13</th>\n",
       "      <td>2025-08-02 06:00:00</td>\n",
       "      <td>18.85</td>\n",
       "    </tr>\n",
       "    <tr>\n",
       "      <th>14</th>\n",
       "      <td>2025-08-02 09:00:00</td>\n",
       "      <td>18.52</td>\n",
       "    </tr>\n",
       "    <tr>\n",
       "      <th>15</th>\n",
       "      <td>2025-08-02 12:00:00</td>\n",
       "      <td>19.48</td>\n",
       "    </tr>\n",
       "    <tr>\n",
       "      <th>16</th>\n",
       "      <td>2025-08-02 15:00:00</td>\n",
       "      <td>23.40</td>\n",
       "    </tr>\n",
       "    <tr>\n",
       "      <th>17</th>\n",
       "      <td>2025-08-02 18:00:00</td>\n",
       "      <td>25.11</td>\n",
       "    </tr>\n",
       "    <tr>\n",
       "      <th>18</th>\n",
       "      <td>2025-08-02 21:00:00</td>\n",
       "      <td>25.63</td>\n",
       "    </tr>\n",
       "    <tr>\n",
       "      <th>19</th>\n",
       "      <td>2025-08-03 00:00:00</td>\n",
       "      <td>24.01</td>\n",
       "    </tr>\n",
       "    <tr>\n",
       "      <th>20</th>\n",
       "      <td>2025-08-03 03:00:00</td>\n",
       "      <td>21.04</td>\n",
       "    </tr>\n",
       "    <tr>\n",
       "      <th>21</th>\n",
       "      <td>2025-08-03 06:00:00</td>\n",
       "      <td>20.25</td>\n",
       "    </tr>\n",
       "    <tr>\n",
       "      <th>22</th>\n",
       "      <td>2025-08-03 09:00:00</td>\n",
       "      <td>18.73</td>\n",
       "    </tr>\n",
       "    <tr>\n",
       "      <th>23</th>\n",
       "      <td>2025-08-03 12:00:00</td>\n",
       "      <td>18.79</td>\n",
       "    </tr>\n",
       "    <tr>\n",
       "      <th>24</th>\n",
       "      <td>2025-08-03 15:00:00</td>\n",
       "      <td>23.44</td>\n",
       "    </tr>\n",
       "    <tr>\n",
       "      <th>25</th>\n",
       "      <td>2025-08-03 18:00:00</td>\n",
       "      <td>26.50</td>\n",
       "    </tr>\n",
       "    <tr>\n",
       "      <th>26</th>\n",
       "      <td>2025-08-03 21:00:00</td>\n",
       "      <td>28.03</td>\n",
       "    </tr>\n",
       "    <tr>\n",
       "      <th>27</th>\n",
       "      <td>2025-08-04 00:00:00</td>\n",
       "      <td>26.34</td>\n",
       "    </tr>\n",
       "    <tr>\n",
       "      <th>28</th>\n",
       "      <td>2025-08-04 03:00:00</td>\n",
       "      <td>22.87</td>\n",
       "    </tr>\n",
       "    <tr>\n",
       "      <th>29</th>\n",
       "      <td>2025-08-04 06:00:00</td>\n",
       "      <td>20.78</td>\n",
       "    </tr>\n",
       "    <tr>\n",
       "      <th>30</th>\n",
       "      <td>2025-08-04 09:00:00</td>\n",
       "      <td>19.73</td>\n",
       "    </tr>\n",
       "    <tr>\n",
       "      <th>31</th>\n",
       "      <td>2025-08-04 12:00:00</td>\n",
       "      <td>20.51</td>\n",
       "    </tr>\n",
       "    <tr>\n",
       "      <th>32</th>\n",
       "      <td>2025-08-04 15:00:00</td>\n",
       "      <td>25.32</td>\n",
       "    </tr>\n",
       "    <tr>\n",
       "      <th>33</th>\n",
       "      <td>2025-08-04 18:00:00</td>\n",
       "      <td>28.75</td>\n",
       "    </tr>\n",
       "    <tr>\n",
       "      <th>34</th>\n",
       "      <td>2025-08-04 21:00:00</td>\n",
       "      <td>28.02</td>\n",
       "    </tr>\n",
       "    <tr>\n",
       "      <th>35</th>\n",
       "      <td>2025-08-05 00:00:00</td>\n",
       "      <td>27.50</td>\n",
       "    </tr>\n",
       "    <tr>\n",
       "      <th>36</th>\n",
       "      <td>2025-08-05 03:00:00</td>\n",
       "      <td>23.10</td>\n",
       "    </tr>\n",
       "    <tr>\n",
       "      <th>37</th>\n",
       "      <td>2025-08-05 06:00:00</td>\n",
       "      <td>22.35</td>\n",
       "    </tr>\n",
       "    <tr>\n",
       "      <th>38</th>\n",
       "      <td>2025-08-05 09:00:00</td>\n",
       "      <td>21.56</td>\n",
       "    </tr>\n",
       "    <tr>\n",
       "      <th>39</th>\n",
       "      <td>2025-08-05 12:00:00</td>\n",
       "      <td>20.78</td>\n",
       "    </tr>\n",
       "  </tbody>\n",
       "</table>\n",
       "</div>"
      ],
      "text/plain": [
       "         Date and Time  Temperature (Celsius)\n",
       "0  2025-07-31 15:00:00                  20.00\n",
       "1  2025-07-31 18:00:00                  20.09\n",
       "2  2025-07-31 21:00:00                  23.11\n",
       "3  2025-08-01 00:00:00                  22.31\n",
       "4  2025-08-01 03:00:00                  18.60\n",
       "5  2025-08-01 06:00:00                  16.24\n",
       "6  2025-08-01 09:00:00                  19.43\n",
       "7  2025-08-01 12:00:00                  19.58\n",
       "8  2025-08-01 15:00:00                  22.09\n",
       "9  2025-08-01 18:00:00                  23.83\n",
       "10 2025-08-01 21:00:00                  23.66\n",
       "11 2025-08-02 00:00:00                  21.84\n",
       "12 2025-08-02 03:00:00                  19.45\n",
       "13 2025-08-02 06:00:00                  18.85\n",
       "14 2025-08-02 09:00:00                  18.52\n",
       "15 2025-08-02 12:00:00                  19.48\n",
       "16 2025-08-02 15:00:00                  23.40\n",
       "17 2025-08-02 18:00:00                  25.11\n",
       "18 2025-08-02 21:00:00                  25.63\n",
       "19 2025-08-03 00:00:00                  24.01\n",
       "20 2025-08-03 03:00:00                  21.04\n",
       "21 2025-08-03 06:00:00                  20.25\n",
       "22 2025-08-03 09:00:00                  18.73\n",
       "23 2025-08-03 12:00:00                  18.79\n",
       "24 2025-08-03 15:00:00                  23.44\n",
       "25 2025-08-03 18:00:00                  26.50\n",
       "26 2025-08-03 21:00:00                  28.03\n",
       "27 2025-08-04 00:00:00                  26.34\n",
       "28 2025-08-04 03:00:00                  22.87\n",
       "29 2025-08-04 06:00:00                  20.78\n",
       "30 2025-08-04 09:00:00                  19.73\n",
       "31 2025-08-04 12:00:00                  20.51\n",
       "32 2025-08-04 15:00:00                  25.32\n",
       "33 2025-08-04 18:00:00                  28.75\n",
       "34 2025-08-04 21:00:00                  28.02\n",
       "35 2025-08-05 00:00:00                  27.50\n",
       "36 2025-08-05 03:00:00                  23.10\n",
       "37 2025-08-05 06:00:00                  22.35\n",
       "38 2025-08-05 09:00:00                  21.56\n",
       "39 2025-08-05 12:00:00                  20.78"
      ]
     },
     "execution_count": 18,
     "metadata": {},
     "output_type": "execute_result"
    }
   ],
   "source": [
    "list_of_weather_data = five_day_weather.json()['list']\n",
    "five_day_temp = []\n",
    "five_day_date = []\n",
    "for index in range(len(list_of_weather_data)):\n",
    "    five_day_temp.append(list_of_weather_data[index]['main']['temp'])\n",
    "    five_day_date.append(pd.to_datetime(list_of_weather_data[index]['dt_txt']))\n",
    "    five_day_temp[index] = round(five_day_temp[index] - 273.15, 2)\n",
    "\n",
    "five_day_date_temp = {'Date and Time' : five_day_date, 'Temperature (Celsius)' : five_day_temp}\n",
    "five_day_date_temp_df = pd.DataFrame(five_day_date_temp)\n",
    "five_day_date_temp_df"
   ]
  },
  {
   "cell_type": "markdown",
   "metadata": {
    "id": "0cQybDkv5R1w"
   },
   "source": [
    "Plot a line chart of temperature against date."
   ]
  },
  {
   "cell_type": "code",
   "execution_count": 19,
   "metadata": {
    "id": "oR7LLEab5R1w"
   },
   "outputs": [
    {
     "data": {
      "application/vnd.plotly.v1+json": {
       "config": {
        "plotlyServerURL": "https://plot.ly"
       },
       "data": [
        {
         "hovertemplate": "Date/Time: %{x}<br>Temperature: %{y:.1f} °C<extra></extra>",
         "legendgroup": "",
         "line": {
          "color": "#636efa",
          "dash": "solid"
         },
         "marker": {
          "color": "red",
          "symbol": "circle"
         },
         "mode": "lines+markers",
         "name": "",
         "orientation": "v",
         "showlegend": false,
         "type": "scatter",
         "x": [
          "2025-07-31T15:00:00",
          "2025-07-31T18:00:00",
          "2025-07-31T21:00:00",
          "2025-08-01T00:00:00",
          "2025-08-01T03:00:00",
          "2025-08-01T06:00:00",
          "2025-08-01T09:00:00",
          "2025-08-01T12:00:00",
          "2025-08-01T15:00:00",
          "2025-08-01T18:00:00",
          "2025-08-01T21:00:00",
          "2025-08-02T00:00:00",
          "2025-08-02T03:00:00",
          "2025-08-02T06:00:00",
          "2025-08-02T09:00:00",
          "2025-08-02T12:00:00",
          "2025-08-02T15:00:00",
          "2025-08-02T18:00:00",
          "2025-08-02T21:00:00",
          "2025-08-03T00:00:00",
          "2025-08-03T03:00:00",
          "2025-08-03T06:00:00",
          "2025-08-03T09:00:00",
          "2025-08-03T12:00:00",
          "2025-08-03T15:00:00",
          "2025-08-03T18:00:00",
          "2025-08-03T21:00:00",
          "2025-08-04T00:00:00",
          "2025-08-04T03:00:00",
          "2025-08-04T06:00:00",
          "2025-08-04T09:00:00",
          "2025-08-04T12:00:00",
          "2025-08-04T15:00:00",
          "2025-08-04T18:00:00",
          "2025-08-04T21:00:00",
          "2025-08-05T00:00:00",
          "2025-08-05T03:00:00",
          "2025-08-05T06:00:00",
          "2025-08-05T09:00:00",
          "2025-08-05T12:00:00"
         ],
         "xaxis": "x",
         "y": [
          20,
          20.09,
          23.11,
          22.31,
          18.6,
          16.24,
          19.43,
          19.58,
          22.09,
          23.83,
          23.66,
          21.84,
          19.45,
          18.85,
          18.52,
          19.48,
          23.4,
          25.11,
          25.63,
          24.01,
          21.04,
          20.25,
          18.73,
          18.79,
          23.44,
          26.5,
          28.03,
          26.34,
          22.87,
          20.78,
          19.73,
          20.51,
          25.32,
          28.75,
          28.02,
          27.5,
          23.1,
          22.35,
          21.56,
          20.78
         ],
         "yaxis": "y"
        }
       ],
       "layout": {
        "height": 500,
        "legend": {
         "tracegroupgap": 0
        },
        "margin": {
         "t": 60
        },
        "template": {
         "data": {
          "bar": [
           {
            "error_x": {
             "color": "#2a3f5f"
            },
            "error_y": {
             "color": "#2a3f5f"
            },
            "marker": {
             "line": {
              "color": "#E5ECF6",
              "width": 0.5
             },
             "pattern": {
              "fillmode": "overlay",
              "size": 10,
              "solidity": 0.2
             }
            },
            "type": "bar"
           }
          ],
          "barpolar": [
           {
            "marker": {
             "line": {
              "color": "#E5ECF6",
              "width": 0.5
             },
             "pattern": {
              "fillmode": "overlay",
              "size": 10,
              "solidity": 0.2
             }
            },
            "type": "barpolar"
           }
          ],
          "carpet": [
           {
            "aaxis": {
             "endlinecolor": "#2a3f5f",
             "gridcolor": "white",
             "linecolor": "white",
             "minorgridcolor": "white",
             "startlinecolor": "#2a3f5f"
            },
            "baxis": {
             "endlinecolor": "#2a3f5f",
             "gridcolor": "white",
             "linecolor": "white",
             "minorgridcolor": "white",
             "startlinecolor": "#2a3f5f"
            },
            "type": "carpet"
           }
          ],
          "choropleth": [
           {
            "colorbar": {
             "outlinewidth": 0,
             "ticks": ""
            },
            "type": "choropleth"
           }
          ],
          "contour": [
           {
            "colorbar": {
             "outlinewidth": 0,
             "ticks": ""
            },
            "colorscale": [
             [
              0,
              "#0d0887"
             ],
             [
              0.1111111111111111,
              "#46039f"
             ],
             [
              0.2222222222222222,
              "#7201a8"
             ],
             [
              0.3333333333333333,
              "#9c179e"
             ],
             [
              0.4444444444444444,
              "#bd3786"
             ],
             [
              0.5555555555555556,
              "#d8576b"
             ],
             [
              0.6666666666666666,
              "#ed7953"
             ],
             [
              0.7777777777777778,
              "#fb9f3a"
             ],
             [
              0.8888888888888888,
              "#fdca26"
             ],
             [
              1,
              "#f0f921"
             ]
            ],
            "type": "contour"
           }
          ],
          "contourcarpet": [
           {
            "colorbar": {
             "outlinewidth": 0,
             "ticks": ""
            },
            "type": "contourcarpet"
           }
          ],
          "heatmap": [
           {
            "colorbar": {
             "outlinewidth": 0,
             "ticks": ""
            },
            "colorscale": [
             [
              0,
              "#0d0887"
             ],
             [
              0.1111111111111111,
              "#46039f"
             ],
             [
              0.2222222222222222,
              "#7201a8"
             ],
             [
              0.3333333333333333,
              "#9c179e"
             ],
             [
              0.4444444444444444,
              "#bd3786"
             ],
             [
              0.5555555555555556,
              "#d8576b"
             ],
             [
              0.6666666666666666,
              "#ed7953"
             ],
             [
              0.7777777777777778,
              "#fb9f3a"
             ],
             [
              0.8888888888888888,
              "#fdca26"
             ],
             [
              1,
              "#f0f921"
             ]
            ],
            "type": "heatmap"
           }
          ],
          "heatmapgl": [
           {
            "colorbar": {
             "outlinewidth": 0,
             "ticks": ""
            },
            "colorscale": [
             [
              0,
              "#0d0887"
             ],
             [
              0.1111111111111111,
              "#46039f"
             ],
             [
              0.2222222222222222,
              "#7201a8"
             ],
             [
              0.3333333333333333,
              "#9c179e"
             ],
             [
              0.4444444444444444,
              "#bd3786"
             ],
             [
              0.5555555555555556,
              "#d8576b"
             ],
             [
              0.6666666666666666,
              "#ed7953"
             ],
             [
              0.7777777777777778,
              "#fb9f3a"
             ],
             [
              0.8888888888888888,
              "#fdca26"
             ],
             [
              1,
              "#f0f921"
             ]
            ],
            "type": "heatmapgl"
           }
          ],
          "histogram": [
           {
            "marker": {
             "pattern": {
              "fillmode": "overlay",
              "size": 10,
              "solidity": 0.2
             }
            },
            "type": "histogram"
           }
          ],
          "histogram2d": [
           {
            "colorbar": {
             "outlinewidth": 0,
             "ticks": ""
            },
            "colorscale": [
             [
              0,
              "#0d0887"
             ],
             [
              0.1111111111111111,
              "#46039f"
             ],
             [
              0.2222222222222222,
              "#7201a8"
             ],
             [
              0.3333333333333333,
              "#9c179e"
             ],
             [
              0.4444444444444444,
              "#bd3786"
             ],
             [
              0.5555555555555556,
              "#d8576b"
             ],
             [
              0.6666666666666666,
              "#ed7953"
             ],
             [
              0.7777777777777778,
              "#fb9f3a"
             ],
             [
              0.8888888888888888,
              "#fdca26"
             ],
             [
              1,
              "#f0f921"
             ]
            ],
            "type": "histogram2d"
           }
          ],
          "histogram2dcontour": [
           {
            "colorbar": {
             "outlinewidth": 0,
             "ticks": ""
            },
            "colorscale": [
             [
              0,
              "#0d0887"
             ],
             [
              0.1111111111111111,
              "#46039f"
             ],
             [
              0.2222222222222222,
              "#7201a8"
             ],
             [
              0.3333333333333333,
              "#9c179e"
             ],
             [
              0.4444444444444444,
              "#bd3786"
             ],
             [
              0.5555555555555556,
              "#d8576b"
             ],
             [
              0.6666666666666666,
              "#ed7953"
             ],
             [
              0.7777777777777778,
              "#fb9f3a"
             ],
             [
              0.8888888888888888,
              "#fdca26"
             ],
             [
              1,
              "#f0f921"
             ]
            ],
            "type": "histogram2dcontour"
           }
          ],
          "mesh3d": [
           {
            "colorbar": {
             "outlinewidth": 0,
             "ticks": ""
            },
            "type": "mesh3d"
           }
          ],
          "parcoords": [
           {
            "line": {
             "colorbar": {
              "outlinewidth": 0,
              "ticks": ""
             }
            },
            "type": "parcoords"
           }
          ],
          "pie": [
           {
            "automargin": true,
            "type": "pie"
           }
          ],
          "scatter": [
           {
            "fillpattern": {
             "fillmode": "overlay",
             "size": 10,
             "solidity": 0.2
            },
            "type": "scatter"
           }
          ],
          "scatter3d": [
           {
            "line": {
             "colorbar": {
              "outlinewidth": 0,
              "ticks": ""
             }
            },
            "marker": {
             "colorbar": {
              "outlinewidth": 0,
              "ticks": ""
             }
            },
            "type": "scatter3d"
           }
          ],
          "scattercarpet": [
           {
            "marker": {
             "colorbar": {
              "outlinewidth": 0,
              "ticks": ""
             }
            },
            "type": "scattercarpet"
           }
          ],
          "scattergeo": [
           {
            "marker": {
             "colorbar": {
              "outlinewidth": 0,
              "ticks": ""
             }
            },
            "type": "scattergeo"
           }
          ],
          "scattergl": [
           {
            "marker": {
             "colorbar": {
              "outlinewidth": 0,
              "ticks": ""
             }
            },
            "type": "scattergl"
           }
          ],
          "scattermapbox": [
           {
            "marker": {
             "colorbar": {
              "outlinewidth": 0,
              "ticks": ""
             }
            },
            "type": "scattermapbox"
           }
          ],
          "scatterpolar": [
           {
            "marker": {
             "colorbar": {
              "outlinewidth": 0,
              "ticks": ""
             }
            },
            "type": "scatterpolar"
           }
          ],
          "scatterpolargl": [
           {
            "marker": {
             "colorbar": {
              "outlinewidth": 0,
              "ticks": ""
             }
            },
            "type": "scatterpolargl"
           }
          ],
          "scatterternary": [
           {
            "marker": {
             "colorbar": {
              "outlinewidth": 0,
              "ticks": ""
             }
            },
            "type": "scatterternary"
           }
          ],
          "surface": [
           {
            "colorbar": {
             "outlinewidth": 0,
             "ticks": ""
            },
            "colorscale": [
             [
              0,
              "#0d0887"
             ],
             [
              0.1111111111111111,
              "#46039f"
             ],
             [
              0.2222222222222222,
              "#7201a8"
             ],
             [
              0.3333333333333333,
              "#9c179e"
             ],
             [
              0.4444444444444444,
              "#bd3786"
             ],
             [
              0.5555555555555556,
              "#d8576b"
             ],
             [
              0.6666666666666666,
              "#ed7953"
             ],
             [
              0.7777777777777778,
              "#fb9f3a"
             ],
             [
              0.8888888888888888,
              "#fdca26"
             ],
             [
              1,
              "#f0f921"
             ]
            ],
            "type": "surface"
           }
          ],
          "table": [
           {
            "cells": {
             "fill": {
              "color": "#EBF0F8"
             },
             "line": {
              "color": "white"
             }
            },
            "header": {
             "fill": {
              "color": "#C8D4E3"
             },
             "line": {
              "color": "white"
             }
            },
            "type": "table"
           }
          ]
         },
         "layout": {
          "annotationdefaults": {
           "arrowcolor": "#2a3f5f",
           "arrowhead": 0,
           "arrowwidth": 1
          },
          "autotypenumbers": "strict",
          "coloraxis": {
           "colorbar": {
            "outlinewidth": 0,
            "ticks": ""
           }
          },
          "colorscale": {
           "diverging": [
            [
             0,
             "#8e0152"
            ],
            [
             0.1,
             "#c51b7d"
            ],
            [
             0.2,
             "#de77ae"
            ],
            [
             0.3,
             "#f1b6da"
            ],
            [
             0.4,
             "#fde0ef"
            ],
            [
             0.5,
             "#f7f7f7"
            ],
            [
             0.6,
             "#e6f5d0"
            ],
            [
             0.7,
             "#b8e186"
            ],
            [
             0.8,
             "#7fbc41"
            ],
            [
             0.9,
             "#4d9221"
            ],
            [
             1,
             "#276419"
            ]
           ],
           "sequential": [
            [
             0,
             "#0d0887"
            ],
            [
             0.1111111111111111,
             "#46039f"
            ],
            [
             0.2222222222222222,
             "#7201a8"
            ],
            [
             0.3333333333333333,
             "#9c179e"
            ],
            [
             0.4444444444444444,
             "#bd3786"
            ],
            [
             0.5555555555555556,
             "#d8576b"
            ],
            [
             0.6666666666666666,
             "#ed7953"
            ],
            [
             0.7777777777777778,
             "#fb9f3a"
            ],
            [
             0.8888888888888888,
             "#fdca26"
            ],
            [
             1,
             "#f0f921"
            ]
           ],
           "sequentialminus": [
            [
             0,
             "#0d0887"
            ],
            [
             0.1111111111111111,
             "#46039f"
            ],
            [
             0.2222222222222222,
             "#7201a8"
            ],
            [
             0.3333333333333333,
             "#9c179e"
            ],
            [
             0.4444444444444444,
             "#bd3786"
            ],
            [
             0.5555555555555556,
             "#d8576b"
            ],
            [
             0.6666666666666666,
             "#ed7953"
            ],
            [
             0.7777777777777778,
             "#fb9f3a"
            ],
            [
             0.8888888888888888,
             "#fdca26"
            ],
            [
             1,
             "#f0f921"
            ]
           ]
          },
          "colorway": [
           "#636efa",
           "#EF553B",
           "#00cc96",
           "#ab63fa",
           "#FFA15A",
           "#19d3f3",
           "#FF6692",
           "#B6E880",
           "#FF97FF",
           "#FECB52"
          ],
          "font": {
           "color": "#2a3f5f"
          },
          "geo": {
           "bgcolor": "white",
           "lakecolor": "white",
           "landcolor": "#E5ECF6",
           "showlakes": true,
           "showland": true,
           "subunitcolor": "white"
          },
          "hoverlabel": {
           "align": "left"
          },
          "hovermode": "closest",
          "mapbox": {
           "style": "light"
          },
          "paper_bgcolor": "white",
          "plot_bgcolor": "#E5ECF6",
          "polar": {
           "angularaxis": {
            "gridcolor": "white",
            "linecolor": "white",
            "ticks": ""
           },
           "bgcolor": "#E5ECF6",
           "radialaxis": {
            "gridcolor": "white",
            "linecolor": "white",
            "ticks": ""
           }
          },
          "scene": {
           "xaxis": {
            "backgroundcolor": "#E5ECF6",
            "gridcolor": "white",
            "gridwidth": 2,
            "linecolor": "white",
            "showbackground": true,
            "ticks": "",
            "zerolinecolor": "white"
           },
           "yaxis": {
            "backgroundcolor": "#E5ECF6",
            "gridcolor": "white",
            "gridwidth": 2,
            "linecolor": "white",
            "showbackground": true,
            "ticks": "",
            "zerolinecolor": "white"
           },
           "zaxis": {
            "backgroundcolor": "#E5ECF6",
            "gridcolor": "white",
            "gridwidth": 2,
            "linecolor": "white",
            "showbackground": true,
            "ticks": "",
            "zerolinecolor": "white"
           }
          },
          "shapedefaults": {
           "line": {
            "color": "#2a3f5f"
           }
          },
          "ternary": {
           "aaxis": {
            "gridcolor": "white",
            "linecolor": "white",
            "ticks": ""
           },
           "baxis": {
            "gridcolor": "white",
            "linecolor": "white",
            "ticks": ""
           },
           "bgcolor": "#E5ECF6",
           "caxis": {
            "gridcolor": "white",
            "linecolor": "white",
            "ticks": ""
           }
          },
          "title": {
           "x": 0.05
          },
          "xaxis": {
           "automargin": true,
           "gridcolor": "white",
           "linecolor": "white",
           "ticks": "",
           "title": {
            "standoff": 15
           },
           "zerolinecolor": "white",
           "zerolinewidth": 2
          },
          "yaxis": {
           "automargin": true,
           "gridcolor": "white",
           "linecolor": "white",
           "ticks": "",
           "title": {
            "standoff": 15
           },
           "zerolinecolor": "white",
           "zerolinewidth": 2
          }
         }
        },
        "title": {
         "text": "Chicago 5-Day Temperature Forecast",
         "x": 0.5,
         "xanchor": "center"
        },
        "width": 800,
        "xaxis": {
         "anchor": "y",
         "domain": [
          0,
          1
         ],
         "title": {
          "text": "Date"
         }
        },
        "yaxis": {
         "anchor": "x",
         "domain": [
          0,
          1
         ],
         "title": {
          "text": "Temperature (°C)"
         }
        }
       }
      }
     },
     "metadata": {},
     "output_type": "display_data"
    }
   ],
   "source": [
    "fig6 = px.line(x = five_day_date, y = five_day_temp, markers=True, width = 800, height = 500)\n",
    "fig6.update_layout(title = {'text' : 'Chicago 5-Day Temperature Forecast', 'x' : 0.5, 'xanchor' : 'center'}, xaxis_title_text = 'Date', yaxis_title_text = 'Temperature (°C)')\n",
    "fig6.update_traces(hovertemplate = 'Date/Time: %{x}<br>Temperature: %{y:.1f} °C<extra></extra>', marker=dict(color='red'))\n",
    "fig6.show()"
   ]
  },
  {
   "cell_type": "markdown",
   "metadata": {
    "id": "32szyZhi5R1w"
   },
   "source": [
    "Export dataframe as csv file and plot as png file."
   ]
  },
  {
   "cell_type": "code",
   "execution_count": 20,
   "metadata": {
    "id": "jY8XgYbF5R1w"
   },
   "outputs": [],
   "source": [
    "# five_day_date_temp_df.to_csv('Chicago 5-day Temperature Forecast.csv', index=False)\n",
    "# fig6.write_image(\"Chicago 5-Day Temperature Forecast.png\", width = 800, height = 500, scale = 3)"
   ]
  },
  {
   "cell_type": "markdown",
   "metadata": {},
   "source": [
    "### Part B\n",
    "\n",
    "In this section, I will request and analyze air quality data from OpenAQ's API (https://openaq.org/)."
   ]
  },
  {
   "cell_type": "code",
   "execution_count": 21,
   "metadata": {},
   "outputs": [],
   "source": [
    "# The API key is stored separately on a config file for security reasons\n",
    "with open(\"config.json\") as f:\n",
    "    config = json.load(f)\n",
    "    openaq_api = config[\"openaq_api\"]"
   ]
  },
  {
   "cell_type": "code",
   "execution_count": 22,
   "metadata": {},
   "outputs": [
    {
     "data": {
      "text/plain": [
       "{'meta': {'name': 'openaq-api',\n",
       "  'website': '/',\n",
       "  'page': 1,\n",
       "  'limit': 100,\n",
       "  'found': '>100'},\n",
       " 'results': [{'id': 3,\n",
       "   'name': 'NMA - Nima',\n",
       "   'locality': None,\n",
       "   'timezone': 'Africa/Accra',\n",
       "   'country': {'id': 152, 'code': 'GH', 'name': 'Ghana'},\n",
       "   'owner': {'id': 4, 'name': 'Unknown Governmental Organization'},\n",
       "   'provider': {'id': 209, 'name': 'Dr. Raphael E. Arku and Colleagues'},\n",
       "   'isMobile': False,\n",
       "   'isMonitor': True,\n",
       "   'instruments': [{'id': 2, 'name': 'Government Monitor'}],\n",
       "   'sensors': [{'id': 6,\n",
       "     'name': 'pm10 µg/m³',\n",
       "     'parameter': {'id': 1,\n",
       "      'name': 'pm10',\n",
       "      'units': 'µg/m³',\n",
       "      'displayName': 'PM10'}},\n",
       "    {'id': 5,\n",
       "     'name': 'pm25 µg/m³',\n",
       "     'parameter': {'id': 2,\n",
       "      'name': 'pm25',\n",
       "      'units': 'µg/m³',\n",
       "      'displayName': 'PM2.5'}}],\n",
       "   'coordinates': {'latitude': 5.58389, 'longitude': -0.19968},\n",
       "   'licenses': None,\n",
       "   'bounds': [-0.19968, 5.58389, -0.19968, 5.58389],\n",
       "   'distance': None,\n",
       "   'datetimeFirst': None,\n",
       "   'datetimeLast': None},\n",
       "  {'id': 4,\n",
       "   'name': 'NMT - Nima',\n",
       "   'locality': None,\n",
       "   'timezone': 'Africa/Accra',\n",
       "   'country': {'id': 152, 'code': 'GH', 'name': 'Ghana'},\n",
       "   'owner': {'id': 4, 'name': 'Unknown Governmental Organization'},\n",
       "   'provider': {'id': 209, 'name': 'Dr. Raphael E. Arku and Colleagues'},\n",
       "   'isMobile': False,\n",
       "   'isMonitor': True,\n",
       "   'instruments': [{'id': 2, 'name': 'Government Monitor'}],\n",
       "   'sensors': [{'id': 7,\n",
       "     'name': 'pm10 µg/m³',\n",
       "     'parameter': {'id': 1,\n",
       "      'name': 'pm10',\n",
       "      'units': 'µg/m³',\n",
       "      'displayName': 'PM10'}},\n",
       "    {'id': 8,\n",
       "     'name': 'pm25 µg/m³',\n",
       "     'parameter': {'id': 2,\n",
       "      'name': 'pm25',\n",
       "      'units': 'µg/m³',\n",
       "      'displayName': 'PM2.5'}}],\n",
       "   'coordinates': {'latitude': 5.58165, 'longitude': -0.19898},\n",
       "   'licenses': None,\n",
       "   'bounds': [-0.19898, 5.58165, -0.19898, 5.58165],\n",
       "   'distance': None,\n",
       "   'datetimeFirst': None,\n",
       "   'datetimeLast': None},\n",
       "  {'id': 5,\n",
       "   'name': 'JTA - Jamestown',\n",
       "   'locality': None,\n",
       "   'timezone': 'Africa/Accra',\n",
       "   'country': {'id': 152, 'code': 'GH', 'name': 'Ghana'},\n",
       "   'owner': {'id': 4, 'name': 'Unknown Governmental Organization'},\n",
       "   'provider': {'id': 209, 'name': 'Dr. Raphael E. Arku and Colleagues'},\n",
       "   'isMobile': False,\n",
       "   'isMonitor': True,\n",
       "   'instruments': [{'id': 2, 'name': 'Government Monitor'}],\n",
       "   'sensors': [{'id': 10,\n",
       "     'name': 'pm10 µg/m³',\n",
       "     'parameter': {'id': 1,\n",
       "      'name': 'pm10',\n",
       "      'units': 'µg/m³',\n",
       "      'displayName': 'PM10'}},\n",
       "    {'id': 9,\n",
       "     'name': 'pm25 µg/m³',\n",
       "     'parameter': {'id': 2,\n",
       "      'name': 'pm25',\n",
       "      'units': 'µg/m³',\n",
       "      'displayName': 'PM2.5'}}],\n",
       "   'coordinates': {'latitude': 5.5401139, 'longitude': -0.2103972},\n",
       "   'licenses': None,\n",
       "   'bounds': [-0.2103972, 5.5401139, -0.2103972, 5.5401139],\n",
       "   'distance': None,\n",
       "   'datetimeFirst': None,\n",
       "   'datetimeLast': None},\n",
       "  {'id': 6,\n",
       "   'name': 'ADT - Asylum Down',\n",
       "   'locality': None,\n",
       "   'timezone': 'Africa/Accra',\n",
       "   'country': {'id': 152, 'code': 'GH', 'name': 'Ghana'},\n",
       "   'owner': {'id': 4, 'name': 'Unknown Governmental Organization'},\n",
       "   'provider': {'id': 209, 'name': 'Dr. Raphael E. Arku and Colleagues'},\n",
       "   'isMobile': False,\n",
       "   'isMonitor': True,\n",
       "   'instruments': [{'id': 2, 'name': 'Government Monitor'}],\n",
       "   'sensors': [{'id': 11,\n",
       "     'name': 'pm10 µg/m³',\n",
       "     'parameter': {'id': 1,\n",
       "      'name': 'pm10',\n",
       "      'units': 'µg/m³',\n",
       "      'displayName': 'PM10'}},\n",
       "    {'id': 12,\n",
       "     'name': 'pm25 µg/m³',\n",
       "     'parameter': {'id': 2,\n",
       "      'name': 'pm25',\n",
       "      'units': 'µg/m³',\n",
       "      'displayName': 'PM2.5'}}],\n",
       "   'coordinates': {'latitude': 5.570722, 'longitude': -0.2120555},\n",
       "   'licenses': None,\n",
       "   'bounds': [-0.2120555, 5.570722, -0.2120555, 5.570722],\n",
       "   'distance': None,\n",
       "   'datetimeFirst': None,\n",
       "   'datetimeLast': None},\n",
       "  {'id': 7,\n",
       "   'name': 'ADEPA - Asylum Down',\n",
       "   'locality': None,\n",
       "   'timezone': 'Africa/Accra',\n",
       "   'country': {'id': 152, 'code': 'GH', 'name': 'Ghana'},\n",
       "   'owner': {'id': 4, 'name': 'Unknown Governmental Organization'},\n",
       "   'provider': {'id': 209, 'name': 'Dr. Raphael E. Arku and Colleagues'},\n",
       "   'isMobile': False,\n",
       "   'isMonitor': True,\n",
       "   'instruments': [{'id': 2, 'name': 'Government Monitor'}],\n",
       "   'sensors': [{'id': 14,\n",
       "     'name': 'pm10 µg/m³',\n",
       "     'parameter': {'id': 1,\n",
       "      'name': 'pm10',\n",
       "      'units': 'µg/m³',\n",
       "      'displayName': 'PM10'}},\n",
       "    {'id': 13,\n",
       "     'name': 'pm25 µg/m³',\n",
       "     'parameter': {'id': 2,\n",
       "      'name': 'pm25',\n",
       "      'units': 'µg/m³',\n",
       "      'displayName': 'PM2.5'}}],\n",
       "   'coordinates': {'latitude': 5.567833, 'longitude': -0.2040278},\n",
       "   'licenses': None,\n",
       "   'bounds': [-0.2040278, 5.567833, -0.2040278, 5.567833],\n",
       "   'distance': None,\n",
       "   'datetimeFirst': None,\n",
       "   'datetimeLast': None},\n",
       "  {'id': 8,\n",
       "   'name': 'ADA - Asylum Down',\n",
       "   'locality': None,\n",
       "   'timezone': 'Africa/Accra',\n",
       "   'country': {'id': 152, 'code': 'GH', 'name': 'Ghana'},\n",
       "   'owner': {'id': 4, 'name': 'Unknown Governmental Organization'},\n",
       "   'provider': {'id': 209, 'name': 'Dr. Raphael E. Arku and Colleagues'},\n",
       "   'isMobile': False,\n",
       "   'isMonitor': True,\n",
       "   'instruments': [{'id': 2, 'name': 'Government Monitor'}],\n",
       "   'sensors': [{'id': 16,\n",
       "     'name': 'pm10 µg/m³',\n",
       "     'parameter': {'id': 1,\n",
       "      'name': 'pm10',\n",
       "      'units': 'µg/m³',\n",
       "      'displayName': 'PM10'}},\n",
       "    {'id': 15,\n",
       "     'name': 'pm25 µg/m³',\n",
       "     'parameter': {'id': 2,\n",
       "      'name': 'pm25',\n",
       "      'units': 'µg/m³',\n",
       "      'displayName': 'PM2.5'}}],\n",
       "   'coordinates': {'latitude': 5.566722, 'longitude': -0.2077778},\n",
       "   'licenses': None,\n",
       "   'bounds': [-0.2077778, 5.566722, -0.2077778, 5.566722],\n",
       "   'distance': None,\n",
       "   'datetimeFirst': None,\n",
       "   'datetimeLast': None},\n",
       "  {'id': 9,\n",
       "   'name': 'ELC - East Legon',\n",
       "   'locality': None,\n",
       "   'timezone': 'Africa/Accra',\n",
       "   'country': {'id': 152, 'code': 'GH', 'name': 'Ghana'},\n",
       "   'owner': {'id': 4, 'name': 'Unknown Governmental Organization'},\n",
       "   'provider': {'id': 209, 'name': 'Dr. Raphael E. Arku and Colleagues'},\n",
       "   'isMobile': False,\n",
       "   'isMonitor': True,\n",
       "   'instruments': [{'id': 2, 'name': 'Government Monitor'}],\n",
       "   'sensors': [{'id': 17,\n",
       "     'name': 'pm10 µg/m³',\n",
       "     'parameter': {'id': 1,\n",
       "      'name': 'pm10',\n",
       "      'units': 'µg/m³',\n",
       "      'displayName': 'PM10'}},\n",
       "    {'id': 18,\n",
       "     'name': 'pm25 µg/m³',\n",
       "     'parameter': {'id': 2,\n",
       "      'name': 'pm25',\n",
       "      'units': 'µg/m³',\n",
       "      'displayName': 'PM2.5'}}],\n",
       "   'coordinates': {'latitude': 5.6335571, 'longitude': -0.1651875},\n",
       "   'licenses': None,\n",
       "   'bounds': [-0.1651875, 5.6335571, -0.1651875, 5.6335571],\n",
       "   'distance': None,\n",
       "   'datetimeFirst': None,\n",
       "   'datetimeLast': None},\n",
       "  {'id': 10,\n",
       "   'name': 'ELT - East Legon',\n",
       "   'locality': None,\n",
       "   'timezone': 'Africa/Accra',\n",
       "   'country': {'id': 152, 'code': 'GH', 'name': 'Ghana'},\n",
       "   'owner': {'id': 4, 'name': 'Unknown Governmental Organization'},\n",
       "   'provider': {'id': 209, 'name': 'Dr. Raphael E. Arku and Colleagues'},\n",
       "   'isMobile': False,\n",
       "   'isMonitor': True,\n",
       "   'instruments': [{'id': 2, 'name': 'Government Monitor'}],\n",
       "   'sensors': [{'id': 20,\n",
       "     'name': 'pm10 µg/m³',\n",
       "     'parameter': {'id': 1,\n",
       "      'name': 'pm10',\n",
       "      'units': 'µg/m³',\n",
       "      'displayName': 'PM10'}},\n",
       "    {'id': 19,\n",
       "     'name': 'pm25 µg/m³',\n",
       "     'parameter': {'id': 2,\n",
       "      'name': 'pm25',\n",
       "      'units': 'µg/m³',\n",
       "      'displayName': 'PM2.5'}}],\n",
       "   'coordinates': {'latitude': 5.6408995, 'longitude': -0.1695437},\n",
       "   'licenses': None,\n",
       "   'bounds': [-0.1695437, 5.6408995, -0.1695437, 5.6408995],\n",
       "   'distance': None,\n",
       "   'datetimeFirst': None,\n",
       "   'datetimeLast': None},\n",
       "  {'id': 11,\n",
       "   'name': 'ELA - East Legon',\n",
       "   'locality': None,\n",
       "   'timezone': 'Africa/Accra',\n",
       "   'country': {'id': 152, 'code': 'GH', 'name': 'Ghana'},\n",
       "   'owner': {'id': 4, 'name': 'Unknown Governmental Organization'},\n",
       "   'provider': {'id': 209, 'name': 'Dr. Raphael E. Arku and Colleagues'},\n",
       "   'isMobile': False,\n",
       "   'isMonitor': True,\n",
       "   'instruments': [{'id': 2, 'name': 'Government Monitor'}],\n",
       "   'sensors': [{'id': 22,\n",
       "     'name': 'pm10 µg/m³',\n",
       "     'parameter': {'id': 1,\n",
       "      'name': 'pm10',\n",
       "      'units': 'µg/m³',\n",
       "      'displayName': 'PM10'}},\n",
       "    {'id': 21,\n",
       "     'name': 'pm25 µg/m³',\n",
       "     'parameter': {'id': 2,\n",
       "      'name': 'pm25',\n",
       "      'units': 'µg/m³',\n",
       "      'displayName': 'PM2.5'}}],\n",
       "   'coordinates': {'latitude': 5.6408137, 'longitude': -0.1579063},\n",
       "   'licenses': None,\n",
       "   'bounds': [-0.1579063, 5.6408137, -0.1579063, 5.6408137],\n",
       "   'distance': None,\n",
       "   'datetimeFirst': None,\n",
       "   'datetimeLast': None},\n",
       "  {'id': 12,\n",
       "   'name': 'SPARTAN - IIT Kanpur',\n",
       "   'locality': None,\n",
       "   'timezone': 'Asia/Kolkata',\n",
       "   'country': {'id': 9, 'code': 'IN', 'name': 'India'},\n",
       "   'owner': {'id': 4, 'name': 'Unknown Governmental Organization'},\n",
       "   'provider': {'id': 226, 'name': 'Spartan'},\n",
       "   'isMobile': False,\n",
       "   'isMonitor': True,\n",
       "   'instruments': [{'id': 2, 'name': 'Government Monitor'}],\n",
       "   'sensors': [{'id': 23,\n",
       "     'name': 'pm25 µg/m³',\n",
       "     'parameter': {'id': 2,\n",
       "      'name': 'pm25',\n",
       "      'units': 'µg/m³',\n",
       "      'displayName': 'PM2.5'}}],\n",
       "   'coordinates': {'latitude': 26.519, 'longitude': 80.233},\n",
       "   'licenses': None,\n",
       "   'bounds': [80.233, 26.519, 80.233, 26.519],\n",
       "   'distance': None,\n",
       "   'datetimeFirst': None,\n",
       "   'datetimeLast': None},\n",
       "  {'id': 13,\n",
       "   'name': 'Delhi Technological University, Delhi - CPCB',\n",
       "   'locality': None,\n",
       "   'timezone': 'Asia/Kolkata',\n",
       "   'country': {'id': 9, 'code': 'IN', 'name': 'India'},\n",
       "   'owner': {'id': 4, 'name': 'Unknown Governmental Organization'},\n",
       "   'provider': {'id': 168, 'name': 'CPCB'},\n",
       "   'isMobile': False,\n",
       "   'isMonitor': True,\n",
       "   'instruments': [{'id': 2, 'name': 'Government Monitor'}],\n",
       "   'sensors': [{'id': 13866,\n",
       "     'name': 'no2 µg/m³',\n",
       "     'parameter': {'id': 5,\n",
       "      'name': 'no2',\n",
       "      'units': 'µg/m³',\n",
       "      'displayName': 'NO₂ mass'}},\n",
       "    {'id': 24,\n",
       "     'name': 'o3 µg/m³',\n",
       "     'parameter': {'id': 3,\n",
       "      'name': 'o3',\n",
       "      'units': 'µg/m³',\n",
       "      'displayName': 'O₃ mass'}},\n",
       "    {'id': 13864,\n",
       "     'name': 'pm25 µg/m³',\n",
       "     'parameter': {'id': 2,\n",
       "      'name': 'pm25',\n",
       "      'units': 'µg/m³',\n",
       "      'displayName': 'PM2.5'}}],\n",
       "   'coordinates': {'latitude': 28.744, 'longitude': 77.12},\n",
       "   'licenses': None,\n",
       "   'bounds': [77.12, 28.744, 77.12, 28.744],\n",
       "   'distance': None,\n",
       "   'datetimeFirst': {'utc': '2016-11-02T19:00:00Z',\n",
       "    'local': '2016-11-03T00:30:00+05:30'},\n",
       "   'datetimeLast': {'utc': '2018-02-22T04:00:00Z',\n",
       "    'local': '2018-02-22T09:30:00+05:30'}},\n",
       "  {'id': 14,\n",
       "   'name': 'SPARTAN - CITEDEF',\n",
       "   'locality': None,\n",
       "   'timezone': 'America/Argentina/Buenos_Aires',\n",
       "   'country': {'id': 6, 'code': 'AR', 'name': 'Argentina'},\n",
       "   'owner': {'id': 4, 'name': 'Unknown Governmental Organization'},\n",
       "   'provider': {'id': 226, 'name': 'Spartan'},\n",
       "   'isMobile': False,\n",
       "   'isMonitor': True,\n",
       "   'instruments': [{'id': 2, 'name': 'Government Monitor'}],\n",
       "   'sensors': [{'id': 25,\n",
       "     'name': 'pm25 µg/m³',\n",
       "     'parameter': {'id': 2,\n",
       "      'name': 'pm25',\n",
       "      'units': 'µg/m³',\n",
       "      'displayName': 'PM2.5'}}],\n",
       "   'coordinates': {'latitude': -34.56, 'longitude': -58.506},\n",
       "   'licenses': None,\n",
       "   'bounds': [-58.506, -34.56, -58.506, -34.56],\n",
       "   'distance': None,\n",
       "   'datetimeFirst': None,\n",
       "   'datetimeLast': None},\n",
       "  {'id': 15,\n",
       "   'name': 'IGI Airport',\n",
       "   'locality': None,\n",
       "   'timezone': 'Asia/Kolkata',\n",
       "   'country': {'id': 9, 'code': 'IN', 'name': 'India'},\n",
       "   'owner': {'id': 4, 'name': 'Unknown Governmental Organization'},\n",
       "   'provider': {'id': 168, 'name': 'CPCB'},\n",
       "   'isMobile': False,\n",
       "   'isMonitor': True,\n",
       "   'instruments': [{'id': 2, 'name': 'Government Monitor'}],\n",
       "   'sensors': [{'id': 27,\n",
       "     'name': 'co µg/m³',\n",
       "     'parameter': {'id': 4,\n",
       "      'name': 'co',\n",
       "      'units': 'µg/m³',\n",
       "      'displayName': 'CO mass'}},\n",
       "    {'id': 28,\n",
       "     'name': 'no2 µg/m³',\n",
       "     'parameter': {'id': 5,\n",
       "      'name': 'no2',\n",
       "      'units': 'µg/m³',\n",
       "      'displayName': 'NO₂ mass'}},\n",
       "    {'id': 29,\n",
       "     'name': 'o3 µg/m³',\n",
       "     'parameter': {'id': 3,\n",
       "      'name': 'o3',\n",
       "      'units': 'µg/m³',\n",
       "      'displayName': 'O₃ mass'}},\n",
       "    {'id': 26,\n",
       "     'name': 'pm10 µg/m³',\n",
       "     'parameter': {'id': 1,\n",
       "      'name': 'pm10',\n",
       "      'units': 'µg/m³',\n",
       "      'displayName': 'PM10'}},\n",
       "    {'id': 30,\n",
       "     'name': 'pm25 µg/m³',\n",
       "     'parameter': {'id': 2,\n",
       "      'name': 'pm25',\n",
       "      'units': 'µg/m³',\n",
       "      'displayName': 'PM2.5'}}],\n",
       "   'coordinates': {'latitude': 28.56, 'longitude': 77.094},\n",
       "   'licenses': None,\n",
       "   'bounds': [77.094, 28.56, 77.094, 28.56],\n",
       "   'distance': None,\n",
       "   'datetimeFirst': None,\n",
       "   'datetimeLast': None},\n",
       "  {'id': 16,\n",
       "   'name': 'Civil Lines',\n",
       "   'locality': None,\n",
       "   'timezone': 'Asia/Kolkata',\n",
       "   'country': {'id': 9, 'code': 'IN', 'name': 'India'},\n",
       "   'owner': {'id': 4, 'name': 'Unknown Governmental Organization'},\n",
       "   'provider': {'id': 168, 'name': 'CPCB'},\n",
       "   'isMobile': False,\n",
       "   'isMonitor': True,\n",
       "   'instruments': [{'id': 2, 'name': 'Government Monitor'}],\n",
       "   'sensors': [{'id': 33,\n",
       "     'name': 'co µg/m³',\n",
       "     'parameter': {'id': 4,\n",
       "      'name': 'co',\n",
       "      'units': 'µg/m³',\n",
       "      'displayName': 'CO mass'}},\n",
       "    {'id': 32,\n",
       "     'name': 'no2 µg/m³',\n",
       "     'parameter': {'id': 5,\n",
       "      'name': 'no2',\n",
       "      'units': 'µg/m³',\n",
       "      'displayName': 'NO₂ mass'}},\n",
       "    {'id': 31,\n",
       "     'name': 'pm10 µg/m³',\n",
       "     'parameter': {'id': 1,\n",
       "      'name': 'pm10',\n",
       "      'units': 'µg/m³',\n",
       "      'displayName': 'PM10'}},\n",
       "    {'id': 34,\n",
       "     'name': 'pm25 µg/m³',\n",
       "     'parameter': {'id': 2,\n",
       "      'name': 'pm25',\n",
       "      'units': 'µg/m³',\n",
       "      'displayName': 'PM2.5'}}],\n",
       "   'coordinates': {'latitude': 28.6787, 'longitude': 77.2262},\n",
       "   'licenses': None,\n",
       "   'bounds': [77.2262, 28.6787, 77.2262, 28.6787],\n",
       "   'distance': None,\n",
       "   'datetimeFirst': None,\n",
       "   'datetimeLast': None},\n",
       "  {'id': 17,\n",
       "   'name': 'R K Puram, Delhi - DPCC',\n",
       "   'locality': None,\n",
       "   'timezone': 'Asia/Kolkata',\n",
       "   'country': {'id': 9, 'code': 'IN', 'name': 'India'},\n",
       "   'owner': {'id': 8524, 'name': 'Delhi Pollution Control Committee'},\n",
       "   'provider': {'id': 168, 'name': 'CPCB'},\n",
       "   'isMobile': False,\n",
       "   'isMonitor': True,\n",
       "   'instruments': [{'id': 2, 'name': 'Government Monitor'},\n",
       "    {'id': 2, 'name': 'Government Monitor'}],\n",
       "   'sensors': [{'id': 392,\n",
       "     'name': 'co µg/m³',\n",
       "     'parameter': {'id': 4,\n",
       "      'name': 'co',\n",
       "      'units': 'µg/m³',\n",
       "      'displayName': 'CO mass'}},\n",
       "    {'id': 12234782,\n",
       "     'name': 'co ppb',\n",
       "     'parameter': {'id': 102,\n",
       "      'name': 'co',\n",
       "      'units': 'ppb',\n",
       "      'displayName': 'CO'}},\n",
       "    {'id': 12234783,\n",
       "     'name': 'no ppb',\n",
       "     'parameter': {'id': 24,\n",
       "      'name': 'no',\n",
       "      'units': 'ppb',\n",
       "      'displayName': 'NO'}},\n",
       "    {'id': 12234784,\n",
       "     'name': 'no2 ppb',\n",
       "     'parameter': {'id': 15,\n",
       "      'name': 'no2',\n",
       "      'units': 'ppb',\n",
       "      'displayName': 'NO₂'}},\n",
       "    {'id': 36,\n",
       "     'name': 'no2 µg/m³',\n",
       "     'parameter': {'id': 5,\n",
       "      'name': 'no2',\n",
       "      'units': 'µg/m³',\n",
       "      'displayName': 'NO₂ mass'}},\n",
       "    {'id': 394,\n",
       "     'name': 'o3 µg/m³',\n",
       "     'parameter': {'id': 3,\n",
       "      'name': 'o3',\n",
       "      'units': 'µg/m³',\n",
       "      'displayName': 'O₃ mass'}},\n",
       "    {'id': 12234785,\n",
       "     'name': 'o3 µg/m³',\n",
       "     'parameter': {'id': 3,\n",
       "      'name': 'o3',\n",
       "      'units': 'µg/m³',\n",
       "      'displayName': 'O₃ mass'}},\n",
       "    {'id': 399,\n",
       "     'name': 'pm10 µg/m³',\n",
       "     'parameter': {'id': 1,\n",
       "      'name': 'pm10',\n",
       "      'units': 'µg/m³',\n",
       "      'displayName': 'PM10'}},\n",
       "    {'id': 12234786,\n",
       "     'name': 'pm10 µg/m³',\n",
       "     'parameter': {'id': 1,\n",
       "      'name': 'pm10',\n",
       "      'units': 'µg/m³',\n",
       "      'displayName': 'PM10'}},\n",
       "    {'id': 12234787,\n",
       "     'name': 'pm25 µg/m³',\n",
       "     'parameter': {'id': 2,\n",
       "      'name': 'pm25',\n",
       "      'units': 'µg/m³',\n",
       "      'displayName': 'PM2.5'}},\n",
       "    {'id': 35,\n",
       "     'name': 'pm25 µg/m³',\n",
       "     'parameter': {'id': 2,\n",
       "      'name': 'pm25',\n",
       "      'units': 'µg/m³',\n",
       "      'displayName': 'PM2.5'}},\n",
       "    {'id': 12234788,\n",
       "     'name': 'relativehumidity %',\n",
       "     'parameter': {'id': 98,\n",
       "      'name': 'relativehumidity',\n",
       "      'units': '%',\n",
       "      'displayName': 'RH'}},\n",
       "    {'id': 12234789,\n",
       "     'name': 'so2 ppb',\n",
       "     'parameter': {'id': 101,\n",
       "      'name': 'so2',\n",
       "      'units': 'ppb',\n",
       "      'displayName': 'SO₂'}},\n",
       "    {'id': 393,\n",
       "     'name': 'so2 µg/m³',\n",
       "     'parameter': {'id': 6,\n",
       "      'name': 'so2',\n",
       "      'units': 'µg/m³',\n",
       "      'displayName': 'SO₂ mass'}},\n",
       "    {'id': 12234790,\n",
       "     'name': 'temperature c',\n",
       "     'parameter': {'id': 100,\n",
       "      'name': 'temperature',\n",
       "      'units': 'c',\n",
       "      'displayName': 'Temperature (C)'}}],\n",
       "   'coordinates': {'latitude': 28.563262, 'longitude': 77.186937},\n",
       "   'licenses': None,\n",
       "   'bounds': [77.186937, 28.563262, 77.186937, 28.563262],\n",
       "   'distance': None,\n",
       "   'datetimeFirst': {'utc': '2016-02-05T14:55:00Z',\n",
       "    'local': '2016-02-05T20:25:00+05:30'},\n",
       "   'datetimeLast': {'utc': '2025-07-31T12:30:00Z',\n",
       "    'local': '2025-07-31T18:00:00+05:30'}},\n",
       "  {'id': 18,\n",
       "   'name': 'SPARTAN - Vietnam Acad. Sci.',\n",
       "   'locality': None,\n",
       "   'timezone': 'Asia/Bangkok',\n",
       "   'country': {'id': 56, 'code': 'VN', 'name': 'Vietnam'},\n",
       "   'owner': {'id': 4, 'name': 'Unknown Governmental Organization'},\n",
       "   'provider': {'id': 226, 'name': 'Spartan'},\n",
       "   'isMobile': False,\n",
       "   'isMonitor': True,\n",
       "   'instruments': [{'id': 2, 'name': 'Government Monitor'}],\n",
       "   'sensors': [{'id': 37,\n",
       "     'name': 'pm25 µg/m³',\n",
       "     'parameter': {'id': 2,\n",
       "      'name': 'pm25',\n",
       "      'units': 'µg/m³',\n",
       "      'displayName': 'PM2.5'}}],\n",
       "   'coordinates': {'latitude': 21.048, 'longitude': 105.8},\n",
       "   'licenses': None,\n",
       "   'bounds': [105.8, 21.048, 105.8, 21.048],\n",
       "   'distance': None,\n",
       "   'datetimeFirst': None,\n",
       "   'datetimeLast': None},\n",
       "  {'id': 19,\n",
       "   'name': 'MNB',\n",
       "   'locality': None,\n",
       "   'timezone': 'Asia/Ulaanbaatar',\n",
       "   'country': {'id': 47, 'code': 'MN', 'name': 'Mongolia'},\n",
       "   'owner': {'id': 4, 'name': 'Unknown Governmental Organization'},\n",
       "   'provider': {'id': 116, 'name': 'Agaar.mn'},\n",
       "   'isMobile': False,\n",
       "   'isMonitor': True,\n",
       "   'instruments': [{'id': 2, 'name': 'Government Monitor'}],\n",
       "   'sensors': [{'id': 5136,\n",
       "     'name': 'co µg/m³',\n",
       "     'parameter': {'id': 4,\n",
       "      'name': 'co',\n",
       "      'units': 'µg/m³',\n",
       "      'displayName': 'CO mass'}},\n",
       "    {'id': 5137,\n",
       "     'name': 'no2 µg/m³',\n",
       "     'parameter': {'id': 5,\n",
       "      'name': 'no2',\n",
       "      'units': 'µg/m³',\n",
       "      'displayName': 'NO₂ mass'}},\n",
       "    {'id': 38,\n",
       "     'name': 'o3 µg/m³',\n",
       "     'parameter': {'id': 3,\n",
       "      'name': 'o3',\n",
       "      'units': 'µg/m³',\n",
       "      'displayName': 'O₃ mass'}},\n",
       "    {'id': 5138,\n",
       "     'name': 'pm10 µg/m³',\n",
       "     'parameter': {'id': 1,\n",
       "      'name': 'pm10',\n",
       "      'units': 'µg/m³',\n",
       "      'displayName': 'PM10'}},\n",
       "    {'id': 5139,\n",
       "     'name': 'pm25 µg/m³',\n",
       "     'parameter': {'id': 2,\n",
       "      'name': 'pm25',\n",
       "      'units': 'µg/m³',\n",
       "      'displayName': 'PM2.5'}},\n",
       "    {'id': 5140,\n",
       "     'name': 'so2 µg/m³',\n",
       "     'parameter': {'id': 6,\n",
       "      'name': 'so2',\n",
       "      'units': 'µg/m³',\n",
       "      'displayName': 'SO₂ mass'}}],\n",
       "   'coordinates': {'latitude': 47.929732, 'longitude': 106.888629},\n",
       "   'licenses': None,\n",
       "   'bounds': [106.888629, 47.929732, 106.888629, 47.929732],\n",
       "   'distance': None,\n",
       "   'datetimeFirst': {'utc': '2016-01-30T00:30:00Z',\n",
       "    'local': '2016-01-30T08:30:00+08:00'},\n",
       "   'datetimeLast': {'utc': '2019-03-13T22:30:00Z',\n",
       "    'local': '2019-03-14T06:30:00+08:00'}},\n",
       "  {'id': 21,\n",
       "   'name': 'Beijing US Embassy',\n",
       "   'locality': 'Beijing',\n",
       "   'timezone': 'Asia/Shanghai',\n",
       "   'country': {'id': 10, 'code': 'CN', 'name': 'China'},\n",
       "   'owner': {'id': 4, 'name': 'Unknown Governmental Organization'},\n",
       "   'provider': {'id': 231, 'name': 'Beijing US Embassy'},\n",
       "   'isMobile': False,\n",
       "   'isMonitor': True,\n",
       "   'instruments': [{'id': 2, 'name': 'Government Monitor'}],\n",
       "   'sensors': [{'id': 40,\n",
       "     'name': 'pm25 µg/m³',\n",
       "     'parameter': {'id': 2,\n",
       "      'name': 'pm25',\n",
       "      'units': 'µg/m³',\n",
       "      'displayName': 'PM2.5'}}],\n",
       "   'coordinates': {'latitude': 39.95, 'longitude': 116.47},\n",
       "   'licenses': None,\n",
       "   'bounds': [116.47, 39.95, 116.47, 39.95],\n",
       "   'distance': None,\n",
       "   'datetimeFirst': {'utc': '2016-01-31T05:00:00Z',\n",
       "    'local': '2016-01-31T13:00:00+08:00'},\n",
       "   'datetimeLast': {'utc': '2023-08-15T15:00:00Z',\n",
       "    'local': '2023-08-15T23:00:00+08:00'}},\n",
       "  {'id': 22,\n",
       "   'name': 'SPARTAN - Dhaka University',\n",
       "   'locality': None,\n",
       "   'timezone': 'Asia/Dhaka',\n",
       "   'country': {'id': 128, 'code': 'BD', 'name': 'Bangladesh'},\n",
       "   'owner': {'id': 4, 'name': 'Unknown Governmental Organization'},\n",
       "   'provider': {'id': 226, 'name': 'Spartan'},\n",
       "   'isMobile': False,\n",
       "   'isMonitor': True,\n",
       "   'instruments': [{'id': 2, 'name': 'Government Monitor'}],\n",
       "   'sensors': [{'id': 41,\n",
       "     'name': 'pm25 µg/m³',\n",
       "     'parameter': {'id': 2,\n",
       "      'name': 'pm25',\n",
       "      'units': 'µg/m³',\n",
       "      'displayName': 'PM2.5'}}],\n",
       "   'coordinates': {'latitude': 23.728, 'longitude': 90.398},\n",
       "   'licenses': None,\n",
       "   'bounds': [90.398, 23.728, 90.398, 23.728],\n",
       "   'distance': None,\n",
       "   'datetimeFirst': None,\n",
       "   'datetimeLast': None},\n",
       "  {'id': 23,\n",
       "   'name': 'Amgalan',\n",
       "   'locality': None,\n",
       "   'timezone': 'Asia/Ulaanbaatar',\n",
       "   'country': {'id': 47, 'code': 'MN', 'name': 'Mongolia'},\n",
       "   'owner': {'id': 4, 'name': 'Unknown Governmental Organization'},\n",
       "   'provider': {'id': 116, 'name': 'Agaar.mn'},\n",
       "   'isMobile': False,\n",
       "   'isMonitor': True,\n",
       "   'instruments': [{'id': 2, 'name': 'Government Monitor'}],\n",
       "   'sensors': [{'id': 68,\n",
       "     'name': 'co µg/m³',\n",
       "     'parameter': {'id': 4,\n",
       "      'name': 'co',\n",
       "      'units': 'µg/m³',\n",
       "      'displayName': 'CO mass'}},\n",
       "    {'id': 5177,\n",
       "     'name': 'no2 µg/m³',\n",
       "     'parameter': {'id': 5,\n",
       "      'name': 'no2',\n",
       "      'units': 'µg/m³',\n",
       "      'displayName': 'NO₂ mass'}},\n",
       "    {'id': 5178,\n",
       "     'name': 'o3 µg/m³',\n",
       "     'parameter': {'id': 3,\n",
       "      'name': 'o3',\n",
       "      'units': 'µg/m³',\n",
       "      'displayName': 'O₃ mass'}},\n",
       "    {'id': 5183,\n",
       "     'name': 'pm10 µg/m³',\n",
       "     'parameter': {'id': 1,\n",
       "      'name': 'pm10',\n",
       "      'units': 'µg/m³',\n",
       "      'displayName': 'PM10'}},\n",
       "    {'id': 42,\n",
       "     'name': 'pm25 µg/m³',\n",
       "     'parameter': {'id': 2,\n",
       "      'name': 'pm25',\n",
       "      'units': 'µg/m³',\n",
       "      'displayName': 'PM2.5'}},\n",
       "    {'id': 5186,\n",
       "     'name': 'so2 µg/m³',\n",
       "     'parameter': {'id': 6,\n",
       "      'name': 'so2',\n",
       "      'units': 'µg/m³',\n",
       "      'displayName': 'SO₂ mass'}}],\n",
       "   'coordinates': {'latitude': 47.913429, 'longitude': 106.99790699999998},\n",
       "   'licenses': None,\n",
       "   'bounds': [106.99790699999998, 47.913429, 106.99790699999998, 47.913429],\n",
       "   'distance': None,\n",
       "   'datetimeFirst': {'utc': '2016-01-30T00:30:00Z',\n",
       "    'local': '2016-01-30T08:30:00+08:00'},\n",
       "   'datetimeLast': {'utc': '2019-03-13T22:30:00Z',\n",
       "    'local': '2019-03-14T06:30:00+08:00'}},\n",
       "  {'id': 24,\n",
       "   'name': 'SPARTAN - NUS',\n",
       "   'locality': None,\n",
       "   'timezone': 'Asia/Singapore',\n",
       "   'country': {'id': 231, 'code': 'SG', 'name': 'Singapore'},\n",
       "   'owner': {'id': 4, 'name': 'Unknown Governmental Organization'},\n",
       "   'provider': {'id': 226, 'name': 'Spartan'},\n",
       "   'isMobile': False,\n",
       "   'isMonitor': True,\n",
       "   'instruments': [{'id': 2, 'name': 'Government Monitor'}],\n",
       "   'sensors': [{'id': 43,\n",
       "     'name': 'pm25 µg/m³',\n",
       "     'parameter': {'id': 2,\n",
       "      'name': 'pm25',\n",
       "      'units': 'µg/m³',\n",
       "      'displayName': 'PM2.5'}}],\n",
       "   'coordinates': {'latitude': 1.298, 'longitude': 103.78},\n",
       "   'licenses': None,\n",
       "   'bounds': [103.78, 1.298, 103.78, 1.298],\n",
       "   'distance': None,\n",
       "   'datetimeFirst': None,\n",
       "   'datetimeLast': None},\n",
       "  {'id': 25,\n",
       "   'name': \"Parque O'Higgins\",\n",
       "   'locality': 'Santiago',\n",
       "   'timezone': 'America/Santiago',\n",
       "   'country': {'id': 3, 'code': 'CL', 'name': 'Chile'},\n",
       "   'owner': {'id': 4, 'name': 'Unknown Governmental Organization'},\n",
       "   'provider': {'id': 164, 'name': 'Chile - SINCA'},\n",
       "   'isMobile': False,\n",
       "   'isMonitor': True,\n",
       "   'instruments': [{'id': 2, 'name': 'Government Monitor'}],\n",
       "   'sensors': [{'id': 1045,\n",
       "     'name': 'co µg/m³',\n",
       "     'parameter': {'id': 4,\n",
       "      'name': 'co',\n",
       "      'units': 'µg/m³',\n",
       "      'displayName': 'CO mass'}},\n",
       "    {'id': 1046,\n",
       "     'name': 'no2 µg/m³',\n",
       "     'parameter': {'id': 5,\n",
       "      'name': 'no2',\n",
       "      'units': 'µg/m³',\n",
       "      'displayName': 'NO₂ mass'}},\n",
       "    {'id': 114,\n",
       "     'name': 'o3 µg/m³',\n",
       "     'parameter': {'id': 3,\n",
       "      'name': 'o3',\n",
       "      'units': 'µg/m³',\n",
       "      'displayName': 'O₃ mass'}},\n",
       "    {'id': 1047,\n",
       "     'name': 'pm10 µg/m³',\n",
       "     'parameter': {'id': 1,\n",
       "      'name': 'pm10',\n",
       "      'units': 'µg/m³',\n",
       "      'displayName': 'PM10'}},\n",
       "    {'id': 1044,\n",
       "     'name': 'pm25 µg/m³',\n",
       "     'parameter': {'id': 2,\n",
       "      'name': 'pm25',\n",
       "      'units': 'µg/m³',\n",
       "      'displayName': 'PM2.5'}},\n",
       "    {'id': 44,\n",
       "     'name': 'so2 µg/m³',\n",
       "     'parameter': {'id': 6,\n",
       "      'name': 'so2',\n",
       "      'units': 'µg/m³',\n",
       "      'displayName': 'SO₂ mass'}}],\n",
       "   'coordinates': {'latitude': -33.464142, 'longitude': -70.660797},\n",
       "   'licenses': None,\n",
       "   'bounds': [-70.660797, -33.464142, -70.660797, -33.464142],\n",
       "   'distance': None,\n",
       "   'datetimeFirst': {'utc': '2016-01-30T01:00:00Z',\n",
       "    'local': '2016-01-29T22:00:00-03:00'},\n",
       "   'datetimeLast': {'utc': '2025-07-31T12:00:00Z',\n",
       "    'local': '2025-07-31T08:00:00-04:00'}},\n",
       "  {'id': 26,\n",
       "   'name': 'Inpesca',\n",
       "   'locality': 'Talcahuano',\n",
       "   'timezone': 'America/Santiago',\n",
       "   'country': {'id': 3, 'code': 'CL', 'name': 'Chile'},\n",
       "   'owner': {'id': 4, 'name': 'Unknown Governmental Organization'},\n",
       "   'provider': {'id': 164, 'name': 'Chile - SINCA'},\n",
       "   'isMobile': False,\n",
       "   'isMonitor': True,\n",
       "   'instruments': [{'id': 2, 'name': 'Government Monitor'}],\n",
       "   'sensors': [{'id': 45,\n",
       "     'name': 'pm10 µg/m³',\n",
       "     'parameter': {'id': 1,\n",
       "      'name': 'pm10',\n",
       "      'units': 'µg/m³',\n",
       "      'displayName': 'PM10'}},\n",
       "    {'id': 35374,\n",
       "     'name': 'pm25 µg/m³',\n",
       "     'parameter': {'id': 2,\n",
       "      'name': 'pm25',\n",
       "      'units': 'µg/m³',\n",
       "      'displayName': 'PM2.5'}},\n",
       "    {'id': 601,\n",
       "     'name': 'so2 µg/m³',\n",
       "     'parameter': {'id': 6,\n",
       "      'name': 'so2',\n",
       "      'units': 'µg/m³',\n",
       "      'displayName': 'SO₂ mass'}}],\n",
       "   'coordinates': {'latitude': -36.737202, 'longitude': -73.104427},\n",
       "   'licenses': None,\n",
       "   'bounds': [-73.104427, -36.737202, -73.104427, -36.737202],\n",
       "   'distance': None,\n",
       "   'datetimeFirst': {'utc': '2016-01-30T01:00:00Z',\n",
       "    'local': '2016-01-29T22:00:00-03:00'},\n",
       "   'datetimeLast': {'utc': '2025-07-31T11:00:00Z',\n",
       "    'local': '2025-07-31T07:00:00-04:00'}},\n",
       "  {'id': 27,\n",
       "   'name': 'Concón',\n",
       "   'locality': 'Concón',\n",
       "   'timezone': 'America/Santiago',\n",
       "   'country': {'id': 3, 'code': 'CL', 'name': 'Chile'},\n",
       "   'owner': {'id': 4, 'name': 'Unknown Governmental Organization'},\n",
       "   'provider': {'id': 164, 'name': 'Chile - SINCA'},\n",
       "   'isMobile': False,\n",
       "   'isMonitor': True,\n",
       "   'instruments': [{'id': 2, 'name': 'Government Monitor'}],\n",
       "   'sensors': [{'id': 1410,\n",
       "     'name': 'co µg/m³',\n",
       "     'parameter': {'id': 4,\n",
       "      'name': 'co',\n",
       "      'units': 'µg/m³',\n",
       "      'displayName': 'CO mass'}},\n",
       "    {'id': 124,\n",
       "     'name': 'no2 µg/m³',\n",
       "     'parameter': {'id': 5,\n",
       "      'name': 'no2',\n",
       "      'units': 'µg/m³',\n",
       "      'displayName': 'NO₂ mass'}},\n",
       "    {'id': 46,\n",
       "     'name': 'o3 µg/m³',\n",
       "     'parameter': {'id': 3,\n",
       "      'name': 'o3',\n",
       "      'units': 'µg/m³',\n",
       "      'displayName': 'O₃ mass'}},\n",
       "    {'id': 28735,\n",
       "     'name': 'pm10 µg/m³',\n",
       "     'parameter': {'id': 1,\n",
       "      'name': 'pm10',\n",
       "      'units': 'µg/m³',\n",
       "      'displayName': 'PM10'}},\n",
       "    {'id': 35661,\n",
       "     'name': 'pm25 µg/m³',\n",
       "     'parameter': {'id': 2,\n",
       "      'name': 'pm25',\n",
       "      'units': 'µg/m³',\n",
       "      'displayName': 'PM2.5'}},\n",
       "    {'id': 1412,\n",
       "     'name': 'so2 µg/m³',\n",
       "     'parameter': {'id': 6,\n",
       "      'name': 'so2',\n",
       "      'units': 'µg/m³',\n",
       "      'displayName': 'SO₂ mass'}}],\n",
       "   'coordinates': {'latitude': -32.924568, 'longitude': -71.515399},\n",
       "   'licenses': None,\n",
       "   'bounds': [-71.515399, -32.924568, -71.515399, -32.924568],\n",
       "   'distance': None,\n",
       "   'datetimeFirst': {'utc': '2016-01-30T01:00:00Z',\n",
       "    'local': '2016-01-29T22:00:00-03:00'},\n",
       "   'datetimeLast': {'utc': '2025-07-31T11:00:00Z',\n",
       "    'local': '2025-07-31T07:00:00-04:00'}},\n",
       "  {'id': 28,\n",
       "   'name': 'Ursynów',\n",
       "   'locality': None,\n",
       "   'timezone': 'Europe/Warsaw',\n",
       "   'country': {'id': 77, 'code': 'PL', 'name': 'Poland'},\n",
       "   'owner': {'id': 4, 'name': 'Unknown Governmental Organization'},\n",
       "   'provider': {'id': 214, 'name': 'Poland'},\n",
       "   'isMobile': False,\n",
       "   'isMonitor': True,\n",
       "   'instruments': [{'id': 2, 'name': 'Government Monitor'}],\n",
       "   'sensors': [{'id': 5009,\n",
       "     'name': 'no2 µg/m³',\n",
       "     'parameter': {'id': 5,\n",
       "      'name': 'no2',\n",
       "      'units': 'µg/m³',\n",
       "      'displayName': 'NO₂ mass'}},\n",
       "    {'id': 5006,\n",
       "     'name': 'o3 µg/m³',\n",
       "     'parameter': {'id': 3,\n",
       "      'name': 'o3',\n",
       "      'units': 'µg/m³',\n",
       "      'displayName': 'O₃ mass'}},\n",
       "    {'id': 5003,\n",
       "     'name': 'pm10 µg/m³',\n",
       "     'parameter': {'id': 1,\n",
       "      'name': 'pm10',\n",
       "      'units': 'µg/m³',\n",
       "      'displayName': 'PM10'}},\n",
       "    {'id': 47,\n",
       "     'name': 'pm25 µg/m³',\n",
       "     'parameter': {'id': 2,\n",
       "      'name': 'pm25',\n",
       "      'units': 'µg/m³',\n",
       "      'displayName': 'PM2.5'}},\n",
       "    {'id': 5001,\n",
       "     'name': 'so2 µg/m³',\n",
       "     'parameter': {'id': 6,\n",
       "      'name': 'so2',\n",
       "      'units': 'µg/m³',\n",
       "      'displayName': 'SO₂ mass'}}],\n",
       "   'coordinates': {'latitude': 52.16077306, 'longitude': 21.03916667},\n",
       "   'licenses': None,\n",
       "   'bounds': [21.03916667, 52.16077306, 21.03916667, 52.16077306],\n",
       "   'distance': None,\n",
       "   'datetimeFirst': {'utc': '2016-01-30T01:00:00Z',\n",
       "    'local': '2016-01-30T02:00:00+01:00'},\n",
       "   'datetimeLast': {'utc': '2017-01-08T07:00:00Z',\n",
       "    'local': '2017-01-08T08:00:00+01:00'}},\n",
       "  {'id': 30,\n",
       "   'name': '100 ail',\n",
       "   'locality': None,\n",
       "   'timezone': 'Asia/Ulaanbaatar',\n",
       "   'country': {'id': 47, 'code': 'MN', 'name': 'Mongolia'},\n",
       "   'owner': {'id': 4, 'name': 'Unknown Governmental Organization'},\n",
       "   'provider': {'id': 116, 'name': 'Agaar.mn'},\n",
       "   'isMobile': False,\n",
       "   'isMonitor': True,\n",
       "   'instruments': [{'id': 2, 'name': 'Government Monitor'}],\n",
       "   'sensors': [{'id': 5373,\n",
       "     'name': 'co µg/m³',\n",
       "     'parameter': {'id': 4,\n",
       "      'name': 'co',\n",
       "      'units': 'µg/m³',\n",
       "      'displayName': 'CO mass'}},\n",
       "    {'id': 5368,\n",
       "     'name': 'no2 µg/m³',\n",
       "     'parameter': {'id': 5,\n",
       "      'name': 'no2',\n",
       "      'units': 'µg/m³',\n",
       "      'displayName': 'NO₂ mass'}},\n",
       "    {'id': 5360,\n",
       "     'name': 'o3 µg/m³',\n",
       "     'parameter': {'id': 3,\n",
       "      'name': 'o3',\n",
       "      'units': 'µg/m³',\n",
       "      'displayName': 'O₃ mass'}},\n",
       "    {'id': 49,\n",
       "     'name': 'pm10 µg/m³',\n",
       "     'parameter': {'id': 1,\n",
       "      'name': 'pm10',\n",
       "      'units': 'µg/m³',\n",
       "      'displayName': 'PM10'}},\n",
       "    {'id': 5342,\n",
       "     'name': 'so2 µg/m³',\n",
       "     'parameter': {'id': 6,\n",
       "      'name': 'so2',\n",
       "      'units': 'µg/m³',\n",
       "      'displayName': 'SO₂ mass'}}],\n",
       "   'coordinates': {'latitude': 47.9329056, 'longitude': 106.9213833},\n",
       "   'licenses': None,\n",
       "   'bounds': [106.9213833, 47.9329056, 106.9213833, 47.9329056],\n",
       "   'distance': None,\n",
       "   'datetimeFirst': {'utc': '2016-01-30T01:00:00Z',\n",
       "    'local': '2016-01-30T09:00:00+08:00'},\n",
       "   'datetimeLast': {'utc': '2019-03-13T22:00:00Z',\n",
       "    'local': '2019-03-14T06:00:00+08:00'}},\n",
       "  {'id': 31,\n",
       "   'name': 'Wekerom-Riemterdijk',\n",
       "   'locality': 'Wekerom',\n",
       "   'timezone': 'Europe/Amsterdam',\n",
       "   'country': {'id': 94, 'code': 'NL', 'name': 'Netherlands'},\n",
       "   'owner': {'id': 4, 'name': 'Unknown Governmental Organization'},\n",
       "   'provider': {'id': 70, 'name': 'EEA'},\n",
       "   'isMobile': False,\n",
       "   'isMonitor': True,\n",
       "   'instruments': [{'id': 2, 'name': 'Government Monitor'}],\n",
       "   'sensors': [{'id': 4275693,\n",
       "     'name': 'no µg/m³',\n",
       "     'parameter': {'id': 19843,\n",
       "      'name': 'no',\n",
       "      'units': 'µg/m³',\n",
       "      'displayName': 'NO mass'}},\n",
       "    {'id': 4642,\n",
       "     'name': 'no2 µg/m³',\n",
       "     'parameter': {'id': 5,\n",
       "      'name': 'no2',\n",
       "      'units': 'µg/m³',\n",
       "      'displayName': 'NO₂ mass'}},\n",
       "    {'id': 4649,\n",
       "     'name': 'o3 µg/m³',\n",
       "     'parameter': {'id': 3,\n",
       "      'name': 'o3',\n",
       "      'units': 'µg/m³',\n",
       "      'displayName': 'O₃ mass'}},\n",
       "    {'id': 4650,\n",
       "     'name': 'pm10 µg/m³',\n",
       "     'parameter': {'id': 1,\n",
       "      'name': 'pm10',\n",
       "      'units': 'µg/m³',\n",
       "      'displayName': 'PM10'}},\n",
       "    {'id': 50,\n",
       "     'name': 'pm25 µg/m³',\n",
       "     'parameter': {'id': 2,\n",
       "      'name': 'pm25',\n",
       "      'units': 'µg/m³',\n",
       "      'displayName': 'PM2.5'}}],\n",
       "   'coordinates': {'latitude': 52.11162100019676,\n",
       "    'longitude': 5.708418999868416},\n",
       "   'licenses': [{'id': 10,\n",
       "     'name': 'ODC-BY',\n",
       "     'attribution': {'name': 'Unknown Governmental Organization', 'url': None},\n",
       "     'dateFrom': '2016-11-17',\n",
       "     'dateTo': None}],\n",
       "   'bounds': [5.708418999868416,\n",
       "    52.11162100019676,\n",
       "    5.708418999868416,\n",
       "    52.11162100019676],\n",
       "   'distance': None,\n",
       "   'datetimeFirst': {'utc': '2016-01-30T01:00:00Z',\n",
       "    'local': '2016-01-30T02:00:00+01:00'},\n",
       "   'datetimeLast': {'utc': '2025-07-31T12:00:00Z',\n",
       "    'local': '2025-07-31T14:00:00+02:00'}},\n",
       "  {'id': 32,\n",
       "   'name': 'SPARTAN - Tsinghua University',\n",
       "   'locality': None,\n",
       "   'timezone': 'Asia/Shanghai',\n",
       "   'country': {'id': 10, 'code': 'CN', 'name': 'China'},\n",
       "   'owner': {'id': 4, 'name': 'Unknown Governmental Organization'},\n",
       "   'provider': {'id': 226, 'name': 'Spartan'},\n",
       "   'isMobile': False,\n",
       "   'isMonitor': True,\n",
       "   'instruments': [{'id': 2, 'name': 'Government Monitor'}],\n",
       "   'sensors': [{'id': 51,\n",
       "     'name': 'pm25 µg/m³',\n",
       "     'parameter': {'id': 2,\n",
       "      'name': 'pm25',\n",
       "      'units': 'µg/m³',\n",
       "      'displayName': 'PM2.5'}}],\n",
       "   'coordinates': {'latitude': 40.01, 'longitude': 116.333},\n",
       "   'licenses': None,\n",
       "   'bounds': [116.333, 40.01, 116.333, 40.01],\n",
       "   'distance': None,\n",
       "   'datetimeFirst': None,\n",
       "   'datetimeLast': None},\n",
       "  {'id': 33,\n",
       "   'name': 'Zaanstad-Hemkade',\n",
       "   'locality': 'Zaandam',\n",
       "   'timezone': 'Europe/Amsterdam',\n",
       "   'country': {'id': 94, 'code': 'NL', 'name': 'Netherlands'},\n",
       "   'owner': {'id': 4, 'name': 'Unknown Governmental Organization'},\n",
       "   'provider': {'id': 70, 'name': 'EEA'},\n",
       "   'isMobile': False,\n",
       "   'isMonitor': True,\n",
       "   'instruments': [{'id': 2, 'name': 'Government Monitor'}],\n",
       "   'sensors': [{'id': 4276093,\n",
       "     'name': 'no µg/m³',\n",
       "     'parameter': {'id': 19843,\n",
       "      'name': 'no',\n",
       "      'units': 'µg/m³',\n",
       "      'displayName': 'NO mass'}},\n",
       "    {'id': 52,\n",
       "     'name': 'no2 µg/m³',\n",
       "     'parameter': {'id': 5,\n",
       "      'name': 'no2',\n",
       "      'units': 'µg/m³',\n",
       "      'displayName': 'NO₂ mass'}},\n",
       "    {'id': 4612,\n",
       "     'name': 'pm10 µg/m³',\n",
       "     'parameter': {'id': 1,\n",
       "      'name': 'pm10',\n",
       "      'units': 'µg/m³',\n",
       "      'displayName': 'PM10'}}],\n",
       "   'coordinates': {'latitude': 52.420230000140556,\n",
       "    'longitude': 4.832060000156797},\n",
       "   'licenses': [{'id': 10,\n",
       "     'name': 'ODC-BY',\n",
       "     'attribution': {'name': 'Unknown Governmental Organization', 'url': None},\n",
       "     'dateFrom': '2016-11-17',\n",
       "     'dateTo': None}],\n",
       "   'bounds': [4.832060000156797,\n",
       "    52.420230000140556,\n",
       "    4.832060000156797,\n",
       "    52.420230000140556],\n",
       "   'distance': None,\n",
       "   'datetimeFirst': {'utc': '2016-01-30T01:00:00Z',\n",
       "    'local': '2016-01-30T02:00:00+01:00'},\n",
       "   'datetimeLast': {'utc': '2025-07-31T12:00:00Z',\n",
       "    'local': '2025-07-31T14:00:00+02:00'}},\n",
       "  {'id': 34,\n",
       "   'name': 'SPARTAN - Weizmann Institute',\n",
       "   'locality': None,\n",
       "   'timezone': 'Asia/Jerusalem',\n",
       "   'country': {'id': 11, 'code': 'IL', 'name': 'Israel'},\n",
       "   'owner': {'id': 4, 'name': 'Unknown Governmental Organization'},\n",
       "   'provider': {'id': 226, 'name': 'Spartan'},\n",
       "   'isMobile': False,\n",
       "   'isMonitor': True,\n",
       "   'instruments': [{'id': 2, 'name': 'Government Monitor'}],\n",
       "   'sensors': [{'id': 53,\n",
       "     'name': 'pm25 µg/m³',\n",
       "     'parameter': {'id': 2,\n",
       "      'name': 'pm25',\n",
       "      'units': 'µg/m³',\n",
       "      'displayName': 'PM2.5'}}],\n",
       "   'coordinates': {'latitude': 31.907, 'longitude': 34.81},\n",
       "   'licenses': None,\n",
       "   'bounds': [34.81, 31.907, 34.81, 31.907],\n",
       "   'distance': None,\n",
       "   'datetimeFirst': None,\n",
       "   'datetimeLast': None},\n",
       "  {'id': 38,\n",
       "   'name': 'Cauquenes',\n",
       "   'locality': 'Machalí',\n",
       "   'timezone': 'America/Santiago',\n",
       "   'country': {'id': 3, 'code': 'CL', 'name': 'Chile'},\n",
       "   'owner': {'id': 4, 'name': 'Unknown Governmental Organization'},\n",
       "   'provider': {'id': 164, 'name': 'Chile - SINCA'},\n",
       "   'isMobile': False,\n",
       "   'isMonitor': True,\n",
       "   'instruments': [{'id': 2, 'name': 'Government Monitor'}],\n",
       "   'sensors': [{'id': 58,\n",
       "     'name': 'so2 µg/m³',\n",
       "     'parameter': {'id': 6,\n",
       "      'name': 'so2',\n",
       "      'units': 'µg/m³',\n",
       "      'displayName': 'SO₂ mass'}}],\n",
       "   'coordinates': {'latitude': -34.241168, 'longitude': -70.55283},\n",
       "   'licenses': None,\n",
       "   'bounds': [-70.55283, -34.241168, -70.55283, -34.241168],\n",
       "   'distance': None,\n",
       "   'datetimeFirst': {'utc': '2016-02-11T12:00:00Z',\n",
       "    'local': '2016-02-11T09:00:00-03:00'},\n",
       "   'datetimeLast': {'utc': '2025-07-31T11:00:00Z',\n",
       "    'local': '2025-07-31T07:00:00-04:00'}},\n",
       "  {'id': 39,\n",
       "   'name': 'Gobernación',\n",
       "   'locality': 'Tocopilla',\n",
       "   'timezone': 'America/Santiago',\n",
       "   'country': {'id': 3, 'code': 'CL', 'name': 'Chile'},\n",
       "   'owner': {'id': 4, 'name': 'Unknown Governmental Organization'},\n",
       "   'provider': {'id': 164, 'name': 'Chile - SINCA'},\n",
       "   'isMobile': False,\n",
       "   'isMonitor': True,\n",
       "   'instruments': [{'id': 2, 'name': 'Government Monitor'}],\n",
       "   'sensors': [{'id': 87,\n",
       "     'name': 'pm10 µg/m³',\n",
       "     'parameter': {'id': 1,\n",
       "      'name': 'pm10',\n",
       "      'units': 'µg/m³',\n",
       "      'displayName': 'PM10'}},\n",
       "    {'id': 59,\n",
       "     'name': 'so2 µg/m³',\n",
       "     'parameter': {'id': 6,\n",
       "      'name': 'so2',\n",
       "      'units': 'µg/m³',\n",
       "      'displayName': 'SO₂ mass'}}],\n",
       "   'coordinates': {'latitude': -22.093082, 'longitude': -70.20121},\n",
       "   'licenses': None,\n",
       "   'bounds': [-70.20121, -22.093082, -70.20121, -22.093082],\n",
       "   'distance': None,\n",
       "   'datetimeFirst': {'utc': '2016-01-30T01:00:00Z',\n",
       "    'local': '2016-01-29T22:00:00-03:00'},\n",
       "   'datetimeLast': {'utc': '2025-07-31T12:00:00Z',\n",
       "    'local': '2025-07-31T08:00:00-04:00'}},\n",
       "  {'id': 41,\n",
       "   'name': 'Groningen-Europaweg',\n",
       "   'locality': 'Groningen',\n",
       "   'timezone': 'Europe/Amsterdam',\n",
       "   'country': {'id': 94, 'code': 'NL', 'name': 'Netherlands'},\n",
       "   'owner': {'id': 4, 'name': 'Unknown Governmental Organization'},\n",
       "   'provider': {'id': 70, 'name': 'EEA'},\n",
       "   'isMobile': False,\n",
       "   'isMonitor': True,\n",
       "   'instruments': [{'id': 2, 'name': 'Government Monitor'}],\n",
       "   'sensors': [{'id': 4275972,\n",
       "     'name': 'no µg/m³',\n",
       "     'parameter': {'id': 19843,\n",
       "      'name': 'no',\n",
       "      'units': 'µg/m³',\n",
       "      'displayName': 'NO mass'}},\n",
       "    {'id': 4217,\n",
       "     'name': 'no2 µg/m³',\n",
       "     'parameter': {'id': 5,\n",
       "      'name': 'no2',\n",
       "      'units': 'µg/m³',\n",
       "      'displayName': 'NO₂ mass'}},\n",
       "    {'id': 4216,\n",
       "     'name': 'pm10 µg/m³',\n",
       "     'parameter': {'id': 1,\n",
       "      'name': 'pm10',\n",
       "      'units': 'µg/m³',\n",
       "      'displayName': 'PM10'}},\n",
       "    {'id': 61,\n",
       "     'name': 'pm25 µg/m³',\n",
       "     'parameter': {'id': 2,\n",
       "      'name': 'pm25',\n",
       "      'units': 'µg/m³',\n",
       "      'displayName': 'PM2.5'}}],\n",
       "   'coordinates': {'latitude': 53.21779599995612,\n",
       "    'longitude': 6.578901000005765},\n",
       "   'licenses': [{'id': 10,\n",
       "     'name': 'ODC-BY',\n",
       "     'attribution': {'name': 'Unknown Governmental Organization', 'url': None},\n",
       "     'dateFrom': '2016-11-17',\n",
       "     'dateTo': None}],\n",
       "   'bounds': [6.578901000005765,\n",
       "    53.21779599995612,\n",
       "    6.578901000005765,\n",
       "    53.21779599995612],\n",
       "   'distance': None,\n",
       "   'datetimeFirst': {'utc': '2016-01-30T01:00:00Z',\n",
       "    'local': '2016-01-30T02:00:00+01:00'},\n",
       "   'datetimeLast': {'utc': '2025-07-31T12:00:00Z',\n",
       "    'local': '2025-07-31T14:00:00+02:00'}},\n",
       "  {'id': 42,\n",
       "   'name': 'SPARTAN - Ilorin University',\n",
       "   'locality': None,\n",
       "   'timezone': 'Africa/Lagos',\n",
       "   'country': {'id': 100, 'code': 'NG', 'name': 'Nigeria'},\n",
       "   'owner': {'id': 4, 'name': 'Unknown Governmental Organization'},\n",
       "   'provider': {'id': 226, 'name': 'Spartan'},\n",
       "   'isMobile': False,\n",
       "   'isMonitor': True,\n",
       "   'instruments': [{'id': 2, 'name': 'Government Monitor'}],\n",
       "   'sensors': [{'id': 62,\n",
       "     'name': 'pm25 µg/m³',\n",
       "     'parameter': {'id': 2,\n",
       "      'name': 'pm25',\n",
       "      'units': 'µg/m³',\n",
       "      'displayName': 'PM2.5'}}],\n",
       "   'coordinates': {'latitude': 8.484, 'longitude': 4.675},\n",
       "   'licenses': None,\n",
       "   'bounds': [4.675, 8.484, 4.675, 8.484],\n",
       "   'distance': None,\n",
       "   'datetimeFirst': None,\n",
       "   'datetimeLast': None},\n",
       "  {'id': 43,\n",
       "   'name': 'Konarskiego',\n",
       "   'locality': None,\n",
       "   'timezone': 'Europe/Warsaw',\n",
       "   'country': {'id': 77, 'code': 'PL', 'name': 'Poland'},\n",
       "   'owner': {'id': 4, 'name': 'Unknown Governmental Organization'},\n",
       "   'provider': {'id': 214, 'name': 'Poland'},\n",
       "   'isMobile': False,\n",
       "   'isMonitor': True,\n",
       "   'instruments': [{'id': 2, 'name': 'Government Monitor'}],\n",
       "   'sensors': [{'id': 4990,\n",
       "     'name': 'co µg/m³',\n",
       "     'parameter': {'id': 4,\n",
       "      'name': 'co',\n",
       "      'units': 'µg/m³',\n",
       "      'displayName': 'CO mass'}},\n",
       "    {'id': 4987,\n",
       "     'name': 'no2 µg/m³',\n",
       "     'parameter': {'id': 5,\n",
       "      'name': 'no2',\n",
       "      'units': 'µg/m³',\n",
       "      'displayName': 'NO₂ mass'}},\n",
       "    {'id': 4986,\n",
       "     'name': 'o3 µg/m³',\n",
       "     'parameter': {'id': 3,\n",
       "      'name': 'o3',\n",
       "      'units': 'µg/m³',\n",
       "      'displayName': 'O₃ mass'}},\n",
       "    {'id': 4985,\n",
       "     'name': 'pm10 µg/m³',\n",
       "     'parameter': {'id': 1,\n",
       "      'name': 'pm10',\n",
       "      'units': 'µg/m³',\n",
       "      'displayName': 'PM10'}},\n",
       "    {'id': 63,\n",
       "     'name': 'pm25 µg/m³',\n",
       "     'parameter': {'id': 2,\n",
       "      'name': 'pm25',\n",
       "      'units': 'µg/m³',\n",
       "      'displayName': 'PM2.5'}},\n",
       "    {'id': 4984,\n",
       "     'name': 'so2 µg/m³',\n",
       "     'parameter': {'id': 6,\n",
       "      'name': 'so2',\n",
       "      'units': 'µg/m³',\n",
       "      'displayName': 'SO₂ mass'}}],\n",
       "   'coordinates': {'latitude': 52.17203333, 'longitude': 22.27277778},\n",
       "   'licenses': None,\n",
       "   'bounds': [22.27277778, 52.17203333, 22.27277778, 52.17203333],\n",
       "   'distance': None,\n",
       "   'datetimeFirst': {'utc': '2016-01-30T01:00:00Z',\n",
       "    'local': '2016-01-30T02:00:00+01:00'},\n",
       "   'datetimeLast': {'utc': '2017-01-08T07:00:00Z',\n",
       "    'local': '2017-01-08T08:00:00+01:00'}},\n",
       "  {'id': 44,\n",
       "   'name': 'Heerlen-Jamboreepad',\n",
       "   'locality': 'Heerlen',\n",
       "   'timezone': 'Europe/Amsterdam',\n",
       "   'country': {'id': 94, 'code': 'NL', 'name': 'Netherlands'},\n",
       "   'owner': {'id': 4, 'name': 'Unknown Governmental Organization'},\n",
       "   'provider': {'id': 70, 'name': 'EEA'},\n",
       "   'isMobile': False,\n",
       "   'isMonitor': True,\n",
       "   'instruments': [{'id': 2, 'name': 'Government Monitor'}],\n",
       "   'sensors': [{'id': 4275805,\n",
       "     'name': 'no µg/m³',\n",
       "     'parameter': {'id': 19843,\n",
       "      'name': 'no',\n",
       "      'units': 'µg/m³',\n",
       "      'displayName': 'NO mass'}},\n",
       "    {'id': 64,\n",
       "     'name': 'no2 µg/m³',\n",
       "     'parameter': {'id': 5,\n",
       "      'name': 'no2',\n",
       "      'units': 'µg/m³',\n",
       "      'displayName': 'NO₂ mass'}},\n",
       "    {'id': 4194,\n",
       "     'name': 'o3 µg/m³',\n",
       "     'parameter': {'id': 3,\n",
       "      'name': 'o3',\n",
       "      'units': 'µg/m³',\n",
       "      'displayName': 'O₃ mass'}},\n",
       "    {'id': 4198,\n",
       "     'name': 'pm10 µg/m³',\n",
       "     'parameter': {'id': 1,\n",
       "      'name': 'pm10',\n",
       "      'units': 'µg/m³',\n",
       "      'displayName': 'PM10'}},\n",
       "    {'id': 4202,\n",
       "     'name': 'pm25 µg/m³',\n",
       "     'parameter': {'id': 2,\n",
       "      'name': 'pm25',\n",
       "      'units': 'µg/m³',\n",
       "      'displayName': 'PM2.5'}}],\n",
       "   'coordinates': {'latitude': 50.90031700019946,\n",
       "    'longitude': 5.986852999872599},\n",
       "   'licenses': [{'id': 10,\n",
       "     'name': 'ODC-BY',\n",
       "     'attribution': {'name': 'Unknown Governmental Organization', 'url': None},\n",
       "     'dateFrom': '2016-11-17',\n",
       "     'dateTo': None}],\n",
       "   'bounds': [5.986852999872599,\n",
       "    50.90031700019946,\n",
       "    5.986852999872599,\n",
       "    50.90031700019946],\n",
       "   'distance': None,\n",
       "   'datetimeFirst': {'utc': '2016-01-30T01:00:00Z',\n",
       "    'local': '2016-01-30T02:00:00+01:00'},\n",
       "   'datetimeLast': {'utc': '2025-07-31T12:00:00Z',\n",
       "    'local': '2025-07-31T14:00:00+02:00'}},\n",
       "  {'id': 45,\n",
       "   'name': 'Puente Alto',\n",
       "   'locality': 'Puente Alto',\n",
       "   'timezone': 'America/Santiago',\n",
       "   'country': {'id': 3, 'code': 'CL', 'name': 'Chile'},\n",
       "   'owner': {'id': 4, 'name': 'Unknown Governmental Organization'},\n",
       "   'provider': {'id': 164, 'name': 'Chile - SINCA'},\n",
       "   'isMobile': False,\n",
       "   'isMonitor': True,\n",
       "   'instruments': [{'id': 2, 'name': 'Government Monitor'}],\n",
       "   'sensors': [{'id': 65,\n",
       "     'name': 'co µg/m³',\n",
       "     'parameter': {'id': 4,\n",
       "      'name': 'co',\n",
       "      'units': 'µg/m³',\n",
       "      'displayName': 'CO mass'}},\n",
       "    {'id': 4182,\n",
       "     'name': 'no2 µg/m³',\n",
       "     'parameter': {'id': 5,\n",
       "      'name': 'no2',\n",
       "      'units': 'µg/m³',\n",
       "      'displayName': 'NO₂ mass'}},\n",
       "    {'id': 4228,\n",
       "     'name': 'o3 µg/m³',\n",
       "     'parameter': {'id': 3,\n",
       "      'name': 'o3',\n",
       "      'units': 'µg/m³',\n",
       "      'displayName': 'O₃ mass'}},\n",
       "    {'id': 4533,\n",
       "     'name': 'pm10 µg/m³',\n",
       "     'parameter': {'id': 1,\n",
       "      'name': 'pm10',\n",
       "      'units': 'µg/m³',\n",
       "      'displayName': 'PM10'}},\n",
       "    {'id': 4099,\n",
       "     'name': 'pm25 µg/m³',\n",
       "     'parameter': {'id': 2,\n",
       "      'name': 'pm25',\n",
       "      'units': 'µg/m³',\n",
       "      'displayName': 'PM2.5'}},\n",
       "    {'id': 1647,\n",
       "     'name': 'so2 µg/m³',\n",
       "     'parameter': {'id': 6,\n",
       "      'name': 'so2',\n",
       "      'units': 'µg/m³',\n",
       "      'displayName': 'SO₂ mass'}}],\n",
       "   'coordinates': {'latitude': -33.591390623022, 'longitude': -70.594788},\n",
       "   'licenses': None,\n",
       "   'bounds': [-70.594788, -33.591390623022, -70.594788, -33.591390623022],\n",
       "   'distance': None,\n",
       "   'datetimeFirst': {'utc': '2016-01-30T01:00:00Z',\n",
       "    'local': '2016-01-29T22:00:00-03:00'},\n",
       "   'datetimeLast': {'utc': '2025-07-31T11:00:00Z',\n",
       "    'local': '2025-07-31T07:00:00-04:00'}},\n",
       "  {'id': 46,\n",
       "   'name': 'Bukhiin urguu',\n",
       "   'locality': None,\n",
       "   'timezone': 'Asia/Ulaanbaatar',\n",
       "   'country': {'id': 47, 'code': 'MN', 'name': 'Mongolia'},\n",
       "   'owner': {'id': 4, 'name': 'Unknown Governmental Organization'},\n",
       "   'provider': {'id': 116, 'name': 'Agaar.mn'},\n",
       "   'isMobile': False,\n",
       "   'isMonitor': True,\n",
       "   'instruments': [{'id': 2, 'name': 'Government Monitor'}],\n",
       "   'sensors': [{'id': 1454,\n",
       "     'name': 'co µg/m³',\n",
       "     'parameter': {'id': 4,\n",
       "      'name': 'co',\n",
       "      'units': 'µg/m³',\n",
       "      'displayName': 'CO mass'}},\n",
       "    {'id': 1445,\n",
       "     'name': 'no2 µg/m³',\n",
       "     'parameter': {'id': 5,\n",
       "      'name': 'no2',\n",
       "      'units': 'µg/m³',\n",
       "      'displayName': 'NO₂ mass'}},\n",
       "    {'id': 1465,\n",
       "     'name': 'o3 µg/m³',\n",
       "     'parameter': {'id': 3,\n",
       "      'name': 'o3',\n",
       "      'units': 'µg/m³',\n",
       "      'displayName': 'O₃ mass'}},\n",
       "    {'id': 1464,\n",
       "     'name': 'pm10 µg/m³',\n",
       "     'parameter': {'id': 1,\n",
       "      'name': 'pm10',\n",
       "      'units': 'µg/m³',\n",
       "      'displayName': 'PM10'}},\n",
       "    {'id': 1446,\n",
       "     'name': 'pm25 µg/m³',\n",
       "     'parameter': {'id': 2,\n",
       "      'name': 'pm25',\n",
       "      'units': 'µg/m³',\n",
       "      'displayName': 'PM2.5'}},\n",
       "    {'id': 66,\n",
       "     'name': 'so2 µg/m³',\n",
       "     'parameter': {'id': 6,\n",
       "      'name': 'so2',\n",
       "      'units': 'µg/m³',\n",
       "      'displayName': 'SO₂ mass'}}],\n",
       "   'coordinates': {'latitude': 47.9176056, 'longitude': 106.93736109999999},\n",
       "   'licenses': None,\n",
       "   'bounds': [106.93736109999999, 47.9176056, 106.93736109999999, 47.9176056],\n",
       "   'distance': None,\n",
       "   'datetimeFirst': {'utc': '2016-01-30T01:00:00Z',\n",
       "    'local': '2016-01-30T09:00:00+08:00'},\n",
       "   'datetimeLast': {'utc': '2019-03-13T22:00:00Z',\n",
       "    'local': '2019-03-14T06:00:00+08:00'}},\n",
       "  {'id': 47,\n",
       "   'name': 'Valparaiso',\n",
       "   'locality': 'Valparaíso',\n",
       "   'timezone': 'America/Santiago',\n",
       "   'country': {'id': 3, 'code': 'CL', 'name': 'Chile'},\n",
       "   'owner': {'id': 4, 'name': 'Unknown Governmental Organization'},\n",
       "   'provider': {'id': 164, 'name': 'Chile - SINCA'},\n",
       "   'isMobile': False,\n",
       "   'isMonitor': True,\n",
       "   'instruments': [{'id': 2, 'name': 'Government Monitor'}],\n",
       "   'sensors': [{'id': 9180,\n",
       "     'name': 'co µg/m³',\n",
       "     'parameter': {'id': 4,\n",
       "      'name': 'co',\n",
       "      'units': 'µg/m³',\n",
       "      'displayName': 'CO mass'}},\n",
       "    {'id': 9181,\n",
       "     'name': 'no2 µg/m³',\n",
       "     'parameter': {'id': 5,\n",
       "      'name': 'no2',\n",
       "      'units': 'µg/m³',\n",
       "      'displayName': 'NO₂ mass'}},\n",
       "    {'id': 9182,\n",
       "     'name': 'o3 µg/m³',\n",
       "     'parameter': {'id': 3,\n",
       "      'name': 'o3',\n",
       "      'units': 'µg/m³',\n",
       "      'displayName': 'O₃ mass'}},\n",
       "    {'id': 9217,\n",
       "     'name': 'pm10 µg/m³',\n",
       "     'parameter': {'id': 1,\n",
       "      'name': 'pm10',\n",
       "      'units': 'µg/m³',\n",
       "      'displayName': 'PM10'}},\n",
       "    {'id': 67,\n",
       "     'name': 'pm25 µg/m³',\n",
       "     'parameter': {'id': 2,\n",
       "      'name': 'pm25',\n",
       "      'units': 'µg/m³',\n",
       "      'displayName': 'PM2.5'}},\n",
       "    {'id': 9183,\n",
       "     'name': 'so2 µg/m³',\n",
       "     'parameter': {'id': 6,\n",
       "      'name': 'so2',\n",
       "      'units': 'µg/m³',\n",
       "      'displayName': 'SO₂ mass'}}],\n",
       "   'coordinates': {'latitude': -33.049743798096,\n",
       "    'longitude': -71.614167231712},\n",
       "   'licenses': None,\n",
       "   'bounds': [-71.614167231712,\n",
       "    -33.049743798096,\n",
       "    -71.614167231712,\n",
       "    -33.049743798096],\n",
       "   'distance': None,\n",
       "   'datetimeFirst': {'utc': '2016-01-30T01:00:00Z',\n",
       "    'local': '2016-01-29T22:00:00-03:00'},\n",
       "   'datetimeLast': {'utc': '2025-07-31T11:00:00Z',\n",
       "    'local': '2025-07-31T07:00:00-04:00'}},\n",
       "  {'id': 48,\n",
       "   'name': 'Baruun 4 zam',\n",
       "   'locality': None,\n",
       "   'timezone': 'Asia/Ulaanbaatar',\n",
       "   'country': {'id': 47, 'code': 'MN', 'name': 'Mongolia'},\n",
       "   'owner': {'id': 4, 'name': 'Unknown Governmental Organization'},\n",
       "   'provider': {'id': 116, 'name': 'Agaar.mn'},\n",
       "   'isMobile': False,\n",
       "   'isMonitor': True,\n",
       "   'instruments': [{'id': 2, 'name': 'Government Monitor'}],\n",
       "   'sensors': [{'id': 108,\n",
       "     'name': 'co µg/m³',\n",
       "     'parameter': {'id': 4,\n",
       "      'name': 'co',\n",
       "      'units': 'µg/m³',\n",
       "      'displayName': 'CO mass'}},\n",
       "    {'id': 150,\n",
       "     'name': 'no2 µg/m³',\n",
       "     'parameter': {'id': 5,\n",
       "      'name': 'no2',\n",
       "      'units': 'µg/m³',\n",
       "      'displayName': 'NO₂ mass'}},\n",
       "    {'id': 1460,\n",
       "     'name': 'pm10 µg/m³',\n",
       "     'parameter': {'id': 1,\n",
       "      'name': 'pm10',\n",
       "      'units': 'µg/m³',\n",
       "      'displayName': 'PM10'}},\n",
       "    {'id': 69,\n",
       "     'name': 'pm25 µg/m³',\n",
       "     'parameter': {'id': 2,\n",
       "      'name': 'pm25',\n",
       "      'units': 'µg/m³',\n",
       "      'displayName': 'PM2.5'}},\n",
       "    {'id': 123,\n",
       "     'name': 'so2 µg/m³',\n",
       "     'parameter': {'id': 6,\n",
       "      'name': 'so2',\n",
       "      'units': 'µg/m³',\n",
       "      'displayName': 'SO₂ mass'}}],\n",
       "   'coordinates': {'latitude': 47.9153833, 'longitude': 106.89419440000002},\n",
       "   'licenses': None,\n",
       "   'bounds': [106.89419440000002, 47.9153833, 106.89419440000002, 47.9153833],\n",
       "   'distance': None,\n",
       "   'datetimeFirst': {'utc': '2016-01-30T01:00:00Z',\n",
       "    'local': '2016-01-30T09:00:00+08:00'},\n",
       "   'datetimeLast': {'utc': '2019-03-13T22:00:00Z',\n",
       "    'local': '2019-03-14T06:00:00+08:00'}},\n",
       "  {'id': 49,\n",
       "   'name': 'Phahol Yothin Rd., Khet Chatuchak',\n",
       "   'locality': None,\n",
       "   'timezone': 'Asia/Bangkok',\n",
       "   'country': {'id': 111, 'code': 'TH', 'name': 'Thailand'},\n",
       "   'owner': {'id': 4, 'name': 'Unknown Governmental Organization'},\n",
       "   'provider': {'id': 281, 'name': 'Thailand'},\n",
       "   'isMobile': False,\n",
       "   'isMonitor': True,\n",
       "   'instruments': [{'id': 2, 'name': 'Government Monitor'}],\n",
       "   'sensors': [{'id': 92,\n",
       "     'name': 'co ppm',\n",
       "     'parameter': {'id': 8,\n",
       "      'name': 'co',\n",
       "      'units': 'ppm',\n",
       "      'displayName': 'CO'}},\n",
       "    {'id': 74,\n",
       "     'name': 'no2 ppm',\n",
       "     'parameter': {'id': 7,\n",
       "      'name': 'no2',\n",
       "      'units': 'ppm',\n",
       "      'displayName': 'NO₂'}},\n",
       "    {'id': 70,\n",
       "     'name': 'pm10 µg/m³',\n",
       "     'parameter': {'id': 1,\n",
       "      'name': 'pm10',\n",
       "      'units': 'µg/m³',\n",
       "      'displayName': 'PM10'}}],\n",
       "   'coordinates': {'latitude': 13.797855, 'longitude': 100.551338},\n",
       "   'licenses': None,\n",
       "   'bounds': [100.551338, 13.797855, 100.551338, 13.797855],\n",
       "   'distance': None,\n",
       "   'datetimeFirst': None,\n",
       "   'datetimeLast': None},\n",
       "  {'id': 50,\n",
       "   'name': 'Punjabi Bagh, Delhi - DPCC',\n",
       "   'locality': None,\n",
       "   'timezone': 'Asia/Kolkata',\n",
       "   'country': {'id': 9, 'code': 'IN', 'name': 'India'},\n",
       "   'owner': {'id': 8524, 'name': 'Delhi Pollution Control Committee'},\n",
       "   'provider': {'id': 168, 'name': 'CPCB'},\n",
       "   'isMobile': False,\n",
       "   'isMonitor': True,\n",
       "   'instruments': [{'id': 2, 'name': 'Government Monitor'},\n",
       "    {'id': 2, 'name': 'Government Monitor'}],\n",
       "   'sensors': [{'id': 398,\n",
       "     'name': 'co µg/m³',\n",
       "     'parameter': {'id': 4,\n",
       "      'name': 'co',\n",
       "      'units': 'µg/m³',\n",
       "      'displayName': 'CO mass'}},\n",
       "    {'id': 12234791,\n",
       "     'name': 'co ppb',\n",
       "     'parameter': {'id': 102,\n",
       "      'name': 'co',\n",
       "      'units': 'ppb',\n",
       "      'displayName': 'CO'}},\n",
       "    {'id': 12234792,\n",
       "     'name': 'no ppb',\n",
       "     'parameter': {'id': 24,\n",
       "      'name': 'no',\n",
       "      'units': 'ppb',\n",
       "      'displayName': 'NO'}},\n",
       "    {'id': 12234793,\n",
       "     'name': 'no2 ppb',\n",
       "     'parameter': {'id': 15,\n",
       "      'name': 'no2',\n",
       "      'units': 'ppb',\n",
       "      'displayName': 'NO₂'}},\n",
       "    {'id': 400,\n",
       "     'name': 'no2 µg/m³',\n",
       "     'parameter': {'id': 5,\n",
       "      'name': 'no2',\n",
       "      'units': 'µg/m³',\n",
       "      'displayName': 'NO₂ mass'}},\n",
       "    {'id': 71,\n",
       "     'name': 'o3 µg/m³',\n",
       "     'parameter': {'id': 3,\n",
       "      'name': 'o3',\n",
       "      'units': 'µg/m³',\n",
       "      'displayName': 'O₃ mass'}},\n",
       "    {'id': 12234794,\n",
       "     'name': 'o3 µg/m³',\n",
       "     'parameter': {'id': 3,\n",
       "      'name': 'o3',\n",
       "      'units': 'µg/m³',\n",
       "      'displayName': 'O₃ mass'}},\n",
       "    {'id': 395,\n",
       "     'name': 'pm10 µg/m³',\n",
       "     'parameter': {'id': 1,\n",
       "      'name': 'pm10',\n",
       "      'units': 'µg/m³',\n",
       "      'displayName': 'PM10'}},\n",
       "    {'id': 12234795,\n",
       "     'name': 'pm10 µg/m³',\n",
       "     'parameter': {'id': 1,\n",
       "      'name': 'pm10',\n",
       "      'units': 'µg/m³',\n",
       "      'displayName': 'PM10'}},\n",
       "    {'id': 12234796,\n",
       "     'name': 'pm25 µg/m³',\n",
       "     'parameter': {'id': 2,\n",
       "      'name': 'pm25',\n",
       "      'units': 'µg/m³',\n",
       "      'displayName': 'PM2.5'}},\n",
       "    {'id': 396,\n",
       "     'name': 'pm25 µg/m³',\n",
       "     'parameter': {'id': 2,\n",
       "      'name': 'pm25',\n",
       "      'units': 'µg/m³',\n",
       "      'displayName': 'PM2.5'}},\n",
       "    {'id': 12234797,\n",
       "     'name': 'relativehumidity %',\n",
       "     'parameter': {'id': 98,\n",
       "      'name': 'relativehumidity',\n",
       "      'units': '%',\n",
       "      'displayName': 'RH'}},\n",
       "    {'id': 12234798,\n",
       "     'name': 'so2 ppb',\n",
       "     'parameter': {'id': 101,\n",
       "      'name': 'so2',\n",
       "      'units': 'ppb',\n",
       "      'displayName': 'SO₂'}},\n",
       "    {'id': 397,\n",
       "     'name': 'so2 µg/m³',\n",
       "     'parameter': {'id': 6,\n",
       "      'name': 'so2',\n",
       "      'units': 'µg/m³',\n",
       "      'displayName': 'SO₂ mass'}},\n",
       "    {'id': 12234799,\n",
       "     'name': 'temperature c',\n",
       "     'parameter': {'id': 100,\n",
       "      'name': 'temperature',\n",
       "      'units': 'c',\n",
       "      'displayName': 'Temperature (C)'}}],\n",
       "   'coordinates': {'latitude': 28.674045, 'longitude': 77.131023},\n",
       "   'licenses': None,\n",
       "   'bounds': [77.131023, 28.674045, 77.131023, 28.674045],\n",
       "   'distance': None,\n",
       "   'datetimeFirst': {'utc': '2016-02-05T14:55:00Z',\n",
       "    'local': '2016-02-05T20:25:00+05:30'},\n",
       "   'datetimeLast': {'utc': '2025-07-31T12:30:00Z',\n",
       "    'local': '2025-07-31T18:00:00+05:30'}},\n",
       "  {'id': 51,\n",
       "   'name': 'Wieringerwerf-Medemblikkerweg',\n",
       "   'locality': 'Wieringerwerf',\n",
       "   'timezone': 'Europe/Amsterdam',\n",
       "   'country': {'id': 94, 'code': 'NL', 'name': 'Netherlands'},\n",
       "   'owner': {'id': 4, 'name': 'Unknown Governmental Organization'},\n",
       "   'provider': {'id': 70, 'name': 'EEA'},\n",
       "   'isMobile': False,\n",
       "   'isMonitor': True,\n",
       "   'instruments': [{'id': 2, 'name': 'Government Monitor'}],\n",
       "   'sensors': [{'id': 4275809,\n",
       "     'name': 'no µg/m³',\n",
       "     'parameter': {'id': 19843,\n",
       "      'name': 'no',\n",
       "      'units': 'µg/m³',\n",
       "      'displayName': 'NO mass'}},\n",
       "    {'id': 72,\n",
       "     'name': 'no2 µg/m³',\n",
       "     'parameter': {'id': 5,\n",
       "      'name': 'no2',\n",
       "      'units': 'µg/m³',\n",
       "      'displayName': 'NO₂ mass'}},\n",
       "    {'id': 4162,\n",
       "     'name': 'o3 µg/m³',\n",
       "     'parameter': {'id': 3,\n",
       "      'name': 'o3',\n",
       "      'units': 'µg/m³',\n",
       "      'displayName': 'O₃ mass'}},\n",
       "    {'id': 4158,\n",
       "     'name': 'pm10 µg/m³',\n",
       "     'parameter': {'id': 1,\n",
       "      'name': 'pm10',\n",
       "      'units': 'µg/m³',\n",
       "      'displayName': 'PM10'}},\n",
       "    {'id': 4154,\n",
       "     'name': 'pm25 µg/m³',\n",
       "     'parameter': {'id': 2,\n",
       "      'name': 'pm25',\n",
       "      'units': 'µg/m³',\n",
       "      'displayName': 'PM2.5'}}],\n",
       "   'coordinates': {'latitude': 52.80365700000841,\n",
       "    'longitude': 5.050508999758845},\n",
       "   'licenses': [{'id': 10,\n",
       "     'name': 'ODC-BY',\n",
       "     'attribution': {'name': 'Unknown Governmental Organization', 'url': None},\n",
       "     'dateFrom': '2016-11-17',\n",
       "     'dateTo': None}],\n",
       "   'bounds': [5.050508999758845,\n",
       "    52.80365700000841,\n",
       "    5.050508999758845,\n",
       "    52.80365700000841],\n",
       "   'distance': None,\n",
       "   'datetimeFirst': {'utc': '2016-01-30T01:00:00Z',\n",
       "    'local': '2016-01-30T02:00:00+01:00'},\n",
       "   'datetimeLast': {'utc': '2025-07-31T12:00:00Z',\n",
       "    'local': '2025-07-31T14:00:00+02:00'}},\n",
       "  {'id': 52,\n",
       "   'name': 'Rotterdam-Oost Sidelinge A13',\n",
       "   'locality': 'Rotterdam',\n",
       "   'timezone': 'Europe/Amsterdam',\n",
       "   'country': {'id': 94, 'code': 'NL', 'name': 'Netherlands'},\n",
       "   'owner': {'id': 4, 'name': 'Unknown Governmental Organization'},\n",
       "   'provider': {'id': 70, 'name': 'EEA'},\n",
       "   'isMobile': False,\n",
       "   'isMonitor': True,\n",
       "   'instruments': [{'id': 2, 'name': 'Government Monitor'}],\n",
       "   'sensors': [{'id': 4276171,\n",
       "     'name': 'no µg/m³',\n",
       "     'parameter': {'id': 19843,\n",
       "      'name': 'no',\n",
       "      'units': 'µg/m³',\n",
       "      'displayName': 'NO mass'}},\n",
       "    {'id': 4299,\n",
       "     'name': 'no2 µg/m³',\n",
       "     'parameter': {'id': 5,\n",
       "      'name': 'no2',\n",
       "      'units': 'µg/m³',\n",
       "      'displayName': 'NO₂ mass'}},\n",
       "    {'id': 4300,\n",
       "     'name': 'pm10 µg/m³',\n",
       "     'parameter': {'id': 1,\n",
       "      'name': 'pm10',\n",
       "      'units': 'µg/m³',\n",
       "      'displayName': 'PM10'}},\n",
       "    {'id': 73,\n",
       "     'name': 'pm25 µg/m³',\n",
       "     'parameter': {'id': 2,\n",
       "      'name': 'pm25',\n",
       "      'units': 'µg/m³',\n",
       "      'displayName': 'PM2.5'}}],\n",
       "   'coordinates': {'latitude': 51.938472000211014,\n",
       "    'longitude': 4.430691999983553},\n",
       "   'licenses': [{'id': 10,\n",
       "     'name': 'ODC-BY',\n",
       "     'attribution': {'name': 'Unknown Governmental Organization', 'url': None},\n",
       "     'dateFrom': '2016-11-17',\n",
       "     'dateTo': None}],\n",
       "   'bounds': [4.430691999983553,\n",
       "    51.938472000211014,\n",
       "    4.430691999983553,\n",
       "    51.938472000211014],\n",
       "   'distance': None,\n",
       "   'datetimeFirst': {'utc': '2016-01-30T01:00:00Z',\n",
       "    'local': '2016-01-30T02:00:00+01:00'},\n",
       "   'datetimeLast': {'utc': '2025-07-31T12:00:00Z',\n",
       "    'local': '2025-07-31T14:00:00+02:00'}},\n",
       "  {'id': 53,\n",
       "   'name': 'Shenyang',\n",
       "   'locality': 'Shenyang',\n",
       "   'timezone': 'Asia/Shanghai',\n",
       "   'country': {'id': 10, 'code': 'CN', 'name': 'China'},\n",
       "   'owner': {'id': 4, 'name': 'Unknown Governmental Organization'},\n",
       "   'provider': {'id': 230, 'name': 'Shenyang'},\n",
       "   'isMobile': False,\n",
       "   'isMonitor': True,\n",
       "   'instruments': [{'id': 2, 'name': 'Government Monitor'}],\n",
       "   'sensors': [{'id': 5079217,\n",
       "     'name': 'pm25 µg/m³',\n",
       "     'parameter': {'id': 2,\n",
       "      'name': 'pm25',\n",
       "      'units': 'µg/m³',\n",
       "      'displayName': 'PM2.5'}}],\n",
       "   'coordinates': {'latitude': 41.78, 'longitude': 123.42},\n",
       "   'licenses': None,\n",
       "   'bounds': [123.42, 41.78, 123.42, 41.78],\n",
       "   'distance': None,\n",
       "   'datetimeFirst': {'utc': '2021-05-18T01:00:00Z',\n",
       "    'local': '2021-05-18T09:00:00+08:00'},\n",
       "   'datetimeLast': {'utc': '2023-08-18T12:00:00Z',\n",
       "    'local': '2023-08-18T20:00:00+08:00'}},\n",
       "  {'id': 54,\n",
       "   'name': 'Talagante',\n",
       "   'locality': 'Talagante',\n",
       "   'timezone': 'America/Santiago',\n",
       "   'country': {'id': 3, 'code': 'CL', 'name': 'Chile'},\n",
       "   'owner': {'id': 4, 'name': 'Unknown Governmental Organization'},\n",
       "   'provider': {'id': 164, 'name': 'Chile - SINCA'},\n",
       "   'isMobile': False,\n",
       "   'isMonitor': True,\n",
       "   'instruments': [{'id': 2, 'name': 'Government Monitor'}],\n",
       "   'sensors': [{'id': 4385,\n",
       "     'name': 'co µg/m³',\n",
       "     'parameter': {'id': 4,\n",
       "      'name': 'co',\n",
       "      'units': 'µg/m³',\n",
       "      'displayName': 'CO mass'}},\n",
       "    {'id': 1516,\n",
       "     'name': 'no2 µg/m³',\n",
       "     'parameter': {'id': 5,\n",
       "      'name': 'no2',\n",
       "      'units': 'µg/m³',\n",
       "      'displayName': 'NO₂ mass'}},\n",
       "    {'id': 4387,\n",
       "     'name': 'o3 µg/m³',\n",
       "     'parameter': {'id': 3,\n",
       "      'name': 'o3',\n",
       "      'units': 'µg/m³',\n",
       "      'displayName': 'O₃ mass'}},\n",
       "    {'id': 76,\n",
       "     'name': 'pm10 µg/m³',\n",
       "     'parameter': {'id': 1,\n",
       "      'name': 'pm10',\n",
       "      'units': 'µg/m³',\n",
       "      'displayName': 'PM10'}},\n",
       "    {'id': 3013,\n",
       "     'name': 'pm25 µg/m³',\n",
       "     'parameter': {'id': 2,\n",
       "      'name': 'pm25',\n",
       "      'units': 'µg/m³',\n",
       "      'displayName': 'PM2.5'}},\n",
       "    {'id': 1682,\n",
       "     'name': 'so2 µg/m³',\n",
       "     'parameter': {'id': 6,\n",
       "      'name': 'so2',\n",
       "      'units': 'µg/m³',\n",
       "      'displayName': 'SO₂ mass'}}],\n",
       "   'coordinates': {'latitude': -33.673752071375,\n",
       "    'longitude': -70.953064737434},\n",
       "   'licenses': None,\n",
       "   'bounds': [-70.953064737434,\n",
       "    -33.673752071375,\n",
       "    -70.953064737434,\n",
       "    -33.673752071375],\n",
       "   'distance': None,\n",
       "   'datetimeFirst': {'utc': '2016-01-30T01:00:00Z',\n",
       "    'local': '2016-01-29T22:00:00-03:00'},\n",
       "   'datetimeLast': {'utc': '2025-07-31T11:00:00Z',\n",
       "    'local': '2025-07-31T07:00:00-04:00'}},\n",
       "  {'id': 55,\n",
       "   'name': 'Utrecht-Kardinaal de Jongweg',\n",
       "   'locality': 'Utrecht',\n",
       "   'timezone': 'Europe/Amsterdam',\n",
       "   'country': {'id': 94, 'code': 'NL', 'name': 'Netherlands'},\n",
       "   'owner': {'id': 4, 'name': 'Unknown Governmental Organization'},\n",
       "   'provider': {'id': 70, 'name': 'EEA'},\n",
       "   'isMobile': False,\n",
       "   'isMonitor': True,\n",
       "   'instruments': [{'id': 2, 'name': 'Government Monitor'}],\n",
       "   'sensors': [{'id': 4276081,\n",
       "     'name': 'no µg/m³',\n",
       "     'parameter': {'id': 19843,\n",
       "      'name': 'no',\n",
       "      'units': 'µg/m³',\n",
       "      'displayName': 'NO mass'}},\n",
       "    {'id': 4117,\n",
       "     'name': 'no2 µg/m³',\n",
       "     'parameter': {'id': 5,\n",
       "      'name': 'no2',\n",
       "      'units': 'µg/m³',\n",
       "      'displayName': 'NO₂ mass'}},\n",
       "    {'id': 1301475,\n",
       "     'name': 'o3 µg/m³',\n",
       "     'parameter': {'id': 3,\n",
       "      'name': 'o3',\n",
       "      'units': 'µg/m³',\n",
       "      'displayName': 'O₃ mass'}},\n",
       "    {'id': 77,\n",
       "     'name': 'pm10 µg/m³',\n",
       "     'parameter': {'id': 1,\n",
       "      'name': 'pm10',\n",
       "      'units': 'µg/m³',\n",
       "      'displayName': 'PM10'}},\n",
       "    {'id': 4118,\n",
       "     'name': 'pm25 µg/m³',\n",
       "     'parameter': {'id': 2,\n",
       "      'name': 'pm25',\n",
       "      'units': 'µg/m³',\n",
       "      'displayName': 'PM2.5'}}],\n",
       "   'coordinates': {'latitude': 52.105030999760636,\n",
       "    'longitude': 5.124464000283312},\n",
       "   'licenses': [{'id': 10,\n",
       "     'name': 'ODC-BY',\n",
       "     'attribution': {'name': 'Unknown Governmental Organization', 'url': None},\n",
       "     'dateFrom': '2016-11-17',\n",
       "     'dateTo': None}],\n",
       "   'bounds': [5.124464000283312,\n",
       "    52.105030999760636,\n",
       "    5.124464000283312,\n",
       "    52.105030999760636],\n",
       "   'distance': None,\n",
       "   'datetimeFirst': {'utc': '2016-01-30T01:00:00Z',\n",
       "    'local': '2016-01-30T02:00:00+01:00'},\n",
       "   'datetimeLast': {'utc': '2025-07-31T12:00:00Z',\n",
       "    'local': '2025-07-31T14:00:00+02:00'}},\n",
       "  {'id': 57,\n",
       "   'name': 'Khlong Nueng, Khlong Luang',\n",
       "   'locality': None,\n",
       "   'timezone': 'Asia/Bangkok',\n",
       "   'country': {'id': 111, 'code': 'TH', 'name': 'Thailand'},\n",
       "   'owner': {'id': 4, 'name': 'Unknown Governmental Organization'},\n",
       "   'provider': {'id': 281, 'name': 'Thailand'},\n",
       "   'isMobile': False,\n",
       "   'isMonitor': True,\n",
       "   'instruments': [{'id': 2, 'name': 'Government Monitor'}],\n",
       "   'sensors': [{'id': 84,\n",
       "     'name': 'co ppm',\n",
       "     'parameter': {'id': 8,\n",
       "      'name': 'co',\n",
       "      'units': 'ppm',\n",
       "      'displayName': 'CO'}},\n",
       "    {'id': 22240,\n",
       "     'name': 'no2 ppm',\n",
       "     'parameter': {'id': 7,\n",
       "      'name': 'no2',\n",
       "      'units': 'ppm',\n",
       "      'displayName': 'NO₂'}},\n",
       "    {'id': 22211,\n",
       "     'name': 'o3 ppm',\n",
       "     'parameter': {'id': 10,\n",
       "      'name': 'o3',\n",
       "      'units': 'ppm',\n",
       "      'displayName': 'O₃'}},\n",
       "    {'id': 83,\n",
       "     'name': 'pm10 µg/m³',\n",
       "     'parameter': {'id': 1,\n",
       "      'name': 'pm10',\n",
       "      'units': 'µg/m³',\n",
       "      'displayName': 'PM10'}},\n",
       "    {'id': 22241,\n",
       "     'name': 'so2 ppm',\n",
       "     'parameter': {'id': 9,\n",
       "      'name': 'so2',\n",
       "      'units': 'ppm',\n",
       "      'displayName': 'SO₂'}}],\n",
       "   'coordinates': {'latitude': 14.040299305494, 'longitude': 100.60873959621},\n",
       "   'licenses': None,\n",
       "   'bounds': [100.60873959621,\n",
       "    14.040299305494,\n",
       "    100.60873959621,\n",
       "    14.040299305494],\n",
       "   'distance': None,\n",
       "   'datetimeFirst': {'utc': '2016-08-29T07:00:00Z',\n",
       "    'local': '2016-08-29T14:00:00+07:00'},\n",
       "   'datetimeLast': {'utc': '2020-05-16T08:00:00Z',\n",
       "    'local': '2020-05-16T15:00:00+07:00'}},\n",
       "  {'id': 58,\n",
       "   'name': 'Zegveld-Oude Meije',\n",
       "   'locality': 'Zegveld',\n",
       "   'timezone': 'Europe/Amsterdam',\n",
       "   'country': {'id': 94, 'code': 'NL', 'name': 'Netherlands'},\n",
       "   'owner': {'id': 4, 'name': 'Unknown Governmental Organization'},\n",
       "   'provider': {'id': 70, 'name': 'EEA'},\n",
       "   'isMobile': False,\n",
       "   'isMonitor': True,\n",
       "   'instruments': [{'id': 2, 'name': 'Government Monitor'}],\n",
       "   'sensors': [{'id': 85,\n",
       "     'name': 'co µg/m³',\n",
       "     'parameter': {'id': 4,\n",
       "      'name': 'co',\n",
       "      'units': 'µg/m³',\n",
       "      'displayName': 'CO mass'}},\n",
       "    {'id': 4275687,\n",
       "     'name': 'no µg/m³',\n",
       "     'parameter': {'id': 19843,\n",
       "      'name': 'no',\n",
       "      'units': 'µg/m³',\n",
       "      'displayName': 'NO mass'}},\n",
       "    {'id': 4474,\n",
       "     'name': 'no2 µg/m³',\n",
       "     'parameter': {'id': 5,\n",
       "      'name': 'no2',\n",
       "      'units': 'µg/m³',\n",
       "      'displayName': 'NO₂ mass'}},\n",
       "    {'id': 4690,\n",
       "     'name': 'o3 µg/m³',\n",
       "     'parameter': {'id': 3,\n",
       "      'name': 'o3',\n",
       "      'units': 'µg/m³',\n",
       "      'displayName': 'O₃ mass'}},\n",
       "    {'id': 4355,\n",
       "     'name': 'pm10 µg/m³',\n",
       "     'parameter': {'id': 1,\n",
       "      'name': 'pm10',\n",
       "      'units': 'µg/m³',\n",
       "      'displayName': 'PM10'}}],\n",
       "   'coordinates': {'latitude': 52.137949999962665,\n",
       "    'longitude': 4.83819000034937},\n",
       "   'licenses': [{'id': 10,\n",
       "     'name': 'ODC-BY',\n",
       "     'attribution': {'name': 'Unknown Governmental Organization', 'url': None},\n",
       "     'dateFrom': '2016-11-17',\n",
       "     'dateTo': None}],\n",
       "   'bounds': [4.83819000034937,\n",
       "    52.137949999962665,\n",
       "    4.83819000034937,\n",
       "    52.137949999962665],\n",
       "   'distance': None,\n",
       "   'datetimeFirst': {'utc': '2016-01-30T01:00:00Z',\n",
       "    'local': '2016-01-30T02:00:00+01:00'},\n",
       "   'datetimeLast': {'utc': '2025-07-31T12:00:00Z',\n",
       "    'local': '2025-07-31T14:00:00+02:00'}},\n",
       "  {'id': 59,\n",
       "   'name': 'Nisekh',\n",
       "   'locality': None,\n",
       "   'timezone': 'Asia/Ulaanbaatar',\n",
       "   'country': {'id': 47, 'code': 'MN', 'name': 'Mongolia'},\n",
       "   'owner': {'id': 4, 'name': 'Unknown Governmental Organization'},\n",
       "   'provider': {'id': 116, 'name': 'Agaar.mn'},\n",
       "   'isMobile': False,\n",
       "   'isMonitor': True,\n",
       "   'instruments': [{'id': 2, 'name': 'Government Monitor'}],\n",
       "   'sensors': [{'id': 1513,\n",
       "     'name': 'co µg/m³',\n",
       "     'parameter': {'id': 4,\n",
       "      'name': 'co',\n",
       "      'units': 'µg/m³',\n",
       "      'displayName': 'CO mass'}},\n",
       "    {'id': 1514,\n",
       "     'name': 'no2 µg/m³',\n",
       "     'parameter': {'id': 5,\n",
       "      'name': 'no2',\n",
       "      'units': 'µg/m³',\n",
       "      'displayName': 'NO₂ mass'}},\n",
       "    {'id': 86,\n",
       "     'name': 'o3 µg/m³',\n",
       "     'parameter': {'id': 3,\n",
       "      'name': 'o3',\n",
       "      'units': 'µg/m³',\n",
       "      'displayName': 'O₃ mass'}},\n",
       "    {'id': 1511,\n",
       "     'name': 'pm10 µg/m³',\n",
       "     'parameter': {'id': 1,\n",
       "      'name': 'pm10',\n",
       "      'units': 'µg/m³',\n",
       "      'displayName': 'PM10'}},\n",
       "    {'id': 1507,\n",
       "     'name': 'pm25 µg/m³',\n",
       "     'parameter': {'id': 2,\n",
       "      'name': 'pm25',\n",
       "      'units': 'µg/m³',\n",
       "      'displayName': 'PM2.5'}},\n",
       "    {'id': 1509,\n",
       "     'name': 'so2 µg/m³',\n",
       "     'parameter': {'id': 6,\n",
       "      'name': 'so2',\n",
       "      'units': 'µg/m³',\n",
       "      'displayName': 'SO₂ mass'}}],\n",
       "   'coordinates': {'latitude': 47.863943, 'longitude': 106.779094},\n",
       "   'licenses': None,\n",
       "   'bounds': [106.779094, 47.863943, 106.779094, 47.863943],\n",
       "   'distance': None,\n",
       "   'datetimeFirst': {'utc': '2016-02-16T07:00:00Z',\n",
       "    'local': '2016-02-16T15:00:00+08:00'},\n",
       "   'datetimeLast': {'utc': '2019-03-13T22:30:00Z',\n",
       "    'local': '2019-03-14T06:30:00+08:00'}},\n",
       "  {'id': 60,\n",
       "   'name': 'Haringey - Haringey Town Hall',\n",
       "   'locality': 'Haringey',\n",
       "   'timezone': 'Europe/London',\n",
       "   'country': {'id': 79, 'code': 'GB', 'name': 'United Kingdom'},\n",
       "   'owner': {'id': 4, 'name': 'Unknown Governmental Organization'},\n",
       "   'provider': {'id': 205, 'name': 'London Air Quality Network'},\n",
       "   'isMobile': False,\n",
       "   'isMonitor': True,\n",
       "   'instruments': [{'id': 2, 'name': 'Government Monitor'}],\n",
       "   'sensors': [{'id': 88,\n",
       "     'name': 'no2 µg/m³',\n",
       "     'parameter': {'id': 5,\n",
       "      'name': 'no2',\n",
       "      'units': 'µg/m³',\n",
       "      'displayName': 'NO₂ mass'}},\n",
       "    {'id': 206,\n",
       "     'name': 'pm25 µg/m³',\n",
       "     'parameter': {'id': 2,\n",
       "      'name': 'pm25',\n",
       "      'units': 'µg/m³',\n",
       "      'displayName': 'PM2.5'}}],\n",
       "   'coordinates': {'latitude': 51.599302, 'longitude': -0.068218},\n",
       "   'licenses': [{'id': 34,\n",
       "     'name': 'UK OGL \"Open Government License\"',\n",
       "     'attribution': {'name': 'Unknown Governmental Organization', 'url': None},\n",
       "     'dateFrom': '2016-01-30',\n",
       "     'dateTo': None}],\n",
       "   'bounds': [-0.068218, 51.599302, -0.068218, 51.599302],\n",
       "   'distance': None,\n",
       "   'datetimeFirst': {'utc': '2016-01-30T01:00:00Z',\n",
       "    'local': '2016-01-30T01:00:00Z'},\n",
       "   'datetimeLast': {'utc': '2025-07-16T16:00:00Z',\n",
       "    'local': '2025-07-16T17:00:00+01:00'}},\n",
       "  {'id': 61,\n",
       "   'name': 'Coya Población',\n",
       "   'locality': 'Machalí',\n",
       "   'timezone': 'America/Santiago',\n",
       "   'country': {'id': 3, 'code': 'CL', 'name': 'Chile'},\n",
       "   'owner': {'id': 4, 'name': 'Unknown Governmental Organization'},\n",
       "   'provider': {'id': 164, 'name': 'Chile - SINCA'},\n",
       "   'isMobile': False,\n",
       "   'isMonitor': True,\n",
       "   'instruments': [{'id': 2, 'name': 'Government Monitor'}],\n",
       "   'sensors': [{'id': 89,\n",
       "     'name': 'so2 µg/m³',\n",
       "     'parameter': {'id': 6,\n",
       "      'name': 'so2',\n",
       "      'units': 'µg/m³',\n",
       "      'displayName': 'SO₂ mass'}}],\n",
       "   'coordinates': {'latitude': -34.203524, 'longitude': -70.529854},\n",
       "   'licenses': None,\n",
       "   'bounds': [-70.529854, -34.203524, -70.529854, -34.203524],\n",
       "   'distance': None,\n",
       "   'datetimeFirst': {'utc': '2016-01-30T01:00:00Z',\n",
       "    'local': '2016-01-29T22:00:00-03:00'},\n",
       "   'datetimeLast': {'utc': '2025-07-31T09:00:00Z',\n",
       "    'local': '2025-07-31T05:00:00-04:00'}},\n",
       "  {'id': 63,\n",
       "   'name': 'Philippine-Stelleweg',\n",
       "   'locality': 'Braakman',\n",
       "   'timezone': 'Europe/Amsterdam',\n",
       "   'country': {'id': 94, 'code': 'NL', 'name': 'Netherlands'},\n",
       "   'owner': {'id': 4, 'name': 'Unknown Governmental Organization'},\n",
       "   'provider': {'id': 70, 'name': 'EEA'},\n",
       "   'isMobile': False,\n",
       "   'isMonitor': True,\n",
       "   'instruments': [{'id': 2, 'name': 'Government Monitor'}],\n",
       "   'sensors': [{'id': 4275843,\n",
       "     'name': 'no µg/m³',\n",
       "     'parameter': {'id': 19843,\n",
       "      'name': 'no',\n",
       "      'units': 'µg/m³',\n",
       "      'displayName': 'NO mass'}},\n",
       "    {'id': 4496,\n",
       "     'name': 'no2 µg/m³',\n",
       "     'parameter': {'id': 5,\n",
       "      'name': 'no2',\n",
       "      'units': 'µg/m³',\n",
       "      'displayName': 'NO₂ mass'}},\n",
       "    {'id': 4635,\n",
       "     'name': 'o3 µg/m³',\n",
       "     'parameter': {'id': 3,\n",
       "      'name': 'o3',\n",
       "      'units': 'µg/m³',\n",
       "      'displayName': 'O₃ mass'}},\n",
       "    {'id': 91,\n",
       "     'name': 'pm10 µg/m³',\n",
       "     'parameter': {'id': 1,\n",
       "      'name': 'pm10',\n",
       "      'units': 'µg/m³',\n",
       "      'displayName': 'PM10'}},\n",
       "    {'id': 4519,\n",
       "     'name': 'so2 µg/m³',\n",
       "     'parameter': {'id': 6,\n",
       "      'name': 'so2',\n",
       "      'units': 'µg/m³',\n",
       "      'displayName': 'SO₂ mass'}}],\n",
       "   'coordinates': {'latitude': 51.294498000233624,\n",
       "    'longitude': 3.7494839998425555},\n",
       "   'licenses': [{'id': 10,\n",
       "     'name': 'ODC-BY',\n",
       "     'attribution': {'name': 'Unknown Governmental Organization', 'url': None},\n",
       "     'dateFrom': '2016-11-17',\n",
       "     'dateTo': None}],\n",
       "   'bounds': [3.7494839998425555,\n",
       "    51.294498000233624,\n",
       "    3.7494839998425555,\n",
       "    51.294498000233624],\n",
       "   'distance': None,\n",
       "   'datetimeFirst': {'utc': '2016-01-30T01:00:00Z',\n",
       "    'local': '2016-01-30T02:00:00+01:00'},\n",
       "   'datetimeLast': {'utc': '2025-07-31T12:00:00Z',\n",
       "    'local': '2025-07-31T14:00:00+02:00'}},\n",
       "  {'id': 64,\n",
       "   'name': 'Mustang Bayou C619',\n",
       "   'locality': None,\n",
       "   'timezone': 'America/Chicago',\n",
       "   'country': {'id': 155, 'code': 'US', 'name': 'United States'},\n",
       "   'owner': {'id': 4, 'name': 'Unknown Governmental Organization'},\n",
       "   'provider': {'id': 280, 'name': 'Texas'},\n",
       "   'isMobile': False,\n",
       "   'isMonitor': True,\n",
       "   'instruments': [{'id': 2, 'name': 'Government Monitor'}],\n",
       "   'sensors': [{'id': 93,\n",
       "     'name': 'no2 ppm',\n",
       "     'parameter': {'id': 7,\n",
       "      'name': 'no2',\n",
       "      'units': 'ppm',\n",
       "      'displayName': 'NO₂'}},\n",
       "    {'id': 94,\n",
       "     'name': 'o3 ppm',\n",
       "     'parameter': {'id': 10,\n",
       "      'name': 'o3',\n",
       "      'units': 'ppm',\n",
       "      'displayName': 'O₃'}}],\n",
       "   'coordinates': {'latitude': 29.308562, 'longitude': -95.19991},\n",
       "   'licenses': None,\n",
       "   'bounds': [-95.19991, 29.308562, -95.19991, 29.308562],\n",
       "   'distance': None,\n",
       "   'datetimeFirst': None,\n",
       "   'datetimeLast': None},\n",
       "  {'id': 65,\n",
       "   'name': 'Punteras',\n",
       "   'locality': 'Chiguayante',\n",
       "   'timezone': 'America/Santiago',\n",
       "   'country': {'id': 3, 'code': 'CL', 'name': 'Chile'},\n",
       "   'owner': {'id': 4, 'name': 'Unknown Governmental Organization'},\n",
       "   'provider': {'id': 164, 'name': 'Chile - SINCA'},\n",
       "   'isMobile': False,\n",
       "   'isMonitor': True,\n",
       "   'instruments': [{'id': 2, 'name': 'Government Monitor'}],\n",
       "   'sensors': [{'id': 9210,\n",
       "     'name': 'co µg/m³',\n",
       "     'parameter': {'id': 4,\n",
       "      'name': 'co',\n",
       "      'units': 'µg/m³',\n",
       "      'displayName': 'CO mass'}},\n",
       "    {'id': 9211,\n",
       "     'name': 'no2 µg/m³',\n",
       "     'parameter': {'id': 5,\n",
       "      'name': 'no2',\n",
       "      'units': 'µg/m³',\n",
       "      'displayName': 'NO₂ mass'}},\n",
       "    {'id': 9213,\n",
       "     'name': 'o3 µg/m³',\n",
       "     'parameter': {'id': 3,\n",
       "      'name': 'o3',\n",
       "      'units': 'µg/m³',\n",
       "      'displayName': 'O₃ mass'}},\n",
       "    {'id': 1379,\n",
       "     'name': 'pm10 µg/m³',\n",
       "     'parameter': {'id': 1,\n",
       "      'name': 'pm10',\n",
       "      'units': 'µg/m³',\n",
       "      'displayName': 'PM10'}},\n",
       "    {'id': 95,\n",
       "     'name': 'pm25 µg/m³',\n",
       "     'parameter': {'id': 2,\n",
       "      'name': 'pm25',\n",
       "      'units': 'µg/m³',\n",
       "      'displayName': 'PM2.5'}},\n",
       "    {'id': 9215,\n",
       "     'name': 'so2 µg/m³',\n",
       "     'parameter': {'id': 6,\n",
       "      'name': 'so2',\n",
       "      'units': 'µg/m³',\n",
       "      'displayName': 'SO₂ mass'}}],\n",
       "   'coordinates': {'latitude': -36.923329602986,\n",
       "    'longitude': -73.036132300941},\n",
       "   'licenses': None,\n",
       "   'bounds': [-73.036132300941,\n",
       "    -36.923329602986,\n",
       "    -73.036132300941,\n",
       "    -36.923329602986],\n",
       "   'distance': None,\n",
       "   'datetimeFirst': {'utc': '2016-01-30T01:00:00Z',\n",
       "    'local': '2016-01-29T22:00:00-03:00'},\n",
       "   'datetimeLast': {'utc': '2025-07-31T11:00:00Z',\n",
       "    'local': '2025-07-31T07:00:00-04:00'}},\n",
       "  {'id': 66,\n",
       "   'name': 'Bang Khun Thian, Chom Thong',\n",
       "   'locality': None,\n",
       "   'timezone': 'Asia/Bangkok',\n",
       "   'country': {'id': 111, 'code': 'TH', 'name': 'Thailand'},\n",
       "   'owner': {'id': 4, 'name': 'Unknown Governmental Organization'},\n",
       "   'provider': {'id': 281, 'name': 'Thailand'},\n",
       "   'isMobile': False,\n",
       "   'isMonitor': True,\n",
       "   'instruments': [{'id': 2, 'name': 'Government Monitor'}],\n",
       "   'sensors': [{'id': 98,\n",
       "     'name': 'co ppm',\n",
       "     'parameter': {'id': 8,\n",
       "      'name': 'co',\n",
       "      'units': 'ppm',\n",
       "      'displayName': 'CO'}},\n",
       "    {'id': 99,\n",
       "     'name': 'no2 ppm',\n",
       "     'parameter': {'id': 7,\n",
       "      'name': 'no2',\n",
       "      'units': 'ppm',\n",
       "      'displayName': 'NO₂'}},\n",
       "    {'id': 96,\n",
       "     'name': 'o3 ppm',\n",
       "     'parameter': {'id': 10,\n",
       "      'name': 'o3',\n",
       "      'units': 'ppm',\n",
       "      'displayName': 'O₃'}},\n",
       "    {'id': 97,\n",
       "     'name': 'pm10 µg/m³',\n",
       "     'parameter': {'id': 1,\n",
       "      'name': 'pm10',\n",
       "      'units': 'µg/m³',\n",
       "      'displayName': 'PM10'}}],\n",
       "   'coordinates': {'latitude': 13.684229480854, 'longitude': 100.44598735492},\n",
       "   'licenses': None,\n",
       "   'bounds': [100.44598735492,\n",
       "    13.684229480854,\n",
       "    100.44598735492,\n",
       "    13.684229480854],\n",
       "   'distance': None,\n",
       "   'datetimeFirst': None,\n",
       "   'datetimeLast': None},\n",
       "  {'id': 67,\n",
       "   'name': 'Ventanas',\n",
       "   'locality': None,\n",
       "   'timezone': 'America/Santiago',\n",
       "   'country': {'id': 3, 'code': 'CL', 'name': 'Chile'},\n",
       "   'owner': {'id': 4, 'name': 'Unknown Governmental Organization'},\n",
       "   'provider': {'id': 164, 'name': 'Chile - SINCA'},\n",
       "   'isMobile': False,\n",
       "   'isMonitor': True,\n",
       "   'instruments': [{'id': 2, 'name': 'Government Monitor'}],\n",
       "   'sensors': [{'id': 9187,\n",
       "     'name': 'co µg/m³',\n",
       "     'parameter': {'id': 4,\n",
       "      'name': 'co',\n",
       "      'units': 'µg/m³',\n",
       "      'displayName': 'CO mass'}},\n",
       "    {'id': 103,\n",
       "     'name': 'no2 µg/m³',\n",
       "     'parameter': {'id': 5,\n",
       "      'name': 'no2',\n",
       "      'units': 'µg/m³',\n",
       "      'displayName': 'NO₂ mass'}},\n",
       "    {'id': 102,\n",
       "     'name': 'o3 µg/m³',\n",
       "     'parameter': {'id': 3,\n",
       "      'name': 'o3',\n",
       "      'units': 'µg/m³',\n",
       "      'displayName': 'O₃ mass'}},\n",
       "    {'id': 100,\n",
       "     'name': 'pm10 µg/m³',\n",
       "     'parameter': {'id': 1,\n",
       "      'name': 'pm10',\n",
       "      'units': 'µg/m³',\n",
       "      'displayName': 'PM10'}},\n",
       "    {'id': 104,\n",
       "     'name': 'pm25 µg/m³',\n",
       "     'parameter': {'id': 2,\n",
       "      'name': 'pm25',\n",
       "      'units': 'µg/m³',\n",
       "      'displayName': 'PM2.5'}},\n",
       "    {'id': 101,\n",
       "     'name': 'so2 µg/m³',\n",
       "     'parameter': {'id': 6,\n",
       "      'name': 'so2',\n",
       "      'units': 'µg/m³',\n",
       "      'displayName': 'SO₂ mass'}}],\n",
       "   'coordinates': {'latitude': -32.77898790221, 'longitude': -71.373031276855},\n",
       "   'licenses': None,\n",
       "   'bounds': [-71.373031276855,\n",
       "    -32.77898790221,\n",
       "    -71.373031276855,\n",
       "    -32.77898790221],\n",
       "   'distance': None,\n",
       "   'datetimeFirst': {'utc': '2016-02-12T05:00:00Z',\n",
       "    'local': '2016-02-12T02:00:00-03:00'},\n",
       "   'datetimeLast': {'utc': '2018-08-29T18:00:00Z',\n",
       "    'local': '2018-08-29T15:00:00-03:00'}},\n",
       "  {'id': 68,\n",
       "   'name': 'Cerro Merquín',\n",
       "   'locality': 'Coronel',\n",
       "   'timezone': 'America/Santiago',\n",
       "   'country': {'id': 3, 'code': 'CL', 'name': 'Chile'},\n",
       "   'owner': {'id': 4, 'name': 'Unknown Governmental Organization'},\n",
       "   'provider': {'id': 164, 'name': 'Chile - SINCA'},\n",
       "   'isMobile': False,\n",
       "   'isMonitor': True,\n",
       "   'instruments': [{'id': 2, 'name': 'Government Monitor'}],\n",
       "   'sensors': [{'id': 5294,\n",
       "     'name': 'pm10 µg/m³',\n",
       "     'parameter': {'id': 1,\n",
       "      'name': 'pm10',\n",
       "      'units': 'µg/m³',\n",
       "      'displayName': 'PM10'}},\n",
       "    {'id': 105,\n",
       "     'name': 'pm25 µg/m³',\n",
       "     'parameter': {'id': 2,\n",
       "      'name': 'pm25',\n",
       "      'units': 'µg/m³',\n",
       "      'displayName': 'PM2.5'}},\n",
       "    {'id': 655,\n",
       "     'name': 'so2 µg/m³',\n",
       "     'parameter': {'id': 6,\n",
       "      'name': 'so2',\n",
       "      'units': 'µg/m³',\n",
       "      'displayName': 'SO₂ mass'}}],\n",
       "   'coordinates': {'latitude': -37.021182877699,\n",
       "    'longitude': -73.149555550926},\n",
       "   'licenses': None,\n",
       "   'bounds': [-73.149555550926,\n",
       "    -37.021182877699,\n",
       "    -73.149555550926,\n",
       "    -37.021182877699],\n",
       "   'distance': None,\n",
       "   'datetimeFirst': {'utc': '2016-01-30T01:00:00Z',\n",
       "    'local': '2016-01-29T22:00:00-03:00'},\n",
       "   'datetimeLast': {'utc': '2025-07-31T11:00:00Z',\n",
       "    'local': '2025-07-31T07:00:00-04:00'}},\n",
       "  {'id': 69,\n",
       "   'name': 'Kingston College',\n",
       "   'locality': 'Concepción',\n",
       "   'timezone': 'America/Santiago',\n",
       "   'country': {'id': 3, 'code': 'CL', 'name': 'Chile'},\n",
       "   'owner': {'id': 4, 'name': 'Unknown Governmental Organization'},\n",
       "   'provider': {'id': 164, 'name': 'Chile - SINCA'},\n",
       "   'isMobile': False,\n",
       "   'isMonitor': True,\n",
       "   'instruments': [{'id': 2, 'name': 'Government Monitor'}],\n",
       "   'sensors': [{'id': 19858,\n",
       "     'name': 'co µg/m³',\n",
       "     'parameter': {'id': 4,\n",
       "      'name': 'co',\n",
       "      'units': 'µg/m³',\n",
       "      'displayName': 'CO mass'}},\n",
       "    {'id': 2171,\n",
       "     'name': 'o3 µg/m³',\n",
       "     'parameter': {'id': 3,\n",
       "      'name': 'o3',\n",
       "      'units': 'µg/m³',\n",
       "      'displayName': 'O₃ mass'}},\n",
       "    {'id': 5187,\n",
       "     'name': 'pm10 µg/m³',\n",
       "     'parameter': {'id': 1,\n",
       "      'name': 'pm10',\n",
       "      'units': 'µg/m³',\n",
       "      'displayName': 'PM10'}},\n",
       "    {'id': 106,\n",
       "     'name': 'pm25 µg/m³',\n",
       "     'parameter': {'id': 2,\n",
       "      'name': 'pm25',\n",
       "      'units': 'µg/m³',\n",
       "      'displayName': 'PM2.5'}},\n",
       "    {'id': 19857,\n",
       "     'name': 'so2 µg/m³',\n",
       "     'parameter': {'id': 6,\n",
       "      'name': 'so2',\n",
       "      'units': 'µg/m³',\n",
       "      'displayName': 'SO₂ mass'}}],\n",
       "   'coordinates': {'latitude': -36.784653741124,\n",
       "    'longitude': -73.052063025795},\n",
       "   'licenses': None,\n",
       "   'bounds': [-73.052063025795,\n",
       "    -36.784653741124,\n",
       "    -73.052063025795,\n",
       "    -36.784653741124],\n",
       "   'distance': None,\n",
       "   'datetimeFirst': {'utc': '2016-01-30T01:00:00Z',\n",
       "    'local': '2016-01-29T22:00:00-03:00'},\n",
       "   'datetimeLast': {'utc': '2025-07-31T11:00:00Z',\n",
       "    'local': '2025-07-31T07:00:00-04:00'}},\n",
       "  {'id': 71,\n",
       "   'name': 'Biest Houtakker-Biestsestraat',\n",
       "   'locality': 'Houtakker',\n",
       "   'timezone': 'Europe/Amsterdam',\n",
       "   'country': {'id': 94, 'code': 'NL', 'name': 'Netherlands'},\n",
       "   'owner': {'id': 4, 'name': 'Unknown Governmental Organization'},\n",
       "   'provider': {'id': 70, 'name': 'EEA'},\n",
       "   'isMobile': False,\n",
       "   'isMonitor': True,\n",
       "   'instruments': [{'id': 2, 'name': 'Government Monitor'}],\n",
       "   'sensors': [{'id': 4276107,\n",
       "     'name': 'no µg/m³',\n",
       "     'parameter': {'id': 19843,\n",
       "      'name': 'no',\n",
       "      'units': 'µg/m³',\n",
       "      'displayName': 'NO mass'}},\n",
       "    {'id': 109,\n",
       "     'name': 'no2 µg/m³',\n",
       "     'parameter': {'id': 5,\n",
       "      'name': 'no2',\n",
       "      'units': 'µg/m³',\n",
       "      'displayName': 'NO₂ mass'}},\n",
       "    {'id': 4139,\n",
       "     'name': 'o3 µg/m³',\n",
       "     'parameter': {'id': 3,\n",
       "      'name': 'o3',\n",
       "      'units': 'µg/m³',\n",
       "      'displayName': 'O₃ mass'}},\n",
       "    {'id': 4196,\n",
       "     'name': 'pm10 µg/m³',\n",
       "     'parameter': {'id': 1,\n",
       "      'name': 'pm10',\n",
       "      'units': 'µg/m³',\n",
       "      'displayName': 'PM10'}},\n",
       "    {'id': 4610,\n",
       "     'name': 'pm25 µg/m³',\n",
       "     'parameter': {'id': 2,\n",
       "      'name': 'pm25',\n",
       "      'units': 'µg/m³',\n",
       "      'displayName': 'PM2.5'}}],\n",
       "   'coordinates': {'latitude': 51.51843999991451,\n",
       "    'longitude': 5.148450000227909},\n",
       "   'licenses': [{'id': 10,\n",
       "     'name': 'ODC-BY',\n",
       "     'attribution': {'name': 'Unknown Governmental Organization', 'url': None},\n",
       "     'dateFrom': '2016-11-17',\n",
       "     'dateTo': None}],\n",
       "   'bounds': [5.148450000227909,\n",
       "    51.51843999991451,\n",
       "    5.148450000227909,\n",
       "    51.51843999991451],\n",
       "   'distance': None,\n",
       "   'datetimeFirst': {'utc': '2016-01-30T01:00:00Z',\n",
       "    'local': '2016-01-30T02:00:00+01:00'},\n",
       "   'datetimeLast': {'utc': '2025-07-31T12:00:00Z',\n",
       "    'local': '2025-07-31T14:00:00+02:00'}},\n",
       "  {'id': 72,\n",
       "   'name': 'Curicó',\n",
       "   'locality': 'Curicó',\n",
       "   'timezone': 'America/Santiago',\n",
       "   'country': {'id': 3, 'code': 'CL', 'name': 'Chile'},\n",
       "   'owner': {'id': 4, 'name': 'Unknown Governmental Organization'},\n",
       "   'provider': {'id': 164, 'name': 'Chile - SINCA'},\n",
       "   'isMobile': False,\n",
       "   'isMonitor': True,\n",
       "   'instruments': [{'id': 2, 'name': 'Government Monitor'}],\n",
       "   'sensors': [{'id': 110,\n",
       "     'name': 'pm10 µg/m³',\n",
       "     'parameter': {'id': 1,\n",
       "      'name': 'pm10',\n",
       "      'units': 'µg/m³',\n",
       "      'displayName': 'PM10'}},\n",
       "    {'id': 3538,\n",
       "     'name': 'pm25 µg/m³',\n",
       "     'parameter': {'id': 2,\n",
       "      'name': 'pm25',\n",
       "      'units': 'µg/m³',\n",
       "      'displayName': 'PM2.5'}}],\n",
       "   'coordinates': {'latitude': -34.974925077541,\n",
       "    'longitude': -71.233967512329},\n",
       "   'licenses': None,\n",
       "   'bounds': [-71.233967512329,\n",
       "    -34.974925077541,\n",
       "    -71.233967512329,\n",
       "    -34.974925077541],\n",
       "   'distance': None,\n",
       "   'datetimeFirst': {'utc': '2016-01-30T01:00:00Z',\n",
       "    'local': '2016-01-29T22:00:00-03:00'},\n",
       "   'datetimeLast': {'utc': '2025-07-31T11:00:00Z',\n",
       "    'local': '2025-07-31T07:00:00-04:00'}},\n",
       "  {'id': 73,\n",
       "   'name': 'Coyhaique II',\n",
       "   'locality': 'Coyhaique',\n",
       "   'timezone': 'America/Santiago',\n",
       "   'country': {'id': 3, 'code': 'CL', 'name': 'Chile'},\n",
       "   'owner': {'id': 4, 'name': 'Unknown Governmental Organization'},\n",
       "   'provider': {'id': 164, 'name': 'Chile - SINCA'},\n",
       "   'isMobile': False,\n",
       "   'isMonitor': True,\n",
       "   'instruments': [{'id': 2, 'name': 'Government Monitor'}],\n",
       "   'sensors': [{'id': 4422,\n",
       "     'name': 'co µg/m³',\n",
       "     'parameter': {'id': 4,\n",
       "      'name': 'co',\n",
       "      'units': 'µg/m³',\n",
       "      'displayName': 'CO mass'}},\n",
       "    {'id': 4425,\n",
       "     'name': 'no2 µg/m³',\n",
       "     'parameter': {'id': 5,\n",
       "      'name': 'no2',\n",
       "      'units': 'µg/m³',\n",
       "      'displayName': 'NO₂ mass'}},\n",
       "    {'id': 4428,\n",
       "     'name': 'o3 µg/m³',\n",
       "     'parameter': {'id': 3,\n",
       "      'name': 'o3',\n",
       "      'units': 'µg/m³',\n",
       "      'displayName': 'O₃ mass'}},\n",
       "    {'id': 3511,\n",
       "     'name': 'pm10 µg/m³',\n",
       "     'parameter': {'id': 1,\n",
       "      'name': 'pm10',\n",
       "      'units': 'µg/m³',\n",
       "      'displayName': 'PM10'}},\n",
       "    {'id': 1738,\n",
       "     'name': 'pm25 µg/m³',\n",
       "     'parameter': {'id': 2,\n",
       "      'name': 'pm25',\n",
       "      'units': 'µg/m³',\n",
       "      'displayName': 'PM2.5'}},\n",
       "    {'id': 111,\n",
       "     'name': 'so2 µg/m³',\n",
       "     'parameter': {'id': 6,\n",
       "      'name': 'so2',\n",
       "      'units': 'µg/m³',\n",
       "      'displayName': 'SO₂ mass'}}],\n",
       "   'coordinates': {'latitude': -45.579045667164,\n",
       "    'longitude': -72.049964505825},\n",
       "   'licenses': None,\n",
       "   'bounds': [-72.049964505825,\n",
       "    -45.579045667164,\n",
       "    -72.049964505825,\n",
       "    -45.579045667164],\n",
       "   'distance': None,\n",
       "   'datetimeFirst': {'utc': '2016-01-30T01:00:00Z',\n",
       "    'local': '2016-01-29T22:00:00-03:00'},\n",
       "   'datetimeLast': {'utc': '2025-07-31T11:00:00Z',\n",
       "    'local': '2025-07-31T07:00:00-04:00'}},\n",
       "  {'id': 74,\n",
       "   'name': 'Leiden-Willem de Zwijgerlaan',\n",
       "   'locality': None,\n",
       "   'timezone': 'Europe/Amsterdam',\n",
       "   'country': {'id': 94, 'code': 'NL', 'name': 'Netherlands'},\n",
       "   'owner': {'id': 4, 'name': 'Unknown Governmental Organization'},\n",
       "   'provider': {'id': 210, 'name': 'Netherlands'},\n",
       "   'isMobile': False,\n",
       "   'isMonitor': True,\n",
       "   'instruments': [{'id': 2, 'name': 'Government Monitor'}],\n",
       "   'sensors': [{'id': 112,\n",
       "     'name': 'pm10 µg/m³',\n",
       "     'parameter': {'id': 1,\n",
       "      'name': 'pm10',\n",
       "      'units': 'µg/m³',\n",
       "      'displayName': 'PM10'}}],\n",
       "   'coordinates': {'latitude': 52.1678, 'longitude': 4.50756},\n",
       "   'licenses': None,\n",
       "   'bounds': [4.50756, 52.1678, 4.50756, 52.1678],\n",
       "   'distance': None,\n",
       "   'datetimeFirst': None,\n",
       "   'datetimeLast': None},\n",
       "  {'id': 76,\n",
       "   'name': 'De Zilk-Vogelaarsdreef',\n",
       "   'locality': 'De Zilk',\n",
       "   'timezone': 'Europe/Amsterdam',\n",
       "   'country': {'id': 94, 'code': 'NL', 'name': 'Netherlands'},\n",
       "   'owner': {'id': 4, 'name': 'Unknown Governmental Organization'},\n",
       "   'provider': {'id': 70, 'name': 'EEA'},\n",
       "   'isMobile': False,\n",
       "   'isMonitor': True,\n",
       "   'instruments': [{'id': 2, 'name': 'Government Monitor'}],\n",
       "   'sensors': [{'id': 4275734,\n",
       "     'name': 'no µg/m³',\n",
       "     'parameter': {'id': 19843,\n",
       "      'name': 'no',\n",
       "      'units': 'µg/m³',\n",
       "      'displayName': 'NO mass'}},\n",
       "    {'id': 4155,\n",
       "     'name': 'no2 µg/m³',\n",
       "     'parameter': {'id': 5,\n",
       "      'name': 'no2',\n",
       "      'units': 'µg/m³',\n",
       "      'displayName': 'NO₂ mass'}},\n",
       "    {'id': 4152,\n",
       "     'name': 'o3 µg/m³',\n",
       "     'parameter': {'id': 3,\n",
       "      'name': 'o3',\n",
       "      'units': 'µg/m³',\n",
       "      'displayName': 'O₃ mass'}},\n",
       "    {'id': 4537,\n",
       "     'name': 'pm10 µg/m³',\n",
       "     'parameter': {'id': 1,\n",
       "      'name': 'pm10',\n",
       "      'units': 'µg/m³',\n",
       "      'displayName': 'PM10'}},\n",
       "    {'id': 115,\n",
       "     'name': 'pm25 µg/m³',\n",
       "     'parameter': {'id': 2,\n",
       "      'name': 'pm25',\n",
       "      'units': 'µg/m³',\n",
       "      'displayName': 'PM2.5'}},\n",
       "    {'id': 4150,\n",
       "     'name': 'so2 µg/m³',\n",
       "     'parameter': {'id': 6,\n",
       "      'name': 'so2',\n",
       "      'units': 'µg/m³',\n",
       "      'displayName': 'SO₂ mass'}}],\n",
       "   'coordinates': {'latitude': 52.296555999830005,\n",
       "    'longitude': 4.51081699998525},\n",
       "   'licenses': [{'id': 10,\n",
       "     'name': 'ODC-BY',\n",
       "     'attribution': {'name': 'Unknown Governmental Organization', 'url': None},\n",
       "     'dateFrom': '2016-11-17',\n",
       "     'dateTo': None}],\n",
       "   'bounds': [4.51081699998525,\n",
       "    52.296555999830005,\n",
       "    4.51081699998525,\n",
       "    52.296555999830005],\n",
       "   'distance': None,\n",
       "   'datetimeFirst': {'utc': '2016-01-30T01:00:00Z',\n",
       "    'local': '2016-01-30T02:00:00+01:00'},\n",
       "   'datetimeLast': {'utc': '2025-07-31T12:00:00Z',\n",
       "    'local': '2025-07-31T14:00:00+02:00'}},\n",
       "  {'id': 77,\n",
       "   'name': 'Hoek v. Holland-Berghaven',\n",
       "   'locality': 'Hoek v. Holland',\n",
       "   'timezone': 'Europe/Amsterdam',\n",
       "   'country': {'id': 94, 'code': 'NL', 'name': 'Netherlands'},\n",
       "   'owner': {'id': 4, 'name': 'Unknown Governmental Organization'},\n",
       "   'provider': {'id': 70, 'name': 'EEA'},\n",
       "   'isMobile': False,\n",
       "   'isMonitor': True,\n",
       "   'instruments': [{'id': 2, 'name': 'Government Monitor'}],\n",
       "   'sensors': [{'id': 4276124,\n",
       "     'name': 'no µg/m³',\n",
       "     'parameter': {'id': 19843,\n",
       "      'name': 'no',\n",
       "      'units': 'µg/m³',\n",
       "      'displayName': 'NO mass'}},\n",
       "    {'id': 116,\n",
       "     'name': 'no2 µg/m³',\n",
       "     'parameter': {'id': 5,\n",
       "      'name': 'no2',\n",
       "      'units': 'µg/m³',\n",
       "      'displayName': 'NO₂ mass'}},\n",
       "    {'id': 4218,\n",
       "     'name': 'o3 µg/m³',\n",
       "     'parameter': {'id': 3,\n",
       "      'name': 'o3',\n",
       "      'units': 'µg/m³',\n",
       "      'displayName': 'O₃ mass'}},\n",
       "    {'id': 4219,\n",
       "     'name': 'pm10 µg/m³',\n",
       "     'parameter': {'id': 1,\n",
       "      'name': 'pm10',\n",
       "      'units': 'µg/m³',\n",
       "      'displayName': 'PM10'}},\n",
       "    {'id': 4221,\n",
       "     'name': 'pm25 µg/m³',\n",
       "     'parameter': {'id': 2,\n",
       "      'name': 'pm25',\n",
       "      'units': 'µg/m³',\n",
       "      'displayName': 'PM2.5'}},\n",
       "    {'id': 1301476,\n",
       "     'name': 'so2 µg/m³',\n",
       "     'parameter': {'id': 6,\n",
       "      'name': 'so2',\n",
       "      'units': 'µg/m³',\n",
       "      'displayName': 'SO₂ mass'}}],\n",
       "   'coordinates': {'latitude': 51.977803000229876,\n",
       "    'longitude': 4.121944000373796},\n",
       "   'licenses': [{'id': 10,\n",
       "     'name': 'ODC-BY',\n",
       "     'attribution': {'name': 'Unknown Governmental Organization', 'url': None},\n",
       "     'dateFrom': '2016-11-17',\n",
       "     'dateTo': None}],\n",
       "   'bounds': [4.121944000373796,\n",
       "    51.977803000229876,\n",
       "    4.121944000373796,\n",
       "    51.977803000229876],\n",
       "   'distance': None,\n",
       "   'datetimeFirst': {'utc': '2016-01-30T01:00:00Z',\n",
       "    'local': '2016-01-30T02:00:00+01:00'},\n",
       "   'datetimeLast': {'utc': '2025-07-31T12:00:00Z',\n",
       "    'local': '2025-07-31T14:00:00+02:00'}},\n",
       "  {'id': 79,\n",
       "   'name': 'Hilversum-J. Gerardtsweg',\n",
       "   'locality': None,\n",
       "   'timezone': 'Europe/Amsterdam',\n",
       "   'country': {'id': 94, 'code': 'NL', 'name': 'Netherlands'},\n",
       "   'owner': {'id': 4, 'name': 'Unknown Governmental Organization'},\n",
       "   'provider': {'id': 210, 'name': 'Netherlands'},\n",
       "   'isMobile': False,\n",
       "   'isMonitor': True,\n",
       "   'instruments': [{'id': 2, 'name': 'Government Monitor'}],\n",
       "   'sensors': [{'id': 4608,\n",
       "     'name': 'no2 µg/m³',\n",
       "     'parameter': {'id': 5,\n",
       "      'name': 'no2',\n",
       "      'units': 'µg/m³',\n",
       "      'displayName': 'NO₂ mass'}},\n",
       "    {'id': 4621,\n",
       "     'name': 'pm10 µg/m³',\n",
       "     'parameter': {'id': 1,\n",
       "      'name': 'pm10',\n",
       "      'units': 'µg/m³',\n",
       "      'displayName': 'PM10'}},\n",
       "    {'id': 118,\n",
       "     'name': 'pm25 µg/m³',\n",
       "     'parameter': {'id': 2,\n",
       "      'name': 'pm25',\n",
       "      'units': 'µg/m³',\n",
       "      'displayName': 'PM2.5'}}],\n",
       "   'coordinates': {'latitude': 52.23510000000001, 'longitude': 5.18155},\n",
       "   'licenses': None,\n",
       "   'bounds': [5.18155, 52.23510000000001, 5.18155, 52.23510000000001],\n",
       "   'distance': None,\n",
       "   'datetimeFirst': {'utc': '2016-01-30T01:00:00Z',\n",
       "    'local': '2016-01-30T02:00:00+01:00'},\n",
       "   'datetimeLast': {'utc': '2018-06-25T10:00:00Z',\n",
       "    'local': '2018-06-25T12:00:00+02:00'}},\n",
       "  {'id': 80,\n",
       "   'name': 'Amsterdam-Van Diemenstraat',\n",
       "   'locality': 'Amsterdam',\n",
       "   'timezone': 'Europe/Amsterdam',\n",
       "   'country': {'id': 94, 'code': 'NL', 'name': 'Netherlands'},\n",
       "   'owner': {'id': 4, 'name': 'Unknown Governmental Organization'},\n",
       "   'provider': {'id': 70, 'name': 'EEA'},\n",
       "   'isMobile': False,\n",
       "   'isMonitor': True,\n",
       "   'instruments': [{'id': 2, 'name': 'Government Monitor'}],\n",
       "   'sensors': [{'id': 164,\n",
       "     'name': 'co µg/m³',\n",
       "     'parameter': {'id': 4,\n",
       "      'name': 'co',\n",
       "      'units': 'µg/m³',\n",
       "      'displayName': 'CO mass'}},\n",
       "    {'id': 4275959,\n",
       "     'name': 'no µg/m³',\n",
       "     'parameter': {'id': 19843,\n",
       "      'name': 'no',\n",
       "      'units': 'µg/m³',\n",
       "      'displayName': 'NO mass'}},\n",
       "    {'id': 4244,\n",
       "     'name': 'no2 µg/m³',\n",
       "     'parameter': {'id': 5,\n",
       "      'name': 'no2',\n",
       "      'units': 'µg/m³',\n",
       "      'displayName': 'NO₂ mass'}},\n",
       "    {'id': 4186,\n",
       "     'name': 'o3 µg/m³',\n",
       "     'parameter': {'id': 3,\n",
       "      'name': 'o3',\n",
       "      'units': 'µg/m³',\n",
       "      'displayName': 'O₃ mass'}},\n",
       "    {'id': 119,\n",
       "     'name': 'pm10 µg/m³',\n",
       "     'parameter': {'id': 1,\n",
       "      'name': 'pm10',\n",
       "      'units': 'µg/m³',\n",
       "      'displayName': 'PM10'}},\n",
       "    {'id': 4235,\n",
       "     'name': 'pm25 µg/m³',\n",
       "     'parameter': {'id': 2,\n",
       "      'name': 'pm25',\n",
       "      'units': 'µg/m³',\n",
       "      'displayName': 'PM2.5'}}],\n",
       "   'coordinates': {'latitude': 52.389983000188224,\n",
       "    'longitude': 4.88781099987638},\n",
       "   'licenses': [{'id': 10,\n",
       "     'name': 'ODC-BY',\n",
       "     'attribution': {'name': 'Unknown Governmental Organization', 'url': None},\n",
       "     'dateFrom': '2016-11-17',\n",
       "     'dateTo': None}],\n",
       "   'bounds': [4.88781099987638,\n",
       "    52.389983000188224,\n",
       "    4.88781099987638,\n",
       "    52.389983000188224],\n",
       "   'distance': None,\n",
       "   'datetimeFirst': {'utc': '2016-01-30T01:00:00Z',\n",
       "    'local': '2016-01-30T02:00:00+01:00'},\n",
       "   'datetimeLast': {'utc': '2025-07-31T12:00:00Z',\n",
       "    'local': '2025-07-31T14:00:00+02:00'}},\n",
       "  {'id': 81,\n",
       "   'name': 'Coronel Norte',\n",
       "   'locality': None,\n",
       "   'timezone': 'America/Santiago',\n",
       "   'country': {'id': 3, 'code': 'CL', 'name': 'Chile'},\n",
       "   'owner': {'id': 4, 'name': 'Unknown Governmental Organization'},\n",
       "   'provider': {'id': 164, 'name': 'Chile - SINCA'},\n",
       "   'isMobile': False,\n",
       "   'isMonitor': True,\n",
       "   'instruments': [{'id': 2, 'name': 'Government Monitor'}],\n",
       "   'sensors': [{'id': 5127,\n",
       "     'name': 'co µg/m³',\n",
       "     'parameter': {'id': 4,\n",
       "      'name': 'co',\n",
       "      'units': 'µg/m³',\n",
       "      'displayName': 'CO mass'}},\n",
       "    {'id': 120,\n",
       "     'name': 'o3 µg/m³',\n",
       "     'parameter': {'id': 3,\n",
       "      'name': 'o3',\n",
       "      'units': 'µg/m³',\n",
       "      'displayName': 'O₃ mass'}},\n",
       "    {'id': 5410,\n",
       "     'name': 'pm10 µg/m³',\n",
       "     'parameter': {'id': 1,\n",
       "      'name': 'pm10',\n",
       "      'units': 'µg/m³',\n",
       "      'displayName': 'PM10'}},\n",
       "    {'id': 5155,\n",
       "     'name': 'so2 µg/m³',\n",
       "     'parameter': {'id': 6,\n",
       "      'name': 'so2',\n",
       "      'units': 'µg/m³',\n",
       "      'displayName': 'SO₂ mass'}}],\n",
       "   'coordinates': {'latitude': -37.008669, 'longitude': -73.148086},\n",
       "   'licenses': None,\n",
       "   'bounds': [-73.148086, -37.008669, -73.148086, -37.008669],\n",
       "   'distance': None,\n",
       "   'datetimeFirst': {'utc': '2016-01-30T01:00:00Z',\n",
       "    'local': '2016-01-29T22:00:00-03:00'},\n",
       "   'datetimeLast': {'utc': '2017-05-27T14:00:00Z',\n",
       "    'local': '2017-05-27T10:00:00-04:00'}},\n",
       "  {'id': 82,\n",
       "   'name': 'Haarlem-Schipholweg',\n",
       "   'locality': 'Haarlem',\n",
       "   'timezone': 'Europe/Amsterdam',\n",
       "   'country': {'id': 94, 'code': 'NL', 'name': 'Netherlands'},\n",
       "   'owner': {'id': 4, 'name': 'Unknown Governmental Organization'},\n",
       "   'provider': {'id': 70, 'name': 'EEA'},\n",
       "   'isMobile': False,\n",
       "   'isMonitor': True,\n",
       "   'instruments': [{'id': 2, 'name': 'Government Monitor'}],\n",
       "   'sensors': [{'id': 4276054,\n",
       "     'name': 'no µg/m³',\n",
       "     'parameter': {'id': 19843,\n",
       "      'name': 'no',\n",
       "      'units': 'µg/m³',\n",
       "      'displayName': 'NO mass'}},\n",
       "    {'id': 4585,\n",
       "     'name': 'no2 µg/m³',\n",
       "     'parameter': {'id': 5,\n",
       "      'name': 'no2',\n",
       "      'units': 'µg/m³',\n",
       "      'displayName': 'NO₂ mass'}},\n",
       "    {'id': 4561,\n",
       "     'name': 'o3 µg/m³',\n",
       "     'parameter': {'id': 3,\n",
       "      'name': 'o3',\n",
       "      'units': 'µg/m³',\n",
       "      'displayName': 'O₃ mass'}},\n",
       "    {'id': 121,\n",
       "     'name': 'pm10 µg/m³',\n",
       "     'parameter': {'id': 1,\n",
       "      'name': 'pm10',\n",
       "      'units': 'µg/m³',\n",
       "      'displayName': 'PM10'}}],\n",
       "   'coordinates': {'latitude': 52.37050800002991,\n",
       "    'longitude': 4.642319000180212},\n",
       "   'licenses': [{'id': 10,\n",
       "     'name': 'ODC-BY',\n",
       "     'attribution': {'name': 'Unknown Governmental Organization', 'url': None},\n",
       "     'dateFrom': '2016-11-17',\n",
       "     'dateTo': None}],\n",
       "   'bounds': [4.642319000180212,\n",
       "    52.37050800002991,\n",
       "    4.642319000180212,\n",
       "    52.37050800002991],\n",
       "   'distance': None,\n",
       "   'datetimeFirst': {'utc': '2016-01-30T01:00:00Z',\n",
       "    'local': '2016-01-30T02:00:00+01:00'},\n",
       "   'datetimeLast': {'utc': '2025-07-31T12:00:00Z',\n",
       "    'local': '2025-07-31T14:00:00+02:00'}},\n",
       "  {'id': 85,\n",
       "   'name': 'Hellendoorn-Luttenbergerweg',\n",
       "   'locality': 'Hellendoorn',\n",
       "   'timezone': 'Europe/Amsterdam',\n",
       "   'country': {'id': 94, 'code': 'NL', 'name': 'Netherlands'},\n",
       "   'owner': {'id': 4, 'name': 'Unknown Governmental Organization'},\n",
       "   'provider': {'id': 70, 'name': 'EEA'},\n",
       "   'isMobile': False,\n",
       "   'isMonitor': True,\n",
       "   'instruments': [{'id': 2, 'name': 'Government Monitor'}],\n",
       "   'sensors': [{'id': 4275730,\n",
       "     'name': 'no µg/m³',\n",
       "     'parameter': {'id': 19843,\n",
       "      'name': 'no',\n",
       "      'units': 'µg/m³',\n",
       "      'displayName': 'NO mass'}},\n",
       "    {'id': 4411,\n",
       "     'name': 'no2 µg/m³',\n",
       "     'parameter': {'id': 5,\n",
       "      'name': 'no2',\n",
       "      'units': 'µg/m³',\n",
       "      'displayName': 'NO₂ mass'}},\n",
       "    {'id': 4413,\n",
       "     'name': 'o3 µg/m³',\n",
       "     'parameter': {'id': 3,\n",
       "      'name': 'o3',\n",
       "      'units': 'µg/m³',\n",
       "      'displayName': 'O₃ mass'}},\n",
       "    {'id': 132,\n",
       "     'name': 'pm10 µg/m³',\n",
       "     'parameter': {'id': 1,\n",
       "      'name': 'pm10',\n",
       "      'units': 'µg/m³',\n",
       "      'displayName': 'PM10'}}],\n",
       "   'coordinates': {'latitude': 52.388271999985,\n",
       "    'longitude': 6.402932999609704},\n",
       "   'licenses': [{'id': 10,\n",
       "     'name': 'ODC-BY',\n",
       "     'attribution': {'name': 'Unknown Governmental Organization', 'url': None},\n",
       "     'dateFrom': '2016-11-17',\n",
       "     'dateTo': None}],\n",
       "   'bounds': [6.402932999609704,\n",
       "    52.388271999985,\n",
       "    6.402932999609704,\n",
       "    52.388271999985],\n",
       "   'distance': None,\n",
       "   'datetimeFirst': {'utc': '2016-01-30T01:00:00Z',\n",
       "    'local': '2016-01-30T02:00:00+01:00'},\n",
       "   'datetimeLast': {'utc': '2025-07-31T12:00:00Z',\n",
       "    'local': '2025-07-31T14:00:00+02:00'}},\n",
       "  {'id': 86,\n",
       "   'name': 'De Rips-Blaarpeelweg',\n",
       "   'locality': None,\n",
       "   'timezone': 'Europe/Amsterdam',\n",
       "   'country': {'id': 94, 'code': 'NL', 'name': 'Netherlands'},\n",
       "   'owner': {'id': 4, 'name': 'Unknown Governmental Organization'},\n",
       "   'provider': {'id': 210, 'name': 'Netherlands'},\n",
       "   'isMobile': False,\n",
       "   'isMonitor': True,\n",
       "   'instruments': [{'id': 2, 'name': 'Government Monitor'}],\n",
       "   'sensors': [{'id': 133,\n",
       "     'name': 'pm10 µg/m³',\n",
       "     'parameter': {'id': 1,\n",
       "      'name': 'pm10',\n",
       "      'units': 'µg/m³',\n",
       "      'displayName': 'PM10'}}],\n",
       "   'coordinates': {'latitude': 51.5475, 'longitude': 5.8382},\n",
       "   'licenses': None,\n",
       "   'bounds': [5.8382, 51.5475, 5.8382, 51.5475],\n",
       "   'distance': None,\n",
       "   'datetimeFirst': None,\n",
       "   'datetimeLast': None},\n",
       "  {'id': 87,\n",
       "   'name': 'De Rips-Klotterpeellaan',\n",
       "   'locality': None,\n",
       "   'timezone': 'Europe/Amsterdam',\n",
       "   'country': {'id': 94, 'code': 'NL', 'name': 'Netherlands'},\n",
       "   'owner': {'id': 4, 'name': 'Unknown Governmental Organization'},\n",
       "   'provider': {'id': 210, 'name': 'Netherlands'},\n",
       "   'isMobile': False,\n",
       "   'isMonitor': True,\n",
       "   'instruments': [{'id': 2, 'name': 'Government Monitor'}],\n",
       "   'sensors': [{'id': 134,\n",
       "     'name': 'pm10 µg/m³',\n",
       "     'parameter': {'id': 1,\n",
       "      'name': 'pm10',\n",
       "      'units': 'µg/m³',\n",
       "      'displayName': 'PM10'}}],\n",
       "   'coordinates': {'latitude': 51.5359, 'longitude': 5.80859},\n",
       "   'licenses': None,\n",
       "   'bounds': [5.80859, 51.5359, 5.80859, 51.5359],\n",
       "   'distance': None,\n",
       "   'datetimeFirst': None,\n",
       "   'datetimeLast': None},\n",
       "  {'id': 90,\n",
       "   'name': 'Misheel expo',\n",
       "   'locality': None,\n",
       "   'timezone': 'Asia/Ulaanbaatar',\n",
       "   'country': {'id': 47, 'code': 'MN', 'name': 'Mongolia'},\n",
       "   'owner': {'id': 4, 'name': 'Unknown Governmental Organization'},\n",
       "   'provider': {'id': 116, 'name': 'Agaar.mn'},\n",
       "   'isMobile': False,\n",
       "   'isMonitor': True,\n",
       "   'instruments': [{'id': 2, 'name': 'Government Monitor'}],\n",
       "   'sensors': [{'id': 13218,\n",
       "     'name': 'co µg/m³',\n",
       "     'parameter': {'id': 4,\n",
       "      'name': 'co',\n",
       "      'units': 'µg/m³',\n",
       "      'displayName': 'CO mass'}},\n",
       "    {'id': 607,\n",
       "     'name': 'no2 µg/m³',\n",
       "     'parameter': {'id': 5,\n",
       "      'name': 'no2',\n",
       "      'units': 'µg/m³',\n",
       "      'displayName': 'NO₂ mass'}},\n",
       "    {'id': 5334,\n",
       "     'name': 'o3 µg/m³',\n",
       "     'parameter': {'id': 3,\n",
       "      'name': 'o3',\n",
       "      'units': 'µg/m³',\n",
       "      'displayName': 'O₃ mass'}},\n",
       "    {'id': 143,\n",
       "     'name': 'pm10 µg/m³',\n",
       "     'parameter': {'id': 1,\n",
       "      'name': 'pm10',\n",
       "      'units': 'µg/m³',\n",
       "      'displayName': 'PM10'}},\n",
       "    {'id': 5378,\n",
       "     'name': 'so2 µg/m³',\n",
       "     'parameter': {'id': 6,\n",
       "      'name': 'so2',\n",
       "      'units': 'µg/m³',\n",
       "      'displayName': 'SO₂ mass'}}],\n",
       "   'coordinates': {'latitude': 47.8943389, 'longitude': 106.8824722},\n",
       "   'licenses': None,\n",
       "   'bounds': [106.8824722, 47.8943389, 106.8824722, 47.8943389],\n",
       "   'distance': None,\n",
       "   'datetimeFirst': {'utc': '2016-01-30T01:00:00Z',\n",
       "    'local': '2016-01-30T09:00:00+08:00'},\n",
       "   'datetimeLast': {'utc': '2019-03-13T22:00:00Z',\n",
       "    'local': '2019-03-14T06:00:00+08:00'}},\n",
       "  {'id': 93,\n",
       "   'name': 'Nijmegen-Graafseweg',\n",
       "   'locality': 'Nijmegen',\n",
       "   'timezone': 'Europe/Amsterdam',\n",
       "   'country': {'id': 94, 'code': 'NL', 'name': 'Netherlands'},\n",
       "   'owner': {'id': 4, 'name': 'Unknown Governmental Organization'},\n",
       "   'provider': {'id': 70, 'name': 'EEA'},\n",
       "   'isMobile': False,\n",
       "   'isMonitor': True,\n",
       "   'instruments': [{'id': 2, 'name': 'Government Monitor'}],\n",
       "   'sensors': [{'id': 4230,\n",
       "     'name': 'co µg/m³',\n",
       "     'parameter': {'id': 4,\n",
       "      'name': 'co',\n",
       "      'units': 'µg/m³',\n",
       "      'displayName': 'CO mass'}},\n",
       "    {'id': 4276167,\n",
       "     'name': 'no µg/m³',\n",
       "     'parameter': {'id': 19843,\n",
       "      'name': 'no',\n",
       "      'units': 'µg/m³',\n",
       "      'displayName': 'NO mass'}},\n",
       "    {'id': 151,\n",
       "     'name': 'no2 µg/m³',\n",
       "     'parameter': {'id': 5,\n",
       "      'name': 'no2',\n",
       "      'units': 'µg/m³',\n",
       "      'displayName': 'NO₂ mass'}},\n",
       "    {'id': 4224,\n",
       "     'name': 'pm10 µg/m³',\n",
       "     'parameter': {'id': 1,\n",
       "      'name': 'pm10',\n",
       "      'units': 'µg/m³',\n",
       "      'displayName': 'PM10'}},\n",
       "    {'id': 4212,\n",
       "     'name': 'pm25 µg/m³',\n",
       "     'parameter': {'id': 2,\n",
       "      'name': 'pm25',\n",
       "      'units': 'µg/m³',\n",
       "      'displayName': 'PM2.5'}}],\n",
       "   'coordinates': {'latitude': 51.84137200018528,\n",
       "    'longitude': 5.857776999815399},\n",
       "   'licenses': [{'id': 10,\n",
       "     'name': 'ODC-BY',\n",
       "     'attribution': {'name': 'Unknown Governmental Organization', 'url': None},\n",
       "     'dateFrom': '2016-11-17',\n",
       "     'dateTo': None}],\n",
       "   'bounds': [5.857776999815399,\n",
       "    51.84137200018528,\n",
       "    5.857776999815399,\n",
       "    51.84137200018528],\n",
       "   'distance': None,\n",
       "   'datetimeFirst': {'utc': '2016-01-30T01:00:00Z',\n",
       "    'local': '2016-01-30T02:00:00+01:00'},\n",
       "   'datetimeLast': {'utc': '2025-07-31T12:00:00Z',\n",
       "    'local': '2025-07-31T14:00:00+02:00'}},\n",
       "  {'id': 94,\n",
       "   'name': 'Din Daeng, Din Daeng',\n",
       "   'locality': None,\n",
       "   'timezone': 'Asia/Bangkok',\n",
       "   'country': {'id': 111, 'code': 'TH', 'name': 'Thailand'},\n",
       "   'owner': {'id': 4, 'name': 'Unknown Governmental Organization'},\n",
       "   'provider': {'id': 281, 'name': 'Thailand'},\n",
       "   'isMobile': False,\n",
       "   'isMonitor': True,\n",
       "   'instruments': [{'id': 2, 'name': 'Government Monitor'}],\n",
       "   'sensors': [{'id': 155,\n",
       "     'name': 'co ppm',\n",
       "     'parameter': {'id': 8,\n",
       "      'name': 'co',\n",
       "      'units': 'ppm',\n",
       "      'displayName': 'CO'}},\n",
       "    {'id': 154,\n",
       "     'name': 'no2 ppm',\n",
       "     'parameter': {'id': 7,\n",
       "      'name': 'no2',\n",
       "      'units': 'ppm',\n",
       "      'displayName': 'NO₂'}},\n",
       "    {'id': 152,\n",
       "     'name': 'o3 ppm',\n",
       "     'parameter': {'id': 10,\n",
       "      'name': 'o3',\n",
       "      'units': 'ppm',\n",
       "      'displayName': 'O₃'}},\n",
       "    {'id': 153,\n",
       "     'name': 'pm10 µg/m³',\n",
       "     'parameter': {'id': 1,\n",
       "      'name': 'pm10',\n",
       "      'units': 'µg/m³',\n",
       "      'displayName': 'PM10'}},\n",
       "    {'id': 156,\n",
       "     'name': 'so2 ppm',\n",
       "     'parameter': {'id': 9,\n",
       "      'name': 'so2',\n",
       "      'units': 'ppm',\n",
       "      'displayName': 'SO₂'}}],\n",
       "   'coordinates': {'latitude': 13.775373291477, 'longitude': 100.56892844813},\n",
       "   'licenses': None,\n",
       "   'bounds': [100.56892844813,\n",
       "    13.775373291477,\n",
       "    100.56892844813,\n",
       "    13.775373291477],\n",
       "   'distance': None,\n",
       "   'datetimeFirst': {'utc': '2018-11-06T06:00:00Z',\n",
       "    'local': '2018-11-06T13:00:00+07:00'},\n",
       "   'datetimeLast': {'utc': '2020-09-15T07:00:00Z',\n",
       "    'local': '2020-09-15T14:00:00+07:00'}},\n",
       "  {'id': 95,\n",
       "   'name': 'Amsterdam-Vondelpark',\n",
       "   'locality': 'Amsterdam',\n",
       "   'timezone': 'Europe/Amsterdam',\n",
       "   'country': {'id': 94, 'code': 'NL', 'name': 'Netherlands'},\n",
       "   'owner': {'id': 4, 'name': 'Unknown Governmental Organization'},\n",
       "   'provider': {'id': 70, 'name': 'EEA'},\n",
       "   'isMobile': False,\n",
       "   'isMonitor': True,\n",
       "   'instruments': [{'id': 2, 'name': 'Government Monitor'}],\n",
       "   'sensors': [{'id': 157,\n",
       "     'name': 'co µg/m³',\n",
       "     'parameter': {'id': 4,\n",
       "      'name': 'co',\n",
       "      'units': 'µg/m³',\n",
       "      'displayName': 'CO mass'}},\n",
       "    {'id': 4275709,\n",
       "     'name': 'no µg/m³',\n",
       "     'parameter': {'id': 19843,\n",
       "      'name': 'no',\n",
       "      'units': 'µg/m³',\n",
       "      'displayName': 'NO mass'}},\n",
       "    {'id': 4364,\n",
       "     'name': 'no2 µg/m³',\n",
       "     'parameter': {'id': 5,\n",
       "      'name': 'no2',\n",
       "      'units': 'µg/m³',\n",
       "      'displayName': 'NO₂ mass'}},\n",
       "    {'id': 4461,\n",
       "     'name': 'o3 µg/m³',\n",
       "     'parameter': {'id': 3,\n",
       "      'name': 'o3',\n",
       "      'units': 'µg/m³',\n",
       "      'displayName': 'O₃ mass'}},\n",
       "    {'id': 4383,\n",
       "     'name': 'pm10 µg/m³',\n",
       "     'parameter': {'id': 1,\n",
       "      'name': 'pm10',\n",
       "      'units': 'µg/m³',\n",
       "      'displayName': 'PM10'}},\n",
       "    {'id': 4390,\n",
       "     'name': 'pm25 µg/m³',\n",
       "     'parameter': {'id': 2,\n",
       "      'name': 'pm25',\n",
       "      'units': 'µg/m³',\n",
       "      'displayName': 'PM2.5'}}],\n",
       "   'coordinates': {'latitude': 52.359714000013874,\n",
       "    'longitude': 4.866208000411839},\n",
       "   'licenses': [{'id': 10,\n",
       "     'name': 'ODC-BY',\n",
       "     'attribution': {'name': 'Unknown Governmental Organization', 'url': None},\n",
       "     'dateFrom': '2016-11-17',\n",
       "     'dateTo': None}],\n",
       "   'bounds': [4.866208000411839,\n",
       "    52.359714000013874,\n",
       "    4.866208000411839,\n",
       "    52.359714000013874],\n",
       "   'distance': None,\n",
       "   'datetimeFirst': {'utc': '2016-01-30T01:00:00Z',\n",
       "    'local': '2016-01-30T02:00:00+01:00'},\n",
       "   'datetimeLast': {'utc': '2025-07-31T12:00:00Z',\n",
       "    'local': '2025-07-31T14:00:00+02:00'}},\n",
       "  {'id': 96,\n",
       "   'name': 'Wijk aan Zee-Burgemeester Rothestraat',\n",
       "   'locality': 'Wijk aan Zee',\n",
       "   'timezone': 'Europe/Amsterdam',\n",
       "   'country': {'id': 94, 'code': 'NL', 'name': 'Netherlands'},\n",
       "   'owner': {'id': 4, 'name': 'Unknown Governmental Organization'},\n",
       "   'provider': {'id': 70, 'name': 'EEA'},\n",
       "   'isMobile': False,\n",
       "   'isMonitor': True,\n",
       "   'instruments': [{'id': 2, 'name': 'Government Monitor'}],\n",
       "   'sensors': [{'id': 167,\n",
       "     'name': 'co µg/m³',\n",
       "     'parameter': {'id': 4,\n",
       "      'name': 'co',\n",
       "      'units': 'µg/m³',\n",
       "      'displayName': 'CO mass'}},\n",
       "    {'id': 4275778,\n",
       "     'name': 'no µg/m³',\n",
       "     'parameter': {'id': 19843,\n",
       "      'name': 'no',\n",
       "      'units': 'µg/m³',\n",
       "      'displayName': 'NO mass'}},\n",
       "    {'id': 4280,\n",
       "     'name': 'no2 µg/m³',\n",
       "     'parameter': {'id': 5,\n",
       "      'name': 'no2',\n",
       "      'units': 'µg/m³',\n",
       "      'displayName': 'NO₂ mass'}},\n",
       "    {'id': 4290,\n",
       "     'name': 'pm10 µg/m³',\n",
       "     'parameter': {'id': 1,\n",
       "      'name': 'pm10',\n",
       "      'units': 'µg/m³',\n",
       "      'displayName': 'PM10'}},\n",
       "    {'id': 4367,\n",
       "     'name': 'pm25 µg/m³',\n",
       "     'parameter': {'id': 2,\n",
       "      'name': 'pm25',\n",
       "      'units': 'µg/m³',\n",
       "      'displayName': 'PM2.5'}},\n",
       "    {'id': 158,\n",
       "     'name': 'so2 µg/m³',\n",
       "     'parameter': {'id': 6,\n",
       "      'name': 'so2',\n",
       "      'units': 'µg/m³',\n",
       "      'displayName': 'SO₂ mass'}}],\n",
       "   'coordinates': {'latitude': 52.49399200004851,\n",
       "    'longitude': 4.601986000379324},\n",
       "   'licenses': [{'id': 10,\n",
       "     'name': 'ODC-BY',\n",
       "     'attribution': {'name': 'Unknown Governmental Organization', 'url': None},\n",
       "     'dateFrom': '2016-11-17',\n",
       "     'dateTo': None}],\n",
       "   'bounds': [4.601986000379324,\n",
       "    52.49399200004851,\n",
       "    4.601986000379324,\n",
       "    52.49399200004851],\n",
       "   'distance': None,\n",
       "   'datetimeFirst': {'utc': '2016-01-30T01:00:00Z',\n",
       "    'local': '2016-01-30T02:00:00+01:00'},\n",
       "   'datetimeLast': {'utc': '2025-07-31T12:00:00Z',\n",
       "    'local': '2025-07-31T14:00:00+02:00'}},\n",
       "  {'id': 97,\n",
       "   'name': 'IJmuiden-Kanaaldijk',\n",
       "   'locality': 'IJmuiden',\n",
       "   'timezone': 'Europe/Amsterdam',\n",
       "   'country': {'id': 94, 'code': 'NL', 'name': 'Netherlands'},\n",
       "   'owner': {'id': 4, 'name': 'Unknown Governmental Organization'},\n",
       "   'provider': {'id': 70, 'name': 'EEA'},\n",
       "   'isMobile': False,\n",
       "   'isMonitor': True,\n",
       "   'instruments': [{'id': 2, 'name': 'Government Monitor'}],\n",
       "   'sensors': [{'id': 165,\n",
       "     'name': 'co µg/m³',\n",
       "     'parameter': {'id': 4,\n",
       "      'name': 'co',\n",
       "      'units': 'µg/m³',\n",
       "      'displayName': 'CO mass'}},\n",
       "    {'id': 4276088,\n",
       "     'name': 'no µg/m³',\n",
       "     'parameter': {'id': 19843,\n",
       "      'name': 'no',\n",
       "      'units': 'µg/m³',\n",
       "      'displayName': 'NO mass'}},\n",
       "    {'id': 4570,\n",
       "     'name': 'no2 µg/m³',\n",
       "     'parameter': {'id': 5,\n",
       "      'name': 'no2',\n",
       "      'units': 'µg/m³',\n",
       "      'displayName': 'NO₂ mass'}},\n",
       "    {'id': 4565,\n",
       "     'name': 'pm10 µg/m³',\n",
       "     'parameter': {'id': 1,\n",
       "      'name': 'pm10',\n",
       "      'units': 'µg/m³',\n",
       "      'displayName': 'PM10'}},\n",
       "    {'id': 4541,\n",
       "     'name': 'pm25 µg/m³',\n",
       "     'parameter': {'id': 2,\n",
       "      'name': 'pm25',\n",
       "      'units': 'µg/m³',\n",
       "      'displayName': 'PM2.5'}},\n",
       "    {'id': 159,\n",
       "     'name': 'so2 µg/m³',\n",
       "     'parameter': {'id': 6,\n",
       "      'name': 'so2',\n",
       "      'units': 'µg/m³',\n",
       "      'displayName': 'SO₂ mass'}}],\n",
       "   'coordinates': {'latitude': 52.46303900009865,\n",
       "    'longitude': 4.60184200043928},\n",
       "   'licenses': [{'id': 10,\n",
       "     'name': 'ODC-BY',\n",
       "     'attribution': {'name': 'Unknown Governmental Organization', 'url': None},\n",
       "     'dateFrom': '2016-11-17',\n",
       "     'dateTo': None}],\n",
       "   'bounds': [4.60184200043928,\n",
       "    52.46303900009865,\n",
       "    4.60184200043928,\n",
       "    52.46303900009865],\n",
       "   'distance': None,\n",
       "   'datetimeFirst': {'utc': '2016-01-30T01:00:00Z',\n",
       "    'local': '2016-01-30T02:00:00+01:00'},\n",
       "   'datetimeLast': {'utc': '2025-07-31T12:00:00Z',\n",
       "    'local': '2025-07-31T14:00:00+02:00'}},\n",
       "  {'id': 98,\n",
       "   'name': 'Amsterdam-Westerpark',\n",
       "   'locality': 'Amsterdam',\n",
       "   'timezone': 'Europe/Amsterdam',\n",
       "   'country': {'id': 94, 'code': 'NL', 'name': 'Netherlands'},\n",
       "   'owner': {'id': 4, 'name': 'Unknown Governmental Organization'},\n",
       "   'provider': {'id': 70, 'name': 'EEA'},\n",
       "   'isMobile': False,\n",
       "   'isMonitor': True,\n",
       "   'instruments': [{'id': 2, 'name': 'Government Monitor'}],\n",
       "   'sensors': [{'id': 4700,\n",
       "     'name': 'pm10 µg/m³',\n",
       "     'parameter': {'id': 1,\n",
       "      'name': 'pm10',\n",
       "      'units': 'µg/m³',\n",
       "      'displayName': 'PM10'}},\n",
       "    {'id': 4344,\n",
       "     'name': 'pm25 µg/m³',\n",
       "     'parameter': {'id': 2,\n",
       "      'name': 'pm25',\n",
       "      'units': 'µg/m³',\n",
       "      'displayName': 'PM2.5'}},\n",
       "    {'id': 160,\n",
       "     'name': 'so2 µg/m³',\n",
       "     'parameter': {'id': 6,\n",
       "      'name': 'so2',\n",
       "      'units': 'µg/m³',\n",
       "      'displayName': 'SO₂ mass'}}],\n",
       "   'coordinates': {'latitude': 52.39397200025616,\n",
       "    'longitude': 4.870156999790721},\n",
       "   'licenses': [{'id': 10,\n",
       "     'name': 'ODC-BY',\n",
       "     'attribution': {'name': 'Unknown Governmental Organization', 'url': None},\n",
       "     'dateFrom': '2016-11-17',\n",
       "     'dateTo': None}],\n",
       "   'bounds': [4.870156999790721,\n",
       "    52.39397200025616,\n",
       "    4.870156999790721,\n",
       "    52.39397200025616],\n",
       "   'distance': None,\n",
       "   'datetimeFirst': {'utc': '2016-01-30T01:00:00Z',\n",
       "    'local': '2016-01-30T02:00:00+01:00'},\n",
       "   'datetimeLast': {'utc': '2025-07-31T12:00:00Z',\n",
       "    'local': '2025-07-31T14:00:00+02:00'}},\n",
       "  {'id': 99,\n",
       "   'name': 'Maastricht-A2 Kasteel Hillenraadweg',\n",
       "   'locality': None,\n",
       "   'timezone': 'Europe/Amsterdam',\n",
       "   'country': {'id': 94, 'code': 'NL', 'name': 'Netherlands'},\n",
       "   'owner': {'id': 4, 'name': 'Unknown Governmental Organization'},\n",
       "   'provider': {'id': 210, 'name': 'Netherlands'},\n",
       "   'isMobile': False,\n",
       "   'isMonitor': True,\n",
       "   'instruments': [{'id': 2, 'name': 'Government Monitor'}],\n",
       "   'sensors': [{'id': 161,\n",
       "     'name': 'pm25 µg/m³',\n",
       "     'parameter': {'id': 2,\n",
       "      'name': 'pm25',\n",
       "      'units': 'µg/m³',\n",
       "      'displayName': 'PM2.5'}}],\n",
       "   'coordinates': {'latitude': 50.8598, 'longitude': 5.71381},\n",
       "   'licenses': None,\n",
       "   'bounds': [5.71381, 50.8598, 5.71381, 50.8598],\n",
       "   'distance': None,\n",
       "   'datetimeFirst': {'utc': '2016-01-30T01:00:00Z',\n",
       "    'local': '2016-01-30T02:00:00+01:00'},\n",
       "   'datetimeLast': {'utc': '2021-04-20T21:00:00Z',\n",
       "    'local': '2021-04-20T23:00:00+02:00'}},\n",
       "  {'id': 100,\n",
       "   'name': 'Badhoevedorp-Sloterweg',\n",
       "   'locality': 'Badhoevedorp',\n",
       "   'timezone': 'Europe/Amsterdam',\n",
       "   'country': {'id': 94, 'code': 'NL', 'name': 'Netherlands'},\n",
       "   'owner': {'id': 4, 'name': 'Unknown Governmental Organization'},\n",
       "   'provider': {'id': 70, 'name': 'EEA'},\n",
       "   'isMobile': False,\n",
       "   'isMonitor': True,\n",
       "   'instruments': [{'id': 2, 'name': 'Government Monitor'}],\n",
       "   'sensors': [{'id': 162,\n",
       "     'name': 'co µg/m³',\n",
       "     'parameter': {'id': 4,\n",
       "      'name': 'co',\n",
       "      'units': 'µg/m³',\n",
       "      'displayName': 'CO mass'}},\n",
       "    {'id': 4275786,\n",
       "     'name': 'no µg/m³',\n",
       "     'parameter': {'id': 19843,\n",
       "      'name': 'no',\n",
       "      'units': 'µg/m³',\n",
       "      'displayName': 'NO mass'}},\n",
       "    {'id': 4237,\n",
       "     'name': 'no2 µg/m³',\n",
       "     'parameter': {'id': 5,\n",
       "      'name': 'no2',\n",
       "      'units': 'µg/m³',\n",
       "      'displayName': 'NO₂ mass'}},\n",
       "    {'id': 4231,\n",
       "     'name': 'pm10 µg/m³',\n",
       "     'parameter': {'id': 1,\n",
       "      'name': 'pm10',\n",
       "      'units': 'µg/m³',\n",
       "      'displayName': 'PM10'}},\n",
       "    {'id': 4147,\n",
       "     'name': 'pm25 µg/m³',\n",
       "     'parameter': {'id': 2,\n",
       "      'name': 'pm25',\n",
       "      'units': 'µg/m³',\n",
       "      'displayName': 'PM2.5'}}],\n",
       "   'coordinates': {'latitude': 52.3340030002512, 'longitude': 4.7740060003231},\n",
       "   'licenses': [{'id': 10,\n",
       "     'name': 'ODC-BY',\n",
       "     'attribution': {'name': 'Unknown Governmental Organization', 'url': None},\n",
       "     'dateFrom': '2016-11-17',\n",
       "     'dateTo': None}],\n",
       "   'bounds': [4.7740060003231,\n",
       "    52.3340030002512,\n",
       "    4.7740060003231,\n",
       "    52.3340030002512],\n",
       "   'distance': None,\n",
       "   'datetimeFirst': {'utc': '2016-01-30T01:00:00Z',\n",
       "    'local': '2016-01-30T02:00:00+01:00'},\n",
       "   'datetimeLast': {'utc': '2025-07-31T12:00:00Z',\n",
       "    'local': '2025-07-31T14:00:00+02:00'}},\n",
       "  {'id': 101,\n",
       "   'name': 'Amsterdam-Hoogtij',\n",
       "   'locality': 'Amsterdam',\n",
       "   'timezone': 'Europe/Amsterdam',\n",
       "   'country': {'id': 94, 'code': 'NL', 'name': 'Netherlands'},\n",
       "   'owner': {'id': 4, 'name': 'Unknown Governmental Organization'},\n",
       "   'provider': {'id': 70, 'name': 'EEA'},\n",
       "   'isMobile': False,\n",
       "   'isMonitor': True,\n",
       "   'instruments': [{'id': 2, 'name': 'Government Monitor'}],\n",
       "   'sensors': [{'id': 4275834,\n",
       "     'name': 'no µg/m³',\n",
       "     'parameter': {'id': 19843,\n",
       "      'name': 'no',\n",
       "      'units': 'µg/m³',\n",
       "      'displayName': 'NO mass'}},\n",
       "    {'id': 4187,\n",
       "     'name': 'no2 µg/m³',\n",
       "     'parameter': {'id': 5,\n",
       "      'name': 'no2',\n",
       "      'units': 'µg/m³',\n",
       "      'displayName': 'NO₂ mass'}},\n",
       "    {'id': 4112,\n",
       "     'name': 'pm10 µg/m³',\n",
       "     'parameter': {'id': 1,\n",
       "      'name': 'pm10',\n",
       "      'units': 'µg/m³',\n",
       "      'displayName': 'PM10'}},\n",
       "    {'id': 4687,\n",
       "     'name': 'pm25 µg/m³',\n",
       "     'parameter': {'id': 2,\n",
       "      'name': 'pm25',\n",
       "      'units': 'µg/m³',\n",
       "      'displayName': 'PM2.5'}},\n",
       "    {'id': 163,\n",
       "     'name': 'so2 µg/m³',\n",
       "     'parameter': {'id': 6,\n",
       "      'name': 'so2',\n",
       "      'units': 'µg/m³',\n",
       "      'displayName': 'SO₂ mass'}}],\n",
       "   'coordinates': {'latitude': 52.42801700027339,\n",
       "    'longitude': 4.7734780002434976},\n",
       "   'licenses': [{'id': 10,\n",
       "     'name': 'ODC-BY',\n",
       "     'attribution': {'name': 'Unknown Governmental Organization', 'url': None},\n",
       "     'dateFrom': '2016-11-17',\n",
       "     'dateTo': None}],\n",
       "   'bounds': [4.7734780002434976,\n",
       "    52.42801700027339,\n",
       "    4.7734780002434976,\n",
       "    52.42801700027339],\n",
       "   'distance': None,\n",
       "   'datetimeFirst': {'utc': '2016-01-30T01:00:00Z',\n",
       "    'local': '2016-01-30T02:00:00+01:00'},\n",
       "   'datetimeLast': {'utc': '2025-07-31T12:00:00Z',\n",
       "    'local': '2025-07-31T14:00:00+02:00'}},\n",
       "  {'id': 102,\n",
       "   'name': 'Amsterdam-Einsteinweg',\n",
       "   'locality': 'Amsterdam',\n",
       "   'timezone': 'Europe/Amsterdam',\n",
       "   'country': {'id': 94, 'code': 'NL', 'name': 'Netherlands'},\n",
       "   'owner': {'id': 4, 'name': 'Unknown Governmental Organization'},\n",
       "   'provider': {'id': 70, 'name': 'EEA'},\n",
       "   'isMobile': False,\n",
       "   'isMonitor': True,\n",
       "   'instruments': [{'id': 2, 'name': 'Government Monitor'}],\n",
       "   'sensors': [{'id': 166,\n",
       "     'name': 'co µg/m³',\n",
       "     'parameter': {'id': 4,\n",
       "      'name': 'co',\n",
       "      'units': 'µg/m³',\n",
       "      'displayName': 'CO mass'}},\n",
       "    {'id': 4276086,\n",
       "     'name': 'no µg/m³',\n",
       "     'parameter': {'id': 19843,\n",
       "      'name': 'no',\n",
       "      'units': 'µg/m³',\n",
       "      'displayName': 'NO mass'}},\n",
       "    {'id': 4370,\n",
       "     'name': 'no2 µg/m³',\n",
       "     'parameter': {'id': 5,\n",
       "      'name': 'no2',\n",
       "      'units': 'µg/m³',\n",
       "      'displayName': 'NO₂ mass'}},\n",
       "    {'id': 4369,\n",
       "     'name': 'pm10 µg/m³',\n",
       "     'parameter': {'id': 1,\n",
       "      'name': 'pm10',\n",
       "      'units': 'µg/m³',\n",
       "      'displayName': 'PM10'}},\n",
       "    {'id': 4215,\n",
       "     'name': 'pm25 µg/m³',\n",
       "     'parameter': {'id': 2,\n",
       "      'name': 'pm25',\n",
       "      'units': 'µg/m³',\n",
       "      'displayName': 'PM2.5'}}],\n",
       "   'coordinates': {'latitude': 52.381331000231505,\n",
       "    'longitude': 4.845232999687698},\n",
       "   'licenses': [{'id': 10,\n",
       "     'name': 'ODC-BY',\n",
       "     'attribution': {'name': 'Unknown Governmental Organization', 'url': None},\n",
       "     'dateFrom': '2016-11-17',\n",
       "     'dateTo': None}],\n",
       "   'bounds': [4.845232999687698,\n",
       "    52.381331000231505,\n",
       "    4.845232999687698,\n",
       "    52.381331000231505],\n",
       "   'distance': None,\n",
       "   'datetimeFirst': {'utc': '2016-01-30T01:00:00Z',\n",
       "    'local': '2016-01-30T02:00:00+01:00'},\n",
       "   'datetimeLast': {'utc': '2025-07-31T12:00:00Z',\n",
       "    'local': '2025-07-31T14:00:00+02:00'}},\n",
       "  {'id': 103,\n",
       "   'name': 'Income Tax Office, Delhi - CPCB',\n",
       "   'locality': None,\n",
       "   'timezone': 'Asia/Kolkata',\n",
       "   'country': {'id': 9, 'code': 'IN', 'name': 'India'},\n",
       "   'owner': {'id': 4, 'name': 'Unknown Governmental Organization'},\n",
       "   'provider': {'id': 168, 'name': 'CPCB'},\n",
       "   'isMobile': False,\n",
       "   'isMonitor': True,\n",
       "   'instruments': [{'id': 2, 'name': 'Government Monitor'}],\n",
       "   'sensors': [{'id': 169,\n",
       "     'name': 'co µg/m³',\n",
       "     'parameter': {'id': 4,\n",
       "      'name': 'co',\n",
       "      'units': 'µg/m³',\n",
       "      'displayName': 'CO mass'}},\n",
       "    {'id': 13863,\n",
       "     'name': 'no2 µg/m³',\n",
       "     'parameter': {'id': 5,\n",
       "      'name': 'no2',\n",
       "      'units': 'µg/m³',\n",
       "      'displayName': 'NO₂ mass'}},\n",
       "    {'id': 168,\n",
       "     'name': 'o3 µg/m³',\n",
       "     'parameter': {'id': 3,\n",
       "      'name': 'o3',\n",
       "      'units': 'µg/m³',\n",
       "      'displayName': 'O₃ mass'}},\n",
       "    {'id': 13862,\n",
       "     'name': 'pm10 µg/m³',\n",
       "     'parameter': {'id': 1,\n",
       "      'name': 'pm10',\n",
       "      'units': 'µg/m³',\n",
       "      'displayName': 'PM10'}},\n",
       "    {'id': 13861,\n",
       "     'name': 'pm25 µg/m³',\n",
       "     'parameter': {'id': 2,\n",
       "      'name': 'pm25',\n",
       "      'units': 'µg/m³',\n",
       "      'displayName': 'PM2.5'}}],\n",
       "   'coordinates': {'latitude': 28.623499999999996, 'longitude': 77.2494},\n",
       "   'licenses': None,\n",
       "   'bounds': [77.2494, 28.623499999999996, 77.2494, 28.623499999999996],\n",
       "   'distance': None,\n",
       "   'datetimeFirst': {'utc': '2016-11-02T18:30:00Z',\n",
       "    'local': '2016-11-03T00:00:00+05:30'},\n",
       "   'datetimeLast': {'utc': '2018-02-22T03:45:00Z',\n",
       "    'local': '2018-02-22T09:15:00+05:30'}},\n",
       "  {'id': 135,\n",
       "   'name': 'Prabadang Rehabiltation Center',\n",
       "   'locality': 'Samut Prakan',\n",
       "   'timezone': 'Asia/Bangkok',\n",
       "   'country': {'id': 111, 'code': 'TH', 'name': 'Thailand'},\n",
       "   'owner': {'id': 4, 'name': 'Unknown Governmental Organization'},\n",
       "   'provider': {'id': 118, 'name': 'Air4Thai'},\n",
       "   'isMobile': False,\n",
       "   'isMonitor': True,\n",
       "   'instruments': [{'id': 2, 'name': 'Government Monitor'}],\n",
       "   'sensors': [{'id': 5079219,\n",
       "     'name': 'no2 ppm',\n",
       "     'parameter': {'id': 7,\n",
       "      'name': 'no2',\n",
       "      'units': 'ppm',\n",
       "      'displayName': 'NO₂'}},\n",
       "    {'id': 5079221,\n",
       "     'name': 'o3 ppm',\n",
       "     'parameter': {'id': 10,\n",
       "      'name': 'o3',\n",
       "      'units': 'ppm',\n",
       "      'displayName': 'O₃'}},\n",
       "    {'id': 5079218,\n",
       "     'name': 'pm10 µg/m³',\n",
       "     'parameter': {'id': 1,\n",
       "      'name': 'pm10',\n",
       "      'units': 'µg/m³',\n",
       "      'displayName': 'PM10'}},\n",
       "    {'id': 5077838,\n",
       "     'name': 'pm25 µg/m³',\n",
       "     'parameter': {'id': 2,\n",
       "      'name': 'pm25',\n",
       "      'units': 'µg/m³',\n",
       "      'displayName': 'PM2.5'}},\n",
       "    {'id': 5079220,\n",
       "     'name': 'so2 ppm',\n",
       "     'parameter': {'id': 9,\n",
       "      'name': 'so2',\n",
       "      'units': 'ppm',\n",
       "      'displayName': 'SO₂'}}],\n",
       "   'coordinates': {'latitude': 13.664087, 'longitude': 100.543436},\n",
       "   'licenses': None,\n",
       "   'bounds': [100.543436, 13.664087, 100.543436, 13.664087],\n",
       "   'distance': None,\n",
       "   'datetimeFirst': {'utc': '2022-10-04T19:00:00Z',\n",
       "    'local': '2022-10-05T02:00:00+07:00'},\n",
       "   'datetimeLast': {'utc': '2025-06-30T21:00:00Z',\n",
       "    'local': '2025-07-01T04:00:00+07:00'}},\n",
       "  {'id': 136,\n",
       "   'name': 'Los Vientos',\n",
       "   'locality': None,\n",
       "   'timezone': 'America/Santiago',\n",
       "   'country': {'id': 3, 'code': 'CL', 'name': 'Chile'},\n",
       "   'owner': {'id': 4, 'name': 'Unknown Governmental Organization'},\n",
       "   'provider': {'id': 164, 'name': 'Chile - SINCA'},\n",
       "   'isMobile': False,\n",
       "   'isMonitor': True,\n",
       "   'instruments': [{'id': 2, 'name': 'Government Monitor'}],\n",
       "   'sensors': [{'id': 209,\n",
       "     'name': 'co µg/m³',\n",
       "     'parameter': {'id': 4,\n",
       "      'name': 'co',\n",
       "      'units': 'µg/m³',\n",
       "      'displayName': 'CO mass'}},\n",
       "    {'id': 210,\n",
       "     'name': 'o3 µg/m³',\n",
       "     'parameter': {'id': 3,\n",
       "      'name': 'o3',\n",
       "      'units': 'µg/m³',\n",
       "      'displayName': 'O₃ mass'}},\n",
       "    {'id': 208,\n",
       "     'name': 'pm10 µg/m³',\n",
       "     'parameter': {'id': 1,\n",
       "      'name': 'pm10',\n",
       "      'units': 'µg/m³',\n",
       "      'displayName': 'PM10'}},\n",
       "    {'id': 207,\n",
       "     'name': 'so2 µg/m³',\n",
       "     'parameter': {'id': 6,\n",
       "      'name': 'so2',\n",
       "      'units': 'µg/m³',\n",
       "      'displayName': 'SO₂ mass'}}],\n",
       "   'coordinates': {'latitude': -32.833639, 'longitude': -70.99693},\n",
       "   'licenses': None,\n",
       "   'bounds': [-70.99693, -32.833639, -70.99693, -32.833639],\n",
       "   'distance': None,\n",
       "   'datetimeFirst': {'utc': '2016-01-30T01:00:00Z',\n",
       "    'local': '2016-01-29T22:00:00-03:00'},\n",
       "   'datetimeLast': {'utc': '2016-02-16T18:00:00Z',\n",
       "    'local': '2016-02-16T15:00:00-03:00'}},\n",
       "  {'id': 137,\n",
       "   'name': 'Harrow - Stanmore',\n",
       "   'locality': 'Harrow',\n",
       "   'timezone': 'Europe/London',\n",
       "   'country': {'id': 79, 'code': 'GB', 'name': 'United Kingdom'},\n",
       "   'owner': {'id': 4, 'name': 'Unknown Governmental Organization'},\n",
       "   'provider': {'id': 205, 'name': 'London Air Quality Network'},\n",
       "   'isMobile': False,\n",
       "   'isMonitor': True,\n",
       "   'instruments': [{'id': 2, 'name': 'Government Monitor'}],\n",
       "   'sensors': [{'id': 1304749,\n",
       "     'name': 'no2 µg/m³',\n",
       "     'parameter': {'id': 5,\n",
       "      'name': 'no2',\n",
       "      'units': 'µg/m³',\n",
       "      'displayName': 'NO₂ mass'}},\n",
       "    {'id': 1304758,\n",
       "     'name': 'pm10 µg/m³',\n",
       "     'parameter': {'id': 1,\n",
       "      'name': 'pm10',\n",
       "      'units': 'µg/m³',\n",
       "      'displayName': 'PM10'}},\n",
       "    {'id': 211,\n",
       "     'name': 'pm25 µg/m³',\n",
       "     'parameter': {'id': 2,\n",
       "      'name': 'pm25',\n",
       "      'units': 'µg/m³',\n",
       "      'displayName': 'PM2.5'}}],\n",
       "   'coordinates': {'latitude': 51.617327, 'longitude': -0.298775},\n",
       "   'licenses': [{'id': 34,\n",
       "     'name': 'UK OGL \"Open Government License\"',\n",
       "     'attribution': {'name': 'Unknown Governmental Organization', 'url': None},\n",
       "     'dateFrom': '2016-01-30',\n",
       "     'dateTo': None}],\n",
       "   'bounds': [-0.298775, 51.617327, -0.298775, 51.617327],\n",
       "   'distance': None,\n",
       "   'datetimeFirst': {'utc': '2016-01-30T01:00:00Z',\n",
       "    'local': '2016-01-30T01:00:00Z'},\n",
       "   'datetimeLast': {'utc': '2023-08-14T09:00:00Z',\n",
       "    'local': '2023-08-14T10:00:00+01:00'}},\n",
       "  {'id': 138,\n",
       "   'name': 'Lat Phrao Rd., Wang Thonglang',\n",
       "   'locality': None,\n",
       "   'timezone': 'Asia/Bangkok',\n",
       "   'country': {'id': 111, 'code': 'TH', 'name': 'Thailand'},\n",
       "   'owner': {'id': 4, 'name': 'Unknown Governmental Organization'},\n",
       "   'provider': {'id': 281, 'name': 'Thailand'},\n",
       "   'isMobile': False,\n",
       "   'isMonitor': True,\n",
       "   'instruments': [{'id': 2, 'name': 'Government Monitor'}],\n",
       "   'sensors': [{'id': 378,\n",
       "     'name': 'co ppm',\n",
       "     'parameter': {'id': 8,\n",
       "      'name': 'co',\n",
       "      'units': 'ppm',\n",
       "      'displayName': 'CO'}},\n",
       "    {'id': 444,\n",
       "     'name': 'no2 ppm',\n",
       "     'parameter': {'id': 7,\n",
       "      'name': 'no2',\n",
       "      'units': 'ppm',\n",
       "      'displayName': 'NO₂'}},\n",
       "    {'id': 214,\n",
       "     'name': 'o3 ppm',\n",
       "     'parameter': {'id': 10,\n",
       "      'name': 'o3',\n",
       "      'units': 'ppm',\n",
       "      'displayName': 'O₃'}},\n",
       "    {'id': 445,\n",
       "     'name': 'pm10 µg/m³',\n",
       "     'parameter': {'id': 1,\n",
       "      'name': 'pm10',\n",
       "      'units': 'µg/m³',\n",
       "      'displayName': 'PM10'}},\n",
       "    {'id': 443,\n",
       "     'name': 'so2 ppm',\n",
       "     'parameter': {'id': 9,\n",
       "      'name': 'so2',\n",
       "      'units': 'ppm',\n",
       "      'displayName': 'SO₂'}}],\n",
       "   'coordinates': {'latitude': 13.792635009230002,\n",
       "    'longitude': 100.59607755884001},\n",
       "   'licenses': None,\n",
       "   'bounds': [100.59607755884001,\n",
       "    13.792635009230002,\n",
       "    100.59607755884001,\n",
       "    13.792635009230002],\n",
       "   'distance': None,\n",
       "   'datetimeFirst': {'utc': '2016-01-30T01:00:00Z',\n",
       "    'local': '2016-01-30T08:00:00+07:00'},\n",
       "   'datetimeLast': {'utc': '2020-09-23T04:00:00Z',\n",
       "    'local': '2020-09-23T11:00:00+07:00'}},\n",
       "  {'id': 139,\n",
       "   'name': 'Alto Hospicio',\n",
       "   'locality': None,\n",
       "   'timezone': 'America/Santiago',\n",
       "   'country': {'id': 3, 'code': 'CL', 'name': 'Chile'},\n",
       "   'owner': {'id': 4, 'name': 'Unknown Governmental Organization'},\n",
       "   'provider': {'id': 164, 'name': 'Chile - SINCA'},\n",
       "   'isMobile': False,\n",
       "   'isMonitor': True,\n",
       "   'instruments': [{'id': 2, 'name': 'Government Monitor'}],\n",
       "   'sensors': [{'id': 215,\n",
       "     'name': 'pm25 µg/m³',\n",
       "     'parameter': {'id': 2,\n",
       "      'name': 'pm25',\n",
       "      'units': 'µg/m³',\n",
       "      'displayName': 'PM2.5'}}],\n",
       "   'coordinates': {'latitude': -20.259620485825,\n",
       "    'longitude': -70.088653564453},\n",
       "   'licenses': None,\n",
       "   'bounds': [-70.088653564453,\n",
       "    -20.259620485825,\n",
       "    -70.088653564453,\n",
       "    -20.259620485825],\n",
       "   'distance': None,\n",
       "   'datetimeFirst': {'utc': '2016-02-22T18:00:00Z',\n",
       "    'local': '2016-02-22T15:00:00-03:00'},\n",
       "   'datetimeLast': {'utc': '2016-02-23T11:00:00Z',\n",
       "    'local': '2016-02-23T08:00:00-03:00'}},\n",
       "  {'id': 140,\n",
       "   'name': 'Alto Hospicio',\n",
       "   'locality': None,\n",
       "   'timezone': 'America/Santiago',\n",
       "   'country': {'id': 3, 'code': 'CL', 'name': 'Chile'},\n",
       "   'owner': {'id': 4, 'name': 'Unknown Governmental Organization'},\n",
       "   'provider': {'id': 164, 'name': 'Chile - SINCA'},\n",
       "   'isMobile': False,\n",
       "   'isMonitor': True,\n",
       "   'instruments': [{'id': 2, 'name': 'Government Monitor'}],\n",
       "   'sensors': [{'id': 216,\n",
       "     'name': 'pm25 µg/m³',\n",
       "     'parameter': {'id': 2,\n",
       "      'name': 'pm25',\n",
       "      'units': 'µg/m³',\n",
       "      'displayName': 'PM2.5'}}],\n",
       "   'coordinates': {'latitude': -20.290859340668, 'longitude': -70.09955406189},\n",
       "   'licenses': None,\n",
       "   'bounds': [-70.09955406189,\n",
       "    -20.290859340668,\n",
       "    -70.09955406189,\n",
       "    -20.290859340668],\n",
       "   'distance': None,\n",
       "   'datetimeFirst': {'utc': '2016-02-23T12:00:00Z',\n",
       "    'local': '2016-02-23T09:00:00-03:00'},\n",
       "   'datetimeLast': {'utc': '2016-02-23T12:00:00Z',\n",
       "    'local': '2016-02-23T09:00:00-03:00'}},\n",
       "  {'id': 141,\n",
       "   'name': 'London Harlington - UKA00472',\n",
       "   'locality': 'London',\n",
       "   'timezone': 'Europe/London',\n",
       "   'country': {'id': 79, 'code': 'GB', 'name': 'United Kingdom'},\n",
       "   'owner': {'id': 4, 'name': 'Unknown Governmental Organization'},\n",
       "   'provider': {'id': 70, 'name': 'EEA'},\n",
       "   'isMobile': False,\n",
       "   'isMonitor': True,\n",
       "   'instruments': [{'id': 2, 'name': 'Government Monitor'}],\n",
       "   'sensors': [{'id': 237,\n",
       "     'name': 'no2 µg/m³',\n",
       "     'parameter': {'id': 5,\n",
       "      'name': 'no2',\n",
       "      'units': 'µg/m³',\n",
       "      'displayName': 'NO₂ mass'}},\n",
       "    {'id': 259,\n",
       "     'name': 'o3 µg/m³',\n",
       "     'parameter': {'id': 3,\n",
       "      'name': 'o3',\n",
       "      'units': 'µg/m³',\n",
       "      'displayName': 'O₃ mass'}},\n",
       "    {'id': 217,\n",
       "     'name': 'pm10 µg/m³',\n",
       "     'parameter': {'id': 1,\n",
       "      'name': 'pm10',\n",
       "      'units': 'µg/m³',\n",
       "      'displayName': 'PM10'}},\n",
       "    {'id': 261,\n",
       "     'name': 'pm25 µg/m³',\n",
       "     'parameter': {'id': 2,\n",
       "      'name': 'pm25',\n",
       "      'units': 'µg/m³',\n",
       "      'displayName': 'PM2.5'}}],\n",
       "   'coordinates': {'latitude': 51.48878999962389,\n",
       "    'longitude': -0.44161399993549455},\n",
       "   'licenses': [{'id': 10,\n",
       "     'name': 'ODC-BY',\n",
       "     'attribution': {'name': 'Unknown Governmental Organization', 'url': None},\n",
       "     'dateFrom': '2016-11-17',\n",
       "     'dateTo': None}],\n",
       "   'bounds': [-0.44161399993549455,\n",
       "    51.48878999962389,\n",
       "    -0.44161399993549455,\n",
       "    51.48878999962389],\n",
       "   'distance': None,\n",
       "   'datetimeFirst': {'utc': '2016-01-30T01:00:00Z',\n",
       "    'local': '2016-01-30T01:00:00Z'},\n",
       "   'datetimeLast': {'utc': '2025-07-31T13:00:00Z',\n",
       "    'local': '2025-07-31T14:00:00+01:00'}},\n",
       "  {'id': 142,\n",
       "   'name': 'Chengdu',\n",
       "   'locality': 'Chengdu',\n",
       "   'timezone': 'Asia/Shanghai',\n",
       "   'country': {'id': 10, 'code': 'CN', 'name': 'China'},\n",
       "   'owner': {'id': 4, 'name': 'Unknown Governmental Organization'},\n",
       "   'provider': {'id': 227, 'name': 'Chengdu'},\n",
       "   'isMobile': False,\n",
       "   'isMonitor': True,\n",
       "   'instruments': [{'id': 2, 'name': 'Government Monitor'}],\n",
       "   'sensors': [{'id': 218,\n",
       "     'name': 'pm25 µg/m³',\n",
       "     'parameter': {'id': 2,\n",
       "      'name': 'pm25',\n",
       "      'units': 'µg/m³',\n",
       "      'displayName': 'PM2.5'}}],\n",
       "   'coordinates': {'latitude': 30.63, 'longitude': 104.07},\n",
       "   'licenses': None,\n",
       "   'bounds': [104.07, 30.63, 104.07, 30.63],\n",
       "   'distance': None,\n",
       "   'datetimeFirst': {'utc': '2016-01-31T05:00:00Z',\n",
       "    'local': '2016-01-31T13:00:00+08:00'},\n",
       "   'datetimeLast': {'utc': '2023-02-23T19:00:00Z',\n",
       "    'local': '2023-02-24T03:00:00+08:00'}},\n",
       "  {'id': 143,\n",
       "   'name': 'Shanghai',\n",
       "   'locality': 'Shanghai',\n",
       "   'timezone': 'Asia/Shanghai',\n",
       "   'country': {'id': 10, 'code': 'CN', 'name': 'China'},\n",
       "   'owner': {'id': 4, 'name': 'Unknown Governmental Organization'},\n",
       "   'provider': {'id': 229, 'name': 'Shanghai'},\n",
       "   'isMobile': False,\n",
       "   'isMonitor': True,\n",
       "   'instruments': [{'id': 2, 'name': 'Government Monitor'}],\n",
       "   'sensors': [{'id': 219,\n",
       "     'name': 'pm25 µg/m³',\n",
       "     'parameter': {'id': 2,\n",
       "      'name': 'pm25',\n",
       "      'units': 'µg/m³',\n",
       "      'displayName': 'PM2.5'}}],\n",
       "   'coordinates': {'latitude': 31.21, 'longitude': 121.44},\n",
       "   'licenses': None,\n",
       "   'bounds': [121.44, 31.21, 121.44, 31.21],\n",
       "   'distance': None,\n",
       "   'datetimeFirst': {'utc': '2016-01-30T01:00:00Z',\n",
       "    'local': '2016-01-30T09:00:00+08:00'},\n",
       "   'datetimeLast': {'utc': '2023-05-22T06:00:00Z',\n",
       "    'local': '2023-05-22T14:00:00+08:00'}},\n",
       "  {'id': 144,\n",
       "   'name': 'Guangzhou',\n",
       "   'locality': 'Guangzhou',\n",
       "   'timezone': 'Asia/Shanghai',\n",
       "   'country': {'id': 10, 'code': 'CN', 'name': 'China'},\n",
       "   'owner': {'id': 4, 'name': 'Unknown Governmental Organization'},\n",
       "   'provider': {'id': 228, 'name': 'Guangzhou'},\n",
       "   'isMobile': False,\n",
       "   'isMonitor': True,\n",
       "   'instruments': [{'id': 2, 'name': 'Government Monitor'}],\n",
       "   'sensors': [{'id': 220,\n",
       "     'name': 'pm25 µg/m³',\n",
       "     'parameter': {'id': 2,\n",
       "      'name': 'pm25',\n",
       "      'units': 'µg/m³',\n",
       "      'displayName': 'PM2.5'}}],\n",
       "   'coordinates': {'latitude': 23.12, 'longitude': 113.32},\n",
       "   'licenses': None,\n",
       "   'bounds': [113.32, 23.12, 113.32, 23.12],\n",
       "   'distance': None,\n",
       "   'datetimeFirst': {'utc': '2016-01-30T01:00:00Z',\n",
       "    'local': '2016-01-30T09:00:00+08:00'},\n",
       "   'datetimeLast': {'utc': '2023-08-18T12:00:00Z',\n",
       "    'local': '2023-08-18T20:00:00+08:00'}},\n",
       "  {'id': 145,\n",
       "   'name': 'Escuela E-10',\n",
       "   'locality': None,\n",
       "   'timezone': 'America/Santiago',\n",
       "   'country': {'id': 3, 'code': 'CL', 'name': 'Chile'},\n",
       "   'owner': {'id': 4, 'name': 'Unknown Governmental Organization'},\n",
       "   'provider': {'id': 164, 'name': 'Chile - SINCA'},\n",
       "   'isMobile': False,\n",
       "   'isMonitor': True,\n",
       "   'instruments': [{'id': 2, 'name': 'Government Monitor'}],\n",
       "   'sensors': [{'id': 223,\n",
       "     'name': 'co µg/m³',\n",
       "     'parameter': {'id': 4,\n",
       "      'name': 'co',\n",
       "      'units': 'µg/m³',\n",
       "      'displayName': 'CO mass'}},\n",
       "    {'id': 222,\n",
       "     'name': 'no2 µg/m³',\n",
       "     'parameter': {'id': 5,\n",
       "      'name': 'no2',\n",
       "      'units': 'µg/m³',\n",
       "      'displayName': 'NO₂ mass'}},\n",
       "    {'id': 224,\n",
       "     'name': 'o3 µg/m³',\n",
       "     'parameter': {'id': 3,\n",
       "      'name': 'o3',\n",
       "      'units': 'µg/m³',\n",
       "      'displayName': 'O₃ mass'}},\n",
       "    {'id': 225,\n",
       "     'name': 'pm10 µg/m³',\n",
       "     'parameter': {'id': 1,\n",
       "      'name': 'pm10',\n",
       "      'units': 'µg/m³',\n",
       "      'displayName': 'PM10'}},\n",
       "    {'id': 226,\n",
       "     'name': 'pm25 µg/m³',\n",
       "     'parameter': {'id': 2,\n",
       "      'name': 'pm25',\n",
       "      'units': 'µg/m³',\n",
       "      'displayName': 'PM2.5'}},\n",
       "    {'id': 221,\n",
       "     'name': 'so2 µg/m³',\n",
       "     'parameter': {'id': 6,\n",
       "      'name': 'so2',\n",
       "      'units': 'µg/m³',\n",
       "      'displayName': 'SO₂ mass'}}],\n",
       "   'coordinates': {'latitude': -22.087, 'longitude': -70.193253},\n",
       "   'licenses': None,\n",
       "   'bounds': [-70.193253, -22.087, -70.193253, -22.087],\n",
       "   'distance': None,\n",
       "   'datetimeFirst': {'utc': '2016-01-30T01:00:00Z',\n",
       "    'local': '2016-01-29T22:00:00-03:00'},\n",
       "   'datetimeLast': {'utc': '2016-02-24T21:00:00Z',\n",
       "    'local': '2016-02-24T18:00:00-03:00'}},\n",
       "  {'id': 146,\n",
       "   'name': 'Southwark A2 Old Kent Road - UKA00558',\n",
       "   'locality': 'London',\n",
       "   'timezone': 'Europe/London',\n",
       "   'country': {'id': 79, 'code': 'GB', 'name': 'United Kingdom'},\n",
       "   'owner': {'id': 4, 'name': 'Unknown Governmental Organization'},\n",
       "   'provider': {'id': 70, 'name': 'EEA'},\n",
       "   'isMobile': False,\n",
       "   'isMonitor': True,\n",
       "   'instruments': [{'id': 2, 'name': 'Government Monitor'}],\n",
       "   'sensors': [{'id': 251,\n",
       "     'name': 'no2 µg/m³',\n",
       "     'parameter': {'id': 5,\n",
       "      'name': 'no2',\n",
       "      'units': 'µg/m³',\n",
       "      'displayName': 'NO₂ mass'}},\n",
       "    {'id': 227,\n",
       "     'name': 'pm10 µg/m³',\n",
       "     'parameter': {'id': 1,\n",
       "      'name': 'pm10',\n",
       "      'units': 'µg/m³',\n",
       "      'displayName': 'PM10'}},\n",
       "    {'id': 1304692,\n",
       "     'name': 'pm25 µg/m³',\n",
       "     'parameter': {'id': 2,\n",
       "      'name': 'pm25',\n",
       "      'units': 'µg/m³',\n",
       "      'displayName': 'PM2.5'}}],\n",
       "   'coordinates': {'latitude': 51.4804989994662,\n",
       "    'longitude': -0.059550000208953166},\n",
       "   'licenses': [{'id': 10,\n",
       "     'name': 'ODC-BY',\n",
       "     'attribution': {'name': 'Unknown Governmental Organization', 'url': None},\n",
       "     'dateFrom': '2016-11-17',\n",
       "     'dateTo': None}],\n",
       "   'bounds': [-0.059550000208953166,\n",
       "    51.4804989994662,\n",
       "    -0.059550000208953166,\n",
       "    51.4804989994662],\n",
       "   'distance': None,\n",
       "   'datetimeFirst': {'utc': '2016-01-30T01:00:00Z',\n",
       "    'local': '2016-01-30T01:00:00Z'},\n",
       "   'datetimeLast': {'utc': '2025-07-31T12:00:00Z',\n",
       "    'local': '2025-07-31T13:00:00+01:00'}},\n",
       "  {'id': 147,\n",
       "   'name': 'Greenwich - Eltham',\n",
       "   'locality': 'Greenwich',\n",
       "   'timezone': 'Europe/London',\n",
       "   'country': {'id': 79, 'code': 'GB', 'name': 'United Kingdom'},\n",
       "   'owner': {'id': 4, 'name': 'Unknown Governmental Organization'},\n",
       "   'provider': {'id': 205, 'name': 'London Air Quality Network'},\n",
       "   'isMobile': False,\n",
       "   'isMonitor': True,\n",
       "   'instruments': [{'id': 2, 'name': 'Government Monitor'}],\n",
       "   'sensors': [{'id': 233,\n",
       "     'name': 'no2 µg/m³',\n",
       "     'parameter': {'id': 5,\n",
       "      'name': 'no2',\n",
       "      'units': 'µg/m³',\n",
       "      'displayName': 'NO₂ mass'}},\n",
       "    {'id': 253,\n",
       "     'name': 'o3 µg/m³',\n",
       "     'parameter': {'id': 3,\n",
       "      'name': 'o3',\n",
       "      'units': 'µg/m³',\n",
       "      'displayName': 'O₃ mass'}},\n",
       "    {'id': 1298329,\n",
       "     'name': 'pm10 µg/m³',\n",
       "     'parameter': {'id': 1,\n",
       "      'name': 'pm10',\n",
       "      'units': 'µg/m³',\n",
       "      'displayName': 'PM10'}},\n",
       "    {'id': 228,\n",
       "     'name': 'pm25 µg/m³',\n",
       "     'parameter': {'id': 2,\n",
       "      'name': 'pm25',\n",
       "      'units': 'µg/m³',\n",
       "      'displayName': 'PM2.5'}}],\n",
       "   'coordinates': {'latitude': 51.45258, 'longitude': 0.070766},\n",
       "   'licenses': [{'id': 34,\n",
       "     'name': 'UK OGL \"Open Government License\"',\n",
       "     'attribution': {'name': 'Unknown Governmental Organization', 'url': None},\n",
       "     'dateFrom': '2016-01-30',\n",
       "     'dateTo': None}],\n",
       "   'bounds': [0.070766, 51.45258, 0.070766, 51.45258],\n",
       "   'distance': None,\n",
       "   'datetimeFirst': {'utc': '2016-02-01T11:00:00Z',\n",
       "    'local': '2016-02-01T11:00:00Z'},\n",
       "   'datetimeLast': {'utc': '2024-05-30T08:00:00Z',\n",
       "    'local': '2024-05-30T09:00:00+01:00'}},\n",
       "  {'id': 148,\n",
       "   'name': 'London Bloomsbury - UKA00211',\n",
       "   'locality': 'London',\n",
       "   'timezone': 'Europe/London',\n",
       "   'country': {'id': 79, 'code': 'GB', 'name': 'United Kingdom'},\n",
       "   'owner': {'id': 4, 'name': 'Unknown Governmental Organization'},\n",
       "   'provider': {'id': 70, 'name': 'EEA'},\n",
       "   'isMobile': False,\n",
       "   'isMonitor': True,\n",
       "   'instruments': [{'id': 2, 'name': 'Government Monitor'}],\n",
       "   'sensors': [{'id': 238,\n",
       "     'name': 'no2 µg/m³',\n",
       "     'parameter': {'id': 5,\n",
       "      'name': 'no2',\n",
       "      'units': 'µg/m³',\n",
       "      'displayName': 'NO₂ mass'}},\n",
       "    {'id': 229,\n",
       "     'name': 'o3 µg/m³',\n",
       "     'parameter': {'id': 3,\n",
       "      'name': 'o3',\n",
       "      'units': 'µg/m³',\n",
       "      'displayName': 'O₃ mass'}},\n",
       "    {'id': 244,\n",
       "     'name': 'pm10 µg/m³',\n",
       "     'parameter': {'id': 1,\n",
       "      'name': 'pm10',\n",
       "      'units': 'µg/m³',\n",
       "      'displayName': 'PM10'}},\n",
       "    {'id': 232,\n",
       "     'name': 'pm25 µg/m³',\n",
       "     'parameter': {'id': 2,\n",
       "      'name': 'pm25',\n",
       "      'units': 'µg/m³',\n",
       "      'displayName': 'PM2.5'}},\n",
       "    {'id': 4933,\n",
       "     'name': 'so2 µg/m³',\n",
       "     'parameter': {'id': 6,\n",
       "      'name': 'so2',\n",
       "      'units': 'µg/m³',\n",
       "      'displayName': 'SO₂ mass'}}],\n",
       "   'coordinates': {'latitude': 51.52228999923011,\n",
       "    'longitude': -0.12588900021133392},\n",
       "   'licenses': [{'id': 10,\n",
       "     'name': 'ODC-BY',\n",
       "     'attribution': {'name': 'Unknown Governmental Organization', 'url': None},\n",
       "     'dateFrom': '2016-11-17',\n",
       "     'dateTo': None}],\n",
       "   'bounds': [-0.12588900021133392,\n",
       "    51.52228999923011,\n",
       "    -0.12588900021133392,\n",
       "    51.52228999923011],\n",
       "   'distance': None,\n",
       "   'datetimeFirst': {'utc': '2016-01-30T01:00:00Z',\n",
       "    'local': '2016-01-30T01:00:00Z'},\n",
       "   'datetimeLast': {'utc': '2025-07-31T12:00:00Z',\n",
       "    'local': '2025-07-31T13:00:00+01:00'}},\n",
       "  {'id': 149,\n",
       "   'name': 'Ealing - Horn Lane TEOM',\n",
       "   'locality': 'Ealing',\n",
       "   'timezone': 'Europe/London',\n",
       "   'country': {'id': 79, 'code': 'GB', 'name': 'United Kingdom'},\n",
       "   'owner': {'id': 4, 'name': 'Unknown Governmental Organization'},\n",
       "   'provider': {'id': 205, 'name': 'London Air Quality Network'},\n",
       "   'isMobile': False,\n",
       "   'isMonitor': True,\n",
       "   'instruments': [{'id': 2, 'name': 'Government Monitor'}],\n",
       "   'sensors': [{'id': 1304579,\n",
       "     'name': 'no2 µg/m³',\n",
       "     'parameter': {'id': 5,\n",
       "      'name': 'no2',\n",
       "      'units': 'µg/m³',\n",
       "      'displayName': 'NO₂ mass'}},\n",
       "    {'id': 230,\n",
       "     'name': 'pm10 µg/m³',\n",
       "     'parameter': {'id': 1,\n",
       "      'name': 'pm10',\n",
       "      'units': 'µg/m³',\n",
       "      'displayName': 'PM10'}}],\n",
       "   'coordinates': {'latitude': 51.5189160348806,\n",
       "    'longitude': -0.265652052386222},\n",
       "   'licenses': [{'id': 34,\n",
       "     'name': 'UK OGL \"Open Government License\"',\n",
       "     'attribution': {'name': 'Unknown Governmental Organization', 'url': None},\n",
       "     'dateFrom': '2016-01-30',\n",
       "     'dateTo': None}],\n",
       "   'bounds': [-0.265652052386222,\n",
       "    51.5189160348806,\n",
       "    -0.265652052386222,\n",
       "    51.5189160348806],\n",
       "   'distance': None,\n",
       "   'datetimeFirst': {'utc': '2016-01-30T01:00:00Z',\n",
       "    'local': '2016-01-30T01:00:00Z'},\n",
       "   'datetimeLast': {'utc': '2025-07-31T12:00:00Z',\n",
       "    'local': '2025-07-31T13:00:00+01:00'}},\n",
       "  {'id': 150,\n",
       "   'name': 'London Haringey Priory Park South - UKA00568',\n",
       "   'locality': 'London',\n",
       "   'timezone': 'Europe/London',\n",
       "   'country': {'id': 79, 'code': 'GB', 'name': 'United Kingdom'},\n",
       "   'owner': {'id': 4, 'name': 'Unknown Governmental Organization'},\n",
       "   'provider': {'id': 70, 'name': 'EEA'},\n",
       "   'isMobile': False,\n",
       "   'isMonitor': True,\n",
       "   'instruments': [{'id': 2, 'name': 'Government Monitor'}],\n",
       "   'sensors': [{'id': 231,\n",
       "     'name': 'no2 µg/m³',\n",
       "     'parameter': {'id': 5,\n",
       "      'name': 'no2',\n",
       "      'units': 'µg/m³',\n",
       "      'displayName': 'NO₂ mass'}},\n",
       "    {'id': 260,\n",
       "     'name': 'o3 µg/m³',\n",
       "     'parameter': {'id': 3,\n",
       "      'name': 'o3',\n",
       "      'units': 'µg/m³',\n",
       "      'displayName': 'O₃ mass'}},\n",
       "    {'id': 12626389,\n",
       "     'name': 'pm10 µg/m³',\n",
       "     'parameter': {'id': 1,\n",
       "      'name': 'pm10',\n",
       "      'units': 'µg/m³',\n",
       "      'displayName': 'PM10'}},\n",
       "    {'id': 12626392,\n",
       "     'name': 'pm25 µg/m³',\n",
       "     'parameter': {'id': 2,\n",
       "      'name': 'pm25',\n",
       "      'units': 'µg/m³',\n",
       "      'displayName': 'PM2.5'}}],\n",
       "   'coordinates': {'latitude': 51.58412799971813,\n",
       "    'longitude': -0.1252540000016108},\n",
       "   'licenses': [{'id': 10,\n",
       "     'name': 'ODC-BY',\n",
       "     'attribution': {'name': 'Unknown Governmental Organization', 'url': None},\n",
       "     'dateFrom': '2016-11-17',\n",
       "     'dateTo': None}],\n",
       "   'bounds': [-0.1252540000016108,\n",
       "    51.58412799971813,\n",
       "    -0.1252540000016108,\n",
       "    51.58412799971813],\n",
       "   'distance': None,\n",
       "   'datetimeFirst': {'utc': '2016-01-30T01:00:00Z',\n",
       "    'local': '2016-01-30T01:00:00Z'},\n",
       "   'datetimeLast': {'utc': '2025-07-31T12:00:00Z',\n",
       "    'local': '2025-07-31T13:00:00+01:00'}}]}"
      ]
     },
     "execution_count": 22,
     "metadata": {},
     "output_type": "execute_result"
    }
   ],
   "source": [
    "openaq_url = 'https://api.openaq.org/v3/locations'\n",
    "open_aq_response = requests.get(openaq_url, headers = {'X-API-Key' : openaq_api})\n",
    "open_aq_response.json()"
   ]
  },
  {
   "cell_type": "markdown",
   "metadata": {},
   "source": [
    "Research Question: Which countries in Asia have the highest pollution index in terms of PM2.5 and PM10 levels?\n",
    "\n",
    "To answer this question, I will retrieve API only for asian countries, location name, ID, and sensor data and store them as 4 lists."
   ]
  },
  {
   "cell_type": "code",
   "execution_count": 23,
   "metadata": {},
   "outputs": [
    {
     "name": "stdout",
     "output_type": "stream",
     "text": [
      "['India', 'India', 'India', 'India', 'India', 'Vietnam', 'Mongolia', 'China', 'Bangladesh', 'Mongolia', 'Singapore', 'Mongolia', 'China', 'Israel', 'Mongolia', 'Mongolia', 'Thailand', 'India', 'China', 'Thailand', 'Mongolia', 'Thailand', 'Mongolia', 'Thailand', 'India', 'Thailand', 'Thailand', 'China', 'China', 'China']\n",
      "[[{'id': 23, 'name': 'pm25 µg/m³', 'parameter': {'id': 2, 'name': 'pm25', 'units': 'µg/m³', 'displayName': 'PM2.5'}}], [{'id': 13866, 'name': 'no2 µg/m³', 'parameter': {'id': 5, 'name': 'no2', 'units': 'µg/m³', 'displayName': 'NO₂ mass'}}, {'id': 24, 'name': 'o3 µg/m³', 'parameter': {'id': 3, 'name': 'o3', 'units': 'µg/m³', 'displayName': 'O₃ mass'}}, {'id': 13864, 'name': 'pm25 µg/m³', 'parameter': {'id': 2, 'name': 'pm25', 'units': 'µg/m³', 'displayName': 'PM2.5'}}], [{'id': 27, 'name': 'co µg/m³', 'parameter': {'id': 4, 'name': 'co', 'units': 'µg/m³', 'displayName': 'CO mass'}}, {'id': 28, 'name': 'no2 µg/m³', 'parameter': {'id': 5, 'name': 'no2', 'units': 'µg/m³', 'displayName': 'NO₂ mass'}}, {'id': 29, 'name': 'o3 µg/m³', 'parameter': {'id': 3, 'name': 'o3', 'units': 'µg/m³', 'displayName': 'O₃ mass'}}, {'id': 26, 'name': 'pm10 µg/m³', 'parameter': {'id': 1, 'name': 'pm10', 'units': 'µg/m³', 'displayName': 'PM10'}}, {'id': 30, 'name': 'pm25 µg/m³', 'parameter': {'id': 2, 'name': 'pm25', 'units': 'µg/m³', 'displayName': 'PM2.5'}}], [{'id': 33, 'name': 'co µg/m³', 'parameter': {'id': 4, 'name': 'co', 'units': 'µg/m³', 'displayName': 'CO mass'}}, {'id': 32, 'name': 'no2 µg/m³', 'parameter': {'id': 5, 'name': 'no2', 'units': 'µg/m³', 'displayName': 'NO₂ mass'}}, {'id': 31, 'name': 'pm10 µg/m³', 'parameter': {'id': 1, 'name': 'pm10', 'units': 'µg/m³', 'displayName': 'PM10'}}, {'id': 34, 'name': 'pm25 µg/m³', 'parameter': {'id': 2, 'name': 'pm25', 'units': 'µg/m³', 'displayName': 'PM2.5'}}], [{'id': 392, 'name': 'co µg/m³', 'parameter': {'id': 4, 'name': 'co', 'units': 'µg/m³', 'displayName': 'CO mass'}}, {'id': 12234782, 'name': 'co ppb', 'parameter': {'id': 102, 'name': 'co', 'units': 'ppb', 'displayName': 'CO'}}, {'id': 12234783, 'name': 'no ppb', 'parameter': {'id': 24, 'name': 'no', 'units': 'ppb', 'displayName': 'NO'}}, {'id': 12234784, 'name': 'no2 ppb', 'parameter': {'id': 15, 'name': 'no2', 'units': 'ppb', 'displayName': 'NO₂'}}, {'id': 36, 'name': 'no2 µg/m³', 'parameter': {'id': 5, 'name': 'no2', 'units': 'µg/m³', 'displayName': 'NO₂ mass'}}, {'id': 394, 'name': 'o3 µg/m³', 'parameter': {'id': 3, 'name': 'o3', 'units': 'µg/m³', 'displayName': 'O₃ mass'}}, {'id': 12234785, 'name': 'o3 µg/m³', 'parameter': {'id': 3, 'name': 'o3', 'units': 'µg/m³', 'displayName': 'O₃ mass'}}, {'id': 399, 'name': 'pm10 µg/m³', 'parameter': {'id': 1, 'name': 'pm10', 'units': 'µg/m³', 'displayName': 'PM10'}}, {'id': 12234786, 'name': 'pm10 µg/m³', 'parameter': {'id': 1, 'name': 'pm10', 'units': 'µg/m³', 'displayName': 'PM10'}}, {'id': 12234787, 'name': 'pm25 µg/m³', 'parameter': {'id': 2, 'name': 'pm25', 'units': 'µg/m³', 'displayName': 'PM2.5'}}, {'id': 35, 'name': 'pm25 µg/m³', 'parameter': {'id': 2, 'name': 'pm25', 'units': 'µg/m³', 'displayName': 'PM2.5'}}, {'id': 12234788, 'name': 'relativehumidity %', 'parameter': {'id': 98, 'name': 'relativehumidity', 'units': '%', 'displayName': 'RH'}}, {'id': 12234789, 'name': 'so2 ppb', 'parameter': {'id': 101, 'name': 'so2', 'units': 'ppb', 'displayName': 'SO₂'}}, {'id': 393, 'name': 'so2 µg/m³', 'parameter': {'id': 6, 'name': 'so2', 'units': 'µg/m³', 'displayName': 'SO₂ mass'}}, {'id': 12234790, 'name': 'temperature c', 'parameter': {'id': 100, 'name': 'temperature', 'units': 'c', 'displayName': 'Temperature (C)'}}], [{'id': 37, 'name': 'pm25 µg/m³', 'parameter': {'id': 2, 'name': 'pm25', 'units': 'µg/m³', 'displayName': 'PM2.5'}}], [{'id': 5136, 'name': 'co µg/m³', 'parameter': {'id': 4, 'name': 'co', 'units': 'µg/m³', 'displayName': 'CO mass'}}, {'id': 5137, 'name': 'no2 µg/m³', 'parameter': {'id': 5, 'name': 'no2', 'units': 'µg/m³', 'displayName': 'NO₂ mass'}}, {'id': 38, 'name': 'o3 µg/m³', 'parameter': {'id': 3, 'name': 'o3', 'units': 'µg/m³', 'displayName': 'O₃ mass'}}, {'id': 5138, 'name': 'pm10 µg/m³', 'parameter': {'id': 1, 'name': 'pm10', 'units': 'µg/m³', 'displayName': 'PM10'}}, {'id': 5139, 'name': 'pm25 µg/m³', 'parameter': {'id': 2, 'name': 'pm25', 'units': 'µg/m³', 'displayName': 'PM2.5'}}, {'id': 5140, 'name': 'so2 µg/m³', 'parameter': {'id': 6, 'name': 'so2', 'units': 'µg/m³', 'displayName': 'SO₂ mass'}}], [{'id': 40, 'name': 'pm25 µg/m³', 'parameter': {'id': 2, 'name': 'pm25', 'units': 'µg/m³', 'displayName': 'PM2.5'}}], [{'id': 41, 'name': 'pm25 µg/m³', 'parameter': {'id': 2, 'name': 'pm25', 'units': 'µg/m³', 'displayName': 'PM2.5'}}], [{'id': 68, 'name': 'co µg/m³', 'parameter': {'id': 4, 'name': 'co', 'units': 'µg/m³', 'displayName': 'CO mass'}}, {'id': 5177, 'name': 'no2 µg/m³', 'parameter': {'id': 5, 'name': 'no2', 'units': 'µg/m³', 'displayName': 'NO₂ mass'}}, {'id': 5178, 'name': 'o3 µg/m³', 'parameter': {'id': 3, 'name': 'o3', 'units': 'µg/m³', 'displayName': 'O₃ mass'}}, {'id': 5183, 'name': 'pm10 µg/m³', 'parameter': {'id': 1, 'name': 'pm10', 'units': 'µg/m³', 'displayName': 'PM10'}}, {'id': 42, 'name': 'pm25 µg/m³', 'parameter': {'id': 2, 'name': 'pm25', 'units': 'µg/m³', 'displayName': 'PM2.5'}}, {'id': 5186, 'name': 'so2 µg/m³', 'parameter': {'id': 6, 'name': 'so2', 'units': 'µg/m³', 'displayName': 'SO₂ mass'}}], [{'id': 43, 'name': 'pm25 µg/m³', 'parameter': {'id': 2, 'name': 'pm25', 'units': 'µg/m³', 'displayName': 'PM2.5'}}], [{'id': 5373, 'name': 'co µg/m³', 'parameter': {'id': 4, 'name': 'co', 'units': 'µg/m³', 'displayName': 'CO mass'}}, {'id': 5368, 'name': 'no2 µg/m³', 'parameter': {'id': 5, 'name': 'no2', 'units': 'µg/m³', 'displayName': 'NO₂ mass'}}, {'id': 5360, 'name': 'o3 µg/m³', 'parameter': {'id': 3, 'name': 'o3', 'units': 'µg/m³', 'displayName': 'O₃ mass'}}, {'id': 49, 'name': 'pm10 µg/m³', 'parameter': {'id': 1, 'name': 'pm10', 'units': 'µg/m³', 'displayName': 'PM10'}}, {'id': 5342, 'name': 'so2 µg/m³', 'parameter': {'id': 6, 'name': 'so2', 'units': 'µg/m³', 'displayName': 'SO₂ mass'}}], [{'id': 51, 'name': 'pm25 µg/m³', 'parameter': {'id': 2, 'name': 'pm25', 'units': 'µg/m³', 'displayName': 'PM2.5'}}], [{'id': 53, 'name': 'pm25 µg/m³', 'parameter': {'id': 2, 'name': 'pm25', 'units': 'µg/m³', 'displayName': 'PM2.5'}}], [{'id': 1454, 'name': 'co µg/m³', 'parameter': {'id': 4, 'name': 'co', 'units': 'µg/m³', 'displayName': 'CO mass'}}, {'id': 1445, 'name': 'no2 µg/m³', 'parameter': {'id': 5, 'name': 'no2', 'units': 'µg/m³', 'displayName': 'NO₂ mass'}}, {'id': 1465, 'name': 'o3 µg/m³', 'parameter': {'id': 3, 'name': 'o3', 'units': 'µg/m³', 'displayName': 'O₃ mass'}}, {'id': 1464, 'name': 'pm10 µg/m³', 'parameter': {'id': 1, 'name': 'pm10', 'units': 'µg/m³', 'displayName': 'PM10'}}, {'id': 1446, 'name': 'pm25 µg/m³', 'parameter': {'id': 2, 'name': 'pm25', 'units': 'µg/m³', 'displayName': 'PM2.5'}}, {'id': 66, 'name': 'so2 µg/m³', 'parameter': {'id': 6, 'name': 'so2', 'units': 'µg/m³', 'displayName': 'SO₂ mass'}}], [{'id': 108, 'name': 'co µg/m³', 'parameter': {'id': 4, 'name': 'co', 'units': 'µg/m³', 'displayName': 'CO mass'}}, {'id': 150, 'name': 'no2 µg/m³', 'parameter': {'id': 5, 'name': 'no2', 'units': 'µg/m³', 'displayName': 'NO₂ mass'}}, {'id': 1460, 'name': 'pm10 µg/m³', 'parameter': {'id': 1, 'name': 'pm10', 'units': 'µg/m³', 'displayName': 'PM10'}}, {'id': 69, 'name': 'pm25 µg/m³', 'parameter': {'id': 2, 'name': 'pm25', 'units': 'µg/m³', 'displayName': 'PM2.5'}}, {'id': 123, 'name': 'so2 µg/m³', 'parameter': {'id': 6, 'name': 'so2', 'units': 'µg/m³', 'displayName': 'SO₂ mass'}}], [{'id': 92, 'name': 'co ppm', 'parameter': {'id': 8, 'name': 'co', 'units': 'ppm', 'displayName': 'CO'}}, {'id': 74, 'name': 'no2 ppm', 'parameter': {'id': 7, 'name': 'no2', 'units': 'ppm', 'displayName': 'NO₂'}}, {'id': 70, 'name': 'pm10 µg/m³', 'parameter': {'id': 1, 'name': 'pm10', 'units': 'µg/m³', 'displayName': 'PM10'}}], [{'id': 398, 'name': 'co µg/m³', 'parameter': {'id': 4, 'name': 'co', 'units': 'µg/m³', 'displayName': 'CO mass'}}, {'id': 12234791, 'name': 'co ppb', 'parameter': {'id': 102, 'name': 'co', 'units': 'ppb', 'displayName': 'CO'}}, {'id': 12234792, 'name': 'no ppb', 'parameter': {'id': 24, 'name': 'no', 'units': 'ppb', 'displayName': 'NO'}}, {'id': 12234793, 'name': 'no2 ppb', 'parameter': {'id': 15, 'name': 'no2', 'units': 'ppb', 'displayName': 'NO₂'}}, {'id': 400, 'name': 'no2 µg/m³', 'parameter': {'id': 5, 'name': 'no2', 'units': 'µg/m³', 'displayName': 'NO₂ mass'}}, {'id': 71, 'name': 'o3 µg/m³', 'parameter': {'id': 3, 'name': 'o3', 'units': 'µg/m³', 'displayName': 'O₃ mass'}}, {'id': 12234794, 'name': 'o3 µg/m³', 'parameter': {'id': 3, 'name': 'o3', 'units': 'µg/m³', 'displayName': 'O₃ mass'}}, {'id': 395, 'name': 'pm10 µg/m³', 'parameter': {'id': 1, 'name': 'pm10', 'units': 'µg/m³', 'displayName': 'PM10'}}, {'id': 12234795, 'name': 'pm10 µg/m³', 'parameter': {'id': 1, 'name': 'pm10', 'units': 'µg/m³', 'displayName': 'PM10'}}, {'id': 12234796, 'name': 'pm25 µg/m³', 'parameter': {'id': 2, 'name': 'pm25', 'units': 'µg/m³', 'displayName': 'PM2.5'}}, {'id': 396, 'name': 'pm25 µg/m³', 'parameter': {'id': 2, 'name': 'pm25', 'units': 'µg/m³', 'displayName': 'PM2.5'}}, {'id': 12234797, 'name': 'relativehumidity %', 'parameter': {'id': 98, 'name': 'relativehumidity', 'units': '%', 'displayName': 'RH'}}, {'id': 12234798, 'name': 'so2 ppb', 'parameter': {'id': 101, 'name': 'so2', 'units': 'ppb', 'displayName': 'SO₂'}}, {'id': 397, 'name': 'so2 µg/m³', 'parameter': {'id': 6, 'name': 'so2', 'units': 'µg/m³', 'displayName': 'SO₂ mass'}}, {'id': 12234799, 'name': 'temperature c', 'parameter': {'id': 100, 'name': 'temperature', 'units': 'c', 'displayName': 'Temperature (C)'}}], [{'id': 5079217, 'name': 'pm25 µg/m³', 'parameter': {'id': 2, 'name': 'pm25', 'units': 'µg/m³', 'displayName': 'PM2.5'}}], [{'id': 84, 'name': 'co ppm', 'parameter': {'id': 8, 'name': 'co', 'units': 'ppm', 'displayName': 'CO'}}, {'id': 22240, 'name': 'no2 ppm', 'parameter': {'id': 7, 'name': 'no2', 'units': 'ppm', 'displayName': 'NO₂'}}, {'id': 22211, 'name': 'o3 ppm', 'parameter': {'id': 10, 'name': 'o3', 'units': 'ppm', 'displayName': 'O₃'}}, {'id': 83, 'name': 'pm10 µg/m³', 'parameter': {'id': 1, 'name': 'pm10', 'units': 'µg/m³', 'displayName': 'PM10'}}, {'id': 22241, 'name': 'so2 ppm', 'parameter': {'id': 9, 'name': 'so2', 'units': 'ppm', 'displayName': 'SO₂'}}], [{'id': 1513, 'name': 'co µg/m³', 'parameter': {'id': 4, 'name': 'co', 'units': 'µg/m³', 'displayName': 'CO mass'}}, {'id': 1514, 'name': 'no2 µg/m³', 'parameter': {'id': 5, 'name': 'no2', 'units': 'µg/m³', 'displayName': 'NO₂ mass'}}, {'id': 86, 'name': 'o3 µg/m³', 'parameter': {'id': 3, 'name': 'o3', 'units': 'µg/m³', 'displayName': 'O₃ mass'}}, {'id': 1511, 'name': 'pm10 µg/m³', 'parameter': {'id': 1, 'name': 'pm10', 'units': 'µg/m³', 'displayName': 'PM10'}}, {'id': 1507, 'name': 'pm25 µg/m³', 'parameter': {'id': 2, 'name': 'pm25', 'units': 'µg/m³', 'displayName': 'PM2.5'}}, {'id': 1509, 'name': 'so2 µg/m³', 'parameter': {'id': 6, 'name': 'so2', 'units': 'µg/m³', 'displayName': 'SO₂ mass'}}], [{'id': 98, 'name': 'co ppm', 'parameter': {'id': 8, 'name': 'co', 'units': 'ppm', 'displayName': 'CO'}}, {'id': 99, 'name': 'no2 ppm', 'parameter': {'id': 7, 'name': 'no2', 'units': 'ppm', 'displayName': 'NO₂'}}, {'id': 96, 'name': 'o3 ppm', 'parameter': {'id': 10, 'name': 'o3', 'units': 'ppm', 'displayName': 'O₃'}}, {'id': 97, 'name': 'pm10 µg/m³', 'parameter': {'id': 1, 'name': 'pm10', 'units': 'µg/m³', 'displayName': 'PM10'}}], [{'id': 13218, 'name': 'co µg/m³', 'parameter': {'id': 4, 'name': 'co', 'units': 'µg/m³', 'displayName': 'CO mass'}}, {'id': 607, 'name': 'no2 µg/m³', 'parameter': {'id': 5, 'name': 'no2', 'units': 'µg/m³', 'displayName': 'NO₂ mass'}}, {'id': 5334, 'name': 'o3 µg/m³', 'parameter': {'id': 3, 'name': 'o3', 'units': 'µg/m³', 'displayName': 'O₃ mass'}}, {'id': 143, 'name': 'pm10 µg/m³', 'parameter': {'id': 1, 'name': 'pm10', 'units': 'µg/m³', 'displayName': 'PM10'}}, {'id': 5378, 'name': 'so2 µg/m³', 'parameter': {'id': 6, 'name': 'so2', 'units': 'µg/m³', 'displayName': 'SO₂ mass'}}], [{'id': 155, 'name': 'co ppm', 'parameter': {'id': 8, 'name': 'co', 'units': 'ppm', 'displayName': 'CO'}}, {'id': 154, 'name': 'no2 ppm', 'parameter': {'id': 7, 'name': 'no2', 'units': 'ppm', 'displayName': 'NO₂'}}, {'id': 152, 'name': 'o3 ppm', 'parameter': {'id': 10, 'name': 'o3', 'units': 'ppm', 'displayName': 'O₃'}}, {'id': 153, 'name': 'pm10 µg/m³', 'parameter': {'id': 1, 'name': 'pm10', 'units': 'µg/m³', 'displayName': 'PM10'}}, {'id': 156, 'name': 'so2 ppm', 'parameter': {'id': 9, 'name': 'so2', 'units': 'ppm', 'displayName': 'SO₂'}}], [{'id': 169, 'name': 'co µg/m³', 'parameter': {'id': 4, 'name': 'co', 'units': 'µg/m³', 'displayName': 'CO mass'}}, {'id': 13863, 'name': 'no2 µg/m³', 'parameter': {'id': 5, 'name': 'no2', 'units': 'µg/m³', 'displayName': 'NO₂ mass'}}, {'id': 168, 'name': 'o3 µg/m³', 'parameter': {'id': 3, 'name': 'o3', 'units': 'µg/m³', 'displayName': 'O₃ mass'}}, {'id': 13862, 'name': 'pm10 µg/m³', 'parameter': {'id': 1, 'name': 'pm10', 'units': 'µg/m³', 'displayName': 'PM10'}}, {'id': 13861, 'name': 'pm25 µg/m³', 'parameter': {'id': 2, 'name': 'pm25', 'units': 'µg/m³', 'displayName': 'PM2.5'}}], [{'id': 5079219, 'name': 'no2 ppm', 'parameter': {'id': 7, 'name': 'no2', 'units': 'ppm', 'displayName': 'NO₂'}}, {'id': 5079221, 'name': 'o3 ppm', 'parameter': {'id': 10, 'name': 'o3', 'units': 'ppm', 'displayName': 'O₃'}}, {'id': 5079218, 'name': 'pm10 µg/m³', 'parameter': {'id': 1, 'name': 'pm10', 'units': 'µg/m³', 'displayName': 'PM10'}}, {'id': 5077838, 'name': 'pm25 µg/m³', 'parameter': {'id': 2, 'name': 'pm25', 'units': 'µg/m³', 'displayName': 'PM2.5'}}, {'id': 5079220, 'name': 'so2 ppm', 'parameter': {'id': 9, 'name': 'so2', 'units': 'ppm', 'displayName': 'SO₂'}}], [{'id': 378, 'name': 'co ppm', 'parameter': {'id': 8, 'name': 'co', 'units': 'ppm', 'displayName': 'CO'}}, {'id': 444, 'name': 'no2 ppm', 'parameter': {'id': 7, 'name': 'no2', 'units': 'ppm', 'displayName': 'NO₂'}}, {'id': 214, 'name': 'o3 ppm', 'parameter': {'id': 10, 'name': 'o3', 'units': 'ppm', 'displayName': 'O₃'}}, {'id': 445, 'name': 'pm10 µg/m³', 'parameter': {'id': 1, 'name': 'pm10', 'units': 'µg/m³', 'displayName': 'PM10'}}, {'id': 443, 'name': 'so2 ppm', 'parameter': {'id': 9, 'name': 'so2', 'units': 'ppm', 'displayName': 'SO₂'}}], [{'id': 218, 'name': 'pm25 µg/m³', 'parameter': {'id': 2, 'name': 'pm25', 'units': 'µg/m³', 'displayName': 'PM2.5'}}], [{'id': 219, 'name': 'pm25 µg/m³', 'parameter': {'id': 2, 'name': 'pm25', 'units': 'µg/m³', 'displayName': 'PM2.5'}}], [{'id': 220, 'name': 'pm25 µg/m³', 'parameter': {'id': 2, 'name': 'pm25', 'units': 'µg/m³', 'displayName': 'PM2.5'}}]]\n",
      "[12, 13, 15, 16, 17, 18, 19, 21, 22, 23, 24, 30, 32, 34, 46, 48, 49, 50, 53, 57, 59, 66, 90, 94, 103, 135, 138, 142, 143, 144]\n",
      "['SPARTAN - IIT Kanpur', 'Delhi Technological University, Delhi - CPCB', 'IGI Airport', 'Civil Lines', 'R K Puram, Delhi - DPCC', 'SPARTAN - Vietnam Acad. Sci.', 'MNB', 'Beijing US Embassy', 'SPARTAN - Dhaka University', 'Amgalan', 'SPARTAN - NUS', '100 ail', 'SPARTAN - Tsinghua University', 'SPARTAN - Weizmann Institute', 'Bukhiin urguu', 'Baruun 4 zam', 'Phahol Yothin Rd., Khet Chatuchak', 'Punjabi Bagh, Delhi - DPCC', 'Shenyang', 'Khlong Nueng, Khlong Luang', 'Nisekh', 'Bang Khun Thian, Chom Thong', 'Misheel expo', 'Din Daeng, Din Daeng', 'Income Tax Office, Delhi - CPCB', 'Prabadang Rehabiltation Center', 'Lat Phrao Rd., Wang Thonglang', 'Chengdu', 'Shanghai', 'Guangzhou']\n"
     ]
    }
   ],
   "source": [
    "open_aq_location_data = open_aq_response.json()['results']\n",
    "open_aq_country_name = []\n",
    "open_aq_sensor_data = []\n",
    "open_aq_location_id = []\n",
    "open_aq_location_name = []\n",
    "for open_aq_location_data_value in open_aq_location_data:\n",
    "    if 'Asia' in open_aq_location_data_value['timezone']:\n",
    "        open_aq_country_name.append(open_aq_location_data_value['country']['name'])\n",
    "        open_aq_sensor_data.append(open_aq_location_data_value['sensors'])\n",
    "        open_aq_location_id.append(open_aq_location_data_value['id'])\n",
    "        open_aq_location_name.append(open_aq_location_data_value['name'])\n",
    "\n",
    "print(open_aq_country_name)\n",
    "print(open_aq_sensor_data)\n",
    "print(open_aq_location_id)\n",
    "print(open_aq_location_name)"
   ]
  },
  {
   "cell_type": "markdown",
   "metadata": {},
   "source": [
    "Filter out data for PM2.5 and PM10 sensor ids, location names, ids, country names, and store them in separate lists."
   ]
  },
  {
   "cell_type": "code",
   "execution_count": 24,
   "metadata": {},
   "outputs": [
    {
     "name": "stdout",
     "output_type": "stream",
     "text": [
      "['India', 'India', 'India', 'India', 'India', 'India', 'Vietnam', 'Mongolia', 'China', 'Bangladesh', 'Mongolia', 'Singapore', 'China', 'Israel', 'Mongolia', 'Mongolia', 'India', 'India', 'China', 'Mongolia', 'India', 'Thailand', 'China', 'China', 'China']\n",
      "['India', 'India', 'India', 'India', 'Mongolia', 'Mongolia', 'Mongolia', 'Mongolia', 'Mongolia', 'Thailand', 'India', 'India', 'Thailand', 'Mongolia', 'Thailand', 'Mongolia', 'Thailand', 'India', 'Thailand', 'Thailand']\n",
      "['SPARTAN - IIT Kanpur', 'Delhi Technological University, Delhi - CPCB', 'IGI Airport', 'Civil Lines', 'R K Puram, Delhi - DPCC', 'R K Puram, Delhi - DPCC', 'SPARTAN - Vietnam Acad. Sci.', 'MNB', 'Beijing US Embassy', 'SPARTAN - Dhaka University', 'Amgalan', 'SPARTAN - NUS', 'SPARTAN - Tsinghua University', 'SPARTAN - Weizmann Institute', 'Bukhiin urguu', 'Baruun 4 zam', 'Punjabi Bagh, Delhi - DPCC', 'Punjabi Bagh, Delhi - DPCC', 'Shenyang', 'Nisekh', 'Income Tax Office, Delhi - CPCB', 'Prabadang Rehabiltation Center', 'Chengdu', 'Shanghai', 'Guangzhou']\n",
      "['IGI Airport', 'Civil Lines', 'R K Puram, Delhi - DPCC', 'R K Puram, Delhi - DPCC', 'MNB', 'Amgalan', '100 ail', 'Bukhiin urguu', 'Baruun 4 zam', 'Phahol Yothin Rd., Khet Chatuchak', 'Punjabi Bagh, Delhi - DPCC', 'Punjabi Bagh, Delhi - DPCC', 'Khlong Nueng, Khlong Luang', 'Nisekh', 'Bang Khun Thian, Chom Thong', 'Misheel expo', 'Din Daeng, Din Daeng', 'Income Tax Office, Delhi - CPCB', 'Prabadang Rehabiltation Center', 'Lat Phrao Rd., Wang Thonglang']\n",
      "[12, 13, 15, 16, 17, 17, 18, 19, 21, 22, 23, 24, 32, 34, 46, 48, 50, 50, 53, 59, 103, 135, 142, 143, 144]\n",
      "[15, 16, 17, 17, 19, 23, 30, 46, 48, 49, 50, 50, 57, 59, 66, 90, 94, 103, 135, 138]\n",
      "[23, 13864, 30, 34, 12234787, 35, 37, 5139, 40, 41, 42, 43, 51, 53, 1446, 69, 12234796, 396, 5079217, 1507, 13861, 5077838, 218, 219, 220]\n",
      "[26, 31, 399, 12234786, 5138, 5183, 49, 1464, 1460, 70, 395, 12234795, 83, 1511, 97, 143, 153, 13862, 5079218, 445]\n"
     ]
    }
   ],
   "source": [
    "PM25_country_name = []\n",
    "PM10_country_name = []\n",
    "PM25_location_id = []\n",
    "PM10_location_id = []\n",
    "PM25_location_name = []\n",
    "PM10_location_name = []\n",
    "PM25_sensor_id = []\n",
    "PM10_sensor_id = []\n",
    "for index in range(len(open_aq_location_id)):\n",
    "    for open_aq_sensor_data_value in open_aq_sensor_data[index]:\n",
    "        if 'pm25' in open_aq_sensor_data_value['name']:\n",
    "            PM25_sensor_id.append(open_aq_sensor_data_value['id'])\n",
    "            PM25_location_id.append(open_aq_location_id[index])\n",
    "            PM25_location_name.append(open_aq_location_name[index])\n",
    "            PM25_country_name.append(open_aq_country_name[index])\n",
    "        elif 'pm10' in open_aq_sensor_data_value['name']:\n",
    "            PM10_sensor_id.append(open_aq_sensor_data_value['id'])\n",
    "            PM10_location_id.append(open_aq_location_id[index])\n",
    "            PM10_location_name.append(open_aq_location_name[index])\n",
    "            PM10_country_name.append(open_aq_country_name[index])\n",
    "\n",
    "print(PM25_country_name)\n",
    "print(PM10_country_name)\n",
    "print(PM25_location_name)\n",
    "print(PM10_location_name)\n",
    "print(PM25_location_id)\n",
    "print(PM10_location_id)\n",
    "print(PM25_sensor_id)\n",
    "print(PM10_sensor_id)"
   ]
  },
  {
   "cell_type": "markdown",
   "metadata": {},
   "source": [
    "Retrieve API only for PM2.5 sensor data aggregated by year and store them into separate lists."
   ]
  },
  {
   "cell_type": "code",
   "execution_count": 25,
   "metadata": {},
   "outputs": [],
   "source": [
    "PM25_data = []\n",
    "PM25_date = []\n",
    "PM25_avg = []\n",
    "PM25_max = []\n",
    "PM25_country_name2 = []\n",
    "PM25_location_id2 = []\n",
    "PM25_location_name2 = []\n",
    "PM25_sensor_id2 = []\n",
    "for index in range(len(PM25_sensor_id)):\n",
    "        openaq_url2 = (f'https://api.openaq.org/v3/sensors/{PM25_sensor_id[index]}/years')\n",
    "        PM25_data.append(requests.get(openaq_url2, headers = {'X-API-Key' : openaq_api}).json())\n",
    "        for PM25_data_value in PM25_data[index]['results']:\n",
    "                PM25_date.append(PM25_data_value['period']['datetimeFrom']['local'])\n",
    "                PM25_avg.append(PM25_data_value['value'])\n",
    "                PM25_max.append(PM25_data_value['summary']['max'])\n",
    "                PM25_country_name2.append(PM25_country_name[index])\n",
    "                PM25_location_name2.append(PM25_location_name[index])\n",
    "                PM25_location_id2.append(PM25_location_id[index])\n",
    "                PM25_sensor_id2.append(PM25_sensor_id[index])"
   ]
  },
  {
   "cell_type": "markdown",
   "metadata": {},
   "source": [
    "Combine PM2.5 lists into a single dataframe."
   ]
  },
  {
   "cell_type": "code",
   "execution_count": 26,
   "metadata": {},
   "outputs": [
    {
     "data": {
      "text/html": [
       "<div>\n",
       "<style scoped>\n",
       "    .dataframe tbody tr th:only-of-type {\n",
       "        vertical-align: middle;\n",
       "    }\n",
       "\n",
       "    .dataframe tbody tr th {\n",
       "        vertical-align: top;\n",
       "    }\n",
       "\n",
       "    .dataframe thead th {\n",
       "        text-align: right;\n",
       "    }\n",
       "</style>\n",
       "<table border=\"1\" class=\"dataframe\">\n",
       "  <thead>\n",
       "    <tr style=\"text-align: right;\">\n",
       "      <th></th>\n",
       "      <th>Country</th>\n",
       "      <th>Location Name</th>\n",
       "      <th>Location ID</th>\n",
       "      <th>PM2.5 Sensor ID</th>\n",
       "      <th>Year</th>\n",
       "      <th>Annual Mean PM2.5 Levels (μg/m³)</th>\n",
       "      <th>Annual Max PM2.5 Levels (μg/m³)</th>\n",
       "    </tr>\n",
       "  </thead>\n",
       "  <tbody>\n",
       "    <tr>\n",
       "      <th>10</th>\n",
       "      <td>China</td>\n",
       "      <td>Beijing US Embassy</td>\n",
       "      <td>21</td>\n",
       "      <td>40</td>\n",
       "      <td>2016</td>\n",
       "      <td>73.2</td>\n",
       "      <td>782.0</td>\n",
       "    </tr>\n",
       "    <tr>\n",
       "      <th>45</th>\n",
       "      <td>China</td>\n",
       "      <td>Chengdu</td>\n",
       "      <td>142</td>\n",
       "      <td>218</td>\n",
       "      <td>2016</td>\n",
       "      <td>71.1</td>\n",
       "      <td>281.0</td>\n",
       "    </tr>\n",
       "    <tr>\n",
       "      <th>51</th>\n",
       "      <td>China</td>\n",
       "      <td>Shanghai</td>\n",
       "      <td>143</td>\n",
       "      <td>219</td>\n",
       "      <td>2016</td>\n",
       "      <td>42.5</td>\n",
       "      <td>209.0</td>\n",
       "    </tr>\n",
       "    <tr>\n",
       "      <th>59</th>\n",
       "      <td>China</td>\n",
       "      <td>Guangzhou</td>\n",
       "      <td>144</td>\n",
       "      <td>220</td>\n",
       "      <td>2016</td>\n",
       "      <td>32.4</td>\n",
       "      <td>266.0</td>\n",
       "    </tr>\n",
       "    <tr>\n",
       "      <th>11</th>\n",
       "      <td>China</td>\n",
       "      <td>Beijing US Embassy</td>\n",
       "      <td>21</td>\n",
       "      <td>40</td>\n",
       "      <td>2017</td>\n",
       "      <td>61.8</td>\n",
       "      <td>684.0</td>\n",
       "    </tr>\n",
       "    <tr>\n",
       "      <th>...</th>\n",
       "      <td>...</td>\n",
       "      <td>...</td>\n",
       "      <td>...</td>\n",
       "      <td>...</td>\n",
       "      <td>...</td>\n",
       "      <td>...</td>\n",
       "      <td>...</td>\n",
       "    </tr>\n",
       "    <tr>\n",
       "      <th>29</th>\n",
       "      <td>Mongolia</td>\n",
       "      <td>Baruun 4 zam</td>\n",
       "      <td>48</td>\n",
       "      <td>69</td>\n",
       "      <td>2019</td>\n",
       "      <td>162.0</td>\n",
       "      <td>4305.0</td>\n",
       "    </tr>\n",
       "    <tr>\n",
       "      <th>38</th>\n",
       "      <td>Mongolia</td>\n",
       "      <td>Nisekh</td>\n",
       "      <td>59</td>\n",
       "      <td>1507</td>\n",
       "      <td>2019</td>\n",
       "      <td>143.0</td>\n",
       "      <td>513.5</td>\n",
       "    </tr>\n",
       "    <tr>\n",
       "      <th>42</th>\n",
       "      <td>Thailand</td>\n",
       "      <td>Prabadang Rehabiltation Center</td>\n",
       "      <td>135</td>\n",
       "      <td>5077838</td>\n",
       "      <td>2022</td>\n",
       "      <td>20.0</td>\n",
       "      <td>20.0</td>\n",
       "    </tr>\n",
       "    <tr>\n",
       "      <th>43</th>\n",
       "      <td>Thailand</td>\n",
       "      <td>Prabadang Rehabiltation Center</td>\n",
       "      <td>135</td>\n",
       "      <td>5077838</td>\n",
       "      <td>2023</td>\n",
       "      <td>23.0</td>\n",
       "      <td>110.0</td>\n",
       "    </tr>\n",
       "    <tr>\n",
       "      <th>44</th>\n",
       "      <td>Thailand</td>\n",
       "      <td>Prabadang Rehabiltation Center</td>\n",
       "      <td>135</td>\n",
       "      <td>5077838</td>\n",
       "      <td>2024</td>\n",
       "      <td>25.5</td>\n",
       "      <td>104.0</td>\n",
       "    </tr>\n",
       "  </tbody>\n",
       "</table>\n",
       "<p>67 rows × 7 columns</p>\n",
       "</div>"
      ],
      "text/plain": [
       "     Country                   Location Name  Location ID  PM2.5 Sensor ID  \\\n",
       "10     China              Beijing US Embassy           21               40   \n",
       "45     China                         Chengdu          142              218   \n",
       "51     China                        Shanghai          143              219   \n",
       "59     China                       Guangzhou          144              220   \n",
       "11     China              Beijing US Embassy           21               40   \n",
       "..       ...                             ...          ...              ...   \n",
       "29  Mongolia                    Baruun 4 zam           48               69   \n",
       "38  Mongolia                          Nisekh           59             1507   \n",
       "42  Thailand  Prabadang Rehabiltation Center          135          5077838   \n",
       "43  Thailand  Prabadang Rehabiltation Center          135          5077838   \n",
       "44  Thailand  Prabadang Rehabiltation Center          135          5077838   \n",
       "\n",
       "    Year  Annual Mean PM2.5 Levels (μg/m³)  Annual Max PM2.5 Levels (μg/m³)  \n",
       "10  2016                              73.2                            782.0  \n",
       "45  2016                              71.1                            281.0  \n",
       "51  2016                              42.5                            209.0  \n",
       "59  2016                              32.4                            266.0  \n",
       "11  2017                              61.8                            684.0  \n",
       "..   ...                               ...                              ...  \n",
       "29  2019                             162.0                           4305.0  \n",
       "38  2019                             143.0                            513.5  \n",
       "42  2022                              20.0                             20.0  \n",
       "43  2023                              23.0                            110.0  \n",
       "44  2024                              25.5                            104.0  \n",
       "\n",
       "[67 rows x 7 columns]"
      ]
     },
     "execution_count": 26,
     "metadata": {},
     "output_type": "execute_result"
    }
   ],
   "source": [
    "PM25_date_dt = pd.to_datetime(PM25_date, utc = True)\n",
    "PM25_year = PM25_date_dt.year + 1\n",
    "asia_yearly_pm25_levels = {'Country' : PM25_country_name2, 'Location Name' : PM25_location_name2, 'Location ID' : PM25_location_id2, 'PM2.5 Sensor ID' : PM25_sensor_id2, 'Year' : PM25_year, \n",
    "                           'Annual Mean PM2.5 Levels (μg/m³)' : PM25_avg, 'Annual Max PM2.5 Levels (μg/m³)' : PM25_max}\n",
    "asia_yearly_pm25_levels_df = pd.DataFrame(asia_yearly_pm25_levels).sort_values(by = ['Country', 'Year'])\n",
    "asia_yearly_pm25_levels_df"
   ]
  },
  {
   "cell_type": "markdown",
   "metadata": {},
   "source": [
    "Plot a line chart of annual mean pm2.5 levels against year for the different asian countries."
   ]
  },
  {
   "cell_type": "code",
   "execution_count": 27,
   "metadata": {},
   "outputs": [
    {
     "data": {
      "application/vnd.plotly.v1+json": {
       "config": {
        "plotlyServerURL": "https://plot.ly"
       },
       "data": [
        {
         "customdata": [
          [
           "Beijing US Embassy, China"
          ],
          [
           "Beijing US Embassy, China"
          ],
          [
           "Beijing US Embassy, China"
          ],
          [
           "Beijing US Embassy, China"
          ],
          [
           "Beijing US Embassy, China"
          ],
          [
           "Beijing US Embassy, China"
          ],
          [
           "Beijing US Embassy, China"
          ],
          [
           "Beijing US Embassy, China"
          ]
         ],
         "hovertemplate": "Year: %{x}<br>Annual Mean PM2.5 Levels (μg/m³): %{y:.1f}<br>Location: %{customdata[0]}<extra></extra>",
         "legendgroup": "Beijing US Embassy, China",
         "line": {
          "color": "#073601",
          "dash": "solid"
         },
         "marker": {
          "symbol": "circle"
         },
         "mode": "lines+markers",
         "name": "Beijing US Embassy, China",
         "orientation": "v",
         "showlegend": true,
         "type": "scatter",
         "x": [
          2016,
          2017,
          2018,
          2019,
          2020,
          2021,
          2022,
          2023
         ],
         "xaxis": "x",
         "y": [
          73.2,
          61.8,
          49.5,
          44.4,
          46.2,
          41.3,
          31.5,
          27.6
         ],
         "yaxis": "y"
        },
        {
         "customdata": [
          [
           "Chengdu, China"
          ],
          [
           "Chengdu, China"
          ],
          [
           "Chengdu, China"
          ],
          [
           "Chengdu, China"
          ],
          [
           "Chengdu, China"
          ],
          [
           "Chengdu, China"
          ]
         ],
         "hovertemplate": "Year: %{x}<br>Annual Mean PM2.5 Levels (μg/m³): %{y:.1f}<br>Location: %{customdata[0]}<extra></extra>",
         "legendgroup": "Chengdu, China",
         "line": {
          "color": "#058d01",
          "dash": "solid"
         },
         "marker": {
          "symbol": "circle"
         },
         "mode": "lines+markers",
         "name": "Chengdu, China",
         "orientation": "v",
         "showlegend": true,
         "type": "scatter",
         "x": [
          2016,
          2017,
          2018,
          2019,
          2020,
          2023
         ],
         "xaxis": "x",
         "y": [
          71.1,
          62.7,
          52.5,
          53.3,
          52.6,
          81.5
         ],
         "yaxis": "y"
        },
        {
         "customdata": [
          [
           "Shanghai, China"
          ],
          [
           "Shanghai, China"
          ],
          [
           "Shanghai, China"
          ],
          [
           "Shanghai, China"
          ],
          [
           "Shanghai, China"
          ],
          [
           "Shanghai, China"
          ],
          [
           "Shanghai, China"
          ],
          [
           "Shanghai, China"
          ]
         ],
         "hovertemplate": "Year: %{x}<br>Annual Mean PM2.5 Levels (μg/m³): %{y:.1f}<br>Location: %{customdata[0]}<extra></extra>",
         "legendgroup": "Shanghai, China",
         "line": {
          "color": "#1fc21f",
          "dash": "solid"
         },
         "marker": {
          "symbol": "circle"
         },
         "mode": "lines+markers",
         "name": "Shanghai, China",
         "orientation": "v",
         "showlegend": true,
         "type": "scatter",
         "x": [
          2016,
          2017,
          2018,
          2019,
          2020,
          2021,
          2022,
          2023
         ],
         "xaxis": "x",
         "y": [
          42.5,
          44.4,
          59.7,
          42.6,
          41.7,
          54.6,
          35.8,
          43.2
         ],
         "yaxis": "y"
        },
        {
         "customdata": [
          [
           "Guangzhou, China"
          ],
          [
           "Guangzhou, China"
          ],
          [
           "Guangzhou, China"
          ],
          [
           "Guangzhou, China"
          ],
          [
           "Guangzhou, China"
          ],
          [
           "Guangzhou, China"
          ],
          [
           "Guangzhou, China"
          ],
          [
           "Guangzhou, China"
          ]
         ],
         "hovertemplate": "Year: %{x}<br>Annual Mean PM2.5 Levels (μg/m³): %{y:.1f}<br>Location: %{customdata[0]}<extra></extra>",
         "legendgroup": "Guangzhou, China",
         "line": {
          "color": "#65b451",
          "dash": "solid"
         },
         "marker": {
          "symbol": "circle"
         },
         "mode": "lines+markers",
         "name": "Guangzhou, China",
         "orientation": "v",
         "showlegend": true,
         "type": "scatter",
         "x": [
          2016,
          2017,
          2018,
          2019,
          2020,
          2021,
          2022,
          2023
         ],
         "xaxis": "x",
         "y": [
          32.4,
          40.3,
          47.6,
          41.6,
          36.1,
          27.2,
          32.3,
          1.6
         ],
         "yaxis": "y"
        },
        {
         "customdata": [
          [
           "Shenyang, China"
          ],
          [
           "Shenyang, China"
          ]
         ],
         "hovertemplate": "Year: %{x}<br>Annual Mean PM2.5 Levels (μg/m³): %{y:.1f}<br>Location: %{customdata[0]}<extra></extra>",
         "legendgroup": "Shenyang, China",
         "line": {
          "color": "#95b890",
          "dash": "solid"
         },
         "marker": {
          "symbol": "circle"
         },
         "mode": "lines+markers",
         "name": "Shenyang, China",
         "orientation": "v",
         "showlegend": true,
         "type": "scatter",
         "x": [
          2021,
          2023
         ],
         "xaxis": "x",
         "y": [
          29.8,
          32.6
         ],
         "yaxis": "y"
        },
        {
         "customdata": [
          [
           "Delhi Technological University, Delhi - CPCB, India"
          ],
          [
           "Delhi Technological University, Delhi - CPCB, India"
          ],
          [
           "Delhi Technological University, Delhi - CPCB, India"
          ]
         ],
         "hovertemplate": "Year: %{x}<br>Annual Mean PM2.5 Levels (μg/m³): %{y:.1f}<br>Location: %{customdata[0]}<extra></extra>",
         "legendgroup": "Delhi Technological University, Delhi - CPCB, India",
         "line": {
          "color": "#003052",
          "dash": "solid"
         },
         "marker": {
          "symbol": "circle"
         },
         "mode": "lines+markers",
         "name": "Delhi Technological University, Delhi - CPCB, India",
         "orientation": "v",
         "showlegend": true,
         "type": "scatter",
         "x": [
          2016,
          2017,
          2018
         ],
         "xaxis": "x",
         "y": [
          304,
          143,
          246
         ],
         "yaxis": "y"
        },
        {
         "customdata": [
          [
           "R K Puram, Delhi - DPCC, India"
          ],
          [
           "R K Puram, Delhi - DPCC, India"
          ],
          [
           "R K Puram, Delhi - DPCC, India"
          ]
         ],
         "hovertemplate": "Year: %{x}<br>Annual Mean PM2.5 Levels (μg/m³): %{y:.1f}<br>Location: %{customdata[0]}<extra></extra>",
         "legendgroup": "R K Puram, Delhi - DPCC, India",
         "line": {
          "color": "#004d85",
          "dash": "solid"
         },
         "marker": {
          "symbol": "circle"
         },
         "mode": "lines+markers",
         "name": "R K Puram, Delhi - DPCC, India",
         "orientation": "v",
         "showlegend": true,
         "type": "scatter",
         "x": [
          2016,
          2017,
          2018
         ],
         "xaxis": "x",
         "y": [
          128,
          140,
          179
         ],
         "yaxis": "y"
        },
        {
         "customdata": [
          [
           "Punjabi Bagh, Delhi - DPCC, India"
          ],
          [
           "Punjabi Bagh, Delhi - DPCC, India"
          ],
          [
           "Punjabi Bagh, Delhi - DPCC, India"
          ]
         ],
         "hovertemplate": "Year: %{x}<br>Annual Mean PM2.5 Levels (μg/m³): %{y:.1f}<br>Location: %{customdata[0]}<extra></extra>",
         "legendgroup": "Punjabi Bagh, Delhi - DPCC, India",
         "line": {
          "color": "#1f77b4",
          "dash": "solid"
         },
         "marker": {
          "symbol": "circle"
         },
         "mode": "lines+markers",
         "name": "Punjabi Bagh, Delhi - DPCC, India",
         "orientation": "v",
         "showlegend": true,
         "type": "scatter",
         "x": [
          2016,
          2017,
          2018
         ],
         "xaxis": "x",
         "y": [
          125,
          127,
          188
         ],
         "yaxis": "y"
        },
        {
         "customdata": [
          [
           "Income Tax Office, Delhi - CPCB, India"
          ],
          [
           "Income Tax Office, Delhi - CPCB, India"
          ],
          [
           "Income Tax Office, Delhi - CPCB, India"
          ]
         ],
         "hovertemplate": "Year: %{x}<br>Annual Mean PM2.5 Levels (μg/m³): %{y:.1f}<br>Location: %{customdata[0]}<extra></extra>",
         "legendgroup": "Income Tax Office, Delhi - CPCB, India",
         "line": {
          "color": "#a3bbcc",
          "dash": "solid"
         },
         "marker": {
          "symbol": "circle"
         },
         "mode": "lines+markers",
         "name": "Income Tax Office, Delhi - CPCB, India",
         "orientation": "v",
         "showlegend": true,
         "type": "scatter",
         "x": [
          2016,
          2017,
          2018
         ],
         "xaxis": "x",
         "y": [
          230,
          123,
          171
         ],
         "yaxis": "y"
        },
        {
         "customdata": [
          [
           "MNB, Mongolia"
          ],
          [
           "MNB, Mongolia"
          ],
          [
           "MNB, Mongolia"
          ],
          [
           "MNB, Mongolia"
          ]
         ],
         "hovertemplate": "Year: %{x}<br>Annual Mean PM2.5 Levels (μg/m³): %{y:.1f}<br>Location: %{customdata[0]}<extra></extra>",
         "legendgroup": "MNB, Mongolia",
         "line": {
          "color": "#380400",
          "dash": "solid"
         },
         "marker": {
          "symbol": "circle"
         },
         "mode": "lines+markers",
         "name": "MNB, Mongolia",
         "orientation": "v",
         "showlegend": true,
         "type": "scatter",
         "x": [
          2016,
          2017,
          2018,
          2019
         ],
         "xaxis": "x",
         "y": [
          91.4,
          112,
          58.2,
          186
         ],
         "yaxis": "y"
        },
        {
         "customdata": [
          [
           "Amgalan, Mongolia"
          ],
          [
           "Amgalan, Mongolia"
          ],
          [
           "Amgalan, Mongolia"
          ],
          [
           "Amgalan, Mongolia"
          ]
         ],
         "hovertemplate": "Year: %{x}<br>Annual Mean PM2.5 Levels (μg/m³): %{y:.1f}<br>Location: %{customdata[0]}<extra></extra>",
         "legendgroup": "Amgalan, Mongolia",
         "line": {
          "color": "#7C0703",
          "dash": "solid"
         },
         "marker": {
          "symbol": "circle"
         },
         "mode": "lines+markers",
         "name": "Amgalan, Mongolia",
         "orientation": "v",
         "showlegend": true,
         "type": "scatter",
         "x": [
          2016,
          2017,
          2018,
          2019
         ],
         "xaxis": "x",
         "y": [
          56.5,
          68,
          47.1,
          120
         ],
         "yaxis": "y"
        },
        {
         "customdata": [
          [
           "Bukhiin urguu, Mongolia"
          ],
          [
           "Bukhiin urguu, Mongolia"
          ],
          [
           "Bukhiin urguu, Mongolia"
          ],
          [
           "Bukhiin urguu, Mongolia"
          ]
         ],
         "hovertemplate": "Year: %{x}<br>Annual Mean PM2.5 Levels (μg/m³): %{y:.1f}<br>Location: %{customdata[0]}<extra></extra>",
         "legendgroup": "Bukhiin urguu, Mongolia",
         "line": {
          "color": "#d30000",
          "dash": "solid"
         },
         "marker": {
          "symbol": "circle"
         },
         "mode": "lines+markers",
         "name": "Bukhiin urguu, Mongolia",
         "orientation": "v",
         "showlegend": true,
         "type": "scatter",
         "x": [
          2016,
          2017,
          2018,
          2019
         ],
         "xaxis": "x",
         "y": [
          55.9,
          51,
          35.4,
          89.8
         ],
         "yaxis": "y"
        },
        {
         "customdata": [
          [
           "Baruun 4 zam, Mongolia"
          ],
          [
           "Baruun 4 zam, Mongolia"
          ],
          [
           "Baruun 4 zam, Mongolia"
          ],
          [
           "Baruun 4 zam, Mongolia"
          ]
         ],
         "hovertemplate": "Year: %{x}<br>Annual Mean PM2.5 Levels (μg/m³): %{y:.1f}<br>Location: %{customdata[0]}<extra></extra>",
         "legendgroup": "Baruun 4 zam, Mongolia",
         "line": {
          "color": "#d86262",
          "dash": "solid"
         },
         "marker": {
          "symbol": "circle"
         },
         "mode": "lines+markers",
         "name": "Baruun 4 zam, Mongolia",
         "orientation": "v",
         "showlegend": true,
         "type": "scatter",
         "x": [
          2016,
          2017,
          2018,
          2019
         ],
         "xaxis": "x",
         "y": [
          72.3,
          71.7,
          57.3,
          162
         ],
         "yaxis": "y"
        },
        {
         "customdata": [
          [
           "Nisekh, Mongolia"
          ],
          [
           "Nisekh, Mongolia"
          ],
          [
           "Nisekh, Mongolia"
          ],
          [
           "Nisekh, Mongolia"
          ]
         ],
         "hovertemplate": "Year: %{x}<br>Annual Mean PM2.5 Levels (μg/m³): %{y:.1f}<br>Location: %{customdata[0]}<extra></extra>",
         "legendgroup": "Nisekh, Mongolia",
         "line": {
          "color": "#caa2a2",
          "dash": "solid"
         },
         "marker": {
          "symbol": "circle"
         },
         "mode": "lines+markers",
         "name": "Nisekh, Mongolia",
         "orientation": "v",
         "showlegend": true,
         "type": "scatter",
         "x": [
          2016,
          2017,
          2018,
          2019
         ],
         "xaxis": "x",
         "y": [
          51.8,
          70.6,
          44.3,
          143
         ],
         "yaxis": "y"
        },
        {
         "customdata": [
          [
           "Prabadang Rehabiltation Center, Thailand"
          ],
          [
           "Prabadang Rehabiltation Center, Thailand"
          ],
          [
           "Prabadang Rehabiltation Center, Thailand"
          ]
         ],
         "hovertemplate": "Year: %{x}<br>Annual Mean PM2.5 Levels (μg/m³): %{y:.1f}<br>Location: %{customdata[0]}<extra></extra>",
         "legendgroup": "Prabadang Rehabiltation Center, Thailand",
         "line": {
          "color": "#A200FF",
          "dash": "solid"
         },
         "marker": {
          "symbol": "circle"
         },
         "mode": "lines+markers",
         "name": "Prabadang Rehabiltation Center, Thailand",
         "orientation": "v",
         "showlegend": true,
         "type": "scatter",
         "x": [
          2022,
          2023,
          2024
         ],
         "xaxis": "x",
         "y": [
          20,
          23,
          25.5
         ],
         "yaxis": "y"
        }
       ],
       "layout": {
        "height": 500,
        "legend": {
         "title": {
          "text": "Location"
         },
         "tracegroupgap": 0
        },
        "margin": {
         "t": 60
        },
        "template": {
         "data": {
          "bar": [
           {
            "error_x": {
             "color": "#2a3f5f"
            },
            "error_y": {
             "color": "#2a3f5f"
            },
            "marker": {
             "line": {
              "color": "#E5ECF6",
              "width": 0.5
             },
             "pattern": {
              "fillmode": "overlay",
              "size": 10,
              "solidity": 0.2
             }
            },
            "type": "bar"
           }
          ],
          "barpolar": [
           {
            "marker": {
             "line": {
              "color": "#E5ECF6",
              "width": 0.5
             },
             "pattern": {
              "fillmode": "overlay",
              "size": 10,
              "solidity": 0.2
             }
            },
            "type": "barpolar"
           }
          ],
          "carpet": [
           {
            "aaxis": {
             "endlinecolor": "#2a3f5f",
             "gridcolor": "white",
             "linecolor": "white",
             "minorgridcolor": "white",
             "startlinecolor": "#2a3f5f"
            },
            "baxis": {
             "endlinecolor": "#2a3f5f",
             "gridcolor": "white",
             "linecolor": "white",
             "minorgridcolor": "white",
             "startlinecolor": "#2a3f5f"
            },
            "type": "carpet"
           }
          ],
          "choropleth": [
           {
            "colorbar": {
             "outlinewidth": 0,
             "ticks": ""
            },
            "type": "choropleth"
           }
          ],
          "contour": [
           {
            "colorbar": {
             "outlinewidth": 0,
             "ticks": ""
            },
            "colorscale": [
             [
              0,
              "#0d0887"
             ],
             [
              0.1111111111111111,
              "#46039f"
             ],
             [
              0.2222222222222222,
              "#7201a8"
             ],
             [
              0.3333333333333333,
              "#9c179e"
             ],
             [
              0.4444444444444444,
              "#bd3786"
             ],
             [
              0.5555555555555556,
              "#d8576b"
             ],
             [
              0.6666666666666666,
              "#ed7953"
             ],
             [
              0.7777777777777778,
              "#fb9f3a"
             ],
             [
              0.8888888888888888,
              "#fdca26"
             ],
             [
              1,
              "#f0f921"
             ]
            ],
            "type": "contour"
           }
          ],
          "contourcarpet": [
           {
            "colorbar": {
             "outlinewidth": 0,
             "ticks": ""
            },
            "type": "contourcarpet"
           }
          ],
          "heatmap": [
           {
            "colorbar": {
             "outlinewidth": 0,
             "ticks": ""
            },
            "colorscale": [
             [
              0,
              "#0d0887"
             ],
             [
              0.1111111111111111,
              "#46039f"
             ],
             [
              0.2222222222222222,
              "#7201a8"
             ],
             [
              0.3333333333333333,
              "#9c179e"
             ],
             [
              0.4444444444444444,
              "#bd3786"
             ],
             [
              0.5555555555555556,
              "#d8576b"
             ],
             [
              0.6666666666666666,
              "#ed7953"
             ],
             [
              0.7777777777777778,
              "#fb9f3a"
             ],
             [
              0.8888888888888888,
              "#fdca26"
             ],
             [
              1,
              "#f0f921"
             ]
            ],
            "type": "heatmap"
           }
          ],
          "heatmapgl": [
           {
            "colorbar": {
             "outlinewidth": 0,
             "ticks": ""
            },
            "colorscale": [
             [
              0,
              "#0d0887"
             ],
             [
              0.1111111111111111,
              "#46039f"
             ],
             [
              0.2222222222222222,
              "#7201a8"
             ],
             [
              0.3333333333333333,
              "#9c179e"
             ],
             [
              0.4444444444444444,
              "#bd3786"
             ],
             [
              0.5555555555555556,
              "#d8576b"
             ],
             [
              0.6666666666666666,
              "#ed7953"
             ],
             [
              0.7777777777777778,
              "#fb9f3a"
             ],
             [
              0.8888888888888888,
              "#fdca26"
             ],
             [
              1,
              "#f0f921"
             ]
            ],
            "type": "heatmapgl"
           }
          ],
          "histogram": [
           {
            "marker": {
             "pattern": {
              "fillmode": "overlay",
              "size": 10,
              "solidity": 0.2
             }
            },
            "type": "histogram"
           }
          ],
          "histogram2d": [
           {
            "colorbar": {
             "outlinewidth": 0,
             "ticks": ""
            },
            "colorscale": [
             [
              0,
              "#0d0887"
             ],
             [
              0.1111111111111111,
              "#46039f"
             ],
             [
              0.2222222222222222,
              "#7201a8"
             ],
             [
              0.3333333333333333,
              "#9c179e"
             ],
             [
              0.4444444444444444,
              "#bd3786"
             ],
             [
              0.5555555555555556,
              "#d8576b"
             ],
             [
              0.6666666666666666,
              "#ed7953"
             ],
             [
              0.7777777777777778,
              "#fb9f3a"
             ],
             [
              0.8888888888888888,
              "#fdca26"
             ],
             [
              1,
              "#f0f921"
             ]
            ],
            "type": "histogram2d"
           }
          ],
          "histogram2dcontour": [
           {
            "colorbar": {
             "outlinewidth": 0,
             "ticks": ""
            },
            "colorscale": [
             [
              0,
              "#0d0887"
             ],
             [
              0.1111111111111111,
              "#46039f"
             ],
             [
              0.2222222222222222,
              "#7201a8"
             ],
             [
              0.3333333333333333,
              "#9c179e"
             ],
             [
              0.4444444444444444,
              "#bd3786"
             ],
             [
              0.5555555555555556,
              "#d8576b"
             ],
             [
              0.6666666666666666,
              "#ed7953"
             ],
             [
              0.7777777777777778,
              "#fb9f3a"
             ],
             [
              0.8888888888888888,
              "#fdca26"
             ],
             [
              1,
              "#f0f921"
             ]
            ],
            "type": "histogram2dcontour"
           }
          ],
          "mesh3d": [
           {
            "colorbar": {
             "outlinewidth": 0,
             "ticks": ""
            },
            "type": "mesh3d"
           }
          ],
          "parcoords": [
           {
            "line": {
             "colorbar": {
              "outlinewidth": 0,
              "ticks": ""
             }
            },
            "type": "parcoords"
           }
          ],
          "pie": [
           {
            "automargin": true,
            "type": "pie"
           }
          ],
          "scatter": [
           {
            "fillpattern": {
             "fillmode": "overlay",
             "size": 10,
             "solidity": 0.2
            },
            "type": "scatter"
           }
          ],
          "scatter3d": [
           {
            "line": {
             "colorbar": {
              "outlinewidth": 0,
              "ticks": ""
             }
            },
            "marker": {
             "colorbar": {
              "outlinewidth": 0,
              "ticks": ""
             }
            },
            "type": "scatter3d"
           }
          ],
          "scattercarpet": [
           {
            "marker": {
             "colorbar": {
              "outlinewidth": 0,
              "ticks": ""
             }
            },
            "type": "scattercarpet"
           }
          ],
          "scattergeo": [
           {
            "marker": {
             "colorbar": {
              "outlinewidth": 0,
              "ticks": ""
             }
            },
            "type": "scattergeo"
           }
          ],
          "scattergl": [
           {
            "marker": {
             "colorbar": {
              "outlinewidth": 0,
              "ticks": ""
             }
            },
            "type": "scattergl"
           }
          ],
          "scattermapbox": [
           {
            "marker": {
             "colorbar": {
              "outlinewidth": 0,
              "ticks": ""
             }
            },
            "type": "scattermapbox"
           }
          ],
          "scatterpolar": [
           {
            "marker": {
             "colorbar": {
              "outlinewidth": 0,
              "ticks": ""
             }
            },
            "type": "scatterpolar"
           }
          ],
          "scatterpolargl": [
           {
            "marker": {
             "colorbar": {
              "outlinewidth": 0,
              "ticks": ""
             }
            },
            "type": "scatterpolargl"
           }
          ],
          "scatterternary": [
           {
            "marker": {
             "colorbar": {
              "outlinewidth": 0,
              "ticks": ""
             }
            },
            "type": "scatterternary"
           }
          ],
          "surface": [
           {
            "colorbar": {
             "outlinewidth": 0,
             "ticks": ""
            },
            "colorscale": [
             [
              0,
              "#0d0887"
             ],
             [
              0.1111111111111111,
              "#46039f"
             ],
             [
              0.2222222222222222,
              "#7201a8"
             ],
             [
              0.3333333333333333,
              "#9c179e"
             ],
             [
              0.4444444444444444,
              "#bd3786"
             ],
             [
              0.5555555555555556,
              "#d8576b"
             ],
             [
              0.6666666666666666,
              "#ed7953"
             ],
             [
              0.7777777777777778,
              "#fb9f3a"
             ],
             [
              0.8888888888888888,
              "#fdca26"
             ],
             [
              1,
              "#f0f921"
             ]
            ],
            "type": "surface"
           }
          ],
          "table": [
           {
            "cells": {
             "fill": {
              "color": "#EBF0F8"
             },
             "line": {
              "color": "white"
             }
            },
            "header": {
             "fill": {
              "color": "#C8D4E3"
             },
             "line": {
              "color": "white"
             }
            },
            "type": "table"
           }
          ]
         },
         "layout": {
          "annotationdefaults": {
           "arrowcolor": "#2a3f5f",
           "arrowhead": 0,
           "arrowwidth": 1
          },
          "autotypenumbers": "strict",
          "coloraxis": {
           "colorbar": {
            "outlinewidth": 0,
            "ticks": ""
           }
          },
          "colorscale": {
           "diverging": [
            [
             0,
             "#8e0152"
            ],
            [
             0.1,
             "#c51b7d"
            ],
            [
             0.2,
             "#de77ae"
            ],
            [
             0.3,
             "#f1b6da"
            ],
            [
             0.4,
             "#fde0ef"
            ],
            [
             0.5,
             "#f7f7f7"
            ],
            [
             0.6,
             "#e6f5d0"
            ],
            [
             0.7,
             "#b8e186"
            ],
            [
             0.8,
             "#7fbc41"
            ],
            [
             0.9,
             "#4d9221"
            ],
            [
             1,
             "#276419"
            ]
           ],
           "sequential": [
            [
             0,
             "#0d0887"
            ],
            [
             0.1111111111111111,
             "#46039f"
            ],
            [
             0.2222222222222222,
             "#7201a8"
            ],
            [
             0.3333333333333333,
             "#9c179e"
            ],
            [
             0.4444444444444444,
             "#bd3786"
            ],
            [
             0.5555555555555556,
             "#d8576b"
            ],
            [
             0.6666666666666666,
             "#ed7953"
            ],
            [
             0.7777777777777778,
             "#fb9f3a"
            ],
            [
             0.8888888888888888,
             "#fdca26"
            ],
            [
             1,
             "#f0f921"
            ]
           ],
           "sequentialminus": [
            [
             0,
             "#0d0887"
            ],
            [
             0.1111111111111111,
             "#46039f"
            ],
            [
             0.2222222222222222,
             "#7201a8"
            ],
            [
             0.3333333333333333,
             "#9c179e"
            ],
            [
             0.4444444444444444,
             "#bd3786"
            ],
            [
             0.5555555555555556,
             "#d8576b"
            ],
            [
             0.6666666666666666,
             "#ed7953"
            ],
            [
             0.7777777777777778,
             "#fb9f3a"
            ],
            [
             0.8888888888888888,
             "#fdca26"
            ],
            [
             1,
             "#f0f921"
            ]
           ]
          },
          "colorway": [
           "#636efa",
           "#EF553B",
           "#00cc96",
           "#ab63fa",
           "#FFA15A",
           "#19d3f3",
           "#FF6692",
           "#B6E880",
           "#FF97FF",
           "#FECB52"
          ],
          "font": {
           "color": "#2a3f5f"
          },
          "geo": {
           "bgcolor": "white",
           "lakecolor": "white",
           "landcolor": "#E5ECF6",
           "showlakes": true,
           "showland": true,
           "subunitcolor": "white"
          },
          "hoverlabel": {
           "align": "left"
          },
          "hovermode": "closest",
          "mapbox": {
           "style": "light"
          },
          "paper_bgcolor": "white",
          "plot_bgcolor": "#E5ECF6",
          "polar": {
           "angularaxis": {
            "gridcolor": "white",
            "linecolor": "white",
            "ticks": ""
           },
           "bgcolor": "#E5ECF6",
           "radialaxis": {
            "gridcolor": "white",
            "linecolor": "white",
            "ticks": ""
           }
          },
          "scene": {
           "xaxis": {
            "backgroundcolor": "#E5ECF6",
            "gridcolor": "white",
            "gridwidth": 2,
            "linecolor": "white",
            "showbackground": true,
            "ticks": "",
            "zerolinecolor": "white"
           },
           "yaxis": {
            "backgroundcolor": "#E5ECF6",
            "gridcolor": "white",
            "gridwidth": 2,
            "linecolor": "white",
            "showbackground": true,
            "ticks": "",
            "zerolinecolor": "white"
           },
           "zaxis": {
            "backgroundcolor": "#E5ECF6",
            "gridcolor": "white",
            "gridwidth": 2,
            "linecolor": "white",
            "showbackground": true,
            "ticks": "",
            "zerolinecolor": "white"
           }
          },
          "shapedefaults": {
           "line": {
            "color": "#2a3f5f"
           }
          },
          "ternary": {
           "aaxis": {
            "gridcolor": "white",
            "linecolor": "white",
            "ticks": ""
           },
           "baxis": {
            "gridcolor": "white",
            "linecolor": "white",
            "ticks": ""
           },
           "bgcolor": "#E5ECF6",
           "caxis": {
            "gridcolor": "white",
            "linecolor": "white",
            "ticks": ""
           }
          },
          "title": {
           "x": 0.05
          },
          "xaxis": {
           "automargin": true,
           "gridcolor": "white",
           "linecolor": "white",
           "ticks": "",
           "title": {
            "standoff": 15
           },
           "zerolinecolor": "white",
           "zerolinewidth": 2
          },
          "yaxis": {
           "automargin": true,
           "gridcolor": "white",
           "linecolor": "white",
           "ticks": "",
           "title": {
            "standoff": 15
           },
           "zerolinecolor": "white",
           "zerolinewidth": 2
          }
         }
        },
        "title": {
         "text": "Annual Mean PM2.5 Levels for Asia from 2016 to 2024",
         "x": 0.5,
         "xanchor": "center"
        },
        "width": 1200,
        "xaxis": {
         "anchor": "y",
         "domain": [
          0,
          1
         ],
         "title": {
          "text": "Year"
         }
        },
        "yaxis": {
         "anchor": "x",
         "domain": [
          0,
          1
         ],
         "title": {
          "text": "Annual Mean PM2.5 Levels (μg/m³)"
         }
        }
       }
      }
     },
     "metadata": {},
     "output_type": "display_data"
    }
   ],
   "source": [
    "asia_yearly_pm25_levels_df['Location and Country'] = asia_yearly_pm25_levels_df['Location Name'] + ', ' + asia_yearly_pm25_levels_df['Country']\n",
    "color_map = {'Delhi Technological University, Delhi - CPCB, India': \"#003052\", 'R K Puram, Delhi - DPCC, India' : \"#004d85\", 'Income Tax Office, Delhi - CPCB, India' : \"#a3bbcc\", \n",
    "             'Punjabi Bagh, Delhi - DPCC, India' : '#1f77b4', 'MNB, Mongolia': \"#380400\", 'Amgalan, Mongolia': \"#7C0703\", 'Bukhiin urguu, Mongolia': \"#d30000\", \n",
    "             'Baruun 4 zam, Mongolia' : \"#d86262\", 'Nisekh, Mongolia' : \"#caa2a2\", 'Beijing US Embassy, China': \"#073601\", 'Chengdu, China': \"#058d01\", 'Shanghai, China': \"#1fc21f\", \n",
    "             'Guangzhou, China': \"#65b451\", 'Shenyang, China': \"#95b890\", 'Prabadang Rehabiltation Center, Thailand': \"#A200FF\"}\n",
    "fig7 = px.line(asia_yearly_pm25_levels_df, x = 'Year', y = 'Annual Mean PM2.5 Levels (μg/m³)', color = 'Location and Country', markers = True, custom_data = 'Location and Country', \n",
    "               color_discrete_map = color_map, width = 1200, height = 500)\n",
    "fig7.update_layout(title = {'text' : 'Annual Mean PM2.5 Levels for Asia from 2016 to 2024', 'x' : 0.5, 'xanchor' : 'center'}, xaxis_title_text = 'Year', \n",
    "                   yaxis_title_text = 'Annual Mean PM2.5 Levels (μg/m³)', legend_title_text = 'Location')\n",
    "fig7.update_traces(hovertemplate = 'Year: %{x}<br>Annual Mean PM2.5 Levels (μg/m³): %{y:.1f}<br>Location: %{customdata[0]}<extra></extra>')\n",
    "fig7.show()"
   ]
  },
  {
   "cell_type": "markdown",
   "metadata": {},
   "source": [
    "The country with the highest mean PM2.5 levels from 2016 to 2018 across all locations is India, going as high as 304 μg/m³ in 2016. <br>\n",
    "The country with the lowest mean PM2.5 levels from 2016 to 2023 across all locations is China, going as low as 1.6 μg/m³ in 2023. <br>\n",
    "Overall, there is alot of missing data as not enough locations and countries are reporting data for PM2.5 levels. As a result, analysis is not sufficiently comprehensive for the Asia region."
   ]
  },
  {
   "cell_type": "markdown",
   "metadata": {},
   "source": [
    "Plot a bar chart of annual max pm2.5 levels against year for the different asian countries."
   ]
  },
  {
   "cell_type": "code",
   "execution_count": 28,
   "metadata": {},
   "outputs": [
    {
     "data": {
      "application/vnd.plotly.v1+json": {
       "config": {
        "plotlyServerURL": "https://plot.ly"
       },
       "data": [
        {
         "alignmentgroup": "True",
         "customdata": [
          [
           "Beijing US Embassy, China"
          ],
          [
           "Beijing US Embassy, China"
          ],
          [
           "Beijing US Embassy, China"
          ],
          [
           "Beijing US Embassy, China"
          ],
          [
           "Beijing US Embassy, China"
          ],
          [
           "Beijing US Embassy, China"
          ],
          [
           "Beijing US Embassy, China"
          ],
          [
           "Beijing US Embassy, China"
          ]
         ],
         "hovertemplate": "Year: %{x}<br>Annual Max PM2.5 Levels (μg/m³): %{y:.0f}<br>Location: %{customdata[0]}<extra></extra>",
         "legendgroup": "Beijing US Embassy, China",
         "marker": {
          "color": "#073601",
          "pattern": {
           "shape": ""
          }
         },
         "name": "Beijing US Embassy, China",
         "offsetgroup": "Beijing US Embassy, China",
         "orientation": "v",
         "showlegend": true,
         "textposition": "auto",
         "type": "bar",
         "x": [
          2016,
          2017,
          2018,
          2019,
          2020,
          2021,
          2022,
          2023
         ],
         "xaxis": "x",
         "y": [
          782,
          684,
          5032,
          985,
          985,
          680,
          287,
          158
         ],
         "yaxis": "y"
        },
        {
         "alignmentgroup": "True",
         "customdata": [
          [
           "Chengdu, China"
          ],
          [
           "Chengdu, China"
          ],
          [
           "Chengdu, China"
          ],
          [
           "Chengdu, China"
          ],
          [
           "Chengdu, China"
          ],
          [
           "Chengdu, China"
          ]
         ],
         "hovertemplate": "Year: %{x}<br>Annual Max PM2.5 Levels (μg/m³): %{y:.0f}<br>Location: %{customdata[0]}<extra></extra>",
         "legendgroup": "Chengdu, China",
         "marker": {
          "color": "#058d01",
          "pattern": {
           "shape": ""
          }
         },
         "name": "Chengdu, China",
         "offsetgroup": "Chengdu, China",
         "orientation": "v",
         "showlegend": true,
         "textposition": "auto",
         "type": "bar",
         "x": [
          2016,
          2017,
          2018,
          2019,
          2020,
          2023
         ],
         "xaxis": "x",
         "y": [
          281,
          985,
          985,
          1000,
          985,
          132
         ],
         "yaxis": "y"
        },
        {
         "alignmentgroup": "True",
         "customdata": [
          [
           "Shanghai, China"
          ],
          [
           "Shanghai, China"
          ],
          [
           "Shanghai, China"
          ],
          [
           "Shanghai, China"
          ],
          [
           "Shanghai, China"
          ],
          [
           "Shanghai, China"
          ],
          [
           "Shanghai, China"
          ],
          [
           "Shanghai, China"
          ]
         ],
         "hovertemplate": "Year: %{x}<br>Annual Max PM2.5 Levels (μg/m³): %{y:.0f}<br>Location: %{customdata[0]}<extra></extra>",
         "legendgroup": "Shanghai, China",
         "marker": {
          "color": "#1fc21f",
          "pattern": {
           "shape": ""
          }
         },
         "name": "Shanghai, China",
         "offsetgroup": "Shanghai, China",
         "orientation": "v",
         "showlegend": true,
         "textposition": "auto",
         "type": "bar",
         "x": [
          2016,
          2017,
          2018,
          2019,
          2020,
          2021,
          2022,
          2023
         ],
         "xaxis": "x",
         "y": [
          209,
          985,
          985,
          985,
          985,
          985,
          985,
          985
         ],
         "yaxis": "y"
        },
        {
         "alignmentgroup": "True",
         "customdata": [
          [
           "Guangzhou, China"
          ],
          [
           "Guangzhou, China"
          ],
          [
           "Guangzhou, China"
          ],
          [
           "Guangzhou, China"
          ],
          [
           "Guangzhou, China"
          ],
          [
           "Guangzhou, China"
          ],
          [
           "Guangzhou, China"
          ],
          [
           "Guangzhou, China"
          ]
         ],
         "hovertemplate": "Year: %{x}<br>Annual Max PM2.5 Levels (μg/m³): %{y:.0f}<br>Location: %{customdata[0]}<extra></extra>",
         "legendgroup": "Guangzhou, China",
         "marker": {
          "color": "#65b451",
          "pattern": {
           "shape": ""
          }
         },
         "name": "Guangzhou, China",
         "offsetgroup": "Guangzhou, China",
         "orientation": "v",
         "showlegend": true,
         "textposition": "auto",
         "type": "bar",
         "x": [
          2016,
          2017,
          2018,
          2019,
          2020,
          2021,
          2022,
          2023
         ],
         "xaxis": "x",
         "y": [
          266,
          985,
          985,
          985,
          985,
          985,
          985,
          200
         ],
         "yaxis": "y"
        },
        {
         "alignmentgroup": "True",
         "customdata": [
          [
           "Shenyang, China"
          ],
          [
           "Shenyang, China"
          ]
         ],
         "hovertemplate": "Year: %{x}<br>Annual Max PM2.5 Levels (μg/m³): %{y:.0f}<br>Location: %{customdata[0]}<extra></extra>",
         "legendgroup": "Shenyang, China",
         "marker": {
          "color": "#95b890",
          "pattern": {
           "shape": ""
          }
         },
         "name": "Shenyang, China",
         "offsetgroup": "Shenyang, China",
         "orientation": "v",
         "showlegend": true,
         "textposition": "auto",
         "type": "bar",
         "x": [
          2021,
          2023
         ],
         "xaxis": "x",
         "y": [
          54,
          985
         ],
         "yaxis": "y"
        },
        {
         "alignmentgroup": "True",
         "customdata": [
          [
           "Delhi Technological University, Delhi - CPCB, India"
          ],
          [
           "Delhi Technological University, Delhi - CPCB, India"
          ],
          [
           "Delhi Technological University, Delhi - CPCB, India"
          ]
         ],
         "hovertemplate": "Year: %{x}<br>Annual Max PM2.5 Levels (μg/m³): %{y:.0f}<br>Location: %{customdata[0]}<extra></extra>",
         "legendgroup": "Delhi Technological University, Delhi - CPCB, India",
         "marker": {
          "color": "#003052",
          "pattern": {
           "shape": ""
          }
         },
         "name": "Delhi Technological University, Delhi - CPCB, India",
         "offsetgroup": "Delhi Technological University, Delhi - CPCB, India",
         "orientation": "v",
         "showlegend": true,
         "textposition": "auto",
         "type": "bar",
         "x": [
          2016,
          2017,
          2018
         ],
         "xaxis": "x",
         "y": [
          950.7666625976562,
          997,
          909
         ],
         "yaxis": "y"
        },
        {
         "alignmentgroup": "True",
         "customdata": [
          [
           "R K Puram, Delhi - DPCC, India"
          ],
          [
           "R K Puram, Delhi - DPCC, India"
          ],
          [
           "R K Puram, Delhi - DPCC, India"
          ]
         ],
         "hovertemplate": "Year: %{x}<br>Annual Max PM2.5 Levels (μg/m³): %{y:.0f}<br>Location: %{customdata[0]}<extra></extra>",
         "legendgroup": "R K Puram, Delhi - DPCC, India",
         "marker": {
          "color": "#004d85",
          "pattern": {
           "shape": ""
          }
         },
         "name": "R K Puram, Delhi - DPCC, India",
         "offsetgroup": "R K Puram, Delhi - DPCC, India",
         "orientation": "v",
         "showlegend": true,
         "textposition": "auto",
         "type": "bar",
         "x": [
          2016,
          2017,
          2018
         ],
         "xaxis": "x",
         "y": [
          976,
          903,
          702
         ],
         "yaxis": "y"
        },
        {
         "alignmentgroup": "True",
         "customdata": [
          [
           "Punjabi Bagh, Delhi - DPCC, India"
          ],
          [
           "Punjabi Bagh, Delhi - DPCC, India"
          ],
          [
           "Punjabi Bagh, Delhi - DPCC, India"
          ]
         ],
         "hovertemplate": "Year: %{x}<br>Annual Max PM2.5 Levels (μg/m³): %{y:.0f}<br>Location: %{customdata[0]}<extra></extra>",
         "legendgroup": "Punjabi Bagh, Delhi - DPCC, India",
         "marker": {
          "color": "#1f77b4",
          "pattern": {
           "shape": ""
          }
         },
         "name": "Punjabi Bagh, Delhi - DPCC, India",
         "offsetgroup": "Punjabi Bagh, Delhi - DPCC, India",
         "orientation": "v",
         "showlegend": true,
         "textposition": "auto",
         "type": "bar",
         "x": [
          2016,
          2017,
          2018
         ],
         "xaxis": "x",
         "y": [
          900,
          894,
          529
         ],
         "yaxis": "y"
        },
        {
         "alignmentgroup": "True",
         "customdata": [
          [
           "Income Tax Office, Delhi - CPCB, India"
          ],
          [
           "Income Tax Office, Delhi - CPCB, India"
          ],
          [
           "Income Tax Office, Delhi - CPCB, India"
          ]
         ],
         "hovertemplate": "Year: %{x}<br>Annual Max PM2.5 Levels (μg/m³): %{y:.0f}<br>Location: %{customdata[0]}<extra></extra>",
         "legendgroup": "Income Tax Office, Delhi - CPCB, India",
         "marker": {
          "color": "#a3bbcc",
          "pattern": {
           "shape": ""
          }
         },
         "name": "Income Tax Office, Delhi - CPCB, India",
         "offsetgroup": "Income Tax Office, Delhi - CPCB, India",
         "orientation": "v",
         "showlegend": true,
         "textposition": "auto",
         "type": "bar",
         "x": [
          2016,
          2017,
          2018
         ],
         "xaxis": "x",
         "y": [
          867,
          985,
          466
         ],
         "yaxis": "y"
        },
        {
         "alignmentgroup": "True",
         "customdata": [
          [
           "MNB, Mongolia"
          ],
          [
           "MNB, Mongolia"
          ],
          [
           "MNB, Mongolia"
          ],
          [
           "MNB, Mongolia"
          ]
         ],
         "hovertemplate": "Year: %{x}<br>Annual Max PM2.5 Levels (μg/m³): %{y:.0f}<br>Location: %{customdata[0]}<extra></extra>",
         "legendgroup": "MNB, Mongolia",
         "marker": {
          "color": "#380400",
          "pattern": {
           "shape": ""
          }
         },
         "name": "MNB, Mongolia",
         "offsetgroup": "MNB, Mongolia",
         "orientation": "v",
         "showlegend": true,
         "textposition": "auto",
         "type": "bar",
         "x": [
          2016,
          2017,
          2018,
          2019
         ],
         "xaxis": "x",
         "y": [
          902,
          941,
          725,
          639
         ],
         "yaxis": "y"
        },
        {
         "alignmentgroup": "True",
         "customdata": [
          [
           "Amgalan, Mongolia"
          ],
          [
           "Amgalan, Mongolia"
          ],
          [
           "Amgalan, Mongolia"
          ],
          [
           "Amgalan, Mongolia"
          ]
         ],
         "hovertemplate": "Year: %{x}<br>Annual Max PM2.5 Levels (μg/m³): %{y:.0f}<br>Location: %{customdata[0]}<extra></extra>",
         "legendgroup": "Amgalan, Mongolia",
         "marker": {
          "color": "#7C0703",
          "pattern": {
           "shape": ""
          }
         },
         "name": "Amgalan, Mongolia",
         "offsetgroup": "Amgalan, Mongolia",
         "orientation": "v",
         "showlegend": true,
         "textposition": "auto",
         "type": "bar",
         "x": [
          2016,
          2017,
          2018,
          2019
         ],
         "xaxis": "x",
         "y": [
          510,
          536,
          492,
          526
         ],
         "yaxis": "y"
        },
        {
         "alignmentgroup": "True",
         "customdata": [
          [
           "Bukhiin urguu, Mongolia"
          ],
          [
           "Bukhiin urguu, Mongolia"
          ],
          [
           "Bukhiin urguu, Mongolia"
          ],
          [
           "Bukhiin urguu, Mongolia"
          ]
         ],
         "hovertemplate": "Year: %{x}<br>Annual Max PM2.5 Levels (μg/m³): %{y:.0f}<br>Location: %{customdata[0]}<extra></extra>",
         "legendgroup": "Bukhiin urguu, Mongolia",
         "marker": {
          "color": "#d30000",
          "pattern": {
           "shape": ""
          }
         },
         "name": "Bukhiin urguu, Mongolia",
         "offsetgroup": "Bukhiin urguu, Mongolia",
         "orientation": "v",
         "showlegend": true,
         "textposition": "auto",
         "type": "bar",
         "x": [
          2016,
          2017,
          2018,
          2019
         ],
         "xaxis": "x",
         "y": [
          983.25,
          1224,
          942.25,
          383.5
         ],
         "yaxis": "y"
        },
        {
         "alignmentgroup": "True",
         "customdata": [
          [
           "Baruun 4 zam, Mongolia"
          ],
          [
           "Baruun 4 zam, Mongolia"
          ],
          [
           "Baruun 4 zam, Mongolia"
          ],
          [
           "Baruun 4 zam, Mongolia"
          ]
         ],
         "hovertemplate": "Year: %{x}<br>Annual Max PM2.5 Levels (μg/m³): %{y:.0f}<br>Location: %{customdata[0]}<extra></extra>",
         "legendgroup": "Baruun 4 zam, Mongolia",
         "marker": {
          "color": "#d86262",
          "pattern": {
           "shape": ""
          }
         },
         "name": "Baruun 4 zam, Mongolia",
         "offsetgroup": "Baruun 4 zam, Mongolia",
         "orientation": "v",
         "showlegend": true,
         "textposition": "auto",
         "type": "bar",
         "x": [
          2016,
          2017,
          2018,
          2019
         ],
         "xaxis": "x",
         "y": [
          1546.5,
          3804,
          3631,
          4305
         ],
         "yaxis": "y"
        },
        {
         "alignmentgroup": "True",
         "customdata": [
          [
           "Nisekh, Mongolia"
          ],
          [
           "Nisekh, Mongolia"
          ],
          [
           "Nisekh, Mongolia"
          ],
          [
           "Nisekh, Mongolia"
          ]
         ],
         "hovertemplate": "Year: %{x}<br>Annual Max PM2.5 Levels (μg/m³): %{y:.0f}<br>Location: %{customdata[0]}<extra></extra>",
         "legendgroup": "Nisekh, Mongolia",
         "marker": {
          "color": "#caa2a2",
          "pattern": {
           "shape": ""
          }
         },
         "name": "Nisekh, Mongolia",
         "offsetgroup": "Nisekh, Mongolia",
         "orientation": "v",
         "showlegend": true,
         "textposition": "auto",
         "type": "bar",
         "x": [
          2016,
          2017,
          2018,
          2019
         ],
         "xaxis": "x",
         "y": [
          424.5,
          483.5,
          444,
          513.5
         ],
         "yaxis": "y"
        },
        {
         "alignmentgroup": "True",
         "customdata": [
          [
           "Prabadang Rehabiltation Center, Thailand"
          ],
          [
           "Prabadang Rehabiltation Center, Thailand"
          ],
          [
           "Prabadang Rehabiltation Center, Thailand"
          ]
         ],
         "hovertemplate": "Year: %{x}<br>Annual Max PM2.5 Levels (μg/m³): %{y:.0f}<br>Location: %{customdata[0]}<extra></extra>",
         "legendgroup": "Prabadang Rehabiltation Center, Thailand",
         "marker": {
          "color": "#A200FF",
          "pattern": {
           "shape": ""
          }
         },
         "name": "Prabadang Rehabiltation Center, Thailand",
         "offsetgroup": "Prabadang Rehabiltation Center, Thailand",
         "orientation": "v",
         "showlegend": true,
         "textposition": "auto",
         "type": "bar",
         "x": [
          2022,
          2023,
          2024
         ],
         "xaxis": "x",
         "y": [
          20,
          110,
          104
         ],
         "yaxis": "y"
        }
       ],
       "layout": {
        "bargap": 0,
        "barmode": "group",
        "height": 500,
        "legend": {
         "title": {
          "text": "Location"
         },
         "tracegroupgap": 0
        },
        "margin": {
         "t": 60
        },
        "template": {
         "data": {
          "bar": [
           {
            "error_x": {
             "color": "#2a3f5f"
            },
            "error_y": {
             "color": "#2a3f5f"
            },
            "marker": {
             "line": {
              "color": "#E5ECF6",
              "width": 0.5
             },
             "pattern": {
              "fillmode": "overlay",
              "size": 10,
              "solidity": 0.2
             }
            },
            "type": "bar"
           }
          ],
          "barpolar": [
           {
            "marker": {
             "line": {
              "color": "#E5ECF6",
              "width": 0.5
             },
             "pattern": {
              "fillmode": "overlay",
              "size": 10,
              "solidity": 0.2
             }
            },
            "type": "barpolar"
           }
          ],
          "carpet": [
           {
            "aaxis": {
             "endlinecolor": "#2a3f5f",
             "gridcolor": "white",
             "linecolor": "white",
             "minorgridcolor": "white",
             "startlinecolor": "#2a3f5f"
            },
            "baxis": {
             "endlinecolor": "#2a3f5f",
             "gridcolor": "white",
             "linecolor": "white",
             "minorgridcolor": "white",
             "startlinecolor": "#2a3f5f"
            },
            "type": "carpet"
           }
          ],
          "choropleth": [
           {
            "colorbar": {
             "outlinewidth": 0,
             "ticks": ""
            },
            "type": "choropleth"
           }
          ],
          "contour": [
           {
            "colorbar": {
             "outlinewidth": 0,
             "ticks": ""
            },
            "colorscale": [
             [
              0,
              "#0d0887"
             ],
             [
              0.1111111111111111,
              "#46039f"
             ],
             [
              0.2222222222222222,
              "#7201a8"
             ],
             [
              0.3333333333333333,
              "#9c179e"
             ],
             [
              0.4444444444444444,
              "#bd3786"
             ],
             [
              0.5555555555555556,
              "#d8576b"
             ],
             [
              0.6666666666666666,
              "#ed7953"
             ],
             [
              0.7777777777777778,
              "#fb9f3a"
             ],
             [
              0.8888888888888888,
              "#fdca26"
             ],
             [
              1,
              "#f0f921"
             ]
            ],
            "type": "contour"
           }
          ],
          "contourcarpet": [
           {
            "colorbar": {
             "outlinewidth": 0,
             "ticks": ""
            },
            "type": "contourcarpet"
           }
          ],
          "heatmap": [
           {
            "colorbar": {
             "outlinewidth": 0,
             "ticks": ""
            },
            "colorscale": [
             [
              0,
              "#0d0887"
             ],
             [
              0.1111111111111111,
              "#46039f"
             ],
             [
              0.2222222222222222,
              "#7201a8"
             ],
             [
              0.3333333333333333,
              "#9c179e"
             ],
             [
              0.4444444444444444,
              "#bd3786"
             ],
             [
              0.5555555555555556,
              "#d8576b"
             ],
             [
              0.6666666666666666,
              "#ed7953"
             ],
             [
              0.7777777777777778,
              "#fb9f3a"
             ],
             [
              0.8888888888888888,
              "#fdca26"
             ],
             [
              1,
              "#f0f921"
             ]
            ],
            "type": "heatmap"
           }
          ],
          "heatmapgl": [
           {
            "colorbar": {
             "outlinewidth": 0,
             "ticks": ""
            },
            "colorscale": [
             [
              0,
              "#0d0887"
             ],
             [
              0.1111111111111111,
              "#46039f"
             ],
             [
              0.2222222222222222,
              "#7201a8"
             ],
             [
              0.3333333333333333,
              "#9c179e"
             ],
             [
              0.4444444444444444,
              "#bd3786"
             ],
             [
              0.5555555555555556,
              "#d8576b"
             ],
             [
              0.6666666666666666,
              "#ed7953"
             ],
             [
              0.7777777777777778,
              "#fb9f3a"
             ],
             [
              0.8888888888888888,
              "#fdca26"
             ],
             [
              1,
              "#f0f921"
             ]
            ],
            "type": "heatmapgl"
           }
          ],
          "histogram": [
           {
            "marker": {
             "pattern": {
              "fillmode": "overlay",
              "size": 10,
              "solidity": 0.2
             }
            },
            "type": "histogram"
           }
          ],
          "histogram2d": [
           {
            "colorbar": {
             "outlinewidth": 0,
             "ticks": ""
            },
            "colorscale": [
             [
              0,
              "#0d0887"
             ],
             [
              0.1111111111111111,
              "#46039f"
             ],
             [
              0.2222222222222222,
              "#7201a8"
             ],
             [
              0.3333333333333333,
              "#9c179e"
             ],
             [
              0.4444444444444444,
              "#bd3786"
             ],
             [
              0.5555555555555556,
              "#d8576b"
             ],
             [
              0.6666666666666666,
              "#ed7953"
             ],
             [
              0.7777777777777778,
              "#fb9f3a"
             ],
             [
              0.8888888888888888,
              "#fdca26"
             ],
             [
              1,
              "#f0f921"
             ]
            ],
            "type": "histogram2d"
           }
          ],
          "histogram2dcontour": [
           {
            "colorbar": {
             "outlinewidth": 0,
             "ticks": ""
            },
            "colorscale": [
             [
              0,
              "#0d0887"
             ],
             [
              0.1111111111111111,
              "#46039f"
             ],
             [
              0.2222222222222222,
              "#7201a8"
             ],
             [
              0.3333333333333333,
              "#9c179e"
             ],
             [
              0.4444444444444444,
              "#bd3786"
             ],
             [
              0.5555555555555556,
              "#d8576b"
             ],
             [
              0.6666666666666666,
              "#ed7953"
             ],
             [
              0.7777777777777778,
              "#fb9f3a"
             ],
             [
              0.8888888888888888,
              "#fdca26"
             ],
             [
              1,
              "#f0f921"
             ]
            ],
            "type": "histogram2dcontour"
           }
          ],
          "mesh3d": [
           {
            "colorbar": {
             "outlinewidth": 0,
             "ticks": ""
            },
            "type": "mesh3d"
           }
          ],
          "parcoords": [
           {
            "line": {
             "colorbar": {
              "outlinewidth": 0,
              "ticks": ""
             }
            },
            "type": "parcoords"
           }
          ],
          "pie": [
           {
            "automargin": true,
            "type": "pie"
           }
          ],
          "scatter": [
           {
            "fillpattern": {
             "fillmode": "overlay",
             "size": 10,
             "solidity": 0.2
            },
            "type": "scatter"
           }
          ],
          "scatter3d": [
           {
            "line": {
             "colorbar": {
              "outlinewidth": 0,
              "ticks": ""
             }
            },
            "marker": {
             "colorbar": {
              "outlinewidth": 0,
              "ticks": ""
             }
            },
            "type": "scatter3d"
           }
          ],
          "scattercarpet": [
           {
            "marker": {
             "colorbar": {
              "outlinewidth": 0,
              "ticks": ""
             }
            },
            "type": "scattercarpet"
           }
          ],
          "scattergeo": [
           {
            "marker": {
             "colorbar": {
              "outlinewidth": 0,
              "ticks": ""
             }
            },
            "type": "scattergeo"
           }
          ],
          "scattergl": [
           {
            "marker": {
             "colorbar": {
              "outlinewidth": 0,
              "ticks": ""
             }
            },
            "type": "scattergl"
           }
          ],
          "scattermapbox": [
           {
            "marker": {
             "colorbar": {
              "outlinewidth": 0,
              "ticks": ""
             }
            },
            "type": "scattermapbox"
           }
          ],
          "scatterpolar": [
           {
            "marker": {
             "colorbar": {
              "outlinewidth": 0,
              "ticks": ""
             }
            },
            "type": "scatterpolar"
           }
          ],
          "scatterpolargl": [
           {
            "marker": {
             "colorbar": {
              "outlinewidth": 0,
              "ticks": ""
             }
            },
            "type": "scatterpolargl"
           }
          ],
          "scatterternary": [
           {
            "marker": {
             "colorbar": {
              "outlinewidth": 0,
              "ticks": ""
             }
            },
            "type": "scatterternary"
           }
          ],
          "surface": [
           {
            "colorbar": {
             "outlinewidth": 0,
             "ticks": ""
            },
            "colorscale": [
             [
              0,
              "#0d0887"
             ],
             [
              0.1111111111111111,
              "#46039f"
             ],
             [
              0.2222222222222222,
              "#7201a8"
             ],
             [
              0.3333333333333333,
              "#9c179e"
             ],
             [
              0.4444444444444444,
              "#bd3786"
             ],
             [
              0.5555555555555556,
              "#d8576b"
             ],
             [
              0.6666666666666666,
              "#ed7953"
             ],
             [
              0.7777777777777778,
              "#fb9f3a"
             ],
             [
              0.8888888888888888,
              "#fdca26"
             ],
             [
              1,
              "#f0f921"
             ]
            ],
            "type": "surface"
           }
          ],
          "table": [
           {
            "cells": {
             "fill": {
              "color": "#EBF0F8"
             },
             "line": {
              "color": "white"
             }
            },
            "header": {
             "fill": {
              "color": "#C8D4E3"
             },
             "line": {
              "color": "white"
             }
            },
            "type": "table"
           }
          ]
         },
         "layout": {
          "annotationdefaults": {
           "arrowcolor": "#2a3f5f",
           "arrowhead": 0,
           "arrowwidth": 1
          },
          "autotypenumbers": "strict",
          "coloraxis": {
           "colorbar": {
            "outlinewidth": 0,
            "ticks": ""
           }
          },
          "colorscale": {
           "diverging": [
            [
             0,
             "#8e0152"
            ],
            [
             0.1,
             "#c51b7d"
            ],
            [
             0.2,
             "#de77ae"
            ],
            [
             0.3,
             "#f1b6da"
            ],
            [
             0.4,
             "#fde0ef"
            ],
            [
             0.5,
             "#f7f7f7"
            ],
            [
             0.6,
             "#e6f5d0"
            ],
            [
             0.7,
             "#b8e186"
            ],
            [
             0.8,
             "#7fbc41"
            ],
            [
             0.9,
             "#4d9221"
            ],
            [
             1,
             "#276419"
            ]
           ],
           "sequential": [
            [
             0,
             "#0d0887"
            ],
            [
             0.1111111111111111,
             "#46039f"
            ],
            [
             0.2222222222222222,
             "#7201a8"
            ],
            [
             0.3333333333333333,
             "#9c179e"
            ],
            [
             0.4444444444444444,
             "#bd3786"
            ],
            [
             0.5555555555555556,
             "#d8576b"
            ],
            [
             0.6666666666666666,
             "#ed7953"
            ],
            [
             0.7777777777777778,
             "#fb9f3a"
            ],
            [
             0.8888888888888888,
             "#fdca26"
            ],
            [
             1,
             "#f0f921"
            ]
           ],
           "sequentialminus": [
            [
             0,
             "#0d0887"
            ],
            [
             0.1111111111111111,
             "#46039f"
            ],
            [
             0.2222222222222222,
             "#7201a8"
            ],
            [
             0.3333333333333333,
             "#9c179e"
            ],
            [
             0.4444444444444444,
             "#bd3786"
            ],
            [
             0.5555555555555556,
             "#d8576b"
            ],
            [
             0.6666666666666666,
             "#ed7953"
            ],
            [
             0.7777777777777778,
             "#fb9f3a"
            ],
            [
             0.8888888888888888,
             "#fdca26"
            ],
            [
             1,
             "#f0f921"
            ]
           ]
          },
          "colorway": [
           "#636efa",
           "#EF553B",
           "#00cc96",
           "#ab63fa",
           "#FFA15A",
           "#19d3f3",
           "#FF6692",
           "#B6E880",
           "#FF97FF",
           "#FECB52"
          ],
          "font": {
           "color": "#2a3f5f"
          },
          "geo": {
           "bgcolor": "white",
           "lakecolor": "white",
           "landcolor": "#E5ECF6",
           "showlakes": true,
           "showland": true,
           "subunitcolor": "white"
          },
          "hoverlabel": {
           "align": "left"
          },
          "hovermode": "closest",
          "mapbox": {
           "style": "light"
          },
          "paper_bgcolor": "white",
          "plot_bgcolor": "#E5ECF6",
          "polar": {
           "angularaxis": {
            "gridcolor": "white",
            "linecolor": "white",
            "ticks": ""
           },
           "bgcolor": "#E5ECF6",
           "radialaxis": {
            "gridcolor": "white",
            "linecolor": "white",
            "ticks": ""
           }
          },
          "scene": {
           "xaxis": {
            "backgroundcolor": "#E5ECF6",
            "gridcolor": "white",
            "gridwidth": 2,
            "linecolor": "white",
            "showbackground": true,
            "ticks": "",
            "zerolinecolor": "white"
           },
           "yaxis": {
            "backgroundcolor": "#E5ECF6",
            "gridcolor": "white",
            "gridwidth": 2,
            "linecolor": "white",
            "showbackground": true,
            "ticks": "",
            "zerolinecolor": "white"
           },
           "zaxis": {
            "backgroundcolor": "#E5ECF6",
            "gridcolor": "white",
            "gridwidth": 2,
            "linecolor": "white",
            "showbackground": true,
            "ticks": "",
            "zerolinecolor": "white"
           }
          },
          "shapedefaults": {
           "line": {
            "color": "#2a3f5f"
           }
          },
          "ternary": {
           "aaxis": {
            "gridcolor": "white",
            "linecolor": "white",
            "ticks": ""
           },
           "baxis": {
            "gridcolor": "white",
            "linecolor": "white",
            "ticks": ""
           },
           "bgcolor": "#E5ECF6",
           "caxis": {
            "gridcolor": "white",
            "linecolor": "white",
            "ticks": ""
           }
          },
          "title": {
           "x": 0.05
          },
          "xaxis": {
           "automargin": true,
           "gridcolor": "white",
           "linecolor": "white",
           "ticks": "",
           "title": {
            "standoff": 15
           },
           "zerolinecolor": "white",
           "zerolinewidth": 2
          },
          "yaxis": {
           "automargin": true,
           "gridcolor": "white",
           "linecolor": "white",
           "ticks": "",
           "title": {
            "standoff": 15
           },
           "zerolinecolor": "white",
           "zerolinewidth": 2
          }
         }
        },
        "title": {
         "text": "Annual Max PM2.5 Levels for Asia from 2016 to 2024",
         "x": 0.5,
         "xanchor": "center"
        },
        "width": 1200,
        "xaxis": {
         "anchor": "y",
         "domain": [
          0,
          1
         ],
         "title": {
          "text": "Year"
         }
        },
        "yaxis": {
         "anchor": "x",
         "domain": [
          0,
          1
         ],
         "title": {
          "text": "Annual Max PM2.5 Levels (μg/m³)"
         }
        }
       }
      }
     },
     "metadata": {},
     "output_type": "display_data"
    }
   ],
   "source": [
    "asia_yearly_pm25_levels_df['Location and Country'] = asia_yearly_pm25_levels_df['Location Name'] + ', ' + asia_yearly_pm25_levels_df['Country']\n",
    "color_map = {'Delhi Technological University, Delhi - CPCB, India': \"#003052\", 'R K Puram, Delhi - DPCC, India' : \"#004d85\", 'Income Tax Office, Delhi - CPCB, India' : \"#a3bbcc\", \n",
    "             'Punjabi Bagh, Delhi - DPCC, India' : '#1f77b4', 'MNB, Mongolia': \"#380400\", 'Amgalan, Mongolia': \"#7C0703\", 'Bukhiin urguu, Mongolia': \"#d30000\", \n",
    "             'Baruun 4 zam, Mongolia' : \"#d86262\", 'Nisekh, Mongolia' : \"#caa2a2\", 'Beijing US Embassy, China': \"#073601\", 'Chengdu, China': \"#058d01\", 'Shanghai, China': \"#1fc21f\", \n",
    "             'Guangzhou, China': \"#65b451\", 'Shenyang, China': \"#95b890\", 'Prabadang Rehabiltation Center, Thailand': \"#A200FF\"}\n",
    "fig8 = px.bar(asia_yearly_pm25_levels_df, x = 'Year', y = 'Annual Max PM2.5 Levels (μg/m³)', color = 'Location and Country', barmode = 'group', custom_data = 'Location and Country', \n",
    "              color_discrete_map = color_map, width = 1200, height = 500)\n",
    "fig8.update_layout(title = {'text' : 'Annual Max PM2.5 Levels for Asia from 2016 to 2024', 'x' : 0.5, 'xanchor' : 'center'}, xaxis_title_text = 'Year', \n",
    "                   yaxis_title_text = 'Annual Max PM2.5 Levels (μg/m³)', bargap = 0, legend_title_text = 'Location')\n",
    "fig8.update_traces(hovertemplate = 'Year: %{x}<br>Annual Max PM2.5 Levels (μg/m³): %{y:.0f}<br>Location: %{customdata[0]}<extra></extra>')\n",
    "fig8.show()"
   ]
  },
  {
   "cell_type": "markdown",
   "metadata": {},
   "source": [
    "The location with the highest max PM2.5 levels is Beijing, China in 2018, reaching a level of 5032 μg/m³. <br>\n",
    "Baruun 4 zam, Mongolia has reported very high max PM2.5 levels from 2017 to 2019, PM2.5 levels of 3804, 3631, and 4305 μg/m³, respectively."
   ]
  },
  {
   "cell_type": "markdown",
   "metadata": {},
   "source": [
    "Retrieve API only for PM10 sensor data aggregated by year and store them into separate lists."
   ]
  },
  {
   "cell_type": "code",
   "execution_count": 29,
   "metadata": {},
   "outputs": [],
   "source": [
    "PM10_data = []\n",
    "PM10_date = []\n",
    "PM10_avg = []\n",
    "PM10_max = []\n",
    "PM10_country_name2 = []\n",
    "PM10_location_id2 = []\n",
    "PM10_location_name2 = []\n",
    "PM10_sensor_id2 = []\n",
    "for index in range(len(PM10_sensor_id)):\n",
    "        openaq_url2 = (f'https://api.openaq.org/v3/sensors/{PM10_sensor_id[index]}/years')\n",
    "        PM10_data.append(requests.get(openaq_url2, headers = {'X-API-Key' : openaq_api}).json())\n",
    "        for PM10_data_value in PM10_data[index]['results']:\n",
    "                PM10_date.append(PM10_data_value['period']['datetimeFrom']['local'])\n",
    "                PM10_avg.append(PM10_data_value['value'])\n",
    "                PM10_max.append(PM10_data_value['summary']['max'])\n",
    "                PM10_country_name2.append(PM10_country_name[index])\n",
    "                PM10_location_name2.append(PM10_location_name[index])\n",
    "                PM10_location_id2.append(PM10_location_id[index])\n",
    "                PM10_sensor_id2.append(PM10_sensor_id[index])"
   ]
  },
  {
   "cell_type": "markdown",
   "metadata": {},
   "source": [
    "Combine PM10 lists into a single dataframe."
   ]
  },
  {
   "cell_type": "code",
   "execution_count": 30,
   "metadata": {},
   "outputs": [
    {
     "data": {
      "text/html": [
       "<div>\n",
       "<style scoped>\n",
       "    .dataframe tbody tr th:only-of-type {\n",
       "        vertical-align: middle;\n",
       "    }\n",
       "\n",
       "    .dataframe tbody tr th {\n",
       "        vertical-align: top;\n",
       "    }\n",
       "\n",
       "    .dataframe thead th {\n",
       "        text-align: right;\n",
       "    }\n",
       "</style>\n",
       "<table border=\"1\" class=\"dataframe\">\n",
       "  <thead>\n",
       "    <tr style=\"text-align: right;\">\n",
       "      <th></th>\n",
       "      <th>Country</th>\n",
       "      <th>Location Name</th>\n",
       "      <th>Location ID</th>\n",
       "      <th>PM10 Sensor ID</th>\n",
       "      <th>Year</th>\n",
       "      <th>Annual Mean PM10 Levels (μg/m³)</th>\n",
       "      <th>Annual Max PM10 Levels (μg/m³)</th>\n",
       "    </tr>\n",
       "  </thead>\n",
       "  <tbody>\n",
       "    <tr>\n",
       "      <th>0</th>\n",
       "      <td>India</td>\n",
       "      <td>R K Puram, Delhi - DPCC</td>\n",
       "      <td>17</td>\n",
       "      <td>399</td>\n",
       "      <td>2016</td>\n",
       "      <td>250.0</td>\n",
       "      <td>973.000000</td>\n",
       "    </tr>\n",
       "    <tr>\n",
       "      <th>23</th>\n",
       "      <td>India</td>\n",
       "      <td>Punjabi Bagh, Delhi - DPCC</td>\n",
       "      <td>50</td>\n",
       "      <td>395</td>\n",
       "      <td>2016</td>\n",
       "      <td>248.0</td>\n",
       "      <td>999.000000</td>\n",
       "    </tr>\n",
       "    <tr>\n",
       "      <th>39</th>\n",
       "      <td>India</td>\n",
       "      <td>Income Tax Office, Delhi - CPCB</td>\n",
       "      <td>103</td>\n",
       "      <td>13862</td>\n",
       "      <td>2016</td>\n",
       "      <td>289.0</td>\n",
       "      <td>975.000000</td>\n",
       "    </tr>\n",
       "    <tr>\n",
       "      <th>1</th>\n",
       "      <td>India</td>\n",
       "      <td>R K Puram, Delhi - DPCC</td>\n",
       "      <td>17</td>\n",
       "      <td>399</td>\n",
       "      <td>2017</td>\n",
       "      <td>259.0</td>\n",
       "      <td>996.000000</td>\n",
       "    </tr>\n",
       "    <tr>\n",
       "      <th>24</th>\n",
       "      <td>India</td>\n",
       "      <td>Punjabi Bagh, Delhi - DPCC</td>\n",
       "      <td>50</td>\n",
       "      <td>395</td>\n",
       "      <td>2017</td>\n",
       "      <td>242.0</td>\n",
       "      <td>989.000000</td>\n",
       "    </tr>\n",
       "    <tr>\n",
       "      <th>40</th>\n",
       "      <td>India</td>\n",
       "      <td>Income Tax Office, Delhi - CPCB</td>\n",
       "      <td>103</td>\n",
       "      <td>13862</td>\n",
       "      <td>2017</td>\n",
       "      <td>196.0</td>\n",
       "      <td>966.000000</td>\n",
       "    </tr>\n",
       "    <tr>\n",
       "      <th>2</th>\n",
       "      <td>India</td>\n",
       "      <td>R K Puram, Delhi - DPCC</td>\n",
       "      <td>17</td>\n",
       "      <td>399</td>\n",
       "      <td>2018</td>\n",
       "      <td>328.0</td>\n",
       "      <td>893.000000</td>\n",
       "    </tr>\n",
       "    <tr>\n",
       "      <th>25</th>\n",
       "      <td>India</td>\n",
       "      <td>Punjabi Bagh, Delhi - DPCC</td>\n",
       "      <td>50</td>\n",
       "      <td>395</td>\n",
       "      <td>2018</td>\n",
       "      <td>334.0</td>\n",
       "      <td>887.000000</td>\n",
       "    </tr>\n",
       "    <tr>\n",
       "      <th>41</th>\n",
       "      <td>India</td>\n",
       "      <td>Income Tax Office, Delhi - CPCB</td>\n",
       "      <td>103</td>\n",
       "      <td>13862</td>\n",
       "      <td>2018</td>\n",
       "      <td>254.0</td>\n",
       "      <td>590.000000</td>\n",
       "    </tr>\n",
       "    <tr>\n",
       "      <th>3</th>\n",
       "      <td>Mongolia</td>\n",
       "      <td>MNB</td>\n",
       "      <td>19</td>\n",
       "      <td>5138</td>\n",
       "      <td>2016</td>\n",
       "      <td>150.0</td>\n",
       "      <td>1309.000000</td>\n",
       "    </tr>\n",
       "    <tr>\n",
       "      <th>7</th>\n",
       "      <td>Mongolia</td>\n",
       "      <td>Amgalan</td>\n",
       "      <td>23</td>\n",
       "      <td>5183</td>\n",
       "      <td>2016</td>\n",
       "      <td>119.0</td>\n",
       "      <td>1044.500000</td>\n",
       "    </tr>\n",
       "    <tr>\n",
       "      <th>11</th>\n",
       "      <td>Mongolia</td>\n",
       "      <td>100 ail</td>\n",
       "      <td>30</td>\n",
       "      <td>49</td>\n",
       "      <td>2016</td>\n",
       "      <td>196.0</td>\n",
       "      <td>5224.250000</td>\n",
       "    </tr>\n",
       "    <tr>\n",
       "      <th>15</th>\n",
       "      <td>Mongolia</td>\n",
       "      <td>Bukhiin urguu</td>\n",
       "      <td>46</td>\n",
       "      <td>1464</td>\n",
       "      <td>2016</td>\n",
       "      <td>96.8</td>\n",
       "      <td>1403.000000</td>\n",
       "    </tr>\n",
       "    <tr>\n",
       "      <th>19</th>\n",
       "      <td>Mongolia</td>\n",
       "      <td>Baruun 4 zam</td>\n",
       "      <td>48</td>\n",
       "      <td>1460</td>\n",
       "      <td>2016</td>\n",
       "      <td>121.0</td>\n",
       "      <td>1931.500000</td>\n",
       "    </tr>\n",
       "    <tr>\n",
       "      <th>29</th>\n",
       "      <td>Mongolia</td>\n",
       "      <td>Nisekh</td>\n",
       "      <td>59</td>\n",
       "      <td>1511</td>\n",
       "      <td>2016</td>\n",
       "      <td>94.4</td>\n",
       "      <td>895.000000</td>\n",
       "    </tr>\n",
       "    <tr>\n",
       "      <th>33</th>\n",
       "      <td>Mongolia</td>\n",
       "      <td>Misheel expo</td>\n",
       "      <td>90</td>\n",
       "      <td>143</td>\n",
       "      <td>2016</td>\n",
       "      <td>71.7</td>\n",
       "      <td>1500.500000</td>\n",
       "    </tr>\n",
       "    <tr>\n",
       "      <th>4</th>\n",
       "      <td>Mongolia</td>\n",
       "      <td>MNB</td>\n",
       "      <td>19</td>\n",
       "      <td>5138</td>\n",
       "      <td>2017</td>\n",
       "      <td>153.0</td>\n",
       "      <td>1027.000000</td>\n",
       "    </tr>\n",
       "    <tr>\n",
       "      <th>8</th>\n",
       "      <td>Mongolia</td>\n",
       "      <td>Amgalan</td>\n",
       "      <td>23</td>\n",
       "      <td>5183</td>\n",
       "      <td>2017</td>\n",
       "      <td>133.0</td>\n",
       "      <td>1227.000000</td>\n",
       "    </tr>\n",
       "    <tr>\n",
       "      <th>12</th>\n",
       "      <td>Mongolia</td>\n",
       "      <td>100 ail</td>\n",
       "      <td>30</td>\n",
       "      <td>49</td>\n",
       "      <td>2017</td>\n",
       "      <td>172.0</td>\n",
       "      <td>2849.250000</td>\n",
       "    </tr>\n",
       "    <tr>\n",
       "      <th>16</th>\n",
       "      <td>Mongolia</td>\n",
       "      <td>Bukhiin urguu</td>\n",
       "      <td>46</td>\n",
       "      <td>1464</td>\n",
       "      <td>2017</td>\n",
       "      <td>127.0</td>\n",
       "      <td>7208.666504</td>\n",
       "    </tr>\n",
       "    <tr>\n",
       "      <th>20</th>\n",
       "      <td>Mongolia</td>\n",
       "      <td>Baruun 4 zam</td>\n",
       "      <td>48</td>\n",
       "      <td>1460</td>\n",
       "      <td>2017</td>\n",
       "      <td>122.0</td>\n",
       "      <td>1963.000000</td>\n",
       "    </tr>\n",
       "    <tr>\n",
       "      <th>30</th>\n",
       "      <td>Mongolia</td>\n",
       "      <td>Nisekh</td>\n",
       "      <td>59</td>\n",
       "      <td>1511</td>\n",
       "      <td>2017</td>\n",
       "      <td>124.0</td>\n",
       "      <td>1251.500000</td>\n",
       "    </tr>\n",
       "    <tr>\n",
       "      <th>34</th>\n",
       "      <td>Mongolia</td>\n",
       "      <td>Misheel expo</td>\n",
       "      <td>90</td>\n",
       "      <td>143</td>\n",
       "      <td>2017</td>\n",
       "      <td>77.1</td>\n",
       "      <td>5397.000000</td>\n",
       "    </tr>\n",
       "    <tr>\n",
       "      <th>5</th>\n",
       "      <td>Mongolia</td>\n",
       "      <td>MNB</td>\n",
       "      <td>19</td>\n",
       "      <td>5138</td>\n",
       "      <td>2018</td>\n",
       "      <td>103.0</td>\n",
       "      <td>1412.000000</td>\n",
       "    </tr>\n",
       "    <tr>\n",
       "      <th>9</th>\n",
       "      <td>Mongolia</td>\n",
       "      <td>Amgalan</td>\n",
       "      <td>23</td>\n",
       "      <td>5183</td>\n",
       "      <td>2018</td>\n",
       "      <td>113.0</td>\n",
       "      <td>1502.000000</td>\n",
       "    </tr>\n",
       "    <tr>\n",
       "      <th>13</th>\n",
       "      <td>Mongolia</td>\n",
       "      <td>100 ail</td>\n",
       "      <td>30</td>\n",
       "      <td>49</td>\n",
       "      <td>2018</td>\n",
       "      <td>145.0</td>\n",
       "      <td>3570.000000</td>\n",
       "    </tr>\n",
       "    <tr>\n",
       "      <th>17</th>\n",
       "      <td>Mongolia</td>\n",
       "      <td>Bukhiin urguu</td>\n",
       "      <td>46</td>\n",
       "      <td>1464</td>\n",
       "      <td>2018</td>\n",
       "      <td>105.0</td>\n",
       "      <td>2834.000000</td>\n",
       "    </tr>\n",
       "    <tr>\n",
       "      <th>21</th>\n",
       "      <td>Mongolia</td>\n",
       "      <td>Baruun 4 zam</td>\n",
       "      <td>48</td>\n",
       "      <td>1460</td>\n",
       "      <td>2018</td>\n",
       "      <td>114.0</td>\n",
       "      <td>4188.000000</td>\n",
       "    </tr>\n",
       "    <tr>\n",
       "      <th>31</th>\n",
       "      <td>Mongolia</td>\n",
       "      <td>Nisekh</td>\n",
       "      <td>59</td>\n",
       "      <td>1511</td>\n",
       "      <td>2018</td>\n",
       "      <td>100.0</td>\n",
       "      <td>1417.000000</td>\n",
       "    </tr>\n",
       "    <tr>\n",
       "      <th>35</th>\n",
       "      <td>Mongolia</td>\n",
       "      <td>Misheel expo</td>\n",
       "      <td>90</td>\n",
       "      <td>143</td>\n",
       "      <td>2018</td>\n",
       "      <td>143.0</td>\n",
       "      <td>865.000000</td>\n",
       "    </tr>\n",
       "    <tr>\n",
       "      <th>6</th>\n",
       "      <td>Mongolia</td>\n",
       "      <td>MNB</td>\n",
       "      <td>19</td>\n",
       "      <td>5138</td>\n",
       "      <td>2019</td>\n",
       "      <td>172.0</td>\n",
       "      <td>671.000000</td>\n",
       "    </tr>\n",
       "    <tr>\n",
       "      <th>10</th>\n",
       "      <td>Mongolia</td>\n",
       "      <td>Amgalan</td>\n",
       "      <td>23</td>\n",
       "      <td>5183</td>\n",
       "      <td>2019</td>\n",
       "      <td>168.0</td>\n",
       "      <td>727.000000</td>\n",
       "    </tr>\n",
       "    <tr>\n",
       "      <th>14</th>\n",
       "      <td>Mongolia</td>\n",
       "      <td>100 ail</td>\n",
       "      <td>30</td>\n",
       "      <td>49</td>\n",
       "      <td>2019</td>\n",
       "      <td>223.0</td>\n",
       "      <td>1930.250000</td>\n",
       "    </tr>\n",
       "    <tr>\n",
       "      <th>18</th>\n",
       "      <td>Mongolia</td>\n",
       "      <td>Bukhiin urguu</td>\n",
       "      <td>46</td>\n",
       "      <td>1464</td>\n",
       "      <td>2019</td>\n",
       "      <td>200.0</td>\n",
       "      <td>2219.250000</td>\n",
       "    </tr>\n",
       "    <tr>\n",
       "      <th>22</th>\n",
       "      <td>Mongolia</td>\n",
       "      <td>Baruun 4 zam</td>\n",
       "      <td>48</td>\n",
       "      <td>1460</td>\n",
       "      <td>2019</td>\n",
       "      <td>149.0</td>\n",
       "      <td>1223.500000</td>\n",
       "    </tr>\n",
       "    <tr>\n",
       "      <th>32</th>\n",
       "      <td>Mongolia</td>\n",
       "      <td>Nisekh</td>\n",
       "      <td>59</td>\n",
       "      <td>1511</td>\n",
       "      <td>2019</td>\n",
       "      <td>189.0</td>\n",
       "      <td>921.500000</td>\n",
       "    </tr>\n",
       "    <tr>\n",
       "      <th>36</th>\n",
       "      <td>Mongolia</td>\n",
       "      <td>Misheel expo</td>\n",
       "      <td>90</td>\n",
       "      <td>143</td>\n",
       "      <td>2019</td>\n",
       "      <td>108.0</td>\n",
       "      <td>363.000000</td>\n",
       "    </tr>\n",
       "    <tr>\n",
       "      <th>43</th>\n",
       "      <td>Thailand</td>\n",
       "      <td>Lat Phrao Rd., Wang Thonglang</td>\n",
       "      <td>138</td>\n",
       "      <td>445</td>\n",
       "      <td>2016</td>\n",
       "      <td>21.4</td>\n",
       "      <td>89.000000</td>\n",
       "    </tr>\n",
       "    <tr>\n",
       "      <th>44</th>\n",
       "      <td>Thailand</td>\n",
       "      <td>Lat Phrao Rd., Wang Thonglang</td>\n",
       "      <td>138</td>\n",
       "      <td>445</td>\n",
       "      <td>2017</td>\n",
       "      <td>46.7</td>\n",
       "      <td>114.000000</td>\n",
       "    </tr>\n",
       "    <tr>\n",
       "      <th>26</th>\n",
       "      <td>Thailand</td>\n",
       "      <td>Khlong Nueng, Khlong Luang</td>\n",
       "      <td>57</td>\n",
       "      <td>83</td>\n",
       "      <td>2018</td>\n",
       "      <td>28.5</td>\n",
       "      <td>75.000000</td>\n",
       "    </tr>\n",
       "    <tr>\n",
       "      <th>45</th>\n",
       "      <td>Thailand</td>\n",
       "      <td>Lat Phrao Rd., Wang Thonglang</td>\n",
       "      <td>138</td>\n",
       "      <td>445</td>\n",
       "      <td>2018</td>\n",
       "      <td>52.6</td>\n",
       "      <td>179.000000</td>\n",
       "    </tr>\n",
       "    <tr>\n",
       "      <th>27</th>\n",
       "      <td>Thailand</td>\n",
       "      <td>Khlong Nueng, Khlong Luang</td>\n",
       "      <td>57</td>\n",
       "      <td>83</td>\n",
       "      <td>2019</td>\n",
       "      <td>38.8</td>\n",
       "      <td>185.000000</td>\n",
       "    </tr>\n",
       "    <tr>\n",
       "      <th>37</th>\n",
       "      <td>Thailand</td>\n",
       "      <td>Din Daeng, Din Daeng</td>\n",
       "      <td>94</td>\n",
       "      <td>153</td>\n",
       "      <td>2019</td>\n",
       "      <td>44.7</td>\n",
       "      <td>114.000000</td>\n",
       "    </tr>\n",
       "    <tr>\n",
       "      <th>46</th>\n",
       "      <td>Thailand</td>\n",
       "      <td>Lat Phrao Rd., Wang Thonglang</td>\n",
       "      <td>138</td>\n",
       "      <td>445</td>\n",
       "      <td>2019</td>\n",
       "      <td>47.9</td>\n",
       "      <td>143.000000</td>\n",
       "    </tr>\n",
       "    <tr>\n",
       "      <th>28</th>\n",
       "      <td>Thailand</td>\n",
       "      <td>Khlong Nueng, Khlong Luang</td>\n",
       "      <td>57</td>\n",
       "      <td>83</td>\n",
       "      <td>2020</td>\n",
       "      <td>48.0</td>\n",
       "      <td>108.000000</td>\n",
       "    </tr>\n",
       "    <tr>\n",
       "      <th>38</th>\n",
       "      <td>Thailand</td>\n",
       "      <td>Din Daeng, Din Daeng</td>\n",
       "      <td>94</td>\n",
       "      <td>153</td>\n",
       "      <td>2020</td>\n",
       "      <td>58.5</td>\n",
       "      <td>139.000000</td>\n",
       "    </tr>\n",
       "    <tr>\n",
       "      <th>47</th>\n",
       "      <td>Thailand</td>\n",
       "      <td>Lat Phrao Rd., Wang Thonglang</td>\n",
       "      <td>138</td>\n",
       "      <td>445</td>\n",
       "      <td>2020</td>\n",
       "      <td>41.6</td>\n",
       "      <td>125.000000</td>\n",
       "    </tr>\n",
       "    <tr>\n",
       "      <th>42</th>\n",
       "      <td>Thailand</td>\n",
       "      <td>Prabadang Rehabiltation Center</td>\n",
       "      <td>135</td>\n",
       "      <td>5079218</td>\n",
       "      <td>2022</td>\n",
       "      <td>39.0</td>\n",
       "      <td>39.000000</td>\n",
       "    </tr>\n",
       "  </tbody>\n",
       "</table>\n",
       "</div>"
      ],
      "text/plain": [
       "     Country                    Location Name  Location ID  PM10 Sensor ID  \\\n",
       "0      India          R K Puram, Delhi - DPCC           17             399   \n",
       "23     India       Punjabi Bagh, Delhi - DPCC           50             395   \n",
       "39     India  Income Tax Office, Delhi - CPCB          103           13862   \n",
       "1      India          R K Puram, Delhi - DPCC           17             399   \n",
       "24     India       Punjabi Bagh, Delhi - DPCC           50             395   \n",
       "40     India  Income Tax Office, Delhi - CPCB          103           13862   \n",
       "2      India          R K Puram, Delhi - DPCC           17             399   \n",
       "25     India       Punjabi Bagh, Delhi - DPCC           50             395   \n",
       "41     India  Income Tax Office, Delhi - CPCB          103           13862   \n",
       "3   Mongolia                              MNB           19            5138   \n",
       "7   Mongolia                          Amgalan           23            5183   \n",
       "11  Mongolia                          100 ail           30              49   \n",
       "15  Mongolia                    Bukhiin urguu           46            1464   \n",
       "19  Mongolia                     Baruun 4 zam           48            1460   \n",
       "29  Mongolia                           Nisekh           59            1511   \n",
       "33  Mongolia                     Misheel expo           90             143   \n",
       "4   Mongolia                              MNB           19            5138   \n",
       "8   Mongolia                          Amgalan           23            5183   \n",
       "12  Mongolia                          100 ail           30              49   \n",
       "16  Mongolia                    Bukhiin urguu           46            1464   \n",
       "20  Mongolia                     Baruun 4 zam           48            1460   \n",
       "30  Mongolia                           Nisekh           59            1511   \n",
       "34  Mongolia                     Misheel expo           90             143   \n",
       "5   Mongolia                              MNB           19            5138   \n",
       "9   Mongolia                          Amgalan           23            5183   \n",
       "13  Mongolia                          100 ail           30              49   \n",
       "17  Mongolia                    Bukhiin urguu           46            1464   \n",
       "21  Mongolia                     Baruun 4 zam           48            1460   \n",
       "31  Mongolia                           Nisekh           59            1511   \n",
       "35  Mongolia                     Misheel expo           90             143   \n",
       "6   Mongolia                              MNB           19            5138   \n",
       "10  Mongolia                          Amgalan           23            5183   \n",
       "14  Mongolia                          100 ail           30              49   \n",
       "18  Mongolia                    Bukhiin urguu           46            1464   \n",
       "22  Mongolia                     Baruun 4 zam           48            1460   \n",
       "32  Mongolia                           Nisekh           59            1511   \n",
       "36  Mongolia                     Misheel expo           90             143   \n",
       "43  Thailand    Lat Phrao Rd., Wang Thonglang          138             445   \n",
       "44  Thailand    Lat Phrao Rd., Wang Thonglang          138             445   \n",
       "26  Thailand       Khlong Nueng, Khlong Luang           57              83   \n",
       "45  Thailand    Lat Phrao Rd., Wang Thonglang          138             445   \n",
       "27  Thailand       Khlong Nueng, Khlong Luang           57              83   \n",
       "37  Thailand             Din Daeng, Din Daeng           94             153   \n",
       "46  Thailand    Lat Phrao Rd., Wang Thonglang          138             445   \n",
       "28  Thailand       Khlong Nueng, Khlong Luang           57              83   \n",
       "38  Thailand             Din Daeng, Din Daeng           94             153   \n",
       "47  Thailand    Lat Phrao Rd., Wang Thonglang          138             445   \n",
       "42  Thailand   Prabadang Rehabiltation Center          135         5079218   \n",
       "\n",
       "    Year  Annual Mean PM10 Levels (μg/m³)  Annual Max PM10 Levels (μg/m³)  \n",
       "0   2016                            250.0                      973.000000  \n",
       "23  2016                            248.0                      999.000000  \n",
       "39  2016                            289.0                      975.000000  \n",
       "1   2017                            259.0                      996.000000  \n",
       "24  2017                            242.0                      989.000000  \n",
       "40  2017                            196.0                      966.000000  \n",
       "2   2018                            328.0                      893.000000  \n",
       "25  2018                            334.0                      887.000000  \n",
       "41  2018                            254.0                      590.000000  \n",
       "3   2016                            150.0                     1309.000000  \n",
       "7   2016                            119.0                     1044.500000  \n",
       "11  2016                            196.0                     5224.250000  \n",
       "15  2016                             96.8                     1403.000000  \n",
       "19  2016                            121.0                     1931.500000  \n",
       "29  2016                             94.4                      895.000000  \n",
       "33  2016                             71.7                     1500.500000  \n",
       "4   2017                            153.0                     1027.000000  \n",
       "8   2017                            133.0                     1227.000000  \n",
       "12  2017                            172.0                     2849.250000  \n",
       "16  2017                            127.0                     7208.666504  \n",
       "20  2017                            122.0                     1963.000000  \n",
       "30  2017                            124.0                     1251.500000  \n",
       "34  2017                             77.1                     5397.000000  \n",
       "5   2018                            103.0                     1412.000000  \n",
       "9   2018                            113.0                     1502.000000  \n",
       "13  2018                            145.0                     3570.000000  \n",
       "17  2018                            105.0                     2834.000000  \n",
       "21  2018                            114.0                     4188.000000  \n",
       "31  2018                            100.0                     1417.000000  \n",
       "35  2018                            143.0                      865.000000  \n",
       "6   2019                            172.0                      671.000000  \n",
       "10  2019                            168.0                      727.000000  \n",
       "14  2019                            223.0                     1930.250000  \n",
       "18  2019                            200.0                     2219.250000  \n",
       "22  2019                            149.0                     1223.500000  \n",
       "32  2019                            189.0                      921.500000  \n",
       "36  2019                            108.0                      363.000000  \n",
       "43  2016                             21.4                       89.000000  \n",
       "44  2017                             46.7                      114.000000  \n",
       "26  2018                             28.5                       75.000000  \n",
       "45  2018                             52.6                      179.000000  \n",
       "27  2019                             38.8                      185.000000  \n",
       "37  2019                             44.7                      114.000000  \n",
       "46  2019                             47.9                      143.000000  \n",
       "28  2020                             48.0                      108.000000  \n",
       "38  2020                             58.5                      139.000000  \n",
       "47  2020                             41.6                      125.000000  \n",
       "42  2022                             39.0                       39.000000  "
      ]
     },
     "execution_count": 30,
     "metadata": {},
     "output_type": "execute_result"
    }
   ],
   "source": [
    "PM10_date_dt = pd.to_datetime(PM10_date, utc = True)\n",
    "PM10_year = PM10_date_dt.year + 1\n",
    "asia_yearly_pm10_levels = {'Country' : PM10_country_name2, 'Location Name' : PM10_location_name2, 'Location ID' : PM10_location_id2, 'PM10 Sensor ID' : PM10_sensor_id2, 'Year' : PM10_year, \n",
    "                           'Annual Mean PM10 Levels (μg/m³)' : PM10_avg, 'Annual Max PM10 Levels (μg/m³)' : PM10_max}\n",
    "asia_yearly_pm10_levels_df = pd.DataFrame(asia_yearly_pm10_levels).sort_values(by = ['Country', 'Year'])\n",
    "asia_yearly_pm10_levels_df"
   ]
  },
  {
   "cell_type": "markdown",
   "metadata": {},
   "source": [
    "Plot a line chart of annual mean pm10 levels against year for the different asian countries."
   ]
  },
  {
   "cell_type": "code",
   "execution_count": 31,
   "metadata": {},
   "outputs": [
    {
     "data": {
      "application/vnd.plotly.v1+json": {
       "config": {
        "plotlyServerURL": "https://plot.ly"
       },
       "data": [
        {
         "customdata": [
          [
           "R K Puram, Delhi - DPCC, India"
          ],
          [
           "R K Puram, Delhi - DPCC, India"
          ],
          [
           "R K Puram, Delhi - DPCC, India"
          ]
         ],
         "hovertemplate": "Year: %{x}<br>Annual Mean PM10 Levels (μg/m³): %{y:.1f}<br>Location: %{customdata[0]}<extra></extra>",
         "legendgroup": "R K Puram, Delhi - DPCC, India",
         "line": {
          "color": "#004d85",
          "dash": "solid"
         },
         "marker": {
          "symbol": "circle"
         },
         "mode": "lines+markers",
         "name": "R K Puram, Delhi - DPCC, India",
         "orientation": "v",
         "showlegend": true,
         "type": "scatter",
         "x": [
          2016,
          2017,
          2018
         ],
         "xaxis": "x",
         "y": [
          250,
          259,
          328
         ],
         "yaxis": "y"
        },
        {
         "customdata": [
          [
           "Punjabi Bagh, Delhi - DPCC, India"
          ],
          [
           "Punjabi Bagh, Delhi - DPCC, India"
          ],
          [
           "Punjabi Bagh, Delhi - DPCC, India"
          ]
         ],
         "hovertemplate": "Year: %{x}<br>Annual Mean PM10 Levels (μg/m³): %{y:.1f}<br>Location: %{customdata[0]}<extra></extra>",
         "legendgroup": "Punjabi Bagh, Delhi - DPCC, India",
         "line": {
          "color": "#1f77b4",
          "dash": "solid"
         },
         "marker": {
          "symbol": "circle"
         },
         "mode": "lines+markers",
         "name": "Punjabi Bagh, Delhi - DPCC, India",
         "orientation": "v",
         "showlegend": true,
         "type": "scatter",
         "x": [
          2016,
          2017,
          2018
         ],
         "xaxis": "x",
         "y": [
          248,
          242,
          334
         ],
         "yaxis": "y"
        },
        {
         "customdata": [
          [
           "Income Tax Office, Delhi - CPCB, India"
          ],
          [
           "Income Tax Office, Delhi - CPCB, India"
          ],
          [
           "Income Tax Office, Delhi - CPCB, India"
          ]
         ],
         "hovertemplate": "Year: %{x}<br>Annual Mean PM10 Levels (μg/m³): %{y:.1f}<br>Location: %{customdata[0]}<extra></extra>",
         "legendgroup": "Income Tax Office, Delhi - CPCB, India",
         "line": {
          "color": "#a3bbcc",
          "dash": "solid"
         },
         "marker": {
          "symbol": "circle"
         },
         "mode": "lines+markers",
         "name": "Income Tax Office, Delhi - CPCB, India",
         "orientation": "v",
         "showlegend": true,
         "type": "scatter",
         "x": [
          2016,
          2017,
          2018
         ],
         "xaxis": "x",
         "y": [
          289,
          196,
          254
         ],
         "yaxis": "y"
        },
        {
         "customdata": [
          [
           "MNB, Mongolia"
          ],
          [
           "MNB, Mongolia"
          ],
          [
           "MNB, Mongolia"
          ],
          [
           "MNB, Mongolia"
          ]
         ],
         "hovertemplate": "Year: %{x}<br>Annual Mean PM10 Levels (μg/m³): %{y:.1f}<br>Location: %{customdata[0]}<extra></extra>",
         "legendgroup": "MNB, Mongolia",
         "line": {
          "color": "#380400",
          "dash": "solid"
         },
         "marker": {
          "symbol": "circle"
         },
         "mode": "lines+markers",
         "name": "MNB, Mongolia",
         "orientation": "v",
         "showlegend": true,
         "type": "scatter",
         "x": [
          2016,
          2017,
          2018,
          2019
         ],
         "xaxis": "x",
         "y": [
          150,
          153,
          103,
          172
         ],
         "yaxis": "y"
        },
        {
         "customdata": [
          [
           "Amgalan, Mongolia"
          ],
          [
           "Amgalan, Mongolia"
          ],
          [
           "Amgalan, Mongolia"
          ],
          [
           "Amgalan, Mongolia"
          ]
         ],
         "hovertemplate": "Year: %{x}<br>Annual Mean PM10 Levels (μg/m³): %{y:.1f}<br>Location: %{customdata[0]}<extra></extra>",
         "legendgroup": "Amgalan, Mongolia",
         "line": {
          "color": "#7C0703",
          "dash": "solid"
         },
         "marker": {
          "symbol": "circle"
         },
         "mode": "lines+markers",
         "name": "Amgalan, Mongolia",
         "orientation": "v",
         "showlegend": true,
         "type": "scatter",
         "x": [
          2016,
          2017,
          2018,
          2019
         ],
         "xaxis": "x",
         "y": [
          119,
          133,
          113,
          168
         ],
         "yaxis": "y"
        },
        {
         "customdata": [
          [
           "100 ail, Mongolia"
          ],
          [
           "100 ail, Mongolia"
          ],
          [
           "100 ail, Mongolia"
          ],
          [
           "100 ail, Mongolia"
          ]
         ],
         "hovertemplate": "Year: %{x}<br>Annual Mean PM10 Levels (μg/m³): %{y:.1f}<br>Location: %{customdata[0]}<extra></extra>",
         "legendgroup": "100 ail, Mongolia",
         "line": {
          "color": "#a70000",
          "dash": "solid"
         },
         "marker": {
          "symbol": "circle"
         },
         "mode": "lines+markers",
         "name": "100 ail, Mongolia",
         "orientation": "v",
         "showlegend": true,
         "type": "scatter",
         "x": [
          2016,
          2017,
          2018,
          2019
         ],
         "xaxis": "x",
         "y": [
          196,
          172,
          145,
          223
         ],
         "yaxis": "y"
        },
        {
         "customdata": [
          [
           "Bukhiin urguu, Mongolia"
          ],
          [
           "Bukhiin urguu, Mongolia"
          ],
          [
           "Bukhiin urguu, Mongolia"
          ],
          [
           "Bukhiin urguu, Mongolia"
          ]
         ],
         "hovertemplate": "Year: %{x}<br>Annual Mean PM10 Levels (μg/m³): %{y:.1f}<br>Location: %{customdata[0]}<extra></extra>",
         "legendgroup": "Bukhiin urguu, Mongolia",
         "line": {
          "color": "#d30000",
          "dash": "solid"
         },
         "marker": {
          "symbol": "circle"
         },
         "mode": "lines+markers",
         "name": "Bukhiin urguu, Mongolia",
         "orientation": "v",
         "showlegend": true,
         "type": "scatter",
         "x": [
          2016,
          2017,
          2018,
          2019
         ],
         "xaxis": "x",
         "y": [
          96.8,
          127,
          105,
          200
         ],
         "yaxis": "y"
        },
        {
         "customdata": [
          [
           "Baruun 4 zam, Mongolia"
          ],
          [
           "Baruun 4 zam, Mongolia"
          ],
          [
           "Baruun 4 zam, Mongolia"
          ],
          [
           "Baruun 4 zam, Mongolia"
          ]
         ],
         "hovertemplate": "Year: %{x}<br>Annual Mean PM10 Levels (μg/m³): %{y:.1f}<br>Location: %{customdata[0]}<extra></extra>",
         "legendgroup": "Baruun 4 zam, Mongolia",
         "line": {
          "color": "#d86262",
          "dash": "solid"
         },
         "marker": {
          "symbol": "circle"
         },
         "mode": "lines+markers",
         "name": "Baruun 4 zam, Mongolia",
         "orientation": "v",
         "showlegend": true,
         "type": "scatter",
         "x": [
          2016,
          2017,
          2018,
          2019
         ],
         "xaxis": "x",
         "y": [
          121,
          122,
          114,
          149
         ],
         "yaxis": "y"
        },
        {
         "customdata": [
          [
           "Nisekh, Mongolia"
          ],
          [
           "Nisekh, Mongolia"
          ],
          [
           "Nisekh, Mongolia"
          ],
          [
           "Nisekh, Mongolia"
          ]
         ],
         "hovertemplate": "Year: %{x}<br>Annual Mean PM10 Levels (μg/m³): %{y:.1f}<br>Location: %{customdata[0]}<extra></extra>",
         "legendgroup": "Nisekh, Mongolia",
         "line": {
          "color": "#caa2a2",
          "dash": "solid"
         },
         "marker": {
          "symbol": "circle"
         },
         "mode": "lines+markers",
         "name": "Nisekh, Mongolia",
         "orientation": "v",
         "showlegend": true,
         "type": "scatter",
         "x": [
          2016,
          2017,
          2018,
          2019
         ],
         "xaxis": "x",
         "y": [
          94.4,
          124,
          100,
          189
         ],
         "yaxis": "y"
        },
        {
         "customdata": [
          [
           "Misheel expo, Mongolia"
          ],
          [
           "Misheel expo, Mongolia"
          ],
          [
           "Misheel expo, Mongolia"
          ],
          [
           "Misheel expo, Mongolia"
          ]
         ],
         "hovertemplate": "Year: %{x}<br>Annual Mean PM10 Levels (μg/m³): %{y:.1f}<br>Location: %{customdata[0]}<extra></extra>",
         "legendgroup": "Misheel expo, Mongolia",
         "line": {
          "color": "#cabbbb",
          "dash": "solid"
         },
         "marker": {
          "symbol": "circle"
         },
         "mode": "lines+markers",
         "name": "Misheel expo, Mongolia",
         "orientation": "v",
         "showlegend": true,
         "type": "scatter",
         "x": [
          2016,
          2017,
          2018,
          2019
         ],
         "xaxis": "x",
         "y": [
          71.7,
          77.1,
          143,
          108
         ],
         "yaxis": "y"
        },
        {
         "customdata": [
          [
           "Lat Phrao Rd., Wang Thonglang, Thailand"
          ],
          [
           "Lat Phrao Rd., Wang Thonglang, Thailand"
          ],
          [
           "Lat Phrao Rd., Wang Thonglang, Thailand"
          ],
          [
           "Lat Phrao Rd., Wang Thonglang, Thailand"
          ],
          [
           "Lat Phrao Rd., Wang Thonglang, Thailand"
          ]
         ],
         "hovertemplate": "Year: %{x}<br>Annual Mean PM10 Levels (μg/m³): %{y:.1f}<br>Location: %{customdata[0]}<extra></extra>",
         "legendgroup": "Lat Phrao Rd., Wang Thonglang, Thailand",
         "line": {
          "color": "#380144",
          "dash": "solid"
         },
         "marker": {
          "symbol": "circle"
         },
         "mode": "lines+markers",
         "name": "Lat Phrao Rd., Wang Thonglang, Thailand",
         "orientation": "v",
         "showlegend": true,
         "type": "scatter",
         "x": [
          2016,
          2017,
          2018,
          2019,
          2020
         ],
         "xaxis": "x",
         "y": [
          21.4,
          46.7,
          52.6,
          47.9,
          41.6
         ],
         "yaxis": "y"
        },
        {
         "customdata": [
          [
           "Khlong Nueng, Khlong Luang, Thailand"
          ],
          [
           "Khlong Nueng, Khlong Luang, Thailand"
          ],
          [
           "Khlong Nueng, Khlong Luang, Thailand"
          ]
         ],
         "hovertemplate": "Year: %{x}<br>Annual Mean PM10 Levels (μg/m³): %{y:.1f}<br>Location: %{customdata[0]}<extra></extra>",
         "legendgroup": "Khlong Nueng, Khlong Luang, Thailand",
         "line": {
          "color": "#660069",
          "dash": "solid"
         },
         "marker": {
          "symbol": "circle"
         },
         "mode": "lines+markers",
         "name": "Khlong Nueng, Khlong Luang, Thailand",
         "orientation": "v",
         "showlegend": true,
         "type": "scatter",
         "x": [
          2018,
          2019,
          2020
         ],
         "xaxis": "x",
         "y": [
          28.5,
          38.8,
          48
         ],
         "yaxis": "y"
        },
        {
         "customdata": [
          [
           "Din Daeng, Din Daeng, Thailand"
          ],
          [
           "Din Daeng, Din Daeng, Thailand"
          ]
         ],
         "hovertemplate": "Year: %{x}<br>Annual Mean PM10 Levels (μg/m³): %{y:.1f}<br>Location: %{customdata[0]}<extra></extra>",
         "legendgroup": "Din Daeng, Din Daeng, Thailand",
         "line": {
          "color": "#9300ce",
          "dash": "solid"
         },
         "marker": {
          "symbol": "circle"
         },
         "mode": "lines+markers",
         "name": "Din Daeng, Din Daeng, Thailand",
         "orientation": "v",
         "showlegend": true,
         "type": "scatter",
         "x": [
          2019,
          2020
         ],
         "xaxis": "x",
         "y": [
          44.7,
          58.5
         ],
         "yaxis": "y"
        },
        {
         "customdata": [
          [
           "Prabadang Rehabiltation Center, Thailand"
          ]
         ],
         "hovertemplate": "Year: %{x}<br>Annual Mean PM10 Levels (μg/m³): %{y:.1f}<br>Location: %{customdata[0]}<extra></extra>",
         "legendgroup": "Prabadang Rehabiltation Center, Thailand",
         "line": {
          "color": "#BE8CDB",
          "dash": "solid"
         },
         "marker": {
          "symbol": "circle"
         },
         "mode": "lines+markers",
         "name": "Prabadang Rehabiltation Center, Thailand",
         "orientation": "v",
         "showlegend": true,
         "type": "scatter",
         "x": [
          2022
         ],
         "xaxis": "x",
         "y": [
          39
         ],
         "yaxis": "y"
        }
       ],
       "layout": {
        "height": 500,
        "legend": {
         "title": {
          "text": "Location"
         },
         "tracegroupgap": 0
        },
        "margin": {
         "t": 60
        },
        "template": {
         "data": {
          "bar": [
           {
            "error_x": {
             "color": "#2a3f5f"
            },
            "error_y": {
             "color": "#2a3f5f"
            },
            "marker": {
             "line": {
              "color": "#E5ECF6",
              "width": 0.5
             },
             "pattern": {
              "fillmode": "overlay",
              "size": 10,
              "solidity": 0.2
             }
            },
            "type": "bar"
           }
          ],
          "barpolar": [
           {
            "marker": {
             "line": {
              "color": "#E5ECF6",
              "width": 0.5
             },
             "pattern": {
              "fillmode": "overlay",
              "size": 10,
              "solidity": 0.2
             }
            },
            "type": "barpolar"
           }
          ],
          "carpet": [
           {
            "aaxis": {
             "endlinecolor": "#2a3f5f",
             "gridcolor": "white",
             "linecolor": "white",
             "minorgridcolor": "white",
             "startlinecolor": "#2a3f5f"
            },
            "baxis": {
             "endlinecolor": "#2a3f5f",
             "gridcolor": "white",
             "linecolor": "white",
             "minorgridcolor": "white",
             "startlinecolor": "#2a3f5f"
            },
            "type": "carpet"
           }
          ],
          "choropleth": [
           {
            "colorbar": {
             "outlinewidth": 0,
             "ticks": ""
            },
            "type": "choropleth"
           }
          ],
          "contour": [
           {
            "colorbar": {
             "outlinewidth": 0,
             "ticks": ""
            },
            "colorscale": [
             [
              0,
              "#0d0887"
             ],
             [
              0.1111111111111111,
              "#46039f"
             ],
             [
              0.2222222222222222,
              "#7201a8"
             ],
             [
              0.3333333333333333,
              "#9c179e"
             ],
             [
              0.4444444444444444,
              "#bd3786"
             ],
             [
              0.5555555555555556,
              "#d8576b"
             ],
             [
              0.6666666666666666,
              "#ed7953"
             ],
             [
              0.7777777777777778,
              "#fb9f3a"
             ],
             [
              0.8888888888888888,
              "#fdca26"
             ],
             [
              1,
              "#f0f921"
             ]
            ],
            "type": "contour"
           }
          ],
          "contourcarpet": [
           {
            "colorbar": {
             "outlinewidth": 0,
             "ticks": ""
            },
            "type": "contourcarpet"
           }
          ],
          "heatmap": [
           {
            "colorbar": {
             "outlinewidth": 0,
             "ticks": ""
            },
            "colorscale": [
             [
              0,
              "#0d0887"
             ],
             [
              0.1111111111111111,
              "#46039f"
             ],
             [
              0.2222222222222222,
              "#7201a8"
             ],
             [
              0.3333333333333333,
              "#9c179e"
             ],
             [
              0.4444444444444444,
              "#bd3786"
             ],
             [
              0.5555555555555556,
              "#d8576b"
             ],
             [
              0.6666666666666666,
              "#ed7953"
             ],
             [
              0.7777777777777778,
              "#fb9f3a"
             ],
             [
              0.8888888888888888,
              "#fdca26"
             ],
             [
              1,
              "#f0f921"
             ]
            ],
            "type": "heatmap"
           }
          ],
          "heatmapgl": [
           {
            "colorbar": {
             "outlinewidth": 0,
             "ticks": ""
            },
            "colorscale": [
             [
              0,
              "#0d0887"
             ],
             [
              0.1111111111111111,
              "#46039f"
             ],
             [
              0.2222222222222222,
              "#7201a8"
             ],
             [
              0.3333333333333333,
              "#9c179e"
             ],
             [
              0.4444444444444444,
              "#bd3786"
             ],
             [
              0.5555555555555556,
              "#d8576b"
             ],
             [
              0.6666666666666666,
              "#ed7953"
             ],
             [
              0.7777777777777778,
              "#fb9f3a"
             ],
             [
              0.8888888888888888,
              "#fdca26"
             ],
             [
              1,
              "#f0f921"
             ]
            ],
            "type": "heatmapgl"
           }
          ],
          "histogram": [
           {
            "marker": {
             "pattern": {
              "fillmode": "overlay",
              "size": 10,
              "solidity": 0.2
             }
            },
            "type": "histogram"
           }
          ],
          "histogram2d": [
           {
            "colorbar": {
             "outlinewidth": 0,
             "ticks": ""
            },
            "colorscale": [
             [
              0,
              "#0d0887"
             ],
             [
              0.1111111111111111,
              "#46039f"
             ],
             [
              0.2222222222222222,
              "#7201a8"
             ],
             [
              0.3333333333333333,
              "#9c179e"
             ],
             [
              0.4444444444444444,
              "#bd3786"
             ],
             [
              0.5555555555555556,
              "#d8576b"
             ],
             [
              0.6666666666666666,
              "#ed7953"
             ],
             [
              0.7777777777777778,
              "#fb9f3a"
             ],
             [
              0.8888888888888888,
              "#fdca26"
             ],
             [
              1,
              "#f0f921"
             ]
            ],
            "type": "histogram2d"
           }
          ],
          "histogram2dcontour": [
           {
            "colorbar": {
             "outlinewidth": 0,
             "ticks": ""
            },
            "colorscale": [
             [
              0,
              "#0d0887"
             ],
             [
              0.1111111111111111,
              "#46039f"
             ],
             [
              0.2222222222222222,
              "#7201a8"
             ],
             [
              0.3333333333333333,
              "#9c179e"
             ],
             [
              0.4444444444444444,
              "#bd3786"
             ],
             [
              0.5555555555555556,
              "#d8576b"
             ],
             [
              0.6666666666666666,
              "#ed7953"
             ],
             [
              0.7777777777777778,
              "#fb9f3a"
             ],
             [
              0.8888888888888888,
              "#fdca26"
             ],
             [
              1,
              "#f0f921"
             ]
            ],
            "type": "histogram2dcontour"
           }
          ],
          "mesh3d": [
           {
            "colorbar": {
             "outlinewidth": 0,
             "ticks": ""
            },
            "type": "mesh3d"
           }
          ],
          "parcoords": [
           {
            "line": {
             "colorbar": {
              "outlinewidth": 0,
              "ticks": ""
             }
            },
            "type": "parcoords"
           }
          ],
          "pie": [
           {
            "automargin": true,
            "type": "pie"
           }
          ],
          "scatter": [
           {
            "fillpattern": {
             "fillmode": "overlay",
             "size": 10,
             "solidity": 0.2
            },
            "type": "scatter"
           }
          ],
          "scatter3d": [
           {
            "line": {
             "colorbar": {
              "outlinewidth": 0,
              "ticks": ""
             }
            },
            "marker": {
             "colorbar": {
              "outlinewidth": 0,
              "ticks": ""
             }
            },
            "type": "scatter3d"
           }
          ],
          "scattercarpet": [
           {
            "marker": {
             "colorbar": {
              "outlinewidth": 0,
              "ticks": ""
             }
            },
            "type": "scattercarpet"
           }
          ],
          "scattergeo": [
           {
            "marker": {
             "colorbar": {
              "outlinewidth": 0,
              "ticks": ""
             }
            },
            "type": "scattergeo"
           }
          ],
          "scattergl": [
           {
            "marker": {
             "colorbar": {
              "outlinewidth": 0,
              "ticks": ""
             }
            },
            "type": "scattergl"
           }
          ],
          "scattermapbox": [
           {
            "marker": {
             "colorbar": {
              "outlinewidth": 0,
              "ticks": ""
             }
            },
            "type": "scattermapbox"
           }
          ],
          "scatterpolar": [
           {
            "marker": {
             "colorbar": {
              "outlinewidth": 0,
              "ticks": ""
             }
            },
            "type": "scatterpolar"
           }
          ],
          "scatterpolargl": [
           {
            "marker": {
             "colorbar": {
              "outlinewidth": 0,
              "ticks": ""
             }
            },
            "type": "scatterpolargl"
           }
          ],
          "scatterternary": [
           {
            "marker": {
             "colorbar": {
              "outlinewidth": 0,
              "ticks": ""
             }
            },
            "type": "scatterternary"
           }
          ],
          "surface": [
           {
            "colorbar": {
             "outlinewidth": 0,
             "ticks": ""
            },
            "colorscale": [
             [
              0,
              "#0d0887"
             ],
             [
              0.1111111111111111,
              "#46039f"
             ],
             [
              0.2222222222222222,
              "#7201a8"
             ],
             [
              0.3333333333333333,
              "#9c179e"
             ],
             [
              0.4444444444444444,
              "#bd3786"
             ],
             [
              0.5555555555555556,
              "#d8576b"
             ],
             [
              0.6666666666666666,
              "#ed7953"
             ],
             [
              0.7777777777777778,
              "#fb9f3a"
             ],
             [
              0.8888888888888888,
              "#fdca26"
             ],
             [
              1,
              "#f0f921"
             ]
            ],
            "type": "surface"
           }
          ],
          "table": [
           {
            "cells": {
             "fill": {
              "color": "#EBF0F8"
             },
             "line": {
              "color": "white"
             }
            },
            "header": {
             "fill": {
              "color": "#C8D4E3"
             },
             "line": {
              "color": "white"
             }
            },
            "type": "table"
           }
          ]
         },
         "layout": {
          "annotationdefaults": {
           "arrowcolor": "#2a3f5f",
           "arrowhead": 0,
           "arrowwidth": 1
          },
          "autotypenumbers": "strict",
          "coloraxis": {
           "colorbar": {
            "outlinewidth": 0,
            "ticks": ""
           }
          },
          "colorscale": {
           "diverging": [
            [
             0,
             "#8e0152"
            ],
            [
             0.1,
             "#c51b7d"
            ],
            [
             0.2,
             "#de77ae"
            ],
            [
             0.3,
             "#f1b6da"
            ],
            [
             0.4,
             "#fde0ef"
            ],
            [
             0.5,
             "#f7f7f7"
            ],
            [
             0.6,
             "#e6f5d0"
            ],
            [
             0.7,
             "#b8e186"
            ],
            [
             0.8,
             "#7fbc41"
            ],
            [
             0.9,
             "#4d9221"
            ],
            [
             1,
             "#276419"
            ]
           ],
           "sequential": [
            [
             0,
             "#0d0887"
            ],
            [
             0.1111111111111111,
             "#46039f"
            ],
            [
             0.2222222222222222,
             "#7201a8"
            ],
            [
             0.3333333333333333,
             "#9c179e"
            ],
            [
             0.4444444444444444,
             "#bd3786"
            ],
            [
             0.5555555555555556,
             "#d8576b"
            ],
            [
             0.6666666666666666,
             "#ed7953"
            ],
            [
             0.7777777777777778,
             "#fb9f3a"
            ],
            [
             0.8888888888888888,
             "#fdca26"
            ],
            [
             1,
             "#f0f921"
            ]
           ],
           "sequentialminus": [
            [
             0,
             "#0d0887"
            ],
            [
             0.1111111111111111,
             "#46039f"
            ],
            [
             0.2222222222222222,
             "#7201a8"
            ],
            [
             0.3333333333333333,
             "#9c179e"
            ],
            [
             0.4444444444444444,
             "#bd3786"
            ],
            [
             0.5555555555555556,
             "#d8576b"
            ],
            [
             0.6666666666666666,
             "#ed7953"
            ],
            [
             0.7777777777777778,
             "#fb9f3a"
            ],
            [
             0.8888888888888888,
             "#fdca26"
            ],
            [
             1,
             "#f0f921"
            ]
           ]
          },
          "colorway": [
           "#636efa",
           "#EF553B",
           "#00cc96",
           "#ab63fa",
           "#FFA15A",
           "#19d3f3",
           "#FF6692",
           "#B6E880",
           "#FF97FF",
           "#FECB52"
          ],
          "font": {
           "color": "#2a3f5f"
          },
          "geo": {
           "bgcolor": "white",
           "lakecolor": "white",
           "landcolor": "#E5ECF6",
           "showlakes": true,
           "showland": true,
           "subunitcolor": "white"
          },
          "hoverlabel": {
           "align": "left"
          },
          "hovermode": "closest",
          "mapbox": {
           "style": "light"
          },
          "paper_bgcolor": "white",
          "plot_bgcolor": "#E5ECF6",
          "polar": {
           "angularaxis": {
            "gridcolor": "white",
            "linecolor": "white",
            "ticks": ""
           },
           "bgcolor": "#E5ECF6",
           "radialaxis": {
            "gridcolor": "white",
            "linecolor": "white",
            "ticks": ""
           }
          },
          "scene": {
           "xaxis": {
            "backgroundcolor": "#E5ECF6",
            "gridcolor": "white",
            "gridwidth": 2,
            "linecolor": "white",
            "showbackground": true,
            "ticks": "",
            "zerolinecolor": "white"
           },
           "yaxis": {
            "backgroundcolor": "#E5ECF6",
            "gridcolor": "white",
            "gridwidth": 2,
            "linecolor": "white",
            "showbackground": true,
            "ticks": "",
            "zerolinecolor": "white"
           },
           "zaxis": {
            "backgroundcolor": "#E5ECF6",
            "gridcolor": "white",
            "gridwidth": 2,
            "linecolor": "white",
            "showbackground": true,
            "ticks": "",
            "zerolinecolor": "white"
           }
          },
          "shapedefaults": {
           "line": {
            "color": "#2a3f5f"
           }
          },
          "ternary": {
           "aaxis": {
            "gridcolor": "white",
            "linecolor": "white",
            "ticks": ""
           },
           "baxis": {
            "gridcolor": "white",
            "linecolor": "white",
            "ticks": ""
           },
           "bgcolor": "#E5ECF6",
           "caxis": {
            "gridcolor": "white",
            "linecolor": "white",
            "ticks": ""
           }
          },
          "title": {
           "x": 0.05
          },
          "xaxis": {
           "automargin": true,
           "gridcolor": "white",
           "linecolor": "white",
           "ticks": "",
           "title": {
            "standoff": 15
           },
           "zerolinecolor": "white",
           "zerolinewidth": 2
          },
          "yaxis": {
           "automargin": true,
           "gridcolor": "white",
           "linecolor": "white",
           "ticks": "",
           "title": {
            "standoff": 15
           },
           "zerolinecolor": "white",
           "zerolinewidth": 2
          }
         }
        },
        "title": {
         "text": "Annual Mean PM10 Levels for Asia from 2016 to 2024",
         "x": 0.5,
         "xanchor": "center"
        },
        "width": 1200,
        "xaxis": {
         "anchor": "y",
         "domain": [
          0,
          1
         ],
         "title": {
          "text": "Year"
         }
        },
        "yaxis": {
         "anchor": "x",
         "domain": [
          0,
          1
         ],
         "title": {
          "text": "Annual Mean PM10 Levels (μg/m³)"
         }
        }
       }
      }
     },
     "metadata": {},
     "output_type": "display_data"
    }
   ],
   "source": [
    "asia_yearly_pm10_levels_df['Location and Country'] = asia_yearly_pm10_levels_df['Location Name'] + ', ' + asia_yearly_pm10_levels_df['Country']\n",
    "color_map = {'R K Puram, Delhi - DPCC, India' : \"#004d85\", 'Income Tax Office, Delhi - CPCB, India' : \"#a3bbcc\", 'Punjabi Bagh, Delhi - DPCC, India' : '#1f77b4', 'MNB, Mongolia': \"#380400\", \n",
    "             'Amgalan, Mongolia': \"#7C0703\", '100 ail, Mongolia': \"#a70000\", 'Bukhiin urguu, Mongolia': \"#d30000\", 'Baruun 4 zam, Mongolia' : \"#d86262\", 'Nisekh, Mongolia' : \"#caa2a2\", \n",
    "             'Misheel expo, Mongolia' : \"#cabbbb\", 'Lat Phrao Rd., Wang Thonglang, Thailand': \"#380144\", 'Khlong Nueng, Khlong Luang, Thailand': \"#660069\", 'Din Daeng, Din Daeng, '\n",
    "             'Thailand': \"#9300ce\", 'Prabadang Rehabiltation Center, Thailand': \"#BE8CDB\"}\n",
    "fig9 = px.line(asia_yearly_pm10_levels_df, x = 'Year', y = 'Annual Mean PM10 Levels (μg/m³)', color = 'Location and Country', markers = True, custom_data = 'Location and Country', \n",
    "               color_discrete_map = color_map, width = 1200, height = 500)\n",
    "fig9.update_layout(title = {'text' : 'Annual Mean PM10 Levels for Asia from 2016 to 2024', 'x' : 0.5, 'xanchor' : 'center'}, xaxis_title_text = 'Year', \n",
    "                   yaxis_title_text = 'Annual Mean PM10 Levels (μg/m³)', legend_title_text = 'Location')\n",
    "fig9.update_traces(hovertemplate = 'Year: %{x}<br>Annual Mean PM10 Levels (μg/m³): %{y:.1f}<br>Location: %{customdata[0]}<extra></extra>')\n",
    "fig9.show()"
   ]
  },
  {
   "cell_type": "markdown",
   "metadata": {},
   "source": [
    "The country with the highest mean PM10 levels from 2016 to 2018 across all locations is India, going as high as 334 μg/m³ in 2018. <br>\n",
    "The country with the lowest mean PM10 levels from 2016 to 2020 across all locations is Thailand, going as low as 41.6 μg/m³ in 2020. <br>\n",
    "Overall, there is alot of missing data as not enough locations and countries are reporting data for PM10 levels. As a result, analysis is not sufficiently comprehensive for the Asia region."
   ]
  },
  {
   "cell_type": "markdown",
   "metadata": {},
   "source": [
    "Plot a bar chart of annual max pm10 levels against year for the different asian countries."
   ]
  },
  {
   "cell_type": "code",
   "execution_count": 32,
   "metadata": {},
   "outputs": [
    {
     "data": {
      "application/vnd.plotly.v1+json": {
       "config": {
        "plotlyServerURL": "https://plot.ly"
       },
       "data": [
        {
         "alignmentgroup": "True",
         "customdata": [
          [
           "R K Puram, Delhi - DPCC, India"
          ],
          [
           "R K Puram, Delhi - DPCC, India"
          ],
          [
           "R K Puram, Delhi - DPCC, India"
          ]
         ],
         "hovertemplate": "Year: %{x}<br>Annual Max PM10 Levels (μg/m³): %{y:.0f}<br>Location: %{customdata[0]}<extra></extra>",
         "legendgroup": "R K Puram, Delhi - DPCC, India",
         "marker": {
          "color": "#004d85",
          "pattern": {
           "shape": ""
          }
         },
         "name": "R K Puram, Delhi - DPCC, India",
         "offsetgroup": "R K Puram, Delhi - DPCC, India",
         "orientation": "v",
         "showlegend": true,
         "textposition": "auto",
         "type": "bar",
         "x": [
          2016,
          2017,
          2018
         ],
         "xaxis": "x",
         "y": [
          973,
          996,
          893
         ],
         "yaxis": "y"
        },
        {
         "alignmentgroup": "True",
         "customdata": [
          [
           "Punjabi Bagh, Delhi - DPCC, India"
          ],
          [
           "Punjabi Bagh, Delhi - DPCC, India"
          ],
          [
           "Punjabi Bagh, Delhi - DPCC, India"
          ]
         ],
         "hovertemplate": "Year: %{x}<br>Annual Max PM10 Levels (μg/m³): %{y:.0f}<br>Location: %{customdata[0]}<extra></extra>",
         "legendgroup": "Punjabi Bagh, Delhi - DPCC, India",
         "marker": {
          "color": "#1f77b4",
          "pattern": {
           "shape": ""
          }
         },
         "name": "Punjabi Bagh, Delhi - DPCC, India",
         "offsetgroup": "Punjabi Bagh, Delhi - DPCC, India",
         "orientation": "v",
         "showlegend": true,
         "textposition": "auto",
         "type": "bar",
         "x": [
          2016,
          2017,
          2018
         ],
         "xaxis": "x",
         "y": [
          999,
          989,
          887
         ],
         "yaxis": "y"
        },
        {
         "alignmentgroup": "True",
         "customdata": [
          [
           "Income Tax Office, Delhi - CPCB, India"
          ],
          [
           "Income Tax Office, Delhi - CPCB, India"
          ],
          [
           "Income Tax Office, Delhi - CPCB, India"
          ]
         ],
         "hovertemplate": "Year: %{x}<br>Annual Max PM10 Levels (μg/m³): %{y:.0f}<br>Location: %{customdata[0]}<extra></extra>",
         "legendgroup": "Income Tax Office, Delhi - CPCB, India",
         "marker": {
          "color": "#a3bbcc",
          "pattern": {
           "shape": ""
          }
         },
         "name": "Income Tax Office, Delhi - CPCB, India",
         "offsetgroup": "Income Tax Office, Delhi - CPCB, India",
         "orientation": "v",
         "showlegend": true,
         "textposition": "auto",
         "type": "bar",
         "x": [
          2016,
          2017,
          2018
         ],
         "xaxis": "x",
         "y": [
          975,
          966,
          590
         ],
         "yaxis": "y"
        },
        {
         "alignmentgroup": "True",
         "customdata": [
          [
           "MNB, Mongolia"
          ],
          [
           "MNB, Mongolia"
          ],
          [
           "MNB, Mongolia"
          ],
          [
           "MNB, Mongolia"
          ]
         ],
         "hovertemplate": "Year: %{x}<br>Annual Max PM10 Levels (μg/m³): %{y:.0f}<br>Location: %{customdata[0]}<extra></extra>",
         "legendgroup": "MNB, Mongolia",
         "marker": {
          "color": "#380400",
          "pattern": {
           "shape": ""
          }
         },
         "name": "MNB, Mongolia",
         "offsetgroup": "MNB, Mongolia",
         "orientation": "v",
         "showlegend": true,
         "textposition": "auto",
         "type": "bar",
         "x": [
          2016,
          2017,
          2018,
          2019
         ],
         "xaxis": "x",
         "y": [
          1309,
          1027,
          1412,
          671
         ],
         "yaxis": "y"
        },
        {
         "alignmentgroup": "True",
         "customdata": [
          [
           "Amgalan, Mongolia"
          ],
          [
           "Amgalan, Mongolia"
          ],
          [
           "Amgalan, Mongolia"
          ],
          [
           "Amgalan, Mongolia"
          ]
         ],
         "hovertemplate": "Year: %{x}<br>Annual Max PM10 Levels (μg/m³): %{y:.0f}<br>Location: %{customdata[0]}<extra></extra>",
         "legendgroup": "Amgalan, Mongolia",
         "marker": {
          "color": "#7C0703",
          "pattern": {
           "shape": ""
          }
         },
         "name": "Amgalan, Mongolia",
         "offsetgroup": "Amgalan, Mongolia",
         "orientation": "v",
         "showlegend": true,
         "textposition": "auto",
         "type": "bar",
         "x": [
          2016,
          2017,
          2018,
          2019
         ],
         "xaxis": "x",
         "y": [
          1044.5,
          1227,
          1502,
          727
         ],
         "yaxis": "y"
        },
        {
         "alignmentgroup": "True",
         "customdata": [
          [
           "100 ail, Mongolia"
          ],
          [
           "100 ail, Mongolia"
          ],
          [
           "100 ail, Mongolia"
          ],
          [
           "100 ail, Mongolia"
          ]
         ],
         "hovertemplate": "Year: %{x}<br>Annual Max PM10 Levels (μg/m³): %{y:.0f}<br>Location: %{customdata[0]}<extra></extra>",
         "legendgroup": "100 ail, Mongolia",
         "marker": {
          "color": "#a70000",
          "pattern": {
           "shape": ""
          }
         },
         "name": "100 ail, Mongolia",
         "offsetgroup": "100 ail, Mongolia",
         "orientation": "v",
         "showlegend": true,
         "textposition": "auto",
         "type": "bar",
         "x": [
          2016,
          2017,
          2018,
          2019
         ],
         "xaxis": "x",
         "y": [
          5224.25,
          2849.25,
          3570,
          1930.25
         ],
         "yaxis": "y"
        },
        {
         "alignmentgroup": "True",
         "customdata": [
          [
           "Bukhiin urguu, Mongolia"
          ],
          [
           "Bukhiin urguu, Mongolia"
          ],
          [
           "Bukhiin urguu, Mongolia"
          ],
          [
           "Bukhiin urguu, Mongolia"
          ]
         ],
         "hovertemplate": "Year: %{x}<br>Annual Max PM10 Levels (μg/m³): %{y:.0f}<br>Location: %{customdata[0]}<extra></extra>",
         "legendgroup": "Bukhiin urguu, Mongolia",
         "marker": {
          "color": "#d30000",
          "pattern": {
           "shape": ""
          }
         },
         "name": "Bukhiin urguu, Mongolia",
         "offsetgroup": "Bukhiin urguu, Mongolia",
         "orientation": "v",
         "showlegend": true,
         "textposition": "auto",
         "type": "bar",
         "x": [
          2016,
          2017,
          2018,
          2019
         ],
         "xaxis": "x",
         "y": [
          1403,
          7208.66650390625,
          2834,
          2219.25
         ],
         "yaxis": "y"
        },
        {
         "alignmentgroup": "True",
         "customdata": [
          [
           "Baruun 4 zam, Mongolia"
          ],
          [
           "Baruun 4 zam, Mongolia"
          ],
          [
           "Baruun 4 zam, Mongolia"
          ],
          [
           "Baruun 4 zam, Mongolia"
          ]
         ],
         "hovertemplate": "Year: %{x}<br>Annual Max PM10 Levels (μg/m³): %{y:.0f}<br>Location: %{customdata[0]}<extra></extra>",
         "legendgroup": "Baruun 4 zam, Mongolia",
         "marker": {
          "color": "#d86262",
          "pattern": {
           "shape": ""
          }
         },
         "name": "Baruun 4 zam, Mongolia",
         "offsetgroup": "Baruun 4 zam, Mongolia",
         "orientation": "v",
         "showlegend": true,
         "textposition": "auto",
         "type": "bar",
         "x": [
          2016,
          2017,
          2018,
          2019
         ],
         "xaxis": "x",
         "y": [
          1931.5,
          1963,
          4188,
          1223.5
         ],
         "yaxis": "y"
        },
        {
         "alignmentgroup": "True",
         "customdata": [
          [
           "Nisekh, Mongolia"
          ],
          [
           "Nisekh, Mongolia"
          ],
          [
           "Nisekh, Mongolia"
          ],
          [
           "Nisekh, Mongolia"
          ]
         ],
         "hovertemplate": "Year: %{x}<br>Annual Max PM10 Levels (μg/m³): %{y:.0f}<br>Location: %{customdata[0]}<extra></extra>",
         "legendgroup": "Nisekh, Mongolia",
         "marker": {
          "color": "#caa2a2",
          "pattern": {
           "shape": ""
          }
         },
         "name": "Nisekh, Mongolia",
         "offsetgroup": "Nisekh, Mongolia",
         "orientation": "v",
         "showlegend": true,
         "textposition": "auto",
         "type": "bar",
         "x": [
          2016,
          2017,
          2018,
          2019
         ],
         "xaxis": "x",
         "y": [
          895,
          1251.5,
          1417,
          921.5
         ],
         "yaxis": "y"
        },
        {
         "alignmentgroup": "True",
         "customdata": [
          [
           "Misheel expo, Mongolia"
          ],
          [
           "Misheel expo, Mongolia"
          ],
          [
           "Misheel expo, Mongolia"
          ],
          [
           "Misheel expo, Mongolia"
          ]
         ],
         "hovertemplate": "Year: %{x}<br>Annual Max PM10 Levels (μg/m³): %{y:.0f}<br>Location: %{customdata[0]}<extra></extra>",
         "legendgroup": "Misheel expo, Mongolia",
         "marker": {
          "color": "#cabbbb",
          "pattern": {
           "shape": ""
          }
         },
         "name": "Misheel expo, Mongolia",
         "offsetgroup": "Misheel expo, Mongolia",
         "orientation": "v",
         "showlegend": true,
         "textposition": "auto",
         "type": "bar",
         "x": [
          2016,
          2017,
          2018,
          2019
         ],
         "xaxis": "x",
         "y": [
          1500.5,
          5397,
          865,
          363
         ],
         "yaxis": "y"
        },
        {
         "alignmentgroup": "True",
         "customdata": [
          [
           "Lat Phrao Rd., Wang Thonglang, Thailand"
          ],
          [
           "Lat Phrao Rd., Wang Thonglang, Thailand"
          ],
          [
           "Lat Phrao Rd., Wang Thonglang, Thailand"
          ],
          [
           "Lat Phrao Rd., Wang Thonglang, Thailand"
          ],
          [
           "Lat Phrao Rd., Wang Thonglang, Thailand"
          ]
         ],
         "hovertemplate": "Year: %{x}<br>Annual Max PM10 Levels (μg/m³): %{y:.0f}<br>Location: %{customdata[0]}<extra></extra>",
         "legendgroup": "Lat Phrao Rd., Wang Thonglang, Thailand",
         "marker": {
          "color": "#380144",
          "pattern": {
           "shape": ""
          }
         },
         "name": "Lat Phrao Rd., Wang Thonglang, Thailand",
         "offsetgroup": "Lat Phrao Rd., Wang Thonglang, Thailand",
         "orientation": "v",
         "showlegend": true,
         "textposition": "auto",
         "type": "bar",
         "x": [
          2016,
          2017,
          2018,
          2019,
          2020
         ],
         "xaxis": "x",
         "y": [
          89,
          114,
          179,
          143,
          125
         ],
         "yaxis": "y"
        },
        {
         "alignmentgroup": "True",
         "customdata": [
          [
           "Khlong Nueng, Khlong Luang, Thailand"
          ],
          [
           "Khlong Nueng, Khlong Luang, Thailand"
          ],
          [
           "Khlong Nueng, Khlong Luang, Thailand"
          ]
         ],
         "hovertemplate": "Year: %{x}<br>Annual Max PM10 Levels (μg/m³): %{y:.0f}<br>Location: %{customdata[0]}<extra></extra>",
         "legendgroup": "Khlong Nueng, Khlong Luang, Thailand",
         "marker": {
          "color": "#660069",
          "pattern": {
           "shape": ""
          }
         },
         "name": "Khlong Nueng, Khlong Luang, Thailand",
         "offsetgroup": "Khlong Nueng, Khlong Luang, Thailand",
         "orientation": "v",
         "showlegend": true,
         "textposition": "auto",
         "type": "bar",
         "x": [
          2018,
          2019,
          2020
         ],
         "xaxis": "x",
         "y": [
          75,
          185,
          108
         ],
         "yaxis": "y"
        },
        {
         "alignmentgroup": "True",
         "customdata": [
          [
           "Din Daeng, Din Daeng, Thailand"
          ],
          [
           "Din Daeng, Din Daeng, Thailand"
          ]
         ],
         "hovertemplate": "Year: %{x}<br>Annual Max PM10 Levels (μg/m³): %{y:.0f}<br>Location: %{customdata[0]}<extra></extra>",
         "legendgroup": "Din Daeng, Din Daeng, Thailand",
         "marker": {
          "color": "#9300ce",
          "pattern": {
           "shape": ""
          }
         },
         "name": "Din Daeng, Din Daeng, Thailand",
         "offsetgroup": "Din Daeng, Din Daeng, Thailand",
         "orientation": "v",
         "showlegend": true,
         "textposition": "auto",
         "type": "bar",
         "x": [
          2019,
          2020
         ],
         "xaxis": "x",
         "y": [
          114,
          139
         ],
         "yaxis": "y"
        },
        {
         "alignmentgroup": "True",
         "customdata": [
          [
           "Prabadang Rehabiltation Center, Thailand"
          ]
         ],
         "hovertemplate": "Year: %{x}<br>Annual Max PM10 Levels (μg/m³): %{y:.0f}<br>Location: %{customdata[0]}<extra></extra>",
         "legendgroup": "Prabadang Rehabiltation Center, Thailand",
         "marker": {
          "color": "#BE8CDB",
          "pattern": {
           "shape": ""
          }
         },
         "name": "Prabadang Rehabiltation Center, Thailand",
         "offsetgroup": "Prabadang Rehabiltation Center, Thailand",
         "orientation": "v",
         "showlegend": true,
         "textposition": "auto",
         "type": "bar",
         "x": [
          2022
         ],
         "xaxis": "x",
         "y": [
          39
         ],
         "yaxis": "y"
        }
       ],
       "layout": {
        "bargap": 0,
        "barmode": "group",
        "height": 500,
        "legend": {
         "title": {
          "text": "Location"
         },
         "tracegroupgap": 0
        },
        "margin": {
         "t": 60
        },
        "template": {
         "data": {
          "bar": [
           {
            "error_x": {
             "color": "#2a3f5f"
            },
            "error_y": {
             "color": "#2a3f5f"
            },
            "marker": {
             "line": {
              "color": "#E5ECF6",
              "width": 0.5
             },
             "pattern": {
              "fillmode": "overlay",
              "size": 10,
              "solidity": 0.2
             }
            },
            "type": "bar"
           }
          ],
          "barpolar": [
           {
            "marker": {
             "line": {
              "color": "#E5ECF6",
              "width": 0.5
             },
             "pattern": {
              "fillmode": "overlay",
              "size": 10,
              "solidity": 0.2
             }
            },
            "type": "barpolar"
           }
          ],
          "carpet": [
           {
            "aaxis": {
             "endlinecolor": "#2a3f5f",
             "gridcolor": "white",
             "linecolor": "white",
             "minorgridcolor": "white",
             "startlinecolor": "#2a3f5f"
            },
            "baxis": {
             "endlinecolor": "#2a3f5f",
             "gridcolor": "white",
             "linecolor": "white",
             "minorgridcolor": "white",
             "startlinecolor": "#2a3f5f"
            },
            "type": "carpet"
           }
          ],
          "choropleth": [
           {
            "colorbar": {
             "outlinewidth": 0,
             "ticks": ""
            },
            "type": "choropleth"
           }
          ],
          "contour": [
           {
            "colorbar": {
             "outlinewidth": 0,
             "ticks": ""
            },
            "colorscale": [
             [
              0,
              "#0d0887"
             ],
             [
              0.1111111111111111,
              "#46039f"
             ],
             [
              0.2222222222222222,
              "#7201a8"
             ],
             [
              0.3333333333333333,
              "#9c179e"
             ],
             [
              0.4444444444444444,
              "#bd3786"
             ],
             [
              0.5555555555555556,
              "#d8576b"
             ],
             [
              0.6666666666666666,
              "#ed7953"
             ],
             [
              0.7777777777777778,
              "#fb9f3a"
             ],
             [
              0.8888888888888888,
              "#fdca26"
             ],
             [
              1,
              "#f0f921"
             ]
            ],
            "type": "contour"
           }
          ],
          "contourcarpet": [
           {
            "colorbar": {
             "outlinewidth": 0,
             "ticks": ""
            },
            "type": "contourcarpet"
           }
          ],
          "heatmap": [
           {
            "colorbar": {
             "outlinewidth": 0,
             "ticks": ""
            },
            "colorscale": [
             [
              0,
              "#0d0887"
             ],
             [
              0.1111111111111111,
              "#46039f"
             ],
             [
              0.2222222222222222,
              "#7201a8"
             ],
             [
              0.3333333333333333,
              "#9c179e"
             ],
             [
              0.4444444444444444,
              "#bd3786"
             ],
             [
              0.5555555555555556,
              "#d8576b"
             ],
             [
              0.6666666666666666,
              "#ed7953"
             ],
             [
              0.7777777777777778,
              "#fb9f3a"
             ],
             [
              0.8888888888888888,
              "#fdca26"
             ],
             [
              1,
              "#f0f921"
             ]
            ],
            "type": "heatmap"
           }
          ],
          "heatmapgl": [
           {
            "colorbar": {
             "outlinewidth": 0,
             "ticks": ""
            },
            "colorscale": [
             [
              0,
              "#0d0887"
             ],
             [
              0.1111111111111111,
              "#46039f"
             ],
             [
              0.2222222222222222,
              "#7201a8"
             ],
             [
              0.3333333333333333,
              "#9c179e"
             ],
             [
              0.4444444444444444,
              "#bd3786"
             ],
             [
              0.5555555555555556,
              "#d8576b"
             ],
             [
              0.6666666666666666,
              "#ed7953"
             ],
             [
              0.7777777777777778,
              "#fb9f3a"
             ],
             [
              0.8888888888888888,
              "#fdca26"
             ],
             [
              1,
              "#f0f921"
             ]
            ],
            "type": "heatmapgl"
           }
          ],
          "histogram": [
           {
            "marker": {
             "pattern": {
              "fillmode": "overlay",
              "size": 10,
              "solidity": 0.2
             }
            },
            "type": "histogram"
           }
          ],
          "histogram2d": [
           {
            "colorbar": {
             "outlinewidth": 0,
             "ticks": ""
            },
            "colorscale": [
             [
              0,
              "#0d0887"
             ],
             [
              0.1111111111111111,
              "#46039f"
             ],
             [
              0.2222222222222222,
              "#7201a8"
             ],
             [
              0.3333333333333333,
              "#9c179e"
             ],
             [
              0.4444444444444444,
              "#bd3786"
             ],
             [
              0.5555555555555556,
              "#d8576b"
             ],
             [
              0.6666666666666666,
              "#ed7953"
             ],
             [
              0.7777777777777778,
              "#fb9f3a"
             ],
             [
              0.8888888888888888,
              "#fdca26"
             ],
             [
              1,
              "#f0f921"
             ]
            ],
            "type": "histogram2d"
           }
          ],
          "histogram2dcontour": [
           {
            "colorbar": {
             "outlinewidth": 0,
             "ticks": ""
            },
            "colorscale": [
             [
              0,
              "#0d0887"
             ],
             [
              0.1111111111111111,
              "#46039f"
             ],
             [
              0.2222222222222222,
              "#7201a8"
             ],
             [
              0.3333333333333333,
              "#9c179e"
             ],
             [
              0.4444444444444444,
              "#bd3786"
             ],
             [
              0.5555555555555556,
              "#d8576b"
             ],
             [
              0.6666666666666666,
              "#ed7953"
             ],
             [
              0.7777777777777778,
              "#fb9f3a"
             ],
             [
              0.8888888888888888,
              "#fdca26"
             ],
             [
              1,
              "#f0f921"
             ]
            ],
            "type": "histogram2dcontour"
           }
          ],
          "mesh3d": [
           {
            "colorbar": {
             "outlinewidth": 0,
             "ticks": ""
            },
            "type": "mesh3d"
           }
          ],
          "parcoords": [
           {
            "line": {
             "colorbar": {
              "outlinewidth": 0,
              "ticks": ""
             }
            },
            "type": "parcoords"
           }
          ],
          "pie": [
           {
            "automargin": true,
            "type": "pie"
           }
          ],
          "scatter": [
           {
            "fillpattern": {
             "fillmode": "overlay",
             "size": 10,
             "solidity": 0.2
            },
            "type": "scatter"
           }
          ],
          "scatter3d": [
           {
            "line": {
             "colorbar": {
              "outlinewidth": 0,
              "ticks": ""
             }
            },
            "marker": {
             "colorbar": {
              "outlinewidth": 0,
              "ticks": ""
             }
            },
            "type": "scatter3d"
           }
          ],
          "scattercarpet": [
           {
            "marker": {
             "colorbar": {
              "outlinewidth": 0,
              "ticks": ""
             }
            },
            "type": "scattercarpet"
           }
          ],
          "scattergeo": [
           {
            "marker": {
             "colorbar": {
              "outlinewidth": 0,
              "ticks": ""
             }
            },
            "type": "scattergeo"
           }
          ],
          "scattergl": [
           {
            "marker": {
             "colorbar": {
              "outlinewidth": 0,
              "ticks": ""
             }
            },
            "type": "scattergl"
           }
          ],
          "scattermapbox": [
           {
            "marker": {
             "colorbar": {
              "outlinewidth": 0,
              "ticks": ""
             }
            },
            "type": "scattermapbox"
           }
          ],
          "scatterpolar": [
           {
            "marker": {
             "colorbar": {
              "outlinewidth": 0,
              "ticks": ""
             }
            },
            "type": "scatterpolar"
           }
          ],
          "scatterpolargl": [
           {
            "marker": {
             "colorbar": {
              "outlinewidth": 0,
              "ticks": ""
             }
            },
            "type": "scatterpolargl"
           }
          ],
          "scatterternary": [
           {
            "marker": {
             "colorbar": {
              "outlinewidth": 0,
              "ticks": ""
             }
            },
            "type": "scatterternary"
           }
          ],
          "surface": [
           {
            "colorbar": {
             "outlinewidth": 0,
             "ticks": ""
            },
            "colorscale": [
             [
              0,
              "#0d0887"
             ],
             [
              0.1111111111111111,
              "#46039f"
             ],
             [
              0.2222222222222222,
              "#7201a8"
             ],
             [
              0.3333333333333333,
              "#9c179e"
             ],
             [
              0.4444444444444444,
              "#bd3786"
             ],
             [
              0.5555555555555556,
              "#d8576b"
             ],
             [
              0.6666666666666666,
              "#ed7953"
             ],
             [
              0.7777777777777778,
              "#fb9f3a"
             ],
             [
              0.8888888888888888,
              "#fdca26"
             ],
             [
              1,
              "#f0f921"
             ]
            ],
            "type": "surface"
           }
          ],
          "table": [
           {
            "cells": {
             "fill": {
              "color": "#EBF0F8"
             },
             "line": {
              "color": "white"
             }
            },
            "header": {
             "fill": {
              "color": "#C8D4E3"
             },
             "line": {
              "color": "white"
             }
            },
            "type": "table"
           }
          ]
         },
         "layout": {
          "annotationdefaults": {
           "arrowcolor": "#2a3f5f",
           "arrowhead": 0,
           "arrowwidth": 1
          },
          "autotypenumbers": "strict",
          "coloraxis": {
           "colorbar": {
            "outlinewidth": 0,
            "ticks": ""
           }
          },
          "colorscale": {
           "diverging": [
            [
             0,
             "#8e0152"
            ],
            [
             0.1,
             "#c51b7d"
            ],
            [
             0.2,
             "#de77ae"
            ],
            [
             0.3,
             "#f1b6da"
            ],
            [
             0.4,
             "#fde0ef"
            ],
            [
             0.5,
             "#f7f7f7"
            ],
            [
             0.6,
             "#e6f5d0"
            ],
            [
             0.7,
             "#b8e186"
            ],
            [
             0.8,
             "#7fbc41"
            ],
            [
             0.9,
             "#4d9221"
            ],
            [
             1,
             "#276419"
            ]
           ],
           "sequential": [
            [
             0,
             "#0d0887"
            ],
            [
             0.1111111111111111,
             "#46039f"
            ],
            [
             0.2222222222222222,
             "#7201a8"
            ],
            [
             0.3333333333333333,
             "#9c179e"
            ],
            [
             0.4444444444444444,
             "#bd3786"
            ],
            [
             0.5555555555555556,
             "#d8576b"
            ],
            [
             0.6666666666666666,
             "#ed7953"
            ],
            [
             0.7777777777777778,
             "#fb9f3a"
            ],
            [
             0.8888888888888888,
             "#fdca26"
            ],
            [
             1,
             "#f0f921"
            ]
           ],
           "sequentialminus": [
            [
             0,
             "#0d0887"
            ],
            [
             0.1111111111111111,
             "#46039f"
            ],
            [
             0.2222222222222222,
             "#7201a8"
            ],
            [
             0.3333333333333333,
             "#9c179e"
            ],
            [
             0.4444444444444444,
             "#bd3786"
            ],
            [
             0.5555555555555556,
             "#d8576b"
            ],
            [
             0.6666666666666666,
             "#ed7953"
            ],
            [
             0.7777777777777778,
             "#fb9f3a"
            ],
            [
             0.8888888888888888,
             "#fdca26"
            ],
            [
             1,
             "#f0f921"
            ]
           ]
          },
          "colorway": [
           "#636efa",
           "#EF553B",
           "#00cc96",
           "#ab63fa",
           "#FFA15A",
           "#19d3f3",
           "#FF6692",
           "#B6E880",
           "#FF97FF",
           "#FECB52"
          ],
          "font": {
           "color": "#2a3f5f"
          },
          "geo": {
           "bgcolor": "white",
           "lakecolor": "white",
           "landcolor": "#E5ECF6",
           "showlakes": true,
           "showland": true,
           "subunitcolor": "white"
          },
          "hoverlabel": {
           "align": "left"
          },
          "hovermode": "closest",
          "mapbox": {
           "style": "light"
          },
          "paper_bgcolor": "white",
          "plot_bgcolor": "#E5ECF6",
          "polar": {
           "angularaxis": {
            "gridcolor": "white",
            "linecolor": "white",
            "ticks": ""
           },
           "bgcolor": "#E5ECF6",
           "radialaxis": {
            "gridcolor": "white",
            "linecolor": "white",
            "ticks": ""
           }
          },
          "scene": {
           "xaxis": {
            "backgroundcolor": "#E5ECF6",
            "gridcolor": "white",
            "gridwidth": 2,
            "linecolor": "white",
            "showbackground": true,
            "ticks": "",
            "zerolinecolor": "white"
           },
           "yaxis": {
            "backgroundcolor": "#E5ECF6",
            "gridcolor": "white",
            "gridwidth": 2,
            "linecolor": "white",
            "showbackground": true,
            "ticks": "",
            "zerolinecolor": "white"
           },
           "zaxis": {
            "backgroundcolor": "#E5ECF6",
            "gridcolor": "white",
            "gridwidth": 2,
            "linecolor": "white",
            "showbackground": true,
            "ticks": "",
            "zerolinecolor": "white"
           }
          },
          "shapedefaults": {
           "line": {
            "color": "#2a3f5f"
           }
          },
          "ternary": {
           "aaxis": {
            "gridcolor": "white",
            "linecolor": "white",
            "ticks": ""
           },
           "baxis": {
            "gridcolor": "white",
            "linecolor": "white",
            "ticks": ""
           },
           "bgcolor": "#E5ECF6",
           "caxis": {
            "gridcolor": "white",
            "linecolor": "white",
            "ticks": ""
           }
          },
          "title": {
           "x": 0.05
          },
          "xaxis": {
           "automargin": true,
           "gridcolor": "white",
           "linecolor": "white",
           "ticks": "",
           "title": {
            "standoff": 15
           },
           "zerolinecolor": "white",
           "zerolinewidth": 2
          },
          "yaxis": {
           "automargin": true,
           "gridcolor": "white",
           "linecolor": "white",
           "ticks": "",
           "title": {
            "standoff": 15
           },
           "zerolinecolor": "white",
           "zerolinewidth": 2
          }
         }
        },
        "title": {
         "text": "Annual Max PM10 Levels for Asia from 2016 to 2024",
         "x": 0.5,
         "xanchor": "center"
        },
        "width": 1200,
        "xaxis": {
         "anchor": "y",
         "domain": [
          0,
          1
         ],
         "title": {
          "text": "Year"
         }
        },
        "yaxis": {
         "anchor": "x",
         "domain": [
          0,
          1
         ],
         "title": {
          "text": "Annual Max PM10 Levels (μg/m³)"
         }
        }
       }
      }
     },
     "metadata": {},
     "output_type": "display_data"
    }
   ],
   "source": [
    "asia_yearly_pm10_levels_df['Location and Country'] = asia_yearly_pm10_levels_df['Location Name'] + ', ' + asia_yearly_pm10_levels_df['Country']\n",
    "color_map = {'R K Puram, Delhi - DPCC, India' : \"#004d85\", 'Income Tax Office, Delhi - CPCB, India' : \"#a3bbcc\", 'Punjabi Bagh, Delhi - DPCC, India' : '#1f77b4', 'MNB, Mongolia': \"#380400\", \n",
    "             'Amgalan, Mongolia': \"#7C0703\", '100 ail, Mongolia': \"#a70000\", 'Bukhiin urguu, Mongolia': \"#d30000\", 'Baruun 4 zam, Mongolia' : \"#d86262\", 'Nisekh, Mongolia' : \"#caa2a2\", \n",
    "             'Misheel expo, Mongolia' : \"#cabbbb\", 'Lat Phrao Rd., Wang Thonglang, Thailand': \"#380144\", 'Khlong Nueng, Khlong Luang, Thailand': \"#660069\", 'Din Daeng, Din Daeng, '\n",
    "             'Thailand': \"#9300ce\", 'Prabadang Rehabiltation Center, Thailand': \"#BE8CDB\"}\n",
    "fig10 = px.bar(asia_yearly_pm10_levels_df, x = 'Year', y = 'Annual Max PM10 Levels (μg/m³)', color = 'Location and Country', barmode = 'group', custom_data = 'Location and Country', \n",
    "               color_discrete_map = color_map, width = 1200, height = 500)\n",
    "fig10.update_layout(title = {'text' : 'Annual Max PM10 Levels for Asia from 2016 to 2024', 'x' : 0.5, 'xanchor' : 'center'}, xaxis_title_text = 'Year', \n",
    "                    yaxis_title_text = 'Annual Max PM10 Levels (μg/m³)', bargap = 0, legend_title_text = 'Location')\n",
    "fig10.update_traces(hovertemplate = 'Year: %{x}<br>Annual Max PM10 Levels (μg/m³): %{y:.0f}<br>Location: %{customdata[0]}<extra></extra>')\n",
    "fig10.show()"
   ]
  },
  {
   "cell_type": "markdown",
   "metadata": {},
   "source": [
    "The location with the highest max PM10 levels is Bukhiin urguu, Mongolia in 2017, reaching a level of 7209 μg/m³. <br>\n",
    "As a country, Mongolia has consistently reported very high max PM10 levels from 2016 to 2019, with levels going as high as 5224, 7209, 4188, and 2219 μg/m³, respectively."
   ]
  },
  {
   "cell_type": "markdown",
   "metadata": {},
   "source": [
    "Export dataframe as csv files and plots as png files."
   ]
  },
  {
   "cell_type": "code",
   "execution_count": 33,
   "metadata": {},
   "outputs": [],
   "source": [
    "# asia_yearly_pm25_levels_df.to_csv('Annual Mean and Max PM2.5 Levels for Asia from 2016 to 2024.csv', index=False)\n",
    "# asia_yearly_pm10_levels_df.to_csv('Annual Mean and Max PM10 Levels for Asia from 2016 to 2024.csv', index=False)\n",
    "# fig7.write_image('Annual Mean PM2.5 Levels for Asia from 2016 to 2024.png', width = 1200, height = 500, scale = 3)\n",
    "# fig8.write_image('Annual Max PM2.5 Levels for Asia from 2016 to 2024.png', width = 1200, height = 500, scale = 3)\n",
    "# fig9.write_image('Annual Mean PM10 Levels for Asia from 2016 to 2024.png', width = 1200, height = 500, scale = 3)\n",
    "# fig10.write_image('Annual Max PM10 Levels for Asia from 2016 to 2024.png', width = 1200, height = 500, scale = 3)"
   ]
  }
 ],
 "metadata": {
  "colab": {
   "provenance": []
  },
  "kernelspec": {
   "display_name": "base",
   "language": "python",
   "name": "python3"
  },
  "language_info": {
   "codemirror_mode": {
    "name": "ipython",
    "version": 3
   },
   "file_extension": ".py",
   "mimetype": "text/x-python",
   "name": "python",
   "nbconvert_exporter": "python",
   "pygments_lexer": "ipython3",
   "version": "3.12.7"
  }
 },
 "nbformat": 4,
 "nbformat_minor": 0
}
